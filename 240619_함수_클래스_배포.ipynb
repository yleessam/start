{
  "nbformat": 4,
  "nbformat_minor": 0,
  "metadata": {
    "colab": {
      "provenance": [],
      "toc_visible": true,
      "include_colab_link": true
    },
    "kernelspec": {
      "name": "python3",
      "display_name": "Python 3"
    },
    "language_info": {
      "name": "python"
    }
  },
  "cells": [
    {
      "cell_type": "markdown",
      "metadata": {
        "id": "view-in-github",
        "colab_type": "text"
      },
      "source": [
        "<a href=\"https://colab.research.google.com/github/yleessam/start/blob/main/240619_%ED%95%A8%EC%88%98_%ED%81%B4%EB%9E%98%EC%8A%A4_%EB%B0%B0%ED%8F%AC.ipynb\" target=\"_parent\"><img src=\"https://colab.research.google.com/assets/colab-badge.svg\" alt=\"Open In Colab\"/></a>"
      ]
    },
    {
      "cell_type": "markdown",
      "source": [
        "## 함수\n",
        "- 함수의 기능만 이해하고 입력값(매개변수)과 출력값(반환값)만 생각해서 사용하면 된다.\n",
        "- 함수를 사용하는 이유\n",
        "  * 같은 코드를 반복해서 사용하고 있다면>> 함수를 사용\n",
        "  * 코드 해석이 쉬워져요 -> 기능별로 함수를 만드니까 프로그램의 전체 흐름을 파악하기 쉬워요\n",
        "  * 유지보수가 쉬워요 -> 기능단위로 묶여 있으니까 코드가 꼬일일이 적어져요\n",
        "- 함수의 구조\n",
        "  * ```(python)\n",
        "  def 함수명(매개변수):\n",
        "      코드블록\n",
        "      return\n",
        "  ```\n",
        "- 함수의 정의와 사용\n",
        "  * 함수를 먼저 정의한 후 사용\n",
        "  * 함수를 사용하려면<br>\n",
        "    함수명(인수)"
      ],
      "metadata": {
        "id": "_dbaxphb4Wj4"
      }
    },
    {
      "cell_type": "markdown",
      "metadata": {
        "id": "XMUNNk3D0NqL"
      },
      "source": [
        "### 매개변수, 반환값 없는 함수"
      ]
    },
    {
      "cell_type": "code",
      "source": [],
      "metadata": {
        "id": "Xk-7NNxyXH5n"
      },
      "execution_count": null,
      "outputs": []
    },
    {
      "cell_type": "markdown",
      "metadata": {
        "id": "H-GOYktXVvuK"
      },
      "source": [
        "### 매개변수 1개 , 반환값 없는 함수"
      ]
    },
    {
      "cell_type": "code",
      "source": [],
      "metadata": {
        "id": "IDH3t7HkXIxR"
      },
      "execution_count": null,
      "outputs": []
    },
    {
      "cell_type": "markdown",
      "metadata": {
        "id": "x5QD4Kpx1hRK"
      },
      "source": [
        "### 매개변수 없고 반환값 1개 있는 함수"
      ]
    },
    {
      "cell_type": "code",
      "source": [],
      "metadata": {
        "id": "3Pjkim2-XMFW"
      },
      "execution_count": null,
      "outputs": []
    },
    {
      "cell_type": "markdown",
      "metadata": {
        "id": "Cpr5JTJ76DkH"
      },
      "source": [
        "### 매개변수 1개, 반환값 1개 있는 함수"
      ]
    },
    {
      "cell_type": "code",
      "source": [],
      "metadata": {
        "id": "npQ9KQ2AXK5i"
      },
      "execution_count": null,
      "outputs": []
    },
    {
      "cell_type": "markdown",
      "metadata": {
        "id": "1A6QUGqt7BTa"
      },
      "source": [
        "### 매개변수 2개, 반환값 1개 있는 함수"
      ]
    },
    {
      "cell_type": "code",
      "source": [],
      "metadata": {
        "id": "zU6lZBWVXNb9"
      },
      "execution_count": null,
      "outputs": []
    },
    {
      "cell_type": "markdown",
      "metadata": {
        "id": "6eRenClGZBLO"
      },
      "source": [
        "### 매개변수 2개, 반환값2개 있는 함수"
      ]
    },
    {
      "cell_type": "code",
      "source": [],
      "metadata": {
        "id": "QnZjrTJ2XOj6"
      },
      "execution_count": null,
      "outputs": []
    },
    {
      "cell_type": "markdown",
      "metadata": {
        "id": "_EGSmr7M3mNN"
      },
      "source": [
        "### 인수의 개수를 알 수 없을 때는 *args를 사용\n",
        "- 튜플로 넘겨주기 때문에 반복가능한 객체로 사용 가능하다."
      ]
    },
    {
      "cell_type": "code",
      "source": [],
      "metadata": {
        "id": "7b873xqoXQdr"
      },
      "execution_count": null,
      "outputs": []
    },
    {
      "cell_type": "markdown",
      "metadata": {
        "id": "hVTKlwKfZLRB"
      },
      "source": [
        "### 디폴트 인수\n",
        "- 매개변수의 개수와 인수의 갯수가 다르면 에러가 발생한다.\n"
      ]
    },
    {
      "cell_type": "code",
      "source": [],
      "metadata": {
        "id": "ojB2N0jbXUxH"
      },
      "execution_count": null,
      "outputs": []
    },
    {
      "cell_type": "code",
      "source": [],
      "metadata": {
        "id": "s55DorkEXXom"
      },
      "execution_count": null,
      "outputs": []
    },
    {
      "cell_type": "markdown",
      "metadata": {
        "id": "GiPNS6kU3SuJ"
      },
      "source": [
        "### 위치 인수\n",
        "- 순서대로 인자 값을 넣는다"
      ]
    },
    {
      "cell_type": "code",
      "source": [],
      "metadata": {
        "id": "4N9u9JcUXZEt"
      },
      "execution_count": null,
      "outputs": []
    },
    {
      "cell_type": "markdown",
      "metadata": {
        "id": "dLVE-ZnYpVSF"
      },
      "source": [
        "### 키워드 인수"
      ]
    },
    {
      "cell_type": "code",
      "source": [],
      "metadata": {
        "id": "_6Pkkv0_Xavc"
      },
      "execution_count": null,
      "outputs": []
    },
    {
      "cell_type": "markdown",
      "metadata": {
        "id": "iB42Jn5K-DsW"
      },
      "source": [
        "### 함수의 유효범위\n",
        "- 지역 변수 : 함수 안에서 생성\n",
        "- 전역 변수 : 함수 밖에서 생성"
      ]
    },
    {
      "cell_type": "code",
      "source": [],
      "metadata": {
        "id": "Een10lJ0XeWj"
      },
      "execution_count": null,
      "outputs": []
    },
    {
      "cell_type": "code",
      "metadata": {
        "id": "Yf022DYiVcX3"
      },
      "source": [
        "a = 5\n",
        "\n",
        "def func1():\n",
        "  a = 1\n",
        "  print(f'[func1] 지역 변수 a = {a}')\n",
        "\n",
        "def func2():\n",
        "  a = 2\n",
        "  print(f'[func2] 지역 변수 a = {a}')\n",
        "\n",
        "def func3():\n",
        "  print(f'[func3] 전역 변수 a = {a}')\n",
        "\n",
        "def func4():\n",
        "  global a\n",
        "  a = 4\n",
        "  print(f'[func4] a = {a}')\n",
        "\n"
      ],
      "execution_count": null,
      "outputs": []
    },
    {
      "cell_type": "code",
      "metadata": {
        "id": "6JUP8Vst-UqM"
      },
      "source": [],
      "execution_count": null,
      "outputs": []
    },
    {
      "cell_type": "markdown",
      "source": [
        "### [해보기] 동아리 축제 초대장 문구 자동 생성\n",
        " ```\n",
        " 조인성님 안녕하세요?\n",
        " 화창한 2023년 가을, 저희 컴퓨터 동아리 축제에 조인성님을 초대합니다.\n",
        " 쿠폰 No. 1\n",
        " 조인성님 축제에서 만나길 고대하겠습니다.\n",
        " ```"
      ],
      "metadata": {
        "id": "lYSg-EDaGPHs"
      }
    },
    {
      "cell_type": "code",
      "source": [],
      "metadata": {
        "id": "eYLUg5azGINd"
      },
      "execution_count": null,
      "outputs": []
    },
    {
      "cell_type": "code",
      "source": [
        " # 1. 인삿말 만들기\n",
        "\n",
        "\n",
        "# 2. 본론 내용 만들기\n",
        "\n",
        "\n",
        "# 3. 마지막말 만들기\n",
        "\n",
        "\n",
        "\n",
        "vip_list=['조인성','김우빈','정우성','유해진']\n",
        "\n",
        "\n",
        "# 각 기능에 해당하는 함수를 호출(main코드 : 전체 코드의 흐름을 제어하는 코드)\n",
        "# 4. 출력하기\n",
        "\n"
      ],
      "metadata": {
        "id": "gP3ebhvQO22n"
      },
      "execution_count": null,
      "outputs": []
    },
    {
      "cell_type": "code",
      "source": [],
      "metadata": {
        "id": "aS5_XAykQmM9"
      },
      "execution_count": null,
      "outputs": []
    },
    {
      "cell_type": "markdown",
      "metadata": {
        "id": "3oF8apDICLhL"
      },
      "source": [
        "## 클래스(class)"
      ]
    },
    {
      "cell_type": "markdown",
      "metadata": {
        "id": "slU7cLfMCLhS"
      },
      "source": [
        "### 클래스 정의\n",
        "- 클래스는 객체를 만들기 위한 틀이다. 아직 객체가 만들어진 것이 아니다."
      ]
    },
    {
      "cell_type": "code",
      "metadata": {
        "id": "XvlAIxDOCLhT"
      },
      "source": [],
      "execution_count": null,
      "outputs": []
    },
    {
      "cell_type": "markdown",
      "metadata": {
        "id": "UKLonWRkyytH"
      },
      "source": [
        "### 객체 생성"
      ]
    },
    {
      "cell_type": "code",
      "metadata": {
        "id": "pvR8fqRKCLhU"
      },
      "source": [],
      "execution_count": null,
      "outputs": []
    },
    {
      "cell_type": "code",
      "source": [],
      "metadata": {
        "id": "L3lmuzfY4K1e"
      },
      "execution_count": null,
      "outputs": []
    },
    {
      "cell_type": "code",
      "source": [],
      "metadata": {
        "id": "qogsJqU64wK5"
      },
      "execution_count": null,
      "outputs": []
    },
    {
      "cell_type": "markdown",
      "metadata": {
        "id": "lbGaBy-kCLhV"
      },
      "source": [
        "### 객체 속성 지정"
      ]
    },
    {
      "cell_type": "code",
      "metadata": {
        "id": "hCKzys3sCLhV"
      },
      "source": [],
      "execution_count": null,
      "outputs": []
    },
    {
      "cell_type": "markdown",
      "metadata": {
        "id": "C0UtlfgKCLhV"
      },
      "source": [
        "### 객체 메소드 호출"
      ]
    },
    {
      "cell_type": "code",
      "metadata": {
        "id": "iHN7R91BCLhW"
      },
      "source": [
        "\n",
        "\n"
      ],
      "execution_count": null,
      "outputs": []
    },
    {
      "cell_type": "markdown",
      "metadata": {
        "id": "jHv_YqLnCLhW"
      },
      "source": [
        "### 생성자\n",
        "- 객체를 생성할 때 자동으로 호출되어 실행되는 메소드"
      ]
    },
    {
      "cell_type": "code",
      "metadata": {
        "id": "9C3rOxW373PK"
      },
      "source": [],
      "execution_count": null,
      "outputs": []
    },
    {
      "cell_type": "code",
      "metadata": {
        "id": "Bh3alToP8-6e"
      },
      "source": [],
      "execution_count": null,
      "outputs": []
    },
    {
      "cell_type": "markdown",
      "metadata": {
        "id": "VJQaFajiYyYV"
      },
      "source": [
        "### self의 의미"
      ]
    },
    {
      "cell_type": "markdown",
      "metadata": {
        "id": "wLufwEDHQKa-"
      },
      "source": [
        "#### 클래스 선언"
      ]
    },
    {
      "cell_type": "code",
      "metadata": {
        "id": "eiPVGk9DCLhY"
      },
      "source": [],
      "execution_count": null,
      "outputs": []
    },
    {
      "cell_type": "markdown",
      "metadata": {
        "id": "E58qbMcUCLhZ"
      },
      "source": [
        "#### 객체 생성"
      ]
    },
    {
      "cell_type": "code",
      "metadata": {
        "id": "V3BVAyblCLhZ"
      },
      "source": [],
      "execution_count": null,
      "outputs": []
    },
    {
      "cell_type": "markdown",
      "metadata": {
        "id": "rfsyBqCwCLhZ"
      },
      "source": [
        "#### 메소드 호출"
      ]
    },
    {
      "cell_type": "code",
      "metadata": {
        "id": "k64VLsRKCLha"
      },
      "source": [],
      "execution_count": null,
      "outputs": []
    },
    {
      "cell_type": "code",
      "source": [],
      "metadata": {
        "id": "zVrYB1aS8wMh"
      },
      "execution_count": null,
      "outputs": []
    }
  ]
}