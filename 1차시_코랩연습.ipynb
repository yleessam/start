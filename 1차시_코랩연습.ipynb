{
  "nbformat": 4,
  "nbformat_minor": 0,
  "metadata": {
    "colab": {
      "provenance": [],
      "authorship_tag": "ABX9TyPhqETrkz/AM87sRvomMT4X",
      "include_colab_link": true
    },
    "kernelspec": {
      "name": "python3",
      "display_name": "Python 3"
    },
    "language_info": {
      "name": "python"
    }
  },
  "cells": [
    {
      "cell_type": "markdown",
      "metadata": {
        "id": "view-in-github",
        "colab_type": "text"
      },
      "source": [
        "<a href=\"https://colab.research.google.com/github/yleessam/start/blob/main/1%EC%B0%A8%EC%8B%9C_%EC%BD%94%EB%9E%A9%EC%97%B0%EC%8A%B5.ipynb\" target=\"_parent\"><img src=\"https://colab.research.google.com/assets/colab-badge.svg\" alt=\"Open In Colab\"/></a>"
      ]
    },
    {
      "cell_type": "markdown",
      "source": [
        "#코랩 활용하기"
      ],
      "metadata": {
        "id": "bgEDW4TCGmqM"
      }
    },
    {
      "cell_type": "code",
      "execution_count": null,
      "metadata": {
        "colab": {
          "base_uri": "https://localhost:8080/"
        },
        "id": "hGg3ACZSFuPv",
        "outputId": "3d64b96f-186d-4968-9f6a-4caade6e28e3"
      },
      "outputs": [
        {
          "output_type": "execute_result",
          "data": {
            "text/plain": [
              "8"
            ]
          },
          "metadata": {},
          "execution_count": 1
        }
      ],
      "source": [
        "3+5"
      ]
    },
    {
      "cell_type": "markdown",
      "source": [
        "# 안녕하세요? 구글 코랩에서 파이썬으로 코딩합니다.\n",
        "## 나도 할 수 있습니다."
      ],
      "metadata": {
        "id": "YvntNDCfGw2O"
      }
    },
    {
      "cell_type": "code",
      "source": [
        "print('hello')"
      ],
      "metadata": {
        "colab": {
          "base_uri": "https://localhost:8080/"
        },
        "id": "4PUhQ71-HlaK",
        "outputId": "3bedaece-11b1-4aa4-d5bb-bb1986c6e3b7"
      },
      "execution_count": null,
      "outputs": [
        {
          "output_type": "stream",
          "name": "stdout",
          "text": [
            "hello\n"
          ]
        }
      ]
    },
    {
      "cell_type": "markdown",
      "source": [
        "## 코랩 AI를 활용해 봅니다."
      ],
      "metadata": {
        "id": "30rJp89BF6mm"
      }
    },
    {
      "cell_type": "code",
      "source": [
        "# prompt: 1부터 100까지 더하는 프로그램을 만들어\n",
        "\n",
        "total = 0\n",
        "for i in range(1, 101):\n",
        "  total += i\n",
        "\n",
        "print(total)\n"
      ],
      "metadata": {
        "colab": {
          "base_uri": "https://localhost:8080/"
        },
        "id": "_wqIB7eyQMG4",
        "outputId": "6f72fe43-89e9-4a72-9935-528b72654518"
      },
      "execution_count": null,
      "outputs": [
        {
          "output_type": "stream",
          "name": "stdout",
          "text": [
            "5050\n"
          ]
        }
      ]
    },
    {
      "cell_type": "code",
      "source": [
        "# prompt: 구구단을 작성해서 출력해주세요\n",
        "\n",
        "for i in range(1, 10):\n",
        "  for j in range(1, 10):\n",
        "    print(f\"{i} x {j} = {i * j}\")\n"
      ],
      "metadata": {
        "id": "GD7PntyqF57J"
      },
      "execution_count": null,
      "outputs": []
    },
    {
      "cell_type": "code",
      "source": [
        "# prompt: 성적을 입력받아서 입력 받은 성적이 90점 이상이면 A, 80점 이상이면 B, 70점 이상이면 C, 70점 미만이면 D를 출력하는 프로그램을 만들어줘\n",
        "\n",
        "score = int(input(\"성적을 입력하세요: \"))\n",
        "\n",
        "if score >= 90:\n",
        "  print(\"A\")\n",
        "elif score >= 80:\n",
        "  print(\"B\")\n",
        "elif score >= 70:\n",
        "  print(\"C\")\n",
        "else:\n",
        "  print(\"D\")\n"
      ],
      "metadata": {
        "colab": {
          "base_uri": "https://localhost:8080/"
        },
        "id": "I_Ri9T_HQaqF",
        "outputId": "1d3765ce-b787-4209-dc58-796d553315bb"
      },
      "execution_count": null,
      "outputs": [
        {
          "output_type": "stream",
          "name": "stdout",
          "text": [
            "성적을 입력하세요: 30\n",
            "D\n"
          ]
        }
      ]
    },
    {
      "cell_type": "markdown",
      "source": [],
      "metadata": {
        "id": "65ahwIg_QZTd"
      }
    },
    {
      "cell_type": "markdown",
      "source": [],
      "metadata": {
        "id": "xNDqekUdd5sO"
      }
    },
    {
      "cell_type": "code",
      "source": [],
      "metadata": {
        "id": "bk1IKXb6d6Yo"
      },
      "execution_count": null,
      "outputs": []
    }
  ]
}