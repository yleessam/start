{
 "cells": [
  {
   "cell_type": "markdown",
   "id": "d253df49-1018-446f-8747-a9573dd54665",
   "metadata": {},
   "source": [
    "## 1. 라이브러리 불러오기"
   ]
  },
  {
   "cell_type": "code",
   "execution_count": null,
   "id": "a37d0dfc-e71b-4bb1-b105-8b0599dc863f",
   "metadata": {
    "tags": []
   },
   "outputs": [],
   "source": [
    "# 1) 라이브러리 불러오기\n",
    "import pandas as pd\n",
    "import numpy as np\n",
    "import seaborn as sns\n",
    "import matplotlib.pyplot as plt"
   ]
  },
  {
   "cell_type": "markdown",
   "id": "aa8dac6e-0c69-49d6-901b-cc82ac12250f",
   "metadata": {},
   "source": [
    "## 2. 데이터 불러오기"
   ]
  },
  {
   "cell_type": "code",
   "execution_count": null,
   "id": "0084b36c-3e78-41d8-9958-1e4f85b6215d",
   "metadata": {
    "tags": []
   },
   "outputs": [],
   "source": [
    "# 2) bank.csv 데이터 불러오기\n"
   ]
  },
  {
   "cell_type": "markdown",
   "id": "6625fa0e-be13-4b72-bbb3-ae6439ec80d3",
   "metadata": {},
   "source": [
    "## 3. 데이터 검토하기"
   ]
  },
  {
   "cell_type": "code",
   "execution_count": null,
   "id": "60898c23-1a63-41b7-903a-a938d56ef638",
   "metadata": {
    "tags": []
   },
   "outputs": [],
   "source": [
    "# 1) 결측치 확인\n"
   ]
  },
  {
   "cell_type": "code",
   "execution_count": null,
   "id": "796cd519-96c6-4849-96d7-8c19106ace03",
   "metadata": {
    "tags": []
   },
   "outputs": [],
   "source": [
    "# 2) 결측치 제거\n"
   ]
  },
  {
   "cell_type": "code",
   "execution_count": null,
   "id": "8d1ef206-267f-44d3-b5a9-6bc1710189dd",
   "metadata": {
    "tags": []
   },
   "outputs": [],
   "source": [
    "# 3) 결측치 제거 후 인덱스 리셋\n"
   ]
  },
  {
   "cell_type": "code",
   "execution_count": null,
   "id": "e70b7955-b7bd-4617-8a34-b5680d6171a0",
   "metadata": {
    "tags": []
   },
   "outputs": [],
   "source": [
    "# 결측치(누락된 값) 확인\n"
   ]
  },
  {
   "cell_type": "code",
   "execution_count": null,
   "id": "60d35723-1c19-4dd4-908c-98a966a78f6e",
   "metadata": {
    "tags": []
   },
   "outputs": [],
   "source": [
    "# 4) 결측치에 특정 값 채우기(0으로 채우기)\n"
   ]
  },
  {
   "cell_type": "code",
   "execution_count": null,
   "id": "f4c6b4fb-2bc3-4c07-930a-ba799c92544a",
   "metadata": {
    "tags": []
   },
   "outputs": [],
   "source": [
    "new_bank.isnull()"
   ]
  },
  {
   "cell_type": "code",
   "execution_count": null,
   "id": "c96517c5-697e-4624-9e61-c6030467f4ec",
   "metadata": {
    "tags": []
   },
   "outputs": [],
   "source": [
    "# 5) 결측 데이터의 개수\n"
   ]
  },
  {
   "cell_type": "code",
   "execution_count": null,
   "id": "7380118a-818b-4ab9-afdb-f868b1d0fd1a",
   "metadata": {
    "tags": []
   },
   "outputs": [],
   "source": [
    "# 6) 데이터프레임 타입 확인\n"
   ]
  },
  {
   "cell_type": "code",
   "execution_count": null,
   "id": "f24621a2-33e5-4e59-8cf9-fb848a2deedd",
   "metadata": {
    "tags": []
   },
   "outputs": [],
   "source": [
    "# 7) 원하는 변수(컬럼) 데이터 타입 바꾸기\n"
   ]
  },
  {
   "cell_type": "code",
   "execution_count": null,
   "id": "70bd1ddc-7c07-485a-bb3d-14a3b2d8934b",
   "metadata": {
    "tags": []
   },
   "outputs": [],
   "source": [
    "# 8) 데이터 앞부분 출력\n"
   ]
  },
  {
   "cell_type": "code",
   "execution_count": null,
   "id": "e765efdd-77ba-4d10-ade2-c1dad7d28406",
   "metadata": {
    "tags": []
   },
   "outputs": [],
   "source": [
    "# 9) 데이터 뒷부분 출력\n"
   ]
  },
  {
   "cell_type": "code",
   "execution_count": null,
   "id": "9a65181c-57b5-4fc6-8e93-52fcfe09c1d6",
   "metadata": {
    "tags": []
   },
   "outputs": [],
   "source": [
    "# 10) 데이터 전체 행, 열 개수 출력\n"
   ]
  },
  {
   "cell_type": "code",
   "execution_count": null,
   "id": "64ba6bcd-1073-4d01-8cfa-1bc9538eefc2",
   "metadata": {
    "tags": []
   },
   "outputs": [],
   "source": [
    "# 11) 변수(열, columns) 속성 파악\n"
   ]
  },
  {
   "cell_type": "code",
   "execution_count": null,
   "id": "89815eaa-a6f3-43cf-892e-d0063c39596b",
   "metadata": {
    "tags": []
   },
   "outputs": [],
   "source": [
    "# 12) 요약 통계량 구하기\n"
   ]
  },
  {
   "cell_type": "markdown",
   "id": "c3d494b0-ab8c-4c73-8d38-30e0015c1c45",
   "metadata": {},
   "source": [
    "## 4. 변수명(컬럼) 바꾸기"
   ]
  },
  {
   "cell_type": "code",
   "execution_count": null,
   "id": "57b09d2f-6490-48cc-b550-e92549d92b1c",
   "metadata": {
    "tags": []
   },
   "outputs": [],
   "source": [
    "# 1) 변수(컬럼) 이름 변경\n"
   ]
  },
  {
   "cell_type": "markdown",
   "id": "ab16113d-0a13-40c8-9ae7-26ec1a511d91",
   "metadata": {},
   "source": [
    "## 5. 데이터 분석하기"
   ]
  },
  {
   "cell_type": "markdown",
   "id": "2bf66f8e-ee85-4bc6-a40c-bff5b2e59a66",
   "metadata": {},
   "source": [
    "### 과제 1. 서울시 금융기관별 지점수는?"
   ]
  },
  {
   "cell_type": "code",
   "execution_count": null,
   "id": "b8532ccb-d724-4ff5-bd3a-1f17b455eedf",
   "metadata": {
    "tags": []
   },
   "outputs": [],
   "source": [
    "# 한글 폰트 설정\n",
    "plt.rc('font', family='Malgun Gothic') \n",
    "plt.rc('xtick', labelsize=8)  # x축 눈금 폰트 크기 "
   ]
  },
  {
   "cell_type": "code",
   "execution_count": null,
   "id": "4aea3010-dc9d-4614-9f82-66b60d1cf64d",
   "metadata": {
    "tags": []
   },
   "outputs": [],
   "source": [
    "# 1) 데이터 빈도표 구하기\n"
   ]
  },
  {
   "cell_type": "code",
   "execution_count": null,
   "id": "431cdc9c-986e-4c64-a8f4-d701f33b7b65",
   "metadata": {
    "tags": []
   },
   "outputs": [],
   "source": [
    "# 2) 막대 그래프로 빈도 표현하기 - 1\n"
   ]
  },
  {
   "cell_type": "code",
   "execution_count": null,
   "id": "c3ec8c35-164b-4831-9ae8-33e8e24bafdc",
   "metadata": {
    "tags": []
   },
   "outputs": [],
   "source": [
    "# 3) 막대 그래프로 빈도 표현하기-2\n"
   ]
  },
  {
   "cell_type": "code",
   "execution_count": null,
   "id": "9c622394-cee0-4a96-afec-5a5f65d10025",
   "metadata": {
    "tags": []
   },
   "outputs": [],
   "source": [
    "# 4) 은행별, 구별 지점수\n"
   ]
  },
  {
   "cell_type": "markdown",
   "id": "947a30a7-8d82-497a-913d-7c745be63411",
   "metadata": {},
   "source": [
    "### 과제 2. 서울시 은행의 구(동네)별 지점수 알아보기"
   ]
  },
  {
   "cell_type": "code",
   "execution_count": null,
   "id": "368446ca-b92f-418c-b575-c4e0b026d61d",
   "metadata": {
    "tags": []
   },
   "outputs": [],
   "source": [
    "# 1) 서울시 은행의 구(동네)별 지점수 알아보기\n"
   ]
  },
  {
   "cell_type": "code",
   "execution_count": null,
   "id": "568605e1-85f5-4865-9cf2-289bb0678cbd",
   "metadata": {
    "tags": []
   },
   "outputs": [],
   "source": [
    "# 2) 서울시에 입력한 은행이 가장 많은 구(동네) 찾기(최댓값이 동일한 값이 있는 경우)\n"
   ]
  },
  {
   "cell_type": "code",
   "execution_count": null,
   "id": "28e87561-98b4-41dc-b84c-2a0467e6eae6",
   "metadata": {
    "tags": []
   },
   "outputs": [],
   "source": [
    "result=filltered_df.groupby(['bank_name', '구별'])[['2022년']].count()\n",
    "result"
   ]
  },
  {
   "cell_type": "code",
   "execution_count": null,
   "id": "9a72c219-c213-41ff-9578-ad5c6f14a66c",
   "metadata": {
    "tags": []
   },
   "outputs": [],
   "source": [
    "max_count = result['2022년'].max()\n",
    "max_count"
   ]
  },
  {
   "cell_type": "code",
   "execution_count": null,
   "id": "74cbc6d6-0f4b-46c7-b09f-4fb79ff0f8c8",
   "metadata": {
    "tags": []
   },
   "outputs": [],
   "source": [
    "max_count_index = result[result['2022년'] == max_count].index.get_level_values('구별')\n",
    "max_count_index"
   ]
  },
  {
   "cell_type": "code",
   "execution_count": null,
   "id": "344da21c-9d79-4223-8657-021e8a6e96e8",
   "metadata": {
    "tags": []
   },
   "outputs": [],
   "source": [
    "print(\"서울시에 %s이(가) 가장 많은 구(동네) : %s\"%(b_n, ', '.join(max_count_index)))"
   ]
  },
  {
   "cell_type": "code",
   "execution_count": null,
   "id": "e19c4d72-873c-4bad-9695-5634897d861a",
   "metadata": {
    "tags": []
   },
   "outputs": [],
   "source": [
    "# 3) 서울시에 입력한 은행이 가장 많은 구(동네) 찾기(최댓값이 중복되어도 1개만 찾음)\n"
   ]
  },
  {
   "cell_type": "code",
   "execution_count": null,
   "id": "960b4374-5735-41fe-b163-c42e92a86dfc",
   "metadata": {
    "tags": []
   },
   "outputs": [],
   "source": [
    "print(\"서울시에 %s이(가) 가장 많은 구(동네) : %s\"%(b_n, max_count_index[1]))"
   ]
  },
  {
   "cell_type": "code",
   "execution_count": null,
   "id": "a8093e1a-90cf-46b0-b5a0-fd89c0ac2384",
   "metadata": {
    "tags": []
   },
   "outputs": [],
   "source": [
    "result=filltered_df.groupby(['bank_name', '구별'])[['2022년']].count()\n",
    "max_count_index = result['2022년'].idxmax()\n",
    "max_count_index"
   ]
  },
  {
   "cell_type": "code",
   "execution_count": null,
   "id": "22e9de9f-9ad7-4910-8688-1d2079931c98",
   "metadata": {
    "tags": []
   },
   "outputs": [],
   "source": [
    "# 4) 서울시 입력한 은행의 구별 통계-1\n"
   ]
  },
  {
   "cell_type": "code",
   "execution_count": null,
   "id": "e0cf259d-8985-4e68-bfa8-d124b10c7e57",
   "metadata": {
    "tags": []
   },
   "outputs": [],
   "source": [
    "# 5) 서울시 입력한 은행의 구별 통계-2\n"
   ]
  },
  {
   "cell_type": "markdown",
   "id": "d7c97a19-5e34-43ae-8dfa-83e9cca3ff9f",
   "metadata": {},
   "source": [
    "### 과제 3. 서울시에서 2018년 ~ 2022년 사이 지점수가 가장 많이 줄어든 은행은?"
   ]
  },
  {
   "cell_type": "code",
   "execution_count": null,
   "id": "11d3562f-6d46-4174-bcfb-d74367bc13e0",
   "metadata": {
    "tags": []
   },
   "outputs": [],
   "source": [
    "# 1) 2022년과 2018년 은행 지점수 차이\n"
   ]
  },
  {
   "cell_type": "code",
   "execution_count": null,
   "id": "69f0f075-f020-4b6f-bb7f-4dfe8abe20bb",
   "metadata": {
    "tags": []
   },
   "outputs": [],
   "source": [
    "# 2) 2018년 ~ 2022년 서울시 은행의 동별 지점수가 가장 많이 줄어든 은행 알아보기\n"
   ]
  }
 ],
 "metadata": {
  "kernelspec": {
   "display_name": "Python 3 (ipykernel)",
   "language": "python",
   "name": "python3"
  },
  "language_info": {
   "codemirror_mode": {
    "name": "ipython",
    "version": 3
   },
   "file_extension": ".py",
   "mimetype": "text/x-python",
   "name": "python",
   "nbconvert_exporter": "python",
   "pygments_lexer": "ipython3",
   "version": "3.11.4"
  }
 },
 "nbformat": 4,
 "nbformat_minor": 5
}
