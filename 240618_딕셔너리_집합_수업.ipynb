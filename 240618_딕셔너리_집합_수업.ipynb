{
  "nbformat": 4,
  "nbformat_minor": 0,
  "metadata": {
    "colab": {
      "provenance": [],
      "include_colab_link": true
    },
    "kernelspec": {
      "name": "python3",
      "display_name": "Python 3"
    },
    "language_info": {
      "name": "python"
    }
  },
  "cells": [
    {
      "cell_type": "markdown",
      "metadata": {
        "id": "view-in-github",
        "colab_type": "text"
      },
      "source": [
        "<a href=\"https://colab.research.google.com/github/yleessam/start/blob/main/240618_%EB%94%95%EC%85%94%EB%84%88%EB%A6%AC_%EC%A7%91%ED%95%A9_%EC%88%98%EC%97%85.ipynb\" target=\"_parent\"><img src=\"https://colab.research.google.com/assets/colab-badge.svg\" alt=\"Open In Colab\"/></a>"
      ]
    },
    {
      "cell_type": "markdown",
      "metadata": {
        "id": "t2ynIE_b2_Og"
      },
      "source": [
        "## 딕셔너리(dict)\n",
        "- 관련된 정보를 서로 대응 시켜놓은 자료형(mapping)\n",
        "- key와 value의 쌍으로 이루어져있다.\n",
        "- key로 value에 접근"
      ]
    },
    {
      "cell_type": "markdown",
      "metadata": {
        "id": "XMUNNk3D0NqL"
      },
      "source": [
        "### 생성\n",
        "- {key1:value1, key2:value2,... keyN,:valueN}\n",
        "- dict(key1=value1, key2=value2, keyN=valueN)\n",
        "- key는 고유한 값이어야 한다.\n"
      ]
    },
    {
      "cell_type": "code",
      "metadata": {
        "id": "x5KwjMTpVAvy"
      },
      "source": [
        "heroes_dict = {'name':'아이언맨', 'age':58, 'weapon': '수트', 'hobbies':['전자기기수리', '음주']}"
      ],
      "execution_count": null,
      "outputs": []
    },
    {
      "cell_type": "code",
      "source": [
        "heroes_dict"
      ],
      "metadata": {
        "colab": {
          "base_uri": "https://localhost:8080/"
        },
        "id": "LDrX2lYU10_C",
        "outputId": "be17eb17-f1b8-4b9d-dc1b-b6ddf75a8122"
      },
      "execution_count": null,
      "outputs": [
        {
          "output_type": "execute_result",
          "data": {
            "text/plain": [
              "{'name': '아이언맨', 'age': 58, 'weapon': '수트', 'hobbies': ['전자기기수리', '음주']}"
            ]
          },
          "metadata": {},
          "execution_count": 2
        }
      ]
    },
    {
      "cell_type": "code",
      "metadata": {
        "id": "lC7qGvy70ElC",
        "colab": {
          "base_uri": "https://localhost:8080/"
        },
        "outputId": "5d8e2035-96ef-4c3a-f863-90b758bdac54"
      },
      "source": [
        "#딕셔너리의 요소를 들여쓰기로 여러줄에 쓸 수도 있다.(가독성 고려)\n",
        "heroes_dict = {'name':'아이언맨',\n",
        "               'age':58,\n",
        "               'weapon': '수트',\n",
        "               'hobbies':['전자기기수리', '음주']\n",
        "               }\n",
        "heroes_dict"
      ],
      "execution_count": null,
      "outputs": [
        {
          "output_type": "execute_result",
          "data": {
            "text/plain": [
              "{'name': '아이언맨', 'age': 58, 'weapon': '수트', 'hobbies': ['전자기기수리', '음주']}"
            ]
          },
          "metadata": {},
          "execution_count": 4
        }
      ]
    },
    {
      "cell_type": "markdown",
      "metadata": {
        "id": "fmlt736Y3IqU"
      },
      "source": [
        "### 요소 추가\n",
        "- 딕셔너리명[키] = 값\n",
        "- 딕셔너리에 키가 없는 경우"
      ]
    },
    {
      "cell_type": "code",
      "metadata": {
        "id": "P0Ua78C507-V",
        "colab": {
          "base_uri": "https://localhost:8080/"
        },
        "outputId": "15823b4a-94c6-4e0d-d2f1-cef2a7c9b62f"
      },
      "source": [
        "# 목욕탕 간 히어로들..\n",
        "#캐비넷 번호가 키, 키를 사용하는 손님의 이름이 밸류\n",
        "\n",
        "cabinet_dict = {}\n",
        "\n",
        "cabinet_dict[1] = '아이언맨'  #{1:'아이언맨'}\n",
        "cabinet_dict[2] = '토르'\n",
        "cabinet_dict[3] = '수퍼맨'\n",
        "\n",
        "cabinet_dict"
      ],
      "execution_count": null,
      "outputs": [
        {
          "output_type": "execute_result",
          "data": {
            "text/plain": [
              "{1: '아이언맨', 2: '토르', 3: '수퍼맨'}"
            ]
          },
          "metadata": {},
          "execution_count": 5
        }
      ]
    },
    {
      "cell_type": "code",
      "source": [],
      "metadata": {
        "id": "HkMI4fBe2_b1"
      },
      "execution_count": null,
      "outputs": []
    },
    {
      "cell_type": "markdown",
      "metadata": {
        "id": "ZzI8ctGZ3OpO"
      },
      "source": [
        "### 요소 수정\n",
        "- 딕셔너리명[키] = 값\n",
        "- 딕셔너리에 키가 있는 경우"
      ]
    },
    {
      "cell_type": "code",
      "metadata": {
        "id": "QtkjSSfr6I92"
      },
      "source": [
        "cabinet_dict = {\n",
        "    1:'아이언맨',\n",
        "    2:'토르',\n",
        "    3:'수퍼맨',\n",
        "}\n",
        "print(cabinet_dict)\n",
        "print('-'*50)\n",
        "\n",
        "cabinet_dict[2] = '스파이더맨'\n",
        "\n",
        "print(cabinet_dict)"
      ],
      "execution_count": null,
      "outputs": []
    },
    {
      "cell_type": "markdown",
      "metadata": {
        "id": "1A6QUGqt7BTa"
      },
      "source": [
        "### 요소 추출"
      ]
    },
    {
      "cell_type": "markdown",
      "metadata": {
        "id": "VJQaFajiYyYV"
      },
      "source": [
        "#### 딕셔너리명[key]"
      ]
    },
    {
      "cell_type": "code",
      "metadata": {
        "id": "BBfulU9U7DtE",
        "colab": {
          "base_uri": "https://localhost:8080/",
          "height": 35
        },
        "outputId": "b62a2da3-75e2-4b6b-aa40-f561e1f2ec2f"
      },
      "source": [
        "cabinet_dict = {\n",
        "    1:'아이언맨',\n",
        "    2:'토르',\n",
        "    3:'수퍼맨',\n",
        "}\n",
        "\n",
        "cabinet_dict[2]"
      ],
      "execution_count": null,
      "outputs": [
        {
          "output_type": "execute_result",
          "data": {
            "text/plain": [
              "'토르'"
            ],
            "application/vnd.google.colaboratory.intrinsic+json": {
              "type": "string"
            }
          },
          "metadata": {},
          "execution_count": 6
        }
      ]
    },
    {
      "cell_type": "markdown",
      "metadata": {
        "id": "6eRenClGZBLO"
      },
      "source": [
        "#### 존재하지 않는 키로 값을 가져오려고 하면?"
      ]
    },
    {
      "cell_type": "code",
      "metadata": {
        "id": "-w0aMb3F78Ht",
        "colab": {
          "base_uri": "https://localhost:8080/",
          "height": 184
        },
        "outputId": "4cc2ba4d-f7a2-4b5a-ed85-adb5a45e2c64"
      },
      "source": [
        "cabinet_dict = {\n",
        "    1:'아이언맨',\n",
        "    2:'토르',\n",
        "    3:'수퍼맨',\n",
        "}\n",
        "\n",
        "cabinet_dict[4]\n"
      ],
      "execution_count": null,
      "outputs": [
        {
          "output_type": "error",
          "ename": "KeyError",
          "evalue": "4",
          "traceback": [
            "\u001b[0;31m---------------------------------------------------------------------------\u001b[0m",
            "\u001b[0;31mKeyError\u001b[0m                                  Traceback (most recent call last)",
            "\u001b[0;32m<ipython-input-7-57039afe352c>\u001b[0m in \u001b[0;36m<cell line: 7>\u001b[0;34m()\u001b[0m\n\u001b[1;32m      5\u001b[0m }\n\u001b[1;32m      6\u001b[0m \u001b[0;34m\u001b[0m\u001b[0m\n\u001b[0;32m----> 7\u001b[0;31m \u001b[0mcabinet_dict\u001b[0m\u001b[0;34m[\u001b[0m\u001b[0;36m4\u001b[0m\u001b[0;34m]\u001b[0m\u001b[0;34m\u001b[0m\u001b[0;34m\u001b[0m\u001b[0m\n\u001b[0m",
            "\u001b[0;31mKeyError\u001b[0m: 4"
          ]
        }
      ]
    },
    {
      "cell_type": "markdown",
      "metadata": {
        "id": "hVTKlwKfZLRB"
      },
      "source": [
        "#### 딕셔너리명.get(key)"
      ]
    },
    {
      "cell_type": "code",
      "metadata": {
        "id": "plF0kapD8qzG",
        "colab": {
          "base_uri": "https://localhost:8080/",
          "height": 35
        },
        "outputId": "4ae3086b-919b-48f8-c3b7-7a1e0e648aee"
      },
      "source": [
        "cabinet_dict = {\n",
        "    1:'아이언맨',\n",
        "    2:'토르',\n",
        "    3:'수퍼맨',\n",
        "}\n",
        "\n",
        "cabinet_dict.get(5, '사용가능')"
      ],
      "execution_count": null,
      "outputs": [
        {
          "output_type": "execute_result",
          "data": {
            "text/plain": [
              "'사용가능'"
            ],
            "application/vnd.google.colaboratory.intrinsic+json": {
              "type": "string"
            }
          },
          "metadata": {},
          "execution_count": 12
        }
      ]
    },
    {
      "cell_type": "markdown",
      "metadata": {
        "id": "GiPNS6kU3SuJ"
      },
      "source": [
        "### 요소 삭제"
      ]
    },
    {
      "cell_type": "markdown",
      "metadata": {
        "id": "lW_ON511-GJn"
      },
      "source": [
        "#### 키(key)로 삭제"
      ]
    },
    {
      "cell_type": "code",
      "metadata": {
        "id": "pExC6NPM2K03",
        "colab": {
          "base_uri": "https://localhost:8080/"
        },
        "outputId": "7fa97cb8-8d43-47b8-8e06-731c06529e10"
      },
      "source": [
        "cabinet_dict = {\n",
        "    1:'아이언맨',\n",
        "    2:'토르',\n",
        "    3:'수퍼맨',\n",
        "    4:'스파이더맨'\n",
        "}\n",
        "print(cabinet_dict)\n",
        "print('-'*50)\n",
        "\n",
        "del cabinet_dict[3]\n",
        "\n",
        "print(cabinet_dict)"
      ],
      "execution_count": null,
      "outputs": [
        {
          "output_type": "stream",
          "name": "stdout",
          "text": [
            "{1: '아이언맨', 2: '토르', 3: '수퍼맨', 4: '스파이더맨'}\n",
            "--------------------------------------------------\n",
            "{1: '아이언맨', 2: '토르', 4: '스파이더맨'}\n"
          ]
        }
      ]
    },
    {
      "cell_type": "markdown",
      "metadata": {
        "id": "aDohJs4p-YVr"
      },
      "source": [
        "#### 요소 추출 후 삭제"
      ]
    },
    {
      "cell_type": "code",
      "metadata": {
        "id": "zZqs91W73v8M",
        "colab": {
          "base_uri": "https://localhost:8080/"
        },
        "outputId": "d76894b9-e3ad-4ad9-baf8-87dd44576747"
      },
      "source": [
        "cabinet_dict = {\n",
        "    1:'아이언맨',\n",
        "    2:'토르',\n",
        "    3:'수퍼맨',\n",
        "    4:'스파이더맨'\n",
        "}\n",
        "print(cabinet_dict)\n",
        "print('-'*50)\n",
        "\n",
        "data = cabinet_dict.pop(3)\n",
        "print(data)\n",
        "print(cabinet_dict)"
      ],
      "execution_count": null,
      "outputs": [
        {
          "output_type": "stream",
          "name": "stdout",
          "text": [
            "{1: '아이언맨', 2: '토르', 3: '수퍼맨', 4: '스파이더맨'}\n",
            "--------------------------------------------------\n",
            "수퍼맨\n",
            "{1: '아이언맨', 2: '토르', 4: '스파이더맨'}\n"
          ]
        }
      ]
    },
    {
      "cell_type": "markdown",
      "metadata": {
        "id": "FNmCumOC_lgn"
      },
      "source": [
        "#### 딕셔너리의 모든 요소 삭제\n"
      ]
    },
    {
      "cell_type": "code",
      "metadata": {
        "id": "atkTE9Wn-ye0",
        "colab": {
          "base_uri": "https://localhost:8080/"
        },
        "outputId": "261adbbf-a14e-4f3e-95db-4f1b9f3953a8"
      },
      "source": [
        "cabinet_dict = {\n",
        "    1:'아이언맨',\n",
        "    2:'토르',\n",
        "    3:'수퍼맨',\n",
        "    4:'스파이더맨'\n",
        "}\n",
        "print(cabinet_dict)\n",
        "cabinet_dict.clear()\n",
        "\n",
        "cabinet_dict"
      ],
      "execution_count": null,
      "outputs": [
        {
          "output_type": "stream",
          "name": "stdout",
          "text": [
            "{1: '아이언맨', 2: '토르', 3: '수퍼맨', 4: '스파이더맨'}\n"
          ]
        },
        {
          "output_type": "execute_result",
          "data": {
            "text/plain": [
              "{}"
            ]
          },
          "metadata": {},
          "execution_count": 22
        }
      ]
    },
    {
      "cell_type": "markdown",
      "metadata": {
        "id": "I5xwZuOrAnsd"
      },
      "source": [
        "### 어떤 key가 딕셔너리에 있는지 확인"
      ]
    },
    {
      "cell_type": "code",
      "metadata": {
        "id": "HPQ9i0FV_vyM",
        "colab": {
          "base_uri": "https://localhost:8080/"
        },
        "outputId": "f7ba07e8-1114-436a-e89f-2f78aae31038"
      },
      "source": [
        "cabinet_dict = {\n",
        "    1:'아이언맨',\n",
        "    2:'토르',\n",
        "    3:'수퍼맨',\n",
        "    4:'스파이더맨'\n",
        "}\n",
        "\n",
        "5 in cabinet_dict  #멤버연산자 : in, not in\n"
      ],
      "execution_count": null,
      "outputs": [
        {
          "output_type": "execute_result",
          "data": {
            "text/plain": [
              "False"
            ]
          },
          "metadata": {},
          "execution_count": 18
        }
      ]
    },
    {
      "cell_type": "markdown",
      "metadata": {
        "id": "vygF5KsAB069"
      },
      "source": [
        "### 모든 key 가져오기"
      ]
    },
    {
      "cell_type": "code",
      "metadata": {
        "id": "GfNWTA3JAz2V",
        "colab": {
          "base_uri": "https://localhost:8080/"
        },
        "outputId": "bb4551b9-c2ad-41e2-f42d-ff9908c073d8"
      },
      "source": [
        "cabinet_dict = {\n",
        "    1:'아이언맨',\n",
        "    2:'토르',\n",
        "    3:'수퍼맨',\n",
        "    4:'스파이더맨'\n",
        "}\n",
        "\n",
        "cabinet_dict.keys()"
      ],
      "execution_count": null,
      "outputs": [
        {
          "output_type": "execute_result",
          "data": {
            "text/plain": [
              "dict_keys([1, 2, 3, 4])"
            ]
          },
          "metadata": {},
          "execution_count": 19
        }
      ]
    },
    {
      "cell_type": "code",
      "metadata": {
        "id": "_35ktoi_CE0x"
      },
      "source": [
        "\n"
      ],
      "execution_count": null,
      "outputs": []
    },
    {
      "cell_type": "markdown",
      "metadata": {
        "id": "PhqPF1OXDOqM"
      },
      "source": [
        "### 모든 value 가져오기"
      ]
    },
    {
      "cell_type": "code",
      "metadata": {
        "id": "JGI6UCLNC5-w",
        "colab": {
          "base_uri": "https://localhost:8080/"
        },
        "outputId": "550e4334-8e86-41eb-960f-66b5fa5ff0ef"
      },
      "source": [
        "cabinet_dict = {\n",
        "    1:'아이언맨',\n",
        "    2:'토르',\n",
        "    3:'수퍼맨',\n",
        "    4:'스파이더맨'\n",
        "}\n",
        "\n",
        "cabinet_dict.values()"
      ],
      "execution_count": null,
      "outputs": [
        {
          "output_type": "execute_result",
          "data": {
            "text/plain": [
              "dict_values(['아이언맨', '토르', '수퍼맨', '스파이더맨'])"
            ]
          },
          "metadata": {},
          "execution_count": 20
        }
      ]
    },
    {
      "cell_type": "markdown",
      "metadata": {
        "id": "wzbGAWkfD8dK"
      },
      "source": [
        "### 모든 key,value 쌍 가져오기"
      ]
    },
    {
      "cell_type": "code",
      "metadata": {
        "id": "coSsvw-kDV0q",
        "colab": {
          "base_uri": "https://localhost:8080/"
        },
        "outputId": "97ab502d-68d2-4dfd-e336-521606c388a4"
      },
      "source": [
        "cabinet_dict = {\n",
        "    1:'아이언맨',\n",
        "    2:'토르',\n",
        "    3:'수퍼맨',\n",
        "    4:'스파이더맨'\n",
        "}\n",
        "\n",
        "cabinet_dict.items()"
      ],
      "execution_count": null,
      "outputs": [
        {
          "output_type": "execute_result",
          "data": {
            "text/plain": [
              "dict_items([(1, '아이언맨'), (2, '토르'), (3, '수퍼맨'), (4, '스파이더맨')])"
            ]
          },
          "metadata": {},
          "execution_count": 21
        }
      ]
    },
    {
      "cell_type": "markdown",
      "metadata": {
        "id": "06SSlCdVEffs"
      },
      "source": [
        "### 딕셔너리의 모든 key, value 출력하기"
      ]
    },
    {
      "cell_type": "code",
      "metadata": {
        "id": "gxkY0AhNEFta",
        "colab": {
          "base_uri": "https://localhost:8080/"
        },
        "outputId": "0dcd15f1-7fd1-49fd-e40d-afd28d4da257"
      },
      "source": [
        "cabinet_dict = {\n",
        "    1:'아이언맨',\n",
        "    2:'토르',\n",
        "    3:'수퍼맨',\n",
        "    4:'원더우먼'\n",
        "}\n",
        "\n",
        "for i in cabinet_dict.keys():\n",
        "  print(i, cabinet_dict[i])"
      ],
      "execution_count": null,
      "outputs": [
        {
          "output_type": "stream",
          "name": "stdout",
          "text": [
            "1 아이언맨\n",
            "2 토르\n",
            "3 수퍼맨\n",
            "4 원더우먼\n"
          ]
        }
      ]
    },
    {
      "cell_type": "code",
      "metadata": {
        "id": "NhodKU8AE5Y8",
        "colab": {
          "base_uri": "https://localhost:8080/"
        },
        "outputId": "c4543b9c-e068-4ee9-971e-180ed437a177"
      },
      "source": [
        "cabinet_dict = {\n",
        "    1:'아이언맨',\n",
        "    2:'토르',\n",
        "    3:'수퍼맨',\n",
        "}\n",
        "\n",
        "for key, value in cabinet_dict.items():\n",
        "  print(key, value)"
      ],
      "execution_count": null,
      "outputs": [
        {
          "output_type": "stream",
          "name": "stdout",
          "text": [
            "1 아이언맨\n",
            "2 토르\n",
            "3 수퍼맨\n"
          ]
        }
      ]
    },
    {
      "cell_type": "markdown",
      "metadata": {
        "id": "L5GDPrYmFraD"
      },
      "source": [
        "### 딕셔너리의 요소의 개수"
      ]
    },
    {
      "cell_type": "code",
      "metadata": {
        "id": "htKcYjAREu4j",
        "colab": {
          "base_uri": "https://localhost:8080/"
        },
        "outputId": "baf8a7cb-a9ae-4e3c-f002-9c1dc86560ba"
      },
      "source": [
        "cabinet_dict = {\n",
        "    1:'아이언맨',\n",
        "    2:'토르',\n",
        "    3:'수퍼맨',\n",
        "}\n",
        "\n",
        "len(cabinet_dict)\n",
        "\n",
        "# for i in range(len(cabinet_dict)):\n",
        "#   print(i+1, cabinet_dict[i+1])"
      ],
      "execution_count": null,
      "outputs": [
        {
          "output_type": "stream",
          "name": "stdout",
          "text": [
            "1 아이언맨\n",
            "2 토르\n",
            "3 수퍼맨\n"
          ]
        }
      ]
    },
    {
      "cell_type": "code",
      "source": [],
      "metadata": {
        "id": "hym606xz0ybz"
      },
      "execution_count": null,
      "outputs": []
    },
    {
      "cell_type": "markdown",
      "metadata": {
        "id": "9GaZE7ADqNOG"
      },
      "source": [
        "## 집합(set)\n",
        "- 중복 안되고\n",
        "- 순서 없고\n",
        "- 집합 연산"
      ]
    },
    {
      "cell_type": "markdown",
      "metadata": {
        "id": "OWU-u4j1qRGC"
      },
      "source": [
        "### 생성"
      ]
    },
    {
      "cell_type": "code",
      "metadata": {
        "id": "Acyxxnw_FwiO"
      },
      "source": [
        "\n"
      ],
      "execution_count": null,
      "outputs": []
    },
    {
      "cell_type": "code",
      "metadata": {
        "id": "RXwNXYeS0DAP"
      },
      "source": [],
      "execution_count": null,
      "outputs": []
    },
    {
      "cell_type": "markdown",
      "metadata": {
        "id": "kqqEWGps1x-k"
      },
      "source": [
        "### 요소 추출"
      ]
    },
    {
      "cell_type": "code",
      "metadata": {
        "id": "YaK4So-40sH3"
      },
      "source": [],
      "execution_count": null,
      "outputs": []
    },
    {
      "cell_type": "code",
      "metadata": {
        "id": "5t1ZeYs-2DC2"
      },
      "source": [],
      "execution_count": null,
      "outputs": []
    },
    {
      "cell_type": "markdown",
      "metadata": {
        "id": "u2hGKdjc7lBP"
      },
      "source": [
        "### 요소 추가"
      ]
    },
    {
      "cell_type": "code",
      "metadata": {
        "id": "zdR0Bg7r2lJY"
      },
      "source": [
        "python = {'유해진', '정우성', '윤여정', '라미란', '유해진'}  #파이썬 강사\n",
        "\n",
        "print(python)\n",
        "print('-' * 60)\n",
        "\n",
        "\n",
        "\n",
        "print(python)"
      ],
      "execution_count": null,
      "outputs": []
    },
    {
      "cell_type": "code",
      "metadata": {
        "id": "1CbgA9Nz8aKG"
      },
      "source": [
        "#여러개 요소를 리스트로 추가\n",
        "\n",
        "python = {'유해진', '정우성', '윤여정', '라미란', '유해진'}  #파이썬 강사\n",
        "\n",
        "print(python)\n",
        "print('-' * 60)\n",
        "\n",
        "\n",
        "print(python)"
      ],
      "execution_count": null,
      "outputs": []
    },
    {
      "cell_type": "markdown",
      "metadata": {
        "id": "-gSFEBPV-B-h"
      },
      "source": [
        "### 요소 삭제"
      ]
    },
    {
      "cell_type": "code",
      "metadata": {
        "id": "yp7s-ELL9UzO"
      },
      "source": [
        "\n",
        "python = {'유해진', '정우성', '윤여정', '라미란', '유해진'}  #파이썬 강사\n",
        "\n",
        "print(python)\n",
        "print('-' * 60)\n",
        "\n",
        "\n",
        "\n",
        "print(python)"
      ],
      "execution_count": null,
      "outputs": []
    },
    {
      "cell_type": "code",
      "metadata": {
        "id": "qSM8qG6h-Qq4"
      },
      "source": [
        "python = {'유해진', '정우성', '윤여정', '라미란', '유해진'}  #파이썬 강사\n",
        "\n",
        "print(python)\n",
        "print('-' * 60)\n",
        "\n",
        "\n",
        "\n",
        "print(python)"
      ],
      "execution_count": null,
      "outputs": []
    },
    {
      "cell_type": "code",
      "metadata": {
        "id": "1Pv3ZzOf-ctj"
      },
      "source": [
        "#없는 요소를 삭제하려고 하면?\n",
        "\n",
        "python = {'유해진', '정우성', '윤여정', '라미란', '유해진'}  #파이썬 강사\n",
        "\n",
        "print(python)\n",
        "print('-' * 60)\n",
        "\n",
        "\n",
        "\n",
        "print(python)"
      ],
      "execution_count": null,
      "outputs": []
    },
    {
      "cell_type": "markdown",
      "metadata": {
        "id": "_WDWq_PgA2Um"
      },
      "source": [
        "### 요소 연산"
      ]
    },
    {
      "cell_type": "markdown",
      "metadata": {
        "id": "K2lGyNlqA5nz"
      },
      "source": [
        "- 교집합"
      ]
    },
    {
      "cell_type": "code",
      "metadata": {
        "id": "En1AgXM5_3Ta"
      },
      "source": [
        "python = {'유해진', '정우성', '윤여정', '라미란', '유해진'}  #파이썬 강사\n",
        "entry = set(['유해진', '조세호', '유재석'])                  #엔트리 강사\n",
        "\n",
        "\n"
      ],
      "execution_count": null,
      "outputs": []
    },
    {
      "cell_type": "markdown",
      "metadata": {
        "id": "NPMKv64rBs5u"
      },
      "source": [
        "- 합집합"
      ]
    },
    {
      "cell_type": "code",
      "metadata": {
        "id": "Sq7I93nDBlLp"
      },
      "source": [
        "python = {'유해진', '정우성', '윤여정', '라미란', '유해진'}  #파이썬 강사\n",
        "entry = set(['유해진', '조세호', '유재석'])                  #엔트리 강사\n",
        "\n"
      ],
      "execution_count": null,
      "outputs": []
    },
    {
      "cell_type": "markdown",
      "metadata": {
        "id": "VwBr29-iCYLp"
      },
      "source": [
        "- 차집합"
      ]
    },
    {
      "cell_type": "code",
      "metadata": {
        "id": "6BiTxalkCMHz"
      },
      "source": [
        "python = {'유해진', '정우성', '윤여정', '라미란', '유해진'}  #파이썬 강사\n",
        "entry = set(['유해진', '조세호', '유재석'])                  #엔트리 강사\n",
        "\n",
        "\n"
      ],
      "execution_count": null,
      "outputs": []
    },
    {
      "cell_type": "markdown",
      "source": [
        "## 응용"
      ],
      "metadata": {
        "id": "pc7zYrv7IPEX"
      }
    },
    {
      "cell_type": "markdown",
      "source": [
        "## 나만의 영단어장 만들기"
      ],
      "metadata": {
        "id": "AAvfWxngIwmq"
      }
    },
    {
      "cell_type": "code",
      "source": [
        "#영단어장 만들기\n",
        "voca_dict = {}\n",
        "\n",
        "while True:\n",
        "  eng = input('영어단어: ')\n",
        "\n",
        "  if eng == '':\n",
        "    break\n",
        "  kor = input('단어뜻: ')\n",
        "  voca_dict[eng] = kor\n",
        "\n",
        "voca_dict"
      ],
      "metadata": {
        "colab": {
          "base_uri": "https://localhost:8080/"
        },
        "id": "M080iK9wIfb5",
        "outputId": "92640337-df24-4476-99c8-f96114912130"
      },
      "execution_count": null,
      "outputs": [
        {
          "name": "stdout",
          "output_type": "stream",
          "text": [
            "영어단어: apple\n",
            "단어뜻: 사과\n",
            "영어단어: kiwi\n",
            "단어뜻: 키위\n",
            "영어단어: cherry\n",
            "단어뜻: 체리\n",
            "영어단어: \n"
          ]
        },
        {
          "output_type": "execute_result",
          "data": {
            "text/plain": [
              "{'apple': '사과', 'kiwi': '키위', 'cherry': '체리'}"
            ]
          },
          "metadata": {},
          "execution_count": 34
        }
      ]
    },
    {
      "cell_type": "code",
      "source": [
        "score = 0\n",
        "\n",
        "for eng_word in voca_dict.keys():\n",
        "  ko_mean = input(eng_word + '>> ' )\n",
        "  if ko_mean == voca_dict[eng_word]:\n",
        "    score += 1    # score = score + 1\n",
        "\n",
        "print(f'맞은 개수 / 전체 단어수: {score}/{len(voca_dict)}')"
      ],
      "metadata": {
        "colab": {
          "base_uri": "https://localhost:8080/"
        },
        "id": "WswF1y2cLBOY",
        "outputId": "cb9084d1-ac7f-4516-a01e-b3fea9f074a0"
      },
      "execution_count": null,
      "outputs": [
        {
          "output_type": "stream",
          "name": "stdout",
          "text": [
            "apple>> 사과\n",
            "kiwi>> 키득\n",
            "cherry>> 체리\n",
            "맞은 개수 / 전체 단어수: 2/3\n"
          ]
        }
      ]
    }
  ]
}