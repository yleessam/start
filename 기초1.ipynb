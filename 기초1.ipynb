{
  "cells": [
    {
      "cell_type": "markdown",
      "metadata": {
        "id": "view-in-github",
        "colab_type": "text"
      },
      "source": [
        "<a href=\"https://colab.research.google.com/github/yleessam/start/blob/main/%EA%B8%B0%EC%B4%881.ipynb\" target=\"_parent\"><img src=\"https://colab.research.google.com/assets/colab-badge.svg\" alt=\"Open In Colab\"/></a>"
      ]
    },
    {
      "cell_type": "markdown",
      "metadata": {
        "id": "qbPCr6p-bq4P"
      },
      "source": [
        "# 3. 표준출력\n"
      ]
    },
    {
      "cell_type": "code",
      "execution_count": null,
      "metadata": {
        "colab": {
          "base_uri": "https://localhost:8080/"
        },
        "id": "AyTsVQ717-eL",
        "outputId": "a36be958-c248-4671-99d1-7cab6b7de874"
      },
      "outputs": [
        {
          "name": "stdout",
          "output_type": "stream",
          "text": [
            "안녕하세요\n",
            "컴퓨터 공학과 홍길동입니다\n",
            "반갑습니다\n"
          ]
        }
      ],
      "source": [
        "print('안녕하세요')\n",
        "print('컴퓨터 공학과 홍길동입니다')\n",
        "print('반갑습니다')"
      ]
    },
    {
      "cell_type": "code",
      "execution_count": null,
      "metadata": {
        "colab": {
          "base_uri": "https://localhost:8080/"
        },
        "id": "xiGkJB5CbhoY",
        "outputId": "66a0c9da-fd78-4d2a-d277-483303c0b6e2"
      },
      "outputs": [
        {
          "name": "stdout",
          "output_type": "stream",
          "text": [
            "사과 2 개\n",
            "3 6 9\n",
            "79\n",
            "1 + 2 = 3\n"
          ]
        }
      ],
      "source": [
        "print('사과', 2, '개')\n",
        "print(3, 6, 9)\n",
        "print(7+8*9)\n",
        "print('1 + 2', '=', 1 + 2)"
      ]
    },
    {
      "cell_type": "code",
      "execution_count": null,
      "metadata": {
        "colab": {
          "base_uri": "https://localhost:8080/"
        },
        "id": "FqQ9NYk1cMVV",
        "outputId": "5fdd65f0-52c0-473b-99aa-c5f2330b2303"
      },
      "outputs": [
        {
          "name": "stdout",
          "output_type": "stream",
          "text": [
            "pine apple\n",
            "나는 21 살 입니다.\n",
            "나는 21 살 입니다.\n"
          ]
        }
      ],
      "source": [
        "print('pine', 'apple')\n",
        "print('나는', 21,'살 입니다.')\n",
        "print('나는', 20+1, '살 입니다.')"
      ]
    },
    {
      "cell_type": "code",
      "execution_count": null,
      "metadata": {
        "colab": {
          "base_uri": "https://localhost:8080/"
        },
        "id": "i2in1FtD7xxI",
        "outputId": "898575b4-0f5c-4097-ea08-feb8d80aae28"
      },
      "outputs": [
        {
          "name": "stdout",
          "output_type": "stream",
          "text": [
            "  *\n",
            " ***\n",
            "*****\n",
            " ***\n",
            "  *\n"
          ]
        }
      ],
      "source": [
        "print('  *')\n",
        "print(' ***')\n",
        "print('*****')\n",
        "print(' ***')\n",
        "print('  *')\n"
      ]
    },
    {
      "cell_type": "code",
      "source": [
        "a=[]\n",
        "b=[1,2,3]\n",
        "c=['python','is','useful']\n",
        "d=[1,'수학', 2,'영어']\n",
        "e=[[1,2],['수학','영어']]\n",
        "b"
      ],
      "metadata": {
        "id": "qdLNaytMT0xD",
        "outputId": "c06d93d8-3a7c-42e1-86b2-debfa03578ce",
        "colab": {
          "base_uri": "https://localhost:8080/"
        }
      },
      "execution_count": 1,
      "outputs": [
        {
          "output_type": "execute_result",
          "data": {
            "text/plain": [
              "[1, 2, 3]"
            ]
          },
          "metadata": {},
          "execution_count": 1
        }
      ]
    },
    {
      "cell_type": "markdown",
      "metadata": {
        "id": "nE34dUtDccSi"
      },
      "source": [
        "#4. 표준입력"
      ]
    },
    {
      "cell_type": "code",
      "execution_count": null,
      "metadata": {
        "colab": {
          "base_uri": "https://localhost:8080/",
          "height": 54
        },
        "id": "siv4I2pTceHI",
        "outputId": "badfd1a5-fed3-4979-eccd-d54ce5392c85"
      },
      "outputs": [
        {
          "name": "stdout",
          "output_type": "stream",
          "text": [
            "당신의 이름은?하하\n"
          ]
        },
        {
          "data": {
            "application/vnd.google.colaboratory.intrinsic+json": {
              "type": "string"
            },
            "text/plain": [
              "'하하'"
            ]
          },
          "execution_count": 5,
          "metadata": {},
          "output_type": "execute_result"
        }
      ],
      "source": [
        "input('당신의 이름은?')"
      ]
    },
    {
      "cell_type": "code",
      "execution_count": null,
      "metadata": {
        "colab": {
          "base_uri": "https://localhost:8080/"
        },
        "id": "5Fh0fNTLclre",
        "outputId": "c00e52c8-625c-489f-80c9-522cea71400b"
      },
      "outputs": [
        {
          "name": "stdout",
          "output_type": "stream",
          "text": [
            "거울아 거울아~\n",
            "세상에서 누가 가장 예쁘니?바로너\n",
            "세상에서  바로너 가 제일 예쁩니다.\n"
          ]
        }
      ],
      "source": [
        "print(\"거울아 거울아~\")\n",
        "name = input(\"세상에서 누가 가장 예쁘니?\")\n",
        "print(\"세상에서 \", name, \"가 제일 예쁩니다.\")\n"
      ]
    },
    {
      "cell_type": "markdown",
      "metadata": {
        "id": "CUCWa3Adcvv0"
      },
      "source": [
        "## f 스트링 사용하기\n"
      ]
    },
    {
      "cell_type": "code",
      "execution_count": null,
      "metadata": {
        "colab": {
          "base_uri": "https://localhost:8080/"
        },
        "id": "ozwOULwncqJu",
        "outputId": "fc2c1801-4ca5-468d-acf2-fd02f534f9e9"
      },
      "outputs": [
        {
          "name": "stdout",
          "output_type": "stream",
          "text": [
            "거울아 거울아~\n",
            "세상에서 누가 가장 예쁘니?발너\n",
            "세상에서 발너가 제일 예쁩니다.\n"
          ]
        }
      ],
      "source": [
        "print(\"거울아 거울아~\")\n",
        "name = input(\"세상에서 누가 가장 예쁘니?\")\n",
        "print(f\"세상에서 {name}가 제일 예쁩니다.\")\n"
      ]
    },
    {
      "cell_type": "markdown",
      "metadata": {
        "id": "IKXYGuOddFve"
      },
      "source": [
        "##생각해 보기"
      ]
    },
    {
      "cell_type": "code",
      "execution_count": null,
      "metadata": {
        "colab": {
          "base_uri": "https://localhost:8080/"
        },
        "id": "k87gCOG1dHrm",
        "outputId": "1510d000-e5ba-4d0a-97ae-f75cc8598c16"
      },
      "outputs": [
        {
          "name": "stdout",
          "output_type": "stream",
          "text": [
            "반지름을 입력하세요 :3\n",
            "원의 둘레는 18.84 입니다\n"
          ]
        }
      ],
      "source": [
        "r = input('반지름을 입력하세요 :')\n",
        "#print('원의 둘레는', 2 * 3.14 * r, '입니다')\n",
        "print('원의 둘레는', 2 * 3.14 * int(r), '입니다')"
      ]
    },
    {
      "cell_type": "markdown",
      "metadata": {
        "id": "H5CtcJi0dZQn"
      },
      "source": [
        "#3. 변수와 자료형"
      ]
    },
    {
      "cell_type": "code",
      "source": [
        "n=100\n",
        "print(n)\n",
        "print(type(n))\n",
        "print(id(n))"
      ],
      "metadata": {
        "colab": {
          "base_uri": "https://localhost:8080/"
        },
        "id": "14ASJyUmWcZq",
        "outputId": "41006ff8-30bb-47bb-d263-a518b81e1084"
      },
      "execution_count": null,
      "outputs": [
        {
          "output_type": "stream",
          "name": "stdout",
          "text": [
            "100\n",
            "<class 'int'>\n",
            "9796256\n"
          ]
        }
      ]
    },
    {
      "cell_type": "code",
      "source": [
        "a=b=1\n",
        "print(a+b)\n",
        "\n",
        "a,b=2,3\n",
        "print(a, b)"
      ],
      "metadata": {
        "colab": {
          "base_uri": "https://localhost:8080/"
        },
        "id": "7-6LarpeWlGk",
        "outputId": "675dc35e-0dd2-48ea-e816-92cfbfd582c9"
      },
      "execution_count": null,
      "outputs": [
        {
          "output_type": "stream",
          "name": "stdout",
          "text": [
            "2\n",
            "2 3\n"
          ]
        }
      ]
    },
    {
      "cell_type": "code",
      "source": [
        "true = 3\n",
        "true"
      ],
      "metadata": {
        "colab": {
          "base_uri": "https://localhost:8080/"
        },
        "id": "zoxE8eV6W5Qr",
        "outputId": "3a92b8a9-37ad-4ebc-e8bb-fb524c245adc"
      },
      "execution_count": null,
      "outputs": [
        {
          "output_type": "execute_result",
          "data": {
            "text/plain": [
              "3"
            ]
          },
          "metadata": {},
          "execution_count": 3
        }
      ]
    },
    {
      "cell_type": "code",
      "execution_count": null,
      "metadata": {
        "colab": {
          "base_uri": "https://localhost:8080/"
        },
        "id": "TO4oJP43ddfb",
        "outputId": "2c3a579b-e427-458e-a542-5068a3457b9d"
      },
      "outputs": [
        {
          "name": "stdout",
          "output_type": "stream",
          "text": [
            "원의둘레: 31.4159265\n",
            "원의넓이: 78.53981625\n"
          ]
        }
      ],
      "source": [
        "pi = 3.14159265\n",
        "radius =5\n",
        "\n",
        "result1 = 2*pi*radius\n",
        "result2 = pi*radius*radius\n",
        "\n",
        "print(\"원의둘레:\",result1)\n",
        "print(\"원의넓이:\", result2)"
      ]
    },
    {
      "cell_type": "markdown",
      "source": [
        "## 실습. 간단계산기"
      ],
      "metadata": {
        "id": "apKEGX5I0cFt"
      }
    },
    {
      "cell_type": "code",
      "execution_count": null,
      "metadata": {
        "colab": {
          "base_uri": "https://localhost:8080/"
        },
        "id": "0wBCr-XCduV1",
        "outputId": "6b889e95-16c2-49dc-e95e-0de4ede37882"
      },
      "outputs": [
        {
          "name": "stdout",
          "output_type": "stream",
          "text": [
            "첫번째 수를 입력하세요3\n",
            "두번째 수를 입력하세요5\n",
            "a+b= 8\n",
            "a-b= -2\n",
            "a*b= 15\n",
            "a/b= 0.6\n"
          ]
        }
      ],
      "source": [
        "#실습. 계산기 프로그램\n",
        "a = int(input(\"첫번째 수를 입력하세요\"))\n",
        "b = int(input(\"두번째 수를 입력하세요\"))\n",
        "\n",
        "print(\"a+b=\", a+b)\n",
        "print(\"a-b=\",a-b)\n",
        "print(\"a*b=\",a*b)\n",
        "print(\"a/b=\",a/b)\n"
      ]
    },
    {
      "cell_type": "code",
      "execution_count": null,
      "metadata": {
        "colab": {
          "base_uri": "https://localhost:8080/"
        },
        "id": "6FWhQyvu8abl",
        "outputId": "f22c8b63-6198-4443-ef67-9bd3628bdc70"
      },
      "outputs": [
        {
          "name": "stdout",
          "output_type": "stream",
          "text": [
            "a= 7 b= 4\n",
            "7 + 4 = 11\n",
            "7 - 4 = 3\n",
            "7 * 4 = 28\n",
            "7 / 4 = 1.75\n",
            "7 ** 4 = 2401\n",
            "7 // 4 = 1\n",
            "7 % 4 = 3\n"
          ]
        }
      ],
      "source": [
        "#산술 연산자의 활용\n",
        "a, b = 7, 4\n",
        "print('a=',a, 'b=',b)\n",
        "\n",
        "print(a,'+',b,'=',a+b)\n",
        "print(a,'-',b,'=',a-b)\n",
        "print(a,'*',b,'=',a*b)\n",
        "print(a,'/',b,'=',a/b)\n",
        "print(a,'**',b,'=',a**b)\n",
        "print(a,'//',b,'=',a//b)\n",
        "print(a,'%',b,'=',a%b)"
      ]
    },
    {
      "cell_type": "markdown",
      "source": [
        "## 실습. 연산자의 활용"
      ],
      "metadata": {
        "id": "bd7ITsud0iaC"
      }
    },
    {
      "cell_type": "code",
      "execution_count": null,
      "metadata": {
        "id": "gB4MSMGW8xn1"
      },
      "outputs": [],
      "source": [
        "#실습\n",
        "print('11711을 17로 나누었을 때')\n",
        "print('몫:', 11711//17)\n",
        "print('나머지:', 11711%17)\n",
        "\n",
        "#3의 7제곱\n",
        "print('----------------------------')\n",
        "print('3의 7제곱은')\n",
        "print(3**7)\n",
        "\n",
        "#허리사이즈\n",
        "print('----------------------------')\n",
        "print('선택한 사이즈는')\n",
        "print(round(33*2.54))"
      ]
    },
    {
      "cell_type": "code",
      "execution_count": null,
      "metadata": {
        "colab": {
          "base_uri": "https://localhost:8080/"
        },
        "id": "B_A5-84xd-pg",
        "outputId": "18d7f51c-3b59-4a4b-a055-83b12dd74fb4"
      },
      "outputs": [
        {
          "name": "stdout",
          "output_type": "stream",
          "text": [
            "\"Python is very easy.\" Elissa says.\n",
            "안녕하세요.\n",
            "오늘 날씨는 아주 맑음입니다.\n",
            "날씨만큼 좋은 하루 되세요.\n"
          ]
        }
      ],
      "source": [
        "#문자열\n",
        "say = \"\\\"Python is very easy.\\\" Elissa says.\"\n",
        "print(say)\n",
        "\n",
        "#여러줄 문자열\n",
        "info = '''안녕하세요.\n",
        "오늘 날씨는 아주 맑음입니다.\n",
        "날씨만큼 좋은 하루 되세요.'''\n",
        "print(info)"
      ]
    },
    {
      "cell_type": "code",
      "source": [
        "start = '파이썬'\n",
        "end = '시작하기'\n",
        "print(start+end)\n",
        "\n",
        "cnt=3\n",
        "\n",
        "print(start*cnt)"
      ],
      "metadata": {
        "colab": {
          "base_uri": "https://localhost:8080/"
        },
        "id": "fXlOVLq1Y7th",
        "outputId": "aaa236a2-ab3c-471f-a099-0847bef9c34a"
      },
      "execution_count": null,
      "outputs": [
        {
          "output_type": "stream",
          "name": "stdout",
          "text": [
            "파이썬시작하기\n",
            "파이썬파이썬파이썬\n"
          ]
        }
      ]
    },
    {
      "cell_type": "code",
      "source": [
        "#출력 디자인하기\n",
        "print(' '*2, '*')\n",
        "print(' ', '*'*3)\n",
        "print('*'*7)\n",
        "print(' ', '*'*3)\n",
        "print(' '*2, '*')\n"
      ],
      "metadata": {
        "colab": {
          "base_uri": "https://localhost:8080/"
        },
        "id": "IqzYfqWfZP02",
        "outputId": "875b8841-6b06-4473-a4fb-381d3e114f40"
      },
      "execution_count": null,
      "outputs": [
        {
          "output_type": "stream",
          "name": "stdout",
          "text": [
            "   *\n",
            "  ***\n",
            "*******\n",
            "  ***\n",
            "   *\n"
          ]
        }
      ]
    },
    {
      "cell_type": "code",
      "execution_count": null,
      "metadata": {
        "id": "l4vO0S3L87mX"
      },
      "outputs": [],
      "source": [
        "#문자열 분할\n",
        "birth=input(\"생년월일을 입력하세요\")\n",
        "\n",
        "year = birth[0:4]\n",
        "month = birth[4:6]\n",
        "day = birth[6:]\n",
        "\n",
        "print(\"당신이 태어난 날은 \", year,\"년\",month,\"월\", day, \"일입니다\")"
      ]
    },
    {
      "cell_type": "code",
      "execution_count": null,
      "metadata": {
        "colab": {
          "base_uri": "https://localhost:8080/"
        },
        "id": "s04VM0Dk9iQH",
        "outputId": "9a071fda-1474-4022-ad0c-064331380106"
      },
      "outputs": [
        {
          "data": {
            "text/plain": [
              "['오늘', '날씨가', '좋아요']"
            ]
          },
          "execution_count": 4,
          "metadata": {},
          "output_type": "execute_result"
        }
      ],
      "source": [
        "#문자열 분할 1\n",
        "a = \"오늘 날씨가 좋아요\"\n",
        "a.split()\n"
      ]
    },
    {
      "cell_type": "code",
      "execution_count": null,
      "metadata": {
        "colab": {
          "base_uri": "https://localhost:8080/",
          "height": 54
        },
        "id": "ZoJEQ-WV9laP",
        "outputId": "6187a674-0fdf-4a08-d2dd-3ca966b5b071"
      },
      "outputs": [
        {
          "name": "stdout",
          "output_type": "stream",
          "text": [
            "['사과', '배', '바나나', '딸기']\n"
          ]
        },
        {
          "data": {
            "application/vnd.google.colaboratory.intrinsic+json": {
              "type": "string"
            },
            "text/plain": [
              "'사과-배-바나나-딸기'"
            ]
          },
          "execution_count": 8,
          "metadata": {},
          "output_type": "execute_result"
        }
      ],
      "source": [
        "#문자열 합치기\n",
        "a = \"사과,배,바나나,딸기\"\n",
        "b = a.split(\",\")\n",
        "print(b)\n",
        "\"-\".join(b)"
      ]
    },
    {
      "cell_type": "markdown",
      "source": [
        "## 실습. 문자열 연산"
      ],
      "metadata": {
        "id": "VzhTMdsX0pQX"
      }
    },
    {
      "cell_type": "code",
      "execution_count": null,
      "metadata": {
        "id": "PPMruY-F-KFE"
      },
      "outputs": [],
      "source": [
        "#실습.  뚜루루가 몇번 들어 있을까?\n",
        "#file = open(\"babyshark.txt\", \"r\", encoding='UTF8')\n",
        "txt = '''\n",
        "\n",
        "'''\n",
        "\n",
        "#txt = file.read()\n",
        "\n",
        "searchStr = \"뚜 루루\"\n",
        "\n",
        "print(txt.count(searchStr))\n",
        "#file.close()\n"
      ]
    },
    {
      "cell_type": "markdown",
      "metadata": {
        "id": "-sikVUrKetkp"
      },
      "source": [
        "#5. 자료형 변환"
      ]
    },
    {
      "cell_type": "code",
      "execution_count": null,
      "metadata": {
        "colab": {
          "base_uri": "https://localhost:8080/"
        },
        "id": "perGy18wef-Z",
        "outputId": "cff350a7-839b-40d1-80fc-2b1e634032ba"
      },
      "outputs": [
        {
          "data": {
            "text/plain": [
              "13"
            ]
          },
          "execution_count": 17,
          "metadata": {},
          "output_type": "execute_result"
        }
      ],
      "source": [
        "int(11+2.3)\n"
      ]
    },
    {
      "cell_type": "code",
      "execution_count": null,
      "metadata": {
        "colab": {
          "base_uri": "https://localhost:8080/"
        },
        "id": "nEG3BGWYevZ8",
        "outputId": "4fb42045-4d68-4bf2-cd88-e58d3df2fddb"
      },
      "outputs": [
        {
          "data": {
            "text/plain": [
              "48.0"
            ]
          },
          "execution_count": 18,
          "metadata": {},
          "output_type": "execute_result"
        }
      ],
      "source": [
        "float(12*4)\n"
      ]
    },
    {
      "cell_type": "code",
      "execution_count": null,
      "metadata": {
        "colab": {
          "base_uri": "https://localhost:8080/",
          "height": 35
        },
        "id": "bnNiohiSez0l",
        "outputId": "a0b7bdb6-040f-44a0-eff7-8bce1da7ec25"
      },
      "outputs": [
        {
          "data": {
            "application/vnd.google.colaboratory.intrinsic+json": {
              "type": "string"
            },
            "text/plain": [
              "'23.3'"
            ]
          },
          "execution_count": 19,
          "metadata": {},
          "output_type": "execute_result"
        }
      ],
      "source": [
        "str(12.3+11)\n"
      ]
    },
    {
      "cell_type": "code",
      "execution_count": null,
      "metadata": {
        "colab": {
          "base_uri": "https://localhost:8080/"
        },
        "id": "y2cV305Ce1eo",
        "outputId": "ddbbae82-edea-4d33-d9f2-9f6366b5704f"
      },
      "outputs": [
        {
          "name": "stdout",
          "output_type": "stream",
          "text": [
            "Hello World\n",
            "'Hello World'\n"
          ]
        }
      ],
      "source": [
        "s='Hello World'\n",
        "print(s)\n",
        "print(repr(s))  #표현식 출력"
      ]
    },
    {
      "cell_type": "markdown",
      "metadata": {
        "id": "58eX_Cwwe4g4"
      },
      "source": [
        "## 타입에러 TypeError"
      ]
    },
    {
      "cell_type": "code",
      "execution_count": null,
      "metadata": {
        "colab": {
          "base_uri": "https://localhost:8080/",
          "height": 211
        },
        "id": "N6xv8vtwe6uw",
        "outputId": "715bc1a3-4abf-4741-c884-30f872064889"
      },
      "outputs": [
        {
          "ename": "TypeError",
          "evalue": "ignored",
          "output_type": "error",
          "traceback": [
            "\u001b[0;31m---------------------------------------------------------------------------\u001b[0m",
            "\u001b[0;31mTypeError\u001b[0m                                 Traceback (most recent call last)",
            "\u001b[0;32m<ipython-input-21-4eb817144fe9>\u001b[0m in \u001b[0;36m<module>\u001b[0;34m\u001b[0m\n\u001b[1;32m      1\u001b[0m \u001b[0mmystr\u001b[0m\u001b[0;34m=\u001b[0m\u001b[0;34m'문자열'\u001b[0m\u001b[0;34m\u001b[0m\u001b[0;34m\u001b[0m\u001b[0m\n\u001b[1;32m      2\u001b[0m \u001b[0mmynum\u001b[0m\u001b[0;34m=\u001b[0m\u001b[0;36m123\u001b[0m\u001b[0;34m\u001b[0m\u001b[0;34m\u001b[0m\u001b[0m\n\u001b[0;32m----> 3\u001b[0;31m \u001b[0mmystr\u001b[0m\u001b[0;34m+\u001b[0m\u001b[0mmynum\u001b[0m\u001b[0;34m\u001b[0m\u001b[0;34m\u001b[0m\u001b[0m\n\u001b[0m",
            "\u001b[0;31mTypeError\u001b[0m: can only concatenate str (not \"int\") to str"
          ]
        }
      ],
      "source": [
        "mystr='문자열'\n",
        "mynum=123\n",
        "mystr+mynum"
      ]
    },
    {
      "cell_type": "markdown",
      "metadata": {
        "id": "j6M4zQghfE7m"
      },
      "source": [
        "##변환 오류 ValueError"
      ]
    },
    {
      "cell_type": "code",
      "execution_count": null,
      "metadata": {
        "colab": {
          "base_uri": "https://localhost:8080/",
          "height": 174
        },
        "id": "reYURFeZfJLy",
        "outputId": "dac9871c-ce5b-4252-dba8-811c7364c3fb"
      },
      "outputs": [
        {
          "ename": "ValueError",
          "evalue": "ignored",
          "output_type": "error",
          "traceback": [
            "\u001b[0;31m---------------------------------------------------------------------------\u001b[0m",
            "\u001b[0;31mValueError\u001b[0m                                Traceback (most recent call last)",
            "\u001b[0;32m<ipython-input-22-fd70065074c6>\u001b[0m in \u001b[0;36m<module>\u001b[0;34m\u001b[0m\n\u001b[0;32m----> 1\u001b[0;31m \u001b[0mint\u001b[0m\u001b[0;34m(\u001b[0m\u001b[0;34m'안녕'\u001b[0m\u001b[0;34m)\u001b[0m\u001b[0;34m\u001b[0m\u001b[0;34m\u001b[0m\u001b[0m\n\u001b[0m",
            "\u001b[0;31mValueError\u001b[0m: invalid literal for int() with base 10: '안녕'"
          ]
        }
      ],
      "source": [
        "int('안녕')"
      ]
    },
    {
      "cell_type": "code",
      "execution_count": null,
      "metadata": {
        "colab": {
          "base_uri": "https://localhost:8080/",
          "height": 174
        },
        "id": "AHsPpfzNfL4s",
        "outputId": "6d05716f-9081-4b0f-919f-8dfc62590e25"
      },
      "outputs": [
        {
          "ename": "ValueError",
          "evalue": "ignored",
          "output_type": "error",
          "traceback": [
            "\u001b[0;31m---------------------------------------------------------------------------\u001b[0m",
            "\u001b[0;31mValueError\u001b[0m                                Traceback (most recent call last)",
            "\u001b[0;32m<ipython-input-23-88ae2c9867a2>\u001b[0m in \u001b[0;36m<module>\u001b[0;34m\u001b[0m\n\u001b[0;32m----> 1\u001b[0;31m \u001b[0mfloat\u001b[0m\u001b[0;34m(\u001b[0m\u001b[0;34m'하이'\u001b[0m\u001b[0;34m)\u001b[0m\u001b[0;34m\u001b[0m\u001b[0;34m\u001b[0m\u001b[0m\n\u001b[0m",
            "\u001b[0;31mValueError\u001b[0m: could not convert string to float: '하이'"
          ]
        }
      ],
      "source": [
        "float('하이')"
      ]
    },
    {
      "cell_type": "code",
      "execution_count": null,
      "metadata": {
        "colab": {
          "base_uri": "https://localhost:8080/",
          "height": 174
        },
        "id": "ykCR9U7WfNgF",
        "outputId": "e3c9b0fa-d22f-4afb-bff2-674dd42e62de"
      },
      "outputs": [
        {
          "ename": "ValueError",
          "evalue": "ignored",
          "output_type": "error",
          "traceback": [
            "\u001b[0;31m---------------------------------------------------------------------------\u001b[0m",
            "\u001b[0;31mValueError\u001b[0m                                Traceback (most recent call last)",
            "\u001b[0;32m<ipython-input-24-73b0c311d5b1>\u001b[0m in \u001b[0;36m<module>\u001b[0;34m\u001b[0m\n\u001b[0;32m----> 1\u001b[0;31m \u001b[0mint\u001b[0m\u001b[0;34m(\u001b[0m\u001b[0;34m'52.122'\u001b[0m\u001b[0;34m)\u001b[0m\u001b[0;34m\u001b[0m\u001b[0;34m\u001b[0m\u001b[0m\n\u001b[0m",
            "\u001b[0;31mValueError\u001b[0m: invalid literal for int() with base 10: '52.122'"
          ]
        }
      ],
      "source": [
        "int('52.122')"
      ]
    },
    {
      "cell_type": "markdown",
      "metadata": {
        "id": "Ao3ZCH66-dgd"
      },
      "source": [
        "# 5. 복합자료형 - 리스트\n"
      ]
    },
    {
      "cell_type": "code",
      "execution_count": null,
      "metadata": {
        "colab": {
          "base_uri": "https://localhost:8080/"
        },
        "id": "NOiiRjra-dMb",
        "outputId": "915ee4f3-7296-405f-cb1e-aad670157d95"
      },
      "outputs": [
        {
          "name": "stdout",
          "output_type": "stream",
          "text": [
            "장미\n",
            "30\n",
            "['무궁화', '장미', '진달래', '개나리']\n"
          ]
        }
      ],
      "source": [
        "#리스트 생성\n",
        "flowers = ['무궁화','장미',30,'개나리']\n",
        "\n",
        "print(flowers[1])\n",
        "print(flowers[2])\n",
        "\n",
        "flowers[2]='진달래'\n",
        "print(flowers)"
      ]
    },
    {
      "cell_type": "code",
      "execution_count": null,
      "metadata": {
        "id": "B9ThjQwe-iL0"
      },
      "outputs": [],
      "source": [
        "# 리스트 합치기(+)\n",
        "flowers = ['무궁화','장미',30,'개나리']\n",
        "foods = ['라면','빵',700]\n",
        "\n",
        "store = flowers+foods\n",
        "print(store)\n",
        "\n",
        "# 리스트 반복하기(*)\n",
        "list1 = [1,2,3]\n",
        "list2 = list1*4\n",
        "print(list2)"
      ]
    },
    {
      "cell_type": "code",
      "execution_count": null,
      "metadata": {
        "id": "hHHQD6u4-kks",
        "colab": {
          "base_uri": "https://localhost:8080/"
        },
        "outputId": "544eccae-c22d-4c13-ff5a-d6a8c889de8d"
      },
      "outputs": [
        {
          "output_type": "stream",
          "name": "stdout",
          "text": [
            "['무궁화', '장미', 30, '개나리']\n",
            "['무궁화', '장미', 30, '개나리', '진달래']\n",
            "['무궁화', '백합', '장미', 30, '개나리', '진달래']\n"
          ]
        }
      ],
      "source": [
        "#리스트에 진달래와 백합을 추가하기\n",
        "flowers = ['무궁화','장미',30,'개나리']\n",
        "print(flowers)\n",
        "\n",
        "flowers.append('진달래')\n",
        "print(flowers)\n",
        "\n",
        "flowers.insert(1,'백합')\n",
        "print(flowers)\n"
      ]
    },
    {
      "cell_type": "code",
      "execution_count": null,
      "metadata": {
        "id": "rNogOqNo-uvI"
      },
      "outputs": [],
      "source": [
        "#리스트에서 30 삭제하기\n",
        "flowers = ['무궁화','장미',30,'개나리',30]\n",
        "print(flowers)\n",
        "\n",
        "flowers.remove(30)\n",
        "print(flowers)"
      ]
    },
    {
      "cell_type": "code",
      "execution_count": null,
      "metadata": {
        "colab": {
          "base_uri": "https://localhost:8080/"
        },
        "id": "CGzAYzET-zg1",
        "outputId": "1156ff41-88e6-4587-be79-d59281aa6107"
      },
      "outputs": [
        {
          "output_type": "stream",
          "name": "stdout",
          "text": [
            "['무궁화', '장미', 30, '개나리', 30]\n",
            "['무궁화', '장미', 30, 30]\n",
            "['무궁화', '장미', 30]\n"
          ]
        }
      ],
      "source": [
        "#한개씩 빼기\n",
        "flowers = ['무궁화','장미',30,'개나리',30]\n",
        "print(flowers)\n",
        "#지정해서 빼기\n",
        "flowers.pop(3)\n",
        "print(flowers)\n",
        "#맨 끝에서 빼기\n",
        "flowers.pop()\n",
        "print(flowers)"
      ]
    },
    {
      "cell_type": "markdown",
      "source": [
        "## 실습. 리스트 활용"
      ],
      "metadata": {
        "id": "JxVTlDRq09l8"
      }
    },
    {
      "cell_type": "code",
      "execution_count": null,
      "metadata": {
        "id": "lLvIC2Q5-9gi"
      },
      "outputs": [],
      "source": [
        "#실습\n",
        "rapper = ['김하온','자이언티','기리보이','넉살','팔로알토']\n",
        "\n",
        "print(rapper)\n",
        "\n",
        "# 맨 뒤에 박재범을 추가하세요\n",
        "rapper.append('박재범')\n",
        "print(rapper)\n",
        "\n",
        "#  자이언티 뒤에 사이먼도미닉을 추가하세요\n",
        "rapper.insert(2, '사이먼도미닉')\n",
        "print(rapper)\n",
        "\n",
        "# 비와이, 제시 2개를 한 번에 추가하세요\n",
        "rapper.extend(['비와이','제시'])\n",
        "print(rapper)\n",
        "\n",
        "# 팔로알토를 제거해주세요.\n",
        "rapper.pop(5)\n",
        "#del rapper[5]\n",
        "print(rapper)\n",
        "\n",
        "#리스트를 모두 제거하세요\n",
        "rapper.clear()\n",
        "print(rapper)"
      ]
    },
    {
      "cell_type": "markdown",
      "metadata": {
        "id": "GyqEUfBBA7wr"
      },
      "source": [
        "#6. 복합자료형 - 딕셔너리"
      ]
    },
    {
      "cell_type": "code",
      "execution_count": null,
      "metadata": {
        "colab": {
          "base_uri": "https://localhost:8080/"
        },
        "id": "F51PtWU5FhQu",
        "outputId": "fab9eb00-0637-4654-a443-f968284e9a3f"
      },
      "outputs": [
        {
          "data": {
            "text/plain": [
              "{'이름': '홍길동',\n",
              " '나이': 20,\n",
              " '전화번호': '01012345678',\n",
              " '직업': '학생',\n",
              " '취미': ['자전거타기', '산책']}"
            ]
          },
          "execution_count": 30,
          "metadata": {},
          "output_type": "execute_result"
        }
      ],
      "source": [
        "dict_1 = {'이름': '홍길동', '나이' : 20, '전화번호' : '01012345678', '직업': '학생', '취미': ['자전거타기', '산책']}\n",
        "dict_1"
      ]
    },
    {
      "cell_type": "code",
      "execution_count": null,
      "metadata": {
        "colab": {
          "base_uri": "https://localhost:8080/",
          "height": 176
        },
        "id": "9vr-uzdSFwCM",
        "outputId": "388e5f7a-1ce5-448e-b9d7-ecfdec1f58c3"
      },
      "outputs": [
        {
          "ename": "KeyError",
          "evalue": "ignored",
          "output_type": "error",
          "traceback": [
            "\u001b[0;31m---------------------------------------------------------------------------\u001b[0m",
            "\u001b[0;31mKeyError\u001b[0m                                  Traceback (most recent call last)",
            "\u001b[0;32m<ipython-input-32-9949c877b24a>\u001b[0m in \u001b[0;36m<module>\u001b[0;34m\u001b[0m\n\u001b[0;32m----> 1\u001b[0;31m \u001b[0mdict_1\u001b[0m\u001b[0;34m[\u001b[0m\u001b[0;34m'특기'\u001b[0m\u001b[0;34m]\u001b[0m\u001b[0;34m\u001b[0m\u001b[0;34m\u001b[0m\u001b[0m\n\u001b[0m",
            "\u001b[0;31mKeyError\u001b[0m: '특기'"
          ]
        }
      ],
      "source": [
        "#추출 오류 처리 1\n",
        "dict_1['특기']"
      ]
    },
    {
      "cell_type": "code",
      "execution_count": null,
      "metadata": {
        "colab": {
          "base_uri": "https://localhost:8080/"
        },
        "id": "OFadoFjBGBnI",
        "outputId": "a10e3193-f457-4aec-f579-07126c9cd10f"
      },
      "outputs": [
        {
          "name": "stdout",
          "output_type": "stream",
          "text": [
            "None\n",
            "없는 데이터\n"
          ]
        }
      ],
      "source": [
        "#추출 오류 처리 2\n",
        "print(dict_1.get('특기'))\n",
        "print(dict_1.get('특기','없는 데이터'))\n"
      ]
    },
    {
      "cell_type": "code",
      "execution_count": null,
      "metadata": {
        "colab": {
          "base_uri": "https://localhost:8080/"
        },
        "id": "_ofbI2njGUGH",
        "outputId": "cf6a66c8-ea0d-46bf-da56-d0823629e0d1"
      },
      "outputs": [
        {
          "name": "stdout",
          "output_type": "stream",
          "text": [
            "False\n",
            "True\n"
          ]
        }
      ],
      "source": [
        "#존재 유무 체크\n",
        "print('특기' in dict_1)\n",
        "\n",
        "print('취미' in dict_1)\n"
      ]
    },
    {
      "cell_type": "code",
      "execution_count": null,
      "metadata": {
        "colab": {
          "base_uri": "https://localhost:8080/"
        },
        "id": "1poYcrAJGbaF",
        "outputId": "369ab42b-66df-4e31-cecb-515ebd69d88a"
      },
      "outputs": [
        {
          "name": "stdout",
          "output_type": "stream",
          "text": [
            "특기를 입력하세요달리기\n",
            "달리기\n"
          ]
        }
      ],
      "source": [
        "#새로운 키 추가하기\n",
        "\n",
        "if '특기' in dict_1 :\n",
        "  print(dict_1['특기'])\n",
        "else:\n",
        "  dict_1['특기'] =  input('특기를 입력하세요')\n",
        "\n",
        "print(dict_1['특기'])"
      ]
    },
    {
      "cell_type": "code",
      "execution_count": null,
      "metadata": {
        "colab": {
          "base_uri": "https://localhost:8080/"
        },
        "id": "RhxUT4mjH2In",
        "outputId": "1de47b72-ba82-4c73-a08a-4a87da5fa627"
      },
      "outputs": [
        {
          "data": {
            "text/plain": [
              "{'홍길동': 90, '정길동': 100}"
            ]
          },
          "execution_count": 43,
          "metadata": {},
          "output_type": "execute_result"
        }
      ],
      "source": [
        "#항목 삭제하기\n",
        "dict_2={'홍길동' : 90,\n",
        "'강길동' : 80,\n",
        "'정길동' : 100}\n",
        "del (dict_2['강길동'])\n",
        "dict_2"
      ]
    },
    {
      "cell_type": "code",
      "execution_count": null,
      "metadata": {
        "colab": {
          "base_uri": "https://localhost:8080/"
        },
        "id": "Mv_c_edSIY2m",
        "outputId": "53021edc-5eb1-4d06-9666-516274b229b2"
      },
      "outputs": [
        {
          "name": "stdout",
          "output_type": "stream",
          "text": [
            "{'정길동': 100}\n",
            "90\n"
          ]
        }
      ],
      "source": [
        "#항목 삭제하기 2\n",
        "score = dict_2.pop('홍길동')\n",
        "print(dict_2)\n",
        "print(score)"
      ]
    },
    {
      "cell_type": "code",
      "execution_count": null,
      "metadata": {
        "colab": {
          "base_uri": "https://localhost:8080/"
        },
        "id": "L3N36Nh7IpFb",
        "outputId": "878200a7-1911-48b2-f671-b0f259af8a1e"
      },
      "outputs": [
        {
          "data": {
            "text/plain": [
              "{}"
            ]
          },
          "execution_count": 45,
          "metadata": {},
          "output_type": "execute_result"
        }
      ],
      "source": [
        "#전부 지우기\n",
        "dict_2.clear()\n",
        "dict_2"
      ]
    },
    {
      "cell_type": "code",
      "execution_count": null,
      "metadata": {
        "colab": {
          "background_save": true
        },
        "id": "2fYq5RIfJWgB",
        "outputId": "092abe21-a504-49fc-8b34-e0be91fe4a1d"
      },
      "outputs": [
        {
          "name": "stdout",
          "output_type": "stream",
          "text": [
            "dict_keys(['홍길동', '강길동', '정길동'])\n",
            "dict_values([90, 80, 100])\n"
          ]
        }
      ],
      "source": [
        "#딕셔너리 다루기 - 키, 밸류\n",
        "\n",
        "dict_2.keys()"
      ]
    },
    {
      "cell_type": "markdown",
      "metadata": {
        "id": "aBSrWU3CAEVD"
      },
      "source": [
        "#9. 반복문 - 횟수 반복\n"
      ]
    },
    {
      "cell_type": "code",
      "execution_count": null,
      "metadata": {
        "id": "pamEoSlOAJYP"
      },
      "outputs": [],
      "source": [
        "#range() 연속된 숫자 로 반복\n",
        "for i in range(5):\n",
        "    print(i)\n",
        "    print('Hello')\n",
        "    print('Python')\n",
        "print('end of for')"
      ]
    },
    {
      "cell_type": "markdown",
      "source": [],
      "metadata": {
        "id": "8Or5SqGLFC2b"
      }
    },
    {
      "cell_type": "code",
      "source": [
        "#문자열로 반복하기\n",
        "\n",
        "for i in 'Hello':\n",
        "  print(i)"
      ],
      "metadata": {
        "colab": {
          "base_uri": "https://localhost:8080/"
        },
        "id": "o-I10mu2dDnP",
        "outputId": "3530a28a-b363-42eb-8399-b6336efb98c2"
      },
      "execution_count": null,
      "outputs": [
        {
          "output_type": "stream",
          "name": "stdout",
          "text": [
            "H\n",
            "e\n",
            "l\n",
            "l\n",
            "o\n"
          ]
        }
      ]
    },
    {
      "cell_type": "code",
      "execution_count": null,
      "metadata": {
        "colab": {
          "base_uri": "https://localhost:8080/"
        },
        "id": "MfSQPj6-BX8W",
        "outputId": "25369830-e3c3-4133-be21-096eec985e87"
      },
      "outputs": [
        {
          "name": "stdout",
          "output_type": "stream",
          "text": [
            "나는 빨강색을 가장 좋아합니다\n",
            "나는 파랑색을 가장 좋아합니다\n",
            "나는 노랑색을 가장 좋아합니다\n",
            "나는 검정색을 가장 좋아합니다\n",
            "나는 초록색을 가장 좋아합니다\n"
          ]
        }
      ],
      "source": [
        "#리스트 만큼 반복하기\n",
        "\n",
        "colors = ['빨강색', '파랑색', '노랑색', '검정색', '초록색']\n",
        "\n",
        "for color in colors:\n",
        "    print(f'나는 {color}을 가장 좋아합니다')\n",
        "\n"
      ]
    },
    {
      "cell_type": "code",
      "execution_count": null,
      "metadata": {
        "id": "FqeVTk8vBdcS"
      },
      "outputs": [],
      "source": [
        "#range() 시퀀스 규칙을 지정해서 반복하기\n",
        "sum = 0\n",
        "for i in range(1,101):\n",
        "    sum += i\n",
        "\n",
        "print(f'1부터 100까지의 합은 {sum}입니다')\n",
        "\n",
        "#시퀀스 규칙대로 반복하기\n",
        "sum=0\n",
        "for i in range(2,101, 2):\n",
        "    sum += i\n",
        "\n",
        "print(f'1부터 100까지 짝수의 합은 {sum}입니다')\n"
      ]
    },
    {
      "cell_type": "markdown",
      "source": [
        "##실습. 합계 계산기"
      ],
      "metadata": {
        "id": "EW3zRCU81fdF"
      }
    },
    {
      "cell_type": "code",
      "execution_count": null,
      "metadata": {
        "id": "VKUMKo6yBmNj"
      },
      "outputs": [],
      "source": [
        "#실습. 합계 계산기\n",
        "sum = 0\n",
        "for i in range(3):\n",
        "    num = int(input('정수를 입력하세요: '))\n",
        "    sum += num\n",
        "\n",
        "print(f'입력받은 정수의 합은 {sum}입니다')"
      ]
    },
    {
      "cell_type": "markdown",
      "source": [
        "##실습. 구구단을 외자"
      ],
      "metadata": {
        "id": "xgsLh9Zh1i_o"
      }
    },
    {
      "cell_type": "code",
      "execution_count": null,
      "metadata": {
        "colab": {
          "base_uri": "https://localhost:8080/"
        },
        "id": "dNeAsHlvBvzO",
        "outputId": "43f1ba53-1f24-46d1-8e10-75dae506e341"
      },
      "outputs": [
        {
          "name": "stdout",
          "output_type": "stream",
          "text": [
            "몇 단을 입력할까요? 3\n",
            " 3 x 1 = 3\n",
            " 3 x 2 = 6\n",
            " 3 x 3 = 9\n",
            " 3 x 4 = 12\n",
            " 3 x 5 = 15\n",
            " 3 x 6 = 18\n",
            " 3 x 7 = 21\n",
            " 3 x 8 = 24\n",
            " 3 x 9 = 27\n"
          ]
        }
      ],
      "source": [
        "#실습. 구구단을 외자\n",
        "dan = int(input('몇 단을 입력할까요? '))\n",
        "for i in range(1,10):\n",
        "  print(f' {dan} x {i} = {dan*i}')"
      ]
    },
    {
      "cell_type": "code",
      "execution_count": null,
      "metadata": {
        "colab": {
          "base_uri": "https://localhost:8080/"
        },
        "id": "4Pz2IkC-B2aw",
        "outputId": "3232fefd-65bb-4f2b-b539-b07f9e6636b2"
      },
      "outputs": [
        {
          "output_type": "stream",
          "name": "stdout",
          "text": [
            " 2 x 1 =  2\t 3 x 1 =  3\t 4 x 1 =  4\t 5 x 1 =  5\t 6 x 1 =  6\t 7 x 1 =  7\t 8 x 1 =  8\t 9 x 1 =  9\t\n",
            " 2 x 2 =  4\t 3 x 2 =  6\t 4 x 2 =  8\t 5 x 2 = 10\t 6 x 2 = 12\t 7 x 2 = 14\t 8 x 2 = 16\t 9 x 2 = 18\t\n",
            " 2 x 3 =  6\t 3 x 3 =  9\t 4 x 3 = 12\t 5 x 3 = 15\t 6 x 3 = 18\t 7 x 3 = 21\t 8 x 3 = 24\t 9 x 3 = 27\t\n",
            " 2 x 4 =  8\t 3 x 4 = 12\t 4 x 4 = 16\t 5 x 4 = 20\t 6 x 4 = 24\t 7 x 4 = 28\t 8 x 4 = 32\t 9 x 4 = 36\t\n",
            " 2 x 5 = 10\t 3 x 5 = 15\t 4 x 5 = 20\t 5 x 5 = 25\t 6 x 5 = 30\t 7 x 5 = 35\t 8 x 5 = 40\t 9 x 5 = 45\t\n",
            " 2 x 6 = 12\t 3 x 6 = 18\t 4 x 6 = 24\t 5 x 6 = 30\t 6 x 6 = 36\t 7 x 6 = 42\t 8 x 6 = 48\t 9 x 6 = 54\t\n",
            " 2 x 7 = 14\t 3 x 7 = 21\t 4 x 7 = 28\t 5 x 7 = 35\t 6 x 7 = 42\t 7 x 7 = 49\t 8 x 7 = 56\t 9 x 7 = 63\t\n",
            " 2 x 8 = 16\t 3 x 8 = 24\t 4 x 8 = 32\t 5 x 8 = 40\t 6 x 8 = 48\t 7 x 8 = 56\t 8 x 8 = 64\t 9 x 8 = 72\t\n",
            " 2 x 9 = 18\t 3 x 9 = 27\t 4 x 9 = 36\t 5 x 9 = 45\t 6 x 9 = 54\t 7 x 9 = 63\t 8 x 9 = 72\t 9 x 9 = 81\t\n"
          ]
        }
      ],
      "source": [
        "#구구단 - 2~9단까지 한번에 출력하기\n",
        "#2x1 = 2   3x1 = 3   4x1= 4 ...\n",
        "\n",
        "for j in range(1,10):\n",
        "  for i in range(2,10):\n",
        "    print(f' {i} x {j} = {i*j:2d}', end='\\t')\n",
        "  print('')\n"
      ]
    },
    {
      "cell_type": "markdown",
      "source": [
        "## 실습. 영단어 암기장"
      ],
      "metadata": {
        "id": "q4GrS6Kq1mbG"
      }
    },
    {
      "cell_type": "code",
      "execution_count": null,
      "metadata": {
        "colab": {
          "base_uri": "https://localhost:8080/"
        },
        "id": "RK0h8x57FSIp",
        "outputId": "c2cb2fc7-3f16-46b6-c9a0-e997ca0a5fc2"
      },
      "outputs": [
        {
          "output_type": "stream",
          "name": "stdout",
          "text": [
            "영어단어 : monday\n",
            "뜻(한글) : 월요일\n",
            "영어단어 : tuesday\n",
            "뜻(한글) : 화요일\n",
            "영어단어 : wendsday\n",
            "뜻(한글) : 수요일\n",
            "영어단어 : \n",
            "{'monday': '월요일', 'tuesday': '화요일', 'wendsday': '수요일'}\n",
            "monday-> 월요일\n",
            "tuesday-> 화요일\n",
            "wendsday-> \n",
            "맞은 갯수는 2 / 전체 문제수는 3\n"
          ]
        }
      ],
      "source": [
        "#영단어  딕셔너리\n",
        "dict_voc = {}\n",
        "\n",
        "while True:\n",
        "    #단어 입력받기\n",
        "    eng=input('영어단어 : ')\n",
        "    if eng == '':\n",
        "        break\n",
        "    kor = input('뜻(한글) : ')\n",
        "\n",
        "    #딕셔너리에 추가하기\n",
        "    dict_voc[eng] = kor\n",
        "\n",
        "#딕셔너리 출력\n",
        "print(dict_voc)\n",
        "\n",
        "score = 0\n",
        "#단어장 퀴즈\n",
        "for english in dict_voc.keys():\n",
        "    #뜻(한글) 입력받기\n",
        "    korean = input(english+'-> ')\n",
        "\n",
        "    #비교해서  맞추면 score에 더하기\n",
        "    if korean == dict_voc[english]:\n",
        "        score += 1\n",
        "\n",
        "#점수출력\n",
        "print(f'맞은 갯수는 {score} / 전체 문제수는 {len(dict_voc)}')"
      ]
    },
    {
      "cell_type": "markdown",
      "metadata": {
        "id": "IK8o2Ae7BV3_"
      },
      "source": [
        "#10. 반복문 - 조건 지정 반복"
      ]
    },
    {
      "cell_type": "code",
      "execution_count": null,
      "metadata": {
        "colab": {
          "base_uri": "https://localhost:8080/"
        },
        "id": "ydnv9GCMCKct",
        "outputId": "e39ff43b-63c9-4f7b-bd17-e26d8f19c59c"
      },
      "outputs": [
        {
          "name": "stdout",
          "output_type": "stream",
          "text": [
            "0\n",
            "1\n",
            "2\n",
            "3\n",
            "4\n",
            "5\n",
            "6\n",
            "7\n",
            "8\n",
            "9\n"
          ]
        }
      ],
      "source": [
        "#조건에 만족할 때까지 반복\n",
        "boolValue = True\n",
        "count = 0\n",
        "\n",
        "while boolValue:\n",
        "    print(count)\n",
        "    count += 1\n",
        "    if count == 10:\n",
        "        boolValue = False"
      ]
    },
    {
      "cell_type": "code",
      "execution_count": null,
      "metadata": {
        "colab": {
          "base_uri": "https://localhost:8080/"
        },
        "id": "KaHkwTNzCVAn",
        "outputId": "391e08f3-03d4-4de5-f8eb-2dc3268beef9"
      },
      "outputs": [
        {
          "name": "stdout",
          "output_type": "stream",
          "text": [
            "0번째 반복입니다\n",
            "1번째 반복입니다\n",
            "2번째 반복입니다\n",
            "3번째 반복입니다\n",
            "4번째 반복입니다\n",
            "5번째 반복입니다\n",
            "6번째 반복입니다\n",
            "7번째 반복입니다\n",
            "8번째 반복입니다\n",
            "9번째 반복입니다\n"
          ]
        }
      ],
      "source": [
        "#변수를 기반으로 반복 - for문처럼 반복하기\n",
        "\n",
        "i = 0\n",
        "while i < 10:\n",
        "    print(f'{i}번째 반복입니다')\n",
        "    i += 1"
      ]
    },
    {
      "cell_type": "code",
      "execution_count": null,
      "metadata": {
        "colab": {
          "base_uri": "https://localhost:8080/"
        },
        "id": "oIj3Ft_mCZHN",
        "outputId": "d2788cc7-8d36-4426-8023-ad9701652a98"
      },
      "outputs": [
        {
          "name": "stdout",
          "output_type": "stream",
          "text": [
            "0 사자\n",
            "1 호랑이\n",
            "2 사슴\n",
            "3 곰\n"
          ]
        }
      ],
      "source": [
        "#리스트 다루기\n",
        "animals = ['사자', '호랑이', '사슴', '곰']\n",
        "i = 0\n",
        "while i<len(animals):\n",
        "    print(i, animals[i])\n",
        "    i += 1"
      ]
    },
    {
      "cell_type": "code",
      "execution_count": null,
      "metadata": {
        "colab": {
          "base_uri": "https://localhost:8080/"
        },
        "id": "W9MSdDlWCr2V",
        "outputId": "f52b5081-9cf9-45d6-c9d5-7aa7822515c6"
      },
      "outputs": [
        {
          "name": "stdout",
          "output_type": "stream",
          "text": [
            "list: 1, 2, 3\n",
            "list with for : 1\n",
            "list with for : 2\n",
            "list with for : 3\n",
            "list with for : 4\n",
            "list with for : 5\n",
            "list: 0, 1, 2\n",
            "list n1 with for : 0\n",
            "list n1 with for : 1\n",
            "list n1 with for : 2\n",
            "list n1 with for : 3\n",
            "list n1 with for : 4\n"
          ]
        }
      ],
      "source": [
        "n = [1,2,3,4,5]\n",
        "\n",
        "print(f'list: {n[0]}, {n[1]}, {n[2]}')\n",
        "\n",
        "for v in n:\n",
        "    print(f'list with for : {v}')\n",
        "\n",
        "#range()로 리스트 만들기\n",
        "n1 = range(5)\n",
        "print(f'list: {n1[0]}, {n1[1]}, {n1[2]}')\n",
        "\n",
        "for v in n1:\n",
        "    print(f'list n1 with for : {v}')\n"
      ]
    },
    {
      "cell_type": "code",
      "execution_count": null,
      "metadata": {
        "id": "WgB-UkHDC7dR"
      },
      "outputs": [],
      "source": [
        "#종료조건이 들어오면 끝내기\n",
        "name = ''\n",
        "\n",
        "while name != 'q':\n",
        "    name = input('이름 : ')\n"
      ]
    },
    {
      "cell_type": "code",
      "execution_count": null,
      "metadata": {
        "colab": {
          "base_uri": "https://localhost:8080/"
        },
        "id": "d3iynErFDMSk",
        "outputId": "34d2dcd7-73c1-4c95-9541-feae9932a330"
      },
      "outputs": [
        {
          "name": "stdout",
          "output_type": "stream",
          "text": [
            "[1, 3, 4, 3, 5, 3, 6, 4, 9]\n"
          ]
        }
      ],
      "source": [
        "#조건에 맞는 경우만 반복하기\n",
        "\n",
        "list_test = [1,2,3,2,4,3,5,3,6,4,2,9]\n",
        "\n",
        "value = 2\n",
        "\n",
        "while value in list_test:\n",
        "    list_test.remove(value)\n",
        "\n",
        "print(list_test)"
      ]
    },
    {
      "cell_type": "markdown",
      "metadata": {
        "id": "wAxOMcT2EQrt"
      },
      "source": [
        "#11. 반복문 - 벗어나기"
      ]
    },
    {
      "cell_type": "code",
      "execution_count": null,
      "metadata": {
        "colab": {
          "base_uri": "https://localhost:8080/"
        },
        "id": "59YMxArWDn2q",
        "outputId": "f119f507-8f1e-4ff7-e2ee-07f59e00a3a1"
      },
      "outputs": [
        {
          "name": "stdout",
          "output_type": "stream",
          "text": [
            "1번 반복했습니다\n",
            "2번 반복했습니다\n",
            "3번 반복했습니다\n",
            "4번 반복했습니다\n",
            "5번 반복했습니다\n",
            "총 합계는 15입니다\n"
          ]
        }
      ],
      "source": [
        "#반복에서 벗어나기- break\n",
        "sum = 0\n",
        "\n",
        "for i in range(1,11,1):\n",
        "    print(f'{i}번 반복했습니다')\n",
        "    sum += i\n",
        "    if i == 5:\n",
        "        break\n",
        "\n",
        "print(f'총 합계는 {sum}입니다')"
      ]
    },
    {
      "cell_type": "code",
      "execution_count": null,
      "metadata": {
        "colab": {
          "base_uri": "https://localhost:8080/"
        },
        "id": "w3tdwzaKEacg",
        "outputId": "f5e643e3-ede4-4551-f25c-b0a97774ef6e"
      },
      "outputs": [
        {
          "output_type": "stream",
          "name": "stdout",
          "text": [
            "1\n",
            "2\n",
            "4\n",
            "5\n",
            "6\n",
            "7\n",
            "8\n",
            "9\n",
            "10\n",
            "합계: 52\n"
          ]
        }
      ],
      "source": [
        "#건너뛰기\n",
        "sum=0\n",
        "for i in range(1, 11, 1):\n",
        "    if i == 3:\n",
        "        continue\n",
        "    print(i)\n",
        "    sum+=i\n",
        "\n",
        "print(f'합계: {sum}')"
      ]
    },
    {
      "cell_type": "markdown",
      "source": [
        "##실습. Y/N로 프로그램 종료하기"
      ],
      "metadata": {
        "id": "pGHTF4Jtgtcd"
      }
    },
    {
      "cell_type": "code",
      "execution_count": null,
      "metadata": {
        "id": "GWIlg_VVEAvC"
      },
      "outputs": [],
      "source": [
        "#조건에 맞으면 반복 중단\n",
        "i = 0\n",
        "\n",
        "while True:\n",
        "    print(f'{i}번째 반복문입니다')\n",
        "    i += 1\n",
        "\n",
        "    input_text = input(' > 종료하시겠습니까(y/n)?')\n",
        "\n",
        "    if input_text in ['Y', 'y']:\n",
        "        print('반복을 종료합니다')\n",
        "        break\n",
        "\n"
      ]
    },
    {
      "cell_type": "markdown",
      "source": [
        "##실습. 성적계산기"
      ],
      "metadata": {
        "id": "xufBVrdh2BeR"
      }
    },
    {
      "cell_type": "code",
      "execution_count": null,
      "metadata": {
        "id": "8kWx2q7g_h1d"
      },
      "outputs": [],
      "source": [
        "#실습 : 리스트를 활용한 성적 계산기\n",
        "scores = []\n",
        "s = 0\n",
        "sum = 0\n",
        "while s != -1 :\n",
        "    s = int(input('성적을 입력하세요(-1을 입력하면 종료) : '))\n",
        "    if s == -1:\n",
        "        break\n",
        "    sum +=s\n",
        "    scores.append(s)\n",
        "print(f'합계 :{sum}, 평균 : {sum/len(scores)}')"
      ]
    },
    {
      "cell_type": "markdown",
      "source": [
        "# 12. 선택 구조 - 단순조건문"
      ],
      "metadata": {
        "id": "DhQp38twdVbY"
      }
    },
    {
      "cell_type": "code",
      "source": [
        "number = int(input('정수입력 :'))\n",
        "\n",
        "#양수 조건\n",
        "if number>0:\n",
        "  print('양수입니다')\n",
        "\n",
        "#음수 조건\n",
        "if number 〈0:\n",
        "  print('음수입니다')\n",
        "#0인 조건\n",
        "if number == 0:\n",
        "  print('0 입니다')\n"
      ],
      "metadata": {
        "colab": {
          "base_uri": "https://localhost:8080/"
        },
        "id": "YgJ5v82RuC83",
        "outputId": "13244436-5187-4e35-949c-c0a782896b9f"
      },
      "execution_count": null,
      "outputs": [
        {
          "output_type": "stream",
          "name": "stdout",
          "text": [
            "정수입력 :22\n",
            "\n"
          ]
        }
      ]
    },
    {
      "cell_type": "code",
      "source": [
        "number = int(input('정수입력 : '))\n",
        "\n",
        "if number % 2 == 0:\n",
        "  print('짝수입니다')\n",
        "\n",
        "if number % 2 == 1:\n",
        "  print('홀수입니다')\n"
      ],
      "metadata": {
        "colab": {
          "base_uri": "https://localhost:8080/"
        },
        "id": "Vkx-VmuldVDQ",
        "outputId": "70ce5d52-0c45-4d16-88d9-952f10e6e9d3"
      },
      "execution_count": null,
      "outputs": [
        {
          "name": "stdout",
          "output_type": "stream",
          "text": [
            "정수입력 : 33\n"
          ]
        }
      ]
    },
    {
      "cell_type": "code",
      "source": [
        "#if~else~\n",
        "\n",
        "number = int(input('정수입력 : '))\n",
        "\n",
        "if number % 2 == 0:\n",
        "  print('짝수입니다')\n",
        "\n",
        "else:\n",
        "  print('홀수입니다')\n"
      ],
      "metadata": {
        "id": "Akt5zqU_uTfO"
      },
      "execution_count": null,
      "outputs": []
    },
    {
      "cell_type": "code",
      "source": [
        "score = int(input('성적을 입력하세요 : '))\n",
        "\n",
        "if score >= 90:\n",
        "  print('A')\n",
        "if score >= 80:\n",
        "  print('B')\n",
        "if score >= 70:\n",
        "  print('C')\n",
        "else:\n",
        "  print('D')"
      ],
      "metadata": {
        "colab": {
          "base_uri": "https://localhost:8080/"
        },
        "id": "erSH7OJnujE-",
        "outputId": "ed96cff4-e2f3-4f29-ea6b-4e42f8200363"
      },
      "execution_count": null,
      "outputs": [
        {
          "output_type": "stream",
          "name": "stdout",
          "text": [
            "성적을 입력하세요 : 50\n",
            "D\n"
          ]
        }
      ]
    },
    {
      "cell_type": "code",
      "source": [
        "#중첩조건문\n",
        "score = int(input('성적을 입력하세요 : '))\n",
        "\n",
        "if score >= 90:\n",
        "  print('A')\n",
        "else:\n",
        "  if score >= 80:\n",
        "    print('B')\n",
        "  else:\n",
        "    if score >= 70:\n",
        "      print('C')\n",
        "    else:\n",
        "      print('D')"
      ],
      "metadata": {
        "colab": {
          "base_uri": "https://localhost:8080/"
        },
        "id": "ZmoV2qZPusRX",
        "outputId": "cfe2411b-bde2-47d0-ce84-e3deffc0d53c"
      },
      "execution_count": null,
      "outputs": [
        {
          "output_type": "stream",
          "name": "stdout",
          "text": [
            "성적을 입력하세요 : 50\n",
            "D\n"
          ]
        }
      ]
    },
    {
      "cell_type": "markdown",
      "source": [
        "#13. 선택 구조 - 복합구조문"
      ],
      "metadata": {
        "id": "u-DW4pIw2q0G"
      }
    },
    {
      "cell_type": "code",
      "source": [
        "#복합구조문 elif\n",
        "\n",
        "score = int(input('성적을 입력하세요 : '))\n",
        "\n",
        "if score >= 90:\n",
        "  print('A')\n",
        "elif score >= 80:\n",
        "  print('B')\n",
        "elif score >= 70:\n",
        "  print('C')\n",
        "else:\n",
        "  print('D')"
      ],
      "metadata": {
        "id": "9RJ7JtNKdytF"
      },
      "execution_count": null,
      "outputs": []
    },
    {
      "cell_type": "markdown",
      "source": [
        "## 실습. 입장료계산기"
      ],
      "metadata": {
        "id": "uYaFgk1B2cmC"
      }
    },
    {
      "cell_type": "code",
      "source": [
        "#입장료 계산\n",
        "\n",
        "age = int(input('나이를 입력하세요 : '))\n",
        "\n",
        "fee = 3000\n",
        "\n",
        "#65세이상, 7세 미만은 0원\n",
        "#8~18세 1000원\n",
        "#19~64세 3000원\n",
        "\n",
        "if age >= 65 or age <= 7 :\n",
        "  fee = 0\n",
        "elif age <= 18 and age >= 8:\n",
        "  fee = 1000\n",
        "\n",
        "\n",
        "print(f'입장료는 {fee}원입니다')"
      ],
      "metadata": {
        "colab": {
          "base_uri": "https://localhost:8080/"
        },
        "id": "GAQeGRzZeDQB",
        "outputId": "c11a8a1a-9ba3-4096-b48d-9b39b28bea14"
      },
      "execution_count": null,
      "outputs": [
        {
          "output_type": "stream",
          "name": "stdout",
          "text": [
            "나이를 입력하세요 : 8\n",
            "입장료는 1000원입니다\n"
          ]
        }
      ]
    },
    {
      "cell_type": "markdown",
      "source": [
        "##실습. 업앤다운 게임"
      ],
      "metadata": {
        "id": "_mw71Ej_2iAV"
      }
    },
    {
      "cell_type": "code",
      "source": [
        "#업앤다운 게임\n",
        "\n",
        "import random\n",
        "answer = random.randint(1,51)\n",
        "count = 0\n",
        "boolean = True\n",
        "\n",
        "print(answer)\n",
        "\n",
        "while boolean :\n",
        "  in_data = int(input('1~50사이의 숫자를 입력하세요 : '))\n",
        "\n",
        "  if in_data > answer :\n",
        "    print('더 작은 수 입니다')\n",
        "  elif in_data < answer :\n",
        "    print('더 큰 수 입니다')\n",
        "  elif in_data == answer :\n",
        "    print('정답입니다')\n",
        "    boolean = False"
      ],
      "metadata": {
        "colab": {
          "base_uri": "https://localhost:8080/"
        },
        "id": "eN8Sk4QmeIXX",
        "outputId": "0b22329c-5b9e-44d2-a66a-899254f4ea1a"
      },
      "execution_count": null,
      "outputs": [
        {
          "output_type": "stream",
          "name": "stdout",
          "text": [
            "32\n",
            "1~50사이의 숫자를 입력하세요 : 50\n",
            "더 작은 수 입니다\n",
            "1~50사이의 숫자를 입력하세요 : 25\n",
            "더 큰 수 입니다\n",
            "1~50사이의 숫자를 입력하세요 : 40\n",
            "더 작은 수 입니다\n",
            "1~50사이의 숫자를 입력하세요 : 30\n",
            "더 큰 수 입니다\n",
            "1~50사이의 숫자를 입력하세요 : 35\n",
            "더 작은 수 입니다\n",
            "1~50사이의 숫자를 입력하세요 : 33\n",
            "더 작은 수 입니다\n",
            "1~50사이의 숫자를 입력하세요 : 32\n",
            "정답입니다\n"
          ]
        }
      ]
    },
    {
      "cell_type": "code",
      "source": [
        "#업앤다운 게임 - 확장\n",
        "\n",
        "import random\n",
        "answer = random.randint(1,50)\n",
        "count = 0\n",
        "boolean = True\n",
        "\n",
        "while boolean :\n",
        "  in_data = int(input('1~50 사이의 숫자를 입력하세요: ')\n",
        "  count += 1\n",
        "  if count >= 5:\n",
        "    print('정답을 맞출 수 있는 횟수를 초과하였습니다')\n",
        "  break\n",
        "  if in_data > answer :\n",
        "    print('더 작은 수 입니다')\n",
        "  elif in_data < answer :\n",
        "    print('더 큰 수 입니다')\n",
        "  elif in_data == answer :\n",
        "    print(f'정답입니다, {count}번만에 맞췄습니다')\n",
        "  boolean = False"
      ],
      "metadata": {
        "id": "fS_BcnNgvHfc"
      },
      "execution_count": null,
      "outputs": []
    },
    {
      "cell_type": "markdown",
      "source": [
        "# 터틀을 이용한 알고리즘 구현\n",
        "\n",
        "[링크 텍스트](https://colab.research.google.com/drive/11iV5lxxbxHTiSrwLwkbUitBebefDVhSY#scrollTo=Fu7yJ9BQP8Io&uniqifier=1)"
      ],
      "metadata": {
        "id": "5dBo4WTmyGML"
      }
    }
  ],
  "metadata": {
    "colab": {
      "provenance": [],
      "toc_visible": true,
      "authorship_tag": "ABX9TyOAeLAm9mOpSCkD4Ka8UPjO",
      "include_colab_link": true
    },
    "kernelspec": {
      "display_name": "Python 3",
      "name": "python3"
    },
    "language_info": {
      "name": "python"
    }
  },
  "nbformat": 4,
  "nbformat_minor": 0
}