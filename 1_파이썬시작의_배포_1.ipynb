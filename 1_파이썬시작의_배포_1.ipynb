{
  "nbformat": 4,
  "nbformat_minor": 0,
  "metadata": {
    "colab": {
      "provenance": [],
      "toc_visible": true,
      "authorship_tag": "ABX9TyNZqok4MDLjW5uq8JMYJwP+",
      "include_colab_link": true
    },
    "kernelspec": {
      "name": "python3",
      "display_name": "Python 3"
    },
    "language_info": {
      "name": "python"
    }
  },
  "cells": [
    {
      "cell_type": "markdown",
      "metadata": {
        "id": "view-in-github",
        "colab_type": "text"
      },
      "source": [
        "<a href=\"https://colab.research.google.com/github/yleessam/start/blob/main/1_%ED%8C%8C%EC%9D%B4%EC%8D%AC%EC%8B%9C%EC%9E%91%EC%9D%98_%EB%B0%B0%ED%8F%AC_1.ipynb\" target=\"_parent\"><img src=\"https://colab.research.google.com/assets/colab-badge.svg\" alt=\"Open In Colab\"/></a>"
      ]
    },
    {
      "cell_type": "markdown",
      "source": [
        "# 표준출력\n",
        "\n",
        ">  print(‘출력할 문자열＇)\n",
        "\n",
        "* 입력한 메세지나 값을 출력함 - 문자, 숫자\n",
        "* 작은 따옴표(‘ ‘)안의 내용을 화면에 출력, 작은 따옴표(‘) 대신 큰 따옴표(“)를 사용해도 된다.  \n",
        "ex) print(“출력문자열”)\n",
        "\n",
        "* 큰 따옴표(“)와 작은 따옴표(‘)를 혼용 불가  ex) print(“출력문자열’)\n",
        "\n"
      ],
      "metadata": {
        "id": "2DLYNbSfnMt-"
      }
    },
    {
      "cell_type": "code",
      "execution_count": null,
      "metadata": {
        "id": "O307J4oZkHbb",
        "colab": {
          "base_uri": "https://localhost:8080/"
        },
        "outputId": "79549297-e9dd-4e7f-d6d0-a2da4f039875"
      },
      "outputs": [
        {
          "output_type": "stream",
          "name": "stdout",
          "text": [
            "바 : 바밤바는\n",
            "밤 : 밤이 들어간\n",
            "바 : 바이다.\n"
          ]
        }
      ],
      "source": [
        "print(\"바 : 바밤바는\")\n",
        "print(\"밤 : 밤이 들어간\")\n",
        "print(\"바 : 바이다.\")"
      ]
    },
    {
      "cell_type": "code",
      "source": [
        "# 아래 줄에 내 이름으로 삼행시를 지어 보세요.\n"
      ],
      "metadata": {
        "id": "1wu3TvfdkMB6"
      },
      "execution_count": null,
      "outputs": []
    },
    {
      "cell_type": "code",
      "source": [
        "# 괄호 안에 내 나이를 입력해 보세요.\n",
        "print()\n",
        "\n",
        "# 괄호 안에 내 이름을 입력해 보세요.\n",
        "print()\n",
        "\n",
        "# 괄호 안에 내 나이와 내 이름이 담긴 리스트를 입력해 보세요.\n",
        "print()\n"
      ],
      "metadata": {
        "id": "yfj6alI9kRPq"
      },
      "execution_count": null,
      "outputs": []
    },
    {
      "cell_type": "markdown",
      "source": [
        "# 변수\n",
        "\n",
        "* 프로그램을 실행하는데 필요한 정보를 저장하는 메모리 공간   \n",
        "* 숫자, 문자열 저장(문자열 지정 시에서는 따옴표(“or”)로 구분)   \n",
        "* 변수에 값을 대입할 때 변수가 선언되며 데이터 타입도 결정 됨   \n",
        "\n",
        "```\n",
        "# 코드로 형식 지정됨\n",
        "변수이름 = 값 ( 값을 변수에 할당합니다.)\n",
        "```\n",
        "\n"
      ],
      "metadata": {
        "id": "ffjr1RgTqiXe"
      }
    },
    {
      "cell_type": "markdown",
      "source": [
        "## 변수의 규칙\n",
        "\n",
        "1. 대·소문자를 구분한다\n",
        "* myVar와 MyVar는 다른 변수\n",
        "* 문자, 숫자, 언더바(_)를 포함할 수 있다. 하지만 숫자로 시작하면 안 된다\n",
        "> var2   \n",
        "> _var   \n",
        "> var_2   \n",
        "> 2Var   \n",
        "\n",
        "* 예약어는 변수명으로 사용불가\n",
        "* 한글 사용 가능\n",
        "\n",
        "\n"
      ],
      "metadata": {
        "id": "3vUOWVCQsb3D"
      }
    },
    {
      "cell_type": "code",
      "source": [
        "# 변수에는 정수, 실수 같은 숫자를 저장할 수 있어요.\n",
        "num1 = 1\n",
        "num2 = 2\n",
        "\n",
        "# 영어나 한글 같은 문자도 저장할 수 있어요.\n",
        "character = 'a'\n",
        "\n",
        "# 이런 문자들의 집합도 저장할 수 있고,\n",
        "string = 'Python'\n",
        "\n",
        "# 리스트 또한 저장할 수 있어요.\n",
        "my_list = [1, 'a', 'Python']"
      ],
      "metadata": {
        "id": "QOn64iTFqbNh"
      },
      "execution_count": null,
      "outputs": []
    },
    {
      "cell_type": "code",
      "source": [
        "# 나만의 변수를 만들어 봅시다.\n",
        "# my_var라는 이름의 변수를 만들고, 원하는 값을 넣어 보세요.\n",
        "\n",
        "\n",
        "# 만든 변수를 print()의 괄호 안에 넣을 수도 있어요.\n",
        "# my_var를 print()로 출력해서 값이 잘 들어갔는지 확인해 봅시다!\n"
      ],
      "metadata": {
        "id": "l8gYEFNlkRL-"
      },
      "execution_count": null,
      "outputs": []
    },
    {
      "cell_type": "code",
      "source": [
        "# 변수끼리는 연산 또한 가능합니다. 예를들어, 위에 있는 num1, num2을 더하면?!\n",
        "print(num1+num2)\n",
        "\n",
        "#다른 변수들을 연산해 보세요\n",
        "\n"
      ],
      "metadata": {
        "id": "pqJY8Sn4kRIQ",
        "colab": {
          "base_uri": "https://localhost:8080/"
        },
        "outputId": "e52f6392-937c-4e6c-bc3e-0092253be86c"
      },
      "execution_count": null,
      "outputs": [
        {
          "output_type": "stream",
          "name": "stdout",
          "text": [
            "3\n"
          ]
        }
      ]
    },
    {
      "cell_type": "markdown",
      "source": [
        "##  신기한 변수\n",
        "\n",
        "1. 한 번에 여러 변수를 선언할 수 있다."
      ],
      "metadata": {
        "id": "l5w8cx68-n_m"
      }
    },
    {
      "cell_type": "code",
      "source": [
        "x, y, z = None, None, None\n",
        "x,y,z"
      ],
      "metadata": {
        "colab": {
          "base_uri": "https://localhost:8080/"
        },
        "id": "f-Axq02a-wna",
        "outputId": "f49950d3-e410-4007-f35f-d062a4dc4d0f"
      },
      "execution_count": 1,
      "outputs": [
        {
          "output_type": "execute_result",
          "data": {
            "text/plain": [
              "(None, None, None)"
            ]
          },
          "metadata": {},
          "execution_count": 1
        }
      ]
    },
    {
      "cell_type": "markdown",
      "source": [
        " 2. 하나의 값을 여러 변수에 담을 수 있다."
      ],
      "metadata": {
        "id": "v2At1NdD-z6w"
      }
    },
    {
      "cell_type": "code",
      "source": [
        "x = y = z = None\n",
        "x, y, z"
      ],
      "metadata": {
        "colab": {
          "base_uri": "https://localhost:8080/"
        },
        "id": "qwgPaYZU_H59",
        "outputId": "358008ac-e657-4001-aad6-ac411016a40a"
      },
      "execution_count": 2,
      "outputs": [
        {
          "output_type": "execute_result",
          "data": {
            "text/plain": [
              "(None, None, None)"
            ]
          },
          "metadata": {},
          "execution_count": 2
        }
      ]
    },
    {
      "cell_type": "markdown",
      "source": [
        "# 기본 자료형\n",
        "프로그램에서 사용되는 값들의 형태를 “자료형(data type)”이라고 함\n",
        "\n",
        "```\n",
        "type( 데이터 ) # 데이터의 자료형 확인\n",
        "```"
      ],
      "metadata": {
        "id": "lBQRFCTlGpj0"
      }
    },
    {
      "cell_type": "code",
      "source": [
        "type(num1)"
      ],
      "metadata": {
        "colab": {
          "base_uri": "https://localhost:8080/"
        },
        "id": "-X9mv2Q0HcaZ",
        "outputId": "f8bebf86-7ef3-4154-9e6b-51755e6c248f"
      },
      "execution_count": null,
      "outputs": [
        {
          "output_type": "execute_result",
          "data": {
            "text/plain": [
              "int"
            ]
          },
          "metadata": {},
          "execution_count": 5
        }
      ]
    },
    {
      "cell_type": "code",
      "source": [
        "#위에서 만든 변수들의 자료형을 type()으로 확인해 보세요\n",
        "\n"
      ],
      "metadata": {
        "id": "p2w2ygXiHkeF"
      },
      "execution_count": null,
      "outputs": []
    },
    {
      "cell_type": "markdown",
      "source": [
        "##1. 숫자형\n",
        "\n",
        "* 숫자 형태로 이루어진 자료형\n",
        "* 정수, 실수, 8진수 16진수\n",
        "\n"
      ],
      "metadata": {
        "id": "GDW8v8dYw0Wi"
      }
    },
    {
      "cell_type": "code",
      "source": [
        "num1 = None\n",
        "num2 = None\n",
        "\n",
        "num1+num2"
      ],
      "metadata": {
        "id": "e-IgxY4ZJFSG"
      },
      "execution_count": null,
      "outputs": []
    },
    {
      "cell_type": "markdown",
      "source": [
        "\n",
        "##2. 문자형\n",
        "\n",
        "* 문자, 단어 등으로 구성된 문자들의 집합\n",
        "* 문자열은 큰 따옴표(“ “) 또는 작은 따옴표(‘ ‘)로 둘러싸여 표시함."
      ],
      "metadata": {
        "id": "ZJc9Rcq_w_zi"
      }
    },
    {
      "cell_type": "code",
      "source": [
        "# 따옴표로 감싼 문자, 'Hello'와 \"Hello\"는 동일\n",
        "a = 'Hello'\n",
        "type(a)"
      ],
      "metadata": {
        "colab": {
          "base_uri": "https://localhost:8080/"
        },
        "id": "VAnBZmM4_h3z",
        "outputId": "1654783f-3248-4e41-dfdc-c1fb75febe5a"
      },
      "execution_count": null,
      "outputs": [
        {
          "output_type": "execute_result",
          "data": {
            "text/plain": [
              "str"
            ]
          },
          "metadata": {},
          "execution_count": 30
        }
      ]
    },
    {
      "cell_type": "code",
      "source": [
        "# 따옴표로 감싼 숫자는 문자\n",
        "b = '123'\n",
        "type(b)"
      ],
      "metadata": {
        "colab": {
          "base_uri": "https://localhost:8080/"
        },
        "id": "qfGNaWXS_mxE",
        "outputId": "4ac823e4-b143-487f-88ec-7d8b973528a7"
      },
      "execution_count": null,
      "outputs": [
        {
          "output_type": "execute_result",
          "data": {
            "text/plain": [
              "str"
            ]
          },
          "metadata": {},
          "execution_count": 31
        }
      ]
    },
    {
      "cell_type": "code",
      "source": [
        "#한줄 인사말 출력하기\n",
        "\n"
      ],
      "metadata": {
        "id": "ForykiVyvqt0"
      },
      "execution_count": null,
      "outputs": []
    },
    {
      "cell_type": "code",
      "source": [
        "#띄어쓰기가 있어도 문자열\n",
        "say = \"\\\"Python is very easy.\\\" Ylee says.\"\n",
        "print(say)\n",
        "\n",
        "#여러줄 문자열\n",
        "info = '''안녕하세요.\n",
        "오늘 날씨는 아주 맑음입니다.\n",
        "날씨만큼 좋은 하루 되세요.'''\n",
        "print(info)"
      ],
      "metadata": {
        "colab": {
          "base_uri": "https://localhost:8080/"
        },
        "id": "ExPC5tbTu6Mr",
        "outputId": "090160c6-5df3-4c00-f670-d9d5d828cbf7"
      },
      "execution_count": null,
      "outputs": [
        {
          "output_type": "stream",
          "name": "stdout",
          "text": [
            "\"Python is very easy.\" Ylee says.\n",
            "안녕하세요.\n",
            "오늘 날씨는 아주 맑음입니다.\n",
            "날씨만큼 좋은 하루 되세요.\n"
          ]
        }
      ]
    },
    {
      "cell_type": "code",
      "source": [
        "#여러줄 인사말 출력하기\n",
        "\n"
      ],
      "metadata": {
        "id": "ATBb1IPIvnAz"
      },
      "execution_count": null,
      "outputs": []
    },
    {
      "cell_type": "code",
      "source": [
        "#문자열 안에 따옴표가 들어간다면? '와 \"를 번갈아서 사용해보세요.\n",
        "y = 'He said, \"I love you.\"'\n",
        "y"
      ],
      "metadata": {
        "colab": {
          "base_uri": "https://localhost:8080/",
          "height": 36
        },
        "id": "aiStFeFf_8sM",
        "outputId": "783fcfd7-3e18-497a-92f1-5443136b0302"
      },
      "execution_count": null,
      "outputs": [
        {
          "output_type": "execute_result",
          "data": {
            "text/plain": [
              "'He said, \"I love you.\"'"
            ],
            "application/vnd.google.colaboratory.intrinsic+json": {
              "type": "string"
            }
          },
          "metadata": {},
          "execution_count": 32
        }
      ]
    },
    {
      "cell_type": "code",
      "source": [
        "#질문 하기\n",
        "\n"
      ],
      "metadata": {
        "id": "Ytvt3gBMvuCE"
      },
      "execution_count": null,
      "outputs": []
    },
    {
      "cell_type": "code",
      "source": [
        "#문자열 연산\n",
        "start = '파이썬'\n",
        "end = '시작하기'\n",
        "# 문자열 더하기\n",
        "print()\n",
        "\n",
        "cnt=3\n",
        "# 문자열 곱하기\n",
        "\n",
        "print()"
      ],
      "metadata": {
        "colab": {
          "base_uri": "https://localhost:8080/"
        },
        "id": "RD5gSlt6vAUx",
        "outputId": "ef93fd77-c62e-492a-9885-5633e78fab83"
      },
      "execution_count": 6,
      "outputs": [
        {
          "output_type": "stream",
          "name": "stdout",
          "text": [
            "\n",
            "\n"
          ]
        }
      ]
    },
    {
      "cell_type": "code",
      "source": [
        "#삼각형 출력하기\n",
        "print(' '*2, '*')\n",
        "print(' ', '*'*3)\n",
        "print('*'*7)"
      ],
      "metadata": {
        "colab": {
          "base_uri": "https://localhost:8080/"
        },
        "id": "p4-g7BRXv-KW",
        "outputId": "926910a0-3c79-4ec3-c36b-b4cbd43a8955"
      },
      "execution_count": 4,
      "outputs": [
        {
          "output_type": "stream",
          "name": "stdout",
          "text": [
            "   *\n",
            "  ***\n",
            "*******\n"
          ]
        }
      ]
    },
    {
      "cell_type": "code",
      "source": [
        "#다이아몬드 출력하기\n",
        "\n"
      ],
      "metadata": {
        "id": "S02U3761vGpw"
      },
      "execution_count": 5,
      "outputs": []
    },
    {
      "cell_type": "markdown",
      "source": [
        "##3. 자료형 바꾸기\n",
        "\n",
        "* 프로그램에서 특정 자료형을 다른 자료형으로 변환\n",
        "```\n",
        "int() : 문자열, 실수 등을 정수로 변환\n",
        "float() : 문자열, 정수 등을 실수로 변환\n",
        "repr(), str() : 다른 자료형들을 문자열로 변환\n",
        "```"
      ],
      "metadata": {
        "id": "GPIEgs_IH9XD"
      }
    },
    {
      "cell_type": "code",
      "source": [
        "\n",
        "int(11+2.3)"
      ],
      "metadata": {
        "id": "MVsqN5QtwzKN",
        "colab": {
          "base_uri": "https://localhost:8080/"
        },
        "outputId": "77a84668-ac51-4a79-d081-e9c8ea13506a"
      },
      "execution_count": null,
      "outputs": [
        {
          "output_type": "execute_result",
          "data": {
            "text/plain": [
              "13"
            ]
          },
          "metadata": {},
          "execution_count": 11
        }
      ]
    },
    {
      "cell_type": "code",
      "source": [
        "\n",
        "float(12*4)"
      ],
      "metadata": {
        "id": "oT8V_3MtxNF6",
        "colab": {
          "base_uri": "https://localhost:8080/"
        },
        "outputId": "7d9f410e-7ee2-496c-9b60-04fb8d0a961d"
      },
      "execution_count": null,
      "outputs": [
        {
          "output_type": "execute_result",
          "data": {
            "text/plain": [
              "48.0"
            ]
          },
          "metadata": {},
          "execution_count": 12
        }
      ]
    },
    {
      "cell_type": "code",
      "source": [
        "\n",
        "str(12.3+11)"
      ],
      "metadata": {
        "id": "0l5WG1Q3xOxC",
        "colab": {
          "base_uri": "https://localhost:8080/",
          "height": 36
        },
        "outputId": "6b32caea-95fe-4926-b205-7ffd4d62a9ca"
      },
      "execution_count": null,
      "outputs": [
        {
          "output_type": "execute_result",
          "data": {
            "text/plain": [
              "'23.3'"
            ],
            "application/vnd.google.colaboratory.intrinsic+json": {
              "type": "string"
            }
          },
          "metadata": {},
          "execution_count": 13
        }
      ]
    },
    {
      "cell_type": "markdown",
      "source": [
        "## TypeError, ValueError\n",
        "- 서로 다른 자료를 연산하게 되면 **TypeError** 발생  \n",
        "- 자료형을 변환할 때 ‘변환할 수 없는 것’을 반환 하려고 할 때 **ValueError **"
      ],
      "metadata": {
        "id": "4Wy5sr_gIY9S"
      }
    },
    {
      "cell_type": "code",
      "source": [
        "num3 = '3 '\n",
        "\n",
        "num1+num3"
      ],
      "metadata": {
        "id": "nIqCkIwMJJ4P"
      },
      "execution_count": null,
      "outputs": []
    },
    {
      "cell_type": "code",
      "source": [
        "int('5h')"
      ],
      "metadata": {
        "id": "18ZZ4DqsJDBg"
      },
      "execution_count": null,
      "outputs": []
    },
    {
      "cell_type": "markdown",
      "source": [
        "## 4.  f스트링\n",
        "\n",
        "* 문자열이나 문장을 쉽게 포맷팅\n",
        "* 문장 사이에 변수 값을 넣어 출력, 입력, 문자열을 만들 때 사용\n",
        "\n",
        "```\n",
        "f\"  문자열 { 변수 } 문자열\"\n",
        "```"
      ],
      "metadata": {
        "id": "tfSPREP4ok4-"
      }
    },
    {
      "cell_type": "code",
      "source": [
        "#f스트링으로 친구에게 인사하기\n",
        "name = \"친구이름\"\n",
        "print(f\"{name} 야 사랑해!!\")"
      ],
      "metadata": {
        "id": "KqgVnIjfrK_x",
        "colab": {
          "base_uri": "https://localhost:8080/"
        },
        "outputId": "19b850c2-b026-4b24-a11f-52f7a9f5ad3d"
      },
      "execution_count": 7,
      "outputs": [
        {
          "output_type": "stream",
          "name": "stdout",
          "text": [
            "친구이름 야 사랑해!!\n"
          ]
        }
      ]
    },
    {
      "cell_type": "code",
      "source": [
        "#다이아몬드 출력하기\n",
        "print(f\"{' '*3}*\")\n",
        "print(f\"  {'*'*3}\")\n",
        "print(f\" {'*'*5}\")\n",
        "print(f\"{'*'*7}\")\n",
        "\n",
        "#아래쪽을 완성하기\n"
      ],
      "metadata": {
        "colab": {
          "base_uri": "https://localhost:8080/"
        },
        "id": "vCPl54zfHB_I",
        "outputId": "20b6b5c7-bda5-40ed-bfcb-f3b244212577"
      },
      "execution_count": 8,
      "outputs": [
        {
          "output_type": "stream",
          "name": "stdout",
          "text": [
            "   *\n",
            "  ***\n",
            " *****\n",
            "*******\n"
          ]
        }
      ]
    },
    {
      "cell_type": "markdown",
      "source": [
        "# 표준 입력\n",
        "\n",
        ">  input (프롬프트)\n",
        "\n",
        "* 프로그램에게 정보를 전달할 수 있음\n",
        "* 입력 값은 항상 **문자열**로 받아옴\n",
        "* 괄호()안에 문자열을 넣으면 프롬프트(메시지) 역할을 수행함\n",
        "* 입력 받은 값을 변수에 저장 가능\n",
        "\n"
      ],
      "metadata": {
        "id": "liHlvOY5oueb"
      }
    },
    {
      "cell_type": "markdown",
      "source": [
        "```\n",
        "#정답\n",
        "# input()을 이용해서 입력을 넣고, 이를 변수 var에 담아봅시다.\n",
        "var=input()\n",
        "\n",
        "# 앵무새가 말을 따라합니다!\n",
        "print(\"앵무새 :\", var)\n",
        "\n",
        "# 입력한 값이 어떤 자료형인지 확인해봅시다.\n",
        "print(type(var))\n",
        "```"
      ],
      "metadata": {
        "id": "q2L5oS8f0ifO"
      }
    },
    {
      "cell_type": "code",
      "source": [
        "# input()을 이용해서 사용자가 입력하는 값을 받아 이를 변수 var에 담아 보세요.\n",
        "var = None\n",
        "\n",
        "# 입력한 값이 잘 저장되었나 확인해 보세요. 아래 코드는 수정하지 않아도 돼요.\n",
        "print(\"앵무새 :\", var)\n",
        "\n",
        "# 입력한 값이 어떤 자료형인지 확인해 보세요. 아래 코드는 수정하지 않아도 돼요.\n",
        "print(type(var))\n"
      ],
      "metadata": {
        "id": "WpQXvqvtloxA",
        "colab": {
          "base_uri": "https://localhost:8080/"
        },
        "outputId": "fdcd0ce8-7606-4527-d2eb-1802f44e8977"
      },
      "execution_count": null,
      "outputs": [
        {
          "output_type": "stream",
          "name": "stdout",
          "text": [
            "앵무새 : None\n",
            "<class 'NoneType'>\n"
          ]
        }
      ]
    },
    {
      "cell_type": "code",
      "source": [],
      "metadata": {
        "id": "axCc7tYPlosk"
      },
      "execution_count": null,
      "outputs": []
    },
    {
      "cell_type": "markdown",
      "source": [
        "## 연산 실습. 두 배로 주는 홍학   \n"
      ],
      "metadata": {
        "id": "F7rl8BVNpbly"
      }
    },
    {
      "cell_type": "markdown",
      "source": [
        "\n",
        "코더랜드 E은행의 은행원 홍학은 남들보다 두 배로 열심히 일합니다.    \n",
        "두 배로 열심히 일하는 홍학에게 돈을 맡기면 일 년 후에 정확히 두 배의 금액을 돌려준다고 합니다. 와우!   \n",
        "홍학에게 맡길 금액을 입력했을 때 일 년 후 받을 수 있는 돈을 출력해주는 코드를 작성해봅시다.\n",
        "\n",
        "Tips\n",
        "input()은 입력받은 값을 문자열로 인식하기 때문에 형변환을 해야 해요!\n"
      ],
      "metadata": {
        "id": "FC97cwS2l78E"
      }
    },
    {
      "cell_type": "markdown",
      "source": [
        " > 정답 (참고)\n",
        "\n",
        "```\n",
        "#변수 money에 input을 이용해서 입력을 받아봅시다.\n",
        "\n",
        "money=input()\n",
        "# money를 int형으로 변환해서, 다시 money에 넣어줍시다.\n",
        "money=int(money)\n",
        "\n",
        "# money를 2배 불려서 print로 출력해봅시다.\n",
        "money = money*2\n",
        "print(money)\n",
        "```"
      ],
      "metadata": {
        "id": "tpC3HkE6Km_U"
      }
    },
    {
      "cell_type": "code",
      "source": [
        "# 변수 money에 input을 이용해서 입력을 받아 보세요.\n",
        "\n",
        "\n",
        "# money를 int형으로 변환해서, 다시 money에 넣어 주세요.\n",
        "\n",
        "\n",
        "# money를 2배 불려서 print로 출력해 보세요.\n",
        "\n"
      ],
      "metadata": {
        "id": "mHOK_-LllDl5"
      },
      "execution_count": null,
      "outputs": []
    },
    {
      "cell_type": "markdown",
      "source": [
        "# 연산자\n",
        "\n",
        "*\t사칙연산자  : +, -, *, /\n",
        "* 나눗셈 후 소수점 아랫자리를 버리는 연산자 : //\n",
        "* 나머지 연산자 : % (나누었을 때 남은 나머지)\n",
        "* 제곱연산자 : **\n",
        "* 대입연산자 : =\n"
      ],
      "metadata": {
        "id": "lUJNjTlhJvup"
      }
    },
    {
      "cell_type": "markdown",
      "source": [
        "##실습. 사칙연산 계산기"
      ],
      "metadata": {
        "id": "t0EdXzV4xv8R"
      }
    },
    {
      "cell_type": "code",
      "source": [
        "\n",
        "a = int(input(\"첫번째 수를 입력하세요\"))\n",
        "b = int(input(\"두번째 수를 입력하세요\"))\n",
        "\n",
        "print(\"a+b=\", None)\n",
        "print(\"a-b=\",None)\n",
        "print(\"a*b=\",None)\n",
        "print(\"a/b=\",None)\n"
      ],
      "metadata": {
        "colab": {
          "base_uri": "https://localhost:8080/"
        },
        "id": "YrP4UwQVuZV1",
        "outputId": "caf5efff-efa1-421e-a1b3-a36fd16eaa06"
      },
      "execution_count": null,
      "outputs": [
        {
          "output_type": "stream",
          "name": "stdout",
          "text": [
            "첫번째 수를 입력하세요3\n",
            "두번째 수를 입력하세요5\n",
            "a+b= 8\n",
            "a-b= -2\n",
            "a*b= 15\n",
            "a/b= 0.6\n"
          ]
        }
      ]
    },
    {
      "cell_type": "markdown",
      "source": [
        "\n",
        "##실습. 별의별 계산기"
      ],
      "metadata": {
        "id": "tJdvxwefx0i5"
      }
    },
    {
      "cell_type": "code",
      "source": [
        "#사탕이 10개 있어요 3명이 나눌때 몇개씩 가질 수 있나요?\n",
        "#남는 사탕이 있으면 알려주세요\n",
        "\n",
        "a = int(input(\"전체 사탕은 몇개인가요? \"))\n",
        "b = int(input(\"사람 수를 입력하세요 \"))\n",
        "print(f'{a}을 {b}로 나누면....')\n",
        "#print('몫:', 11711//17)\n",
        "#print('나머지:', 11711%17)\n",
        "print('1인당 사탕 갯 :', None)\n",
        "print('남는 사탕 :', None)\n"
      ],
      "metadata": {
        "colab": {
          "base_uri": "https://localhost:8080/"
        },
        "id": "qULieTo8unaN",
        "outputId": "8c10463e-812b-44ea-d05d-59b5e0b120f0"
      },
      "execution_count": null,
      "outputs": [
        {
          "output_type": "stream",
          "name": "stdout",
          "text": [
            "전체 사탕은 몇개인가요? 10\n",
            "사람 수를 입력하세요 3\n",
            "10을 3로 나누었을 때\n",
            "1인당 사탕의 수 : 3\n",
            "남는 사탕 : 1\n"
          ]
        }
      ]
    },
    {
      "cell_type": "code",
      "source": [
        "print('----------------------------')\n",
        "print('3의 7제곱은')\n",
        "print(3**7)\n"
      ],
      "metadata": {
        "colab": {
          "base_uri": "https://localhost:8080/"
        },
        "id": "Nq4QDf988meb",
        "outputId": "57e8f630-183b-4c0f-e6f3-7b55f3deec65"
      },
      "execution_count": null,
      "outputs": [
        {
          "output_type": "stream",
          "name": "stdout",
          "text": [
            "----------------------------\n",
            "3의 7제곱은\n",
            "2187\n"
          ]
        }
      ]
    },
    {
      "cell_type": "code",
      "source": [
        "#토끼계산기를 만들어보세요\n",
        "#토끼가 10마리 있습니다.\n",
        "rabbit = 10\n",
        "year = 1\n",
        "#1년후 토끼는 딱 2배가 된다고 가정해 봅니다.\n",
        "su = rabbit*2**year\n",
        "print(f'{year}년후 토끼는 {su}마리입니다')\n",
        "#3년뒤 토끼는 몇마리일까요?\n",
        "su = rabbit*None\n",
        "su\n",
        "\n",
        "#100년후 토끼는 몇마리일까요?\n"
      ],
      "metadata": {
        "colab": {
          "base_uri": "https://localhost:8080/"
        },
        "id": "gqxafTjV6dUY",
        "outputId": "041ef0d4-d331-4839-a563-36844f9bb4a0"
      },
      "execution_count": null,
      "outputs": [
        {
          "output_type": "stream",
          "name": "stdout",
          "text": [
            "1년후 토끼는 20마리입니다\n"
          ]
        },
        {
          "output_type": "execute_result",
          "data": {
            "text/plain": [
              "80"
            ]
          },
          "metadata": {},
          "execution_count": 26
        }
      ]
    },
    {
      "cell_type": "code",
      "source": [
        "#허리둘레 계산기\n",
        "size = int(input(\"당신의 허리 칫수를 인치로 넣어주세요(숫자만 입력) :  \"))\n",
        "print('----------------------------')\n",
        "print('선택한 사이즈는')\n",
        "print(round(None*2.54))"
      ],
      "metadata": {
        "id": "qSVVzbnz8HId"
      },
      "execution_count": null,
      "outputs": []
    },
    {
      "cell_type": "markdown",
      "source": [
        "## 거울아 거울아"
      ],
      "metadata": {
        "id": "aDixcHjIyBNW"
      }
    },
    {
      "cell_type": "code",
      "source": [
        "print('거울아 거울아')\n",
        "name = input('세상에서 누가 가장 예쁘니? ')\n",
        "\n",
        "print(f'세상에서 {None}님이 가장 예쁩니다!!')"
      ],
      "metadata": {
        "colab": {
          "base_uri": "https://localhost:8080/"
        },
        "id": "ABrh7tv7p_3B",
        "outputId": "36ddeb6c-ddbb-4799-fcbf-42220c1df285"
      },
      "execution_count": null,
      "outputs": [
        {
          "output_type": "stream",
          "name": "stdout",
          "text": [
            "거울아 거울아\n",
            "세상에서 누가 가장 예쁘니? 일리\n",
            "세상에서 일리님이 가장 예쁩니다!!\n"
          ]
        }
      ]
    },
    {
      "cell_type": "markdown",
      "source": [
        "## 생일 추출기"
      ],
      "metadata": {
        "id": "z7H6gRc-yGgM"
      }
    },
    {
      "cell_type": "code",
      "source": [
        "birth=input(\"생년월일을 입력하세요(예: 19990101)\")\n",
        "\n",
        "year = birth[0:4]\n",
        "month = birth[4:6]\n",
        "day = birth[6:]\n",
        "\n",
        "print(\"당신이 태어난 날은 \", year,\"년\",month,\"월\", day, \"일입니다\")\n",
        "\n",
        "#f스트링으로 바꾸세요\n",
        "print(f\"당신이 태어난 날은 {None}년 {None}월 {None}일입니다\")\n"
      ],
      "metadata": {
        "id": "bYpxyM_VI0JA",
        "colab": {
          "base_uri": "https://localhost:8080/"
        },
        "outputId": "3ea2000e-4b5b-4b36-9510-42711fc35fcb"
      },
      "execution_count": 11,
      "outputs": [
        {
          "output_type": "stream",
          "name": "stdout",
          "text": [
            "생년월일을 입력하세요(예: 19990101)19990101\n",
            "당신이 태어난 날은  1999 년 01 월 01 일입니다\n",
            "당신이 태어난 날은 1999년 01월 01일입니다\n"
          ]
        }
      ]
    },
    {
      "cell_type": "code",
      "source": [
        "#요일 찾기\n",
        "from datetime import datetime\n",
        "\n",
        "date_string = '20230808'  #입력받은 생일을 넣어주세요\n",
        "date_format = '%Y%m%d'\n",
        "\n",
        "try:\n",
        "    date_object = datetime.strptime(date_string, date_format)\n",
        "    day_of_week = date_object.strftime('%A')  # '%A'는 요일 이름을 나타내는 형식 문자열입니다.\n",
        "    print(f\"{date_string}의 요일은 {day_of_week}입니다.\")\n",
        "except ValueError:\n",
        "    print(\"올바른 날짜 형식이 아닙니다.\")\n",
        "\n",
        "print(f\"당신이 태어난 날은 {year}년 {month}월 {day}일 {day_of_week}입니다\")"
      ],
      "metadata": {
        "colab": {
          "base_uri": "https://localhost:8080/"
        },
        "id": "_m1MVPR7xlfR",
        "outputId": "ad38a399-ec75-4bac-e3ae-1a3a18e2cc65"
      },
      "execution_count": 12,
      "outputs": [
        {
          "output_type": "stream",
          "name": "stdout",
          "text": [
            "20230808의 요일은 Tuesday입니다.\n",
            "당신이 태어난 날은 1999년 01월 01일 Tuesday입니다\n"
          ]
        }
      ]
    },
    {
      "cell_type": "markdown",
      "source": [
        "# 리스트와 문자열\n",
        "\n",
        "\n",
        "\n",
        "\n"
      ],
      "metadata": {
        "id": "C7hurjwlqSko"
      }
    },
    {
      "cell_type": "code",
      "source": [
        "#문자열 분할 1\n",
        "a = \"오늘 날씨가 좋아요\"\n",
        "a.split()"
      ],
      "metadata": {
        "colab": {
          "base_uri": "https://localhost:8080/"
        },
        "id": "uo3TS-PIvjiU",
        "outputId": "db01e9db-18ca-41b4-ad39-6dc9ea1717be"
      },
      "execution_count": null,
      "outputs": [
        {
          "output_type": "execute_result",
          "data": {
            "text/plain": [
              "['오늘', '날씨가', '좋아요']"
            ]
          },
          "metadata": {},
          "execution_count": 1
        }
      ]
    },
    {
      "cell_type": "code",
      "source": [
        "#문자열 나누기와 합치기\n",
        "a = \"사과,배,바나나,딸기\"\n",
        "b = a.split(None)\n",
        "print(b)\n",
        "\n",
        "#문자열 - 을 이용해 합쳐기\n",
        "c = \"-\".join(b)\n",
        "print(c)\n",
        "\n",
        "#문자열 + 로 합쳐 봅시다\n",
        "d = None\n",
        "print(d)"
      ],
      "metadata": {
        "id": "9e09H5fXwE9g",
        "colab": {
          "base_uri": "https://localhost:8080/"
        },
        "outputId": "96a212b1-fc4a-4756-fb1a-fb1ee13cee83"
      },
      "execution_count": 16,
      "outputs": [
        {
          "output_type": "stream",
          "name": "stdout",
          "text": [
            "['사과', '배', '바나나', '딸기']\n",
            "사과-배-바나나-딸기\n",
            "사과+배+바나나+딸기\n"
          ]
        }
      ]
    },
    {
      "cell_type": "markdown",
      "source": [
        "## 실습 뚜루는 몇번 들어 있을까?\n"
      ],
      "metadata": {
        "id": "ebo2POkHyPvm"
      }
    },
    {
      "cell_type": "code",
      "source": [
        "#file = open(\"babyshark.txt\", \"r\", encoding='UTF8')\n",
        "txt = '''\n",
        "\n",
        "'''\n",
        "\n",
        "#txt = file.read()\n",
        "\n",
        "searchStr = \"뚜 루루\"\n",
        "\n",
        "print(txt.count(searchStr))\n",
        "#file.close()"
      ],
      "metadata": {
        "id": "26XF_mMowUup"
      },
      "execution_count": null,
      "outputs": []
    },
    {
      "cell_type": "markdown",
      "source": [
        "# 컨테이너 타입\n",
        "\n",
        "컨테이너 타입은 여러 개의 값을 다루는 자료형입니다. list, tuple, set, dictionary가 있습니다.\n",
        "\n",
        "1. 리스트(list) : 데이터를 연속적으로 관리, 값을 바꿀 수 있음, 예:['가', '나', '다', '라']\n",
        "\n",
        "2. 튜플(tuple) : 데이터를 연속적으로 관리, 값을 바꿀 수 없음, 예:('가', '나', '다', '라')\n",
        "\n",
        "3. 세트(set) : 집합과 같은 속성, 예:{'가', '나', '다', '라'}\n",
        "\n",
        "4. 딕셔너리(dictionary) : key-value 쌍, 예: {'가':123, '나':456, '다':789}"
      ],
      "metadata": {
        "id": "fwXUF2ixAzrZ"
      }
    },
    {
      "cell_type": "markdown",
      "source": [
        "# 리스트"
      ],
      "metadata": {
        "id": "XglWKtnMyVQa"
      }
    },
    {
      "cell_type": "code",
      "source": [
        "# 험프티가 가지고 있는 보석 중에 특별히 빛나는 보석이 있어요!\n",
        "humpty = ['은', '은', '다이아몬드', '은', '은', '은', '은', '은']\n",
        "\n",
        "# 그 보석이 무엇인지 찾아 아래 변수에 넣어 보세요.\n",
        "jewel1 = humpty[0]\n",
        "\n",
        "# 덤프티는 금빛 보석을 많이 가지고 있네요!\n",
        "dumpty = ['은', '은', '은', '은', '금', '금', '금', '은', '은', '은']\n",
        "\n",
        "# 금빛 보석만 찾아 아래 변수에 넣어 보세요.\n",
        "jewel2 = dumpty[0:0]\n",
        "\n",
        "# 가장 빛나는 보석을 잘 찾았는지 print()로 확인해 볼까요? 아래는 수정하지 않아도 돼요.\n",
        "print('humpty 가방 속 가장 빛나는 보석', jewel1)\n",
        "print('dumpty 가방 속 금빛 찬란한 보석', jewel2)\n"
      ],
      "metadata": {
        "id": "AAQZUCEfkREo",
        "colab": {
          "base_uri": "https://localhost:8080/"
        },
        "outputId": "943f6184-e7b0-4d09-cb83-f1a3b7a85b9b"
      },
      "execution_count": 19,
      "outputs": [
        {
          "output_type": "stream",
          "name": "stdout",
          "text": [
            "humpty 가방 속 가장 빛나는 보석 은\n",
            "dumpty 가방 속 금빛 찬란한 보석 []\n"
          ]
        }
      ]
    },
    {
      "cell_type": "markdown",
      "source": [
        "## 리스트의 인덱스\n",
        "\n",
        "* 인덱싱 활용 및 변수 대입   \n",
        "* humpty 리스트에서 “다이아몬드”의 자료 순서 확인하기   \n",
        "* 인덱싱은 하나의 자료를 가져오는 방법이라는 사실    \n",
        "\n",
        "> dumpty[1]\n",
        "\n",
        "* 슬라이싱은 구간을 설정하여 구간 내 자료를 가져오는 방법\n",
        "\n",
        "> dumpty[4:7]\n",
        "\n",
        "📌 Tips\n",
        "\n",
        "인덱스는 실제 위치보다 1 작다는 점, 슬라이싱의 마지막 인덱스는 가져오려는 위치보다 1 커야 해요"
      ],
      "metadata": {
        "id": "kPy0V3R4kx6K"
      }
    },
    {
      "cell_type": "markdown",
      "source": [
        "## 리스트에 추가하기\n",
        "\n",
        "* append()를 사용하면 리스트에 원소를 1개 추가할 수 있어요!\n"
      ],
      "metadata": {
        "id": "sahrAokqk8BQ"
      }
    },
    {
      "cell_type": "markdown",
      "source": [
        "## 실습 선착순! 줄을~ 서시오\n",
        "\n",
        "하트 여왕의 경기에 참여하기 위해 코더랜드 동물들이 하나 둘 모이고 있습니다!   \n",
        "\n",
        "원활한 경기 진행을 위해서 경기장에 모인 동물들을 도착한 순서대로 줄 세워볼까요? 빈 리스트 line_up을 만들고 동물들을 순서대로 추가해 주세요!\n",
        "\n",
        "* 순서\n",
        "\n",
        "1. 도마뱀\n",
        "2. 홍학\n",
        "3. 토끼\n",
        "\n"
      ],
      "metadata": {
        "id": "zb79YdZPsHSe"
      }
    },
    {
      "cell_type": "markdown",
      "source": [
        "```\n",
        "#정답 예시\n",
        "# 선착순으로 줄을 세우기 위해 빈 리스트 line_up을 만들어 보세요.\n",
        "line_up = []\n",
        "\n",
        "# append 함수를 이용하여 line_up에 동물 친구들을 도마뱀 - 홍학 - 토끼의 순서대로 추가해 보세요.\n",
        "line_up.append(\"도마뱀\")\n",
        "line_up.append(\"홍학\")\n",
        "line_up.append(\"토끼\")\n",
        "\n",
        "# 제대로 줄을 세웠는지 line_up을 출력하여 확인해 봅시다.\n",
        "print(line_up)\n",
        "```"
      ],
      "metadata": {
        "id": "qUg8LL56z6ja"
      }
    },
    {
      "cell_type": "code",
      "source": [
        "# 선착순으로 줄을 세우기 위해 빈 리스트 line_up을 만들어 보세요.\n",
        "line_up = None\n",
        "\n",
        "# append 함수를 이용하여 line_up에 동물 친구들을 도마뱀 - 홍학 - 토끼의 순서대로 추가해 보세요.\n",
        "\n",
        "\n",
        "\n",
        "# 제대로 줄을 세웠는지 line_up을 출력하여 확인해 봅시다.\n",
        "print(line_up)\n"
      ],
      "metadata": {
        "id": "VX-jFyfIkQ9L"
      },
      "execution_count": null,
      "outputs": []
    },
    {
      "cell_type": "markdown",
      "source": [
        "## 리스트에 끼워 넣기\n",
        "\n",
        "insert() 를 이용하면 리스트에 원하는 위치로 들어갈 수 있어요"
      ],
      "metadata": {
        "id": "mTX2P-HkyoHz"
      }
    },
    {
      "cell_type": "markdown",
      "source": [
        "## 실습. 새치기의 달인\n",
        "\n",
        "경기장에 가장 늦게 도착한 도도새가 기회를 엿보더니 홍학 앞으로 새치기를 시도합니다! 홍학이 고개를 돌린 사이에 슬쩍 끼어 들어가 볼까요?\n",
        "\n",
        "Tips\n",
        "인덱스는 0부터 시작한다는 사실을 조심하세요!"
      ],
      "metadata": {
        "id": "GdUcJAD3lICB"
      }
    },
    {
      "cell_type": "markdown",
      "source": [
        "``` #정답\n",
        "#line_up = [\"도마뱀\", \"홍학\", \"토끼\", \"고양이\"]\n",
        "\n",
        "# line_up의  \"도마뱀\"과 \"홍학\" 사이에 \"도도새\"를 넣어봅시다.\n",
        "line_up.insert(1, \"도도새\")\n",
        "\n",
        "# line_up을 출력하여 도도새가 새치기에 성공했는지 알아봅시다.\n",
        "print(line_up)\n",
        "```"
      ],
      "metadata": {
        "id": "AVvuwwVUzQzk"
      }
    },
    {
      "cell_type": "code",
      "source": [
        "line_up = [\"도마뱀\", \"홍학\", \"토끼\", \"고양이\"]\n",
        "\n",
        "# line_up의 \"도마뱀\"과 \"홍학\" 사이에 \"도도새\"를 넣어 보세요.\n",
        "\n",
        "\n",
        "# line_up을 출력하여 도도새가 새치기에 성공했는지 확인해 봅시다!\n",
        "print(line_up)\n"
      ],
      "metadata": {
        "id": "eIaMNDVLlD8V"
      },
      "execution_count": null,
      "outputs": []
    },
    {
      "cell_type": "markdown",
      "source": [
        "## 리스트에서 삭제하기\n",
        "\n",
        "remove(), pop()을 이용하면, 리스트에서 빼버릴 수 있어요"
      ],
      "metadata": {
        "id": "FImtYb_zza7z"
      }
    },
    {
      "cell_type": "markdown",
      "source": [
        "## 실습. 도도새 퇴치\n",
        "\n",
        "도도새의 새치기에 잔뜩 화가 난 홍학의 얼굴이 새빨개졌습니다.  하트 여왕이 심판을 내리는군요.  반칙 금지! 도도새는 퇴장하라!\n",
        "\n",
        "하트 여왕의 명령에 따라 도도새를 퇴치해 보세요!\n",
        "\n",
        "Tips\n",
        "remove()를 사용하면 리스트 안의 특정 원소를 제거할 수 있어요."
      ],
      "metadata": {
        "id": "KSIZqh6GlS-J"
      }
    },
    {
      "cell_type": "markdown",
      "source": [
        "``` #정답\n",
        "\n",
        "line_up = [\"도마뱀\", \"도도새\", \"홍학\", \"토끼\"]\n",
        "\n",
        "# line_up에서 \"도도새\"를 없애봅시다.\n",
        "line_up.remove(\"도도새\")\n",
        "\n",
        "# line_up을 출력하여 도도새를 퇴치했는지 확인해 보세요.\n",
        "print(line_up)\n",
        "\n",
        "```"
      ],
      "metadata": {
        "id": "IT9tWGTrzrIL"
      }
    },
    {
      "cell_type": "code",
      "source": [
        "line_up = [\"도마뱀\", \"도도새\", \"홍학\", \"토끼\"]\n",
        "\n",
        "# line_up에서 \"도도새\"를 없애 보세요.\n",
        "\n",
        "\n",
        "# line_up을 출력하여 도도새를 퇴치했는지 확인해 봅시다!\n",
        "print(line_up)\n"
      ],
      "metadata": {
        "id": "jjEtrwmwlD1h",
        "colab": {
          "base_uri": "https://localhost:8080/"
        },
        "outputId": "edece2d1-2d44-4365-85fe-cbe75aac0f48"
      },
      "execution_count": null,
      "outputs": [
        {
          "output_type": "stream",
          "name": "stdout",
          "text": [
            "['도마뱀', '도도새', '홍학', '토끼']\n"
          ]
        }
      ]
    },
    {
      "cell_type": "markdown",
      "source": [
        "## 리스트 줄세우기\n",
        "sort()를 이용해서 사전 순서대로 정렬할 수 있어요.\n"
      ],
      "metadata": {
        "id": "P1T-X2uXzxMI"
      }
    },
    {
      "cell_type": "markdown",
      "source": [
        "## 실습. 순서는 정해져 있어!  다시 줄 서기   \n",
        "\n",
        "경기가 시작되기를 기다리고 있는데 변덕이 심한 하트여왕이 말합니다.\n",
        "사전순으로 줄을 서시오\n",
        "하트여왕의 명령에 따라 선착순으로 줄을 섰던 동물 친구들을 다시 정렬해 봅시다!\n",
        "\n",
        "Tips\n",
        "sort()를 이용하면 리스트의 원소를 정렬할 수 있어요.\n",
        "숫자는 오름차순, 문자는 사전 순으로 정렬돼요!"
      ],
      "metadata": {
        "id": "a_p6s58wlc3C"
      }
    },
    {
      "cell_type": "markdown",
      "source": [
        "```#정답\n",
        "line_up = [\"도마뱀\", \"홍학\", \"토끼\"]\n",
        "\n",
        "# line_up을 사전순으로 정렬해 봅시다.\n",
        "line_up.sort()\n",
        "\n",
        "# line_up을 출력하여 정렬이 잘 되었나 확인해 보세요.\n",
        "print(line_up)\n",
        "```"
      ],
      "metadata": {
        "id": "QWNltwEh0Hh2"
      }
    },
    {
      "cell_type": "code",
      "source": [
        "line_up = [\"도마뱀\", \"홍학\", \"토끼\"]\n",
        "\n",
        "# line_up을 사전순으로 정렬해 보세요.\n",
        "\n",
        "\n",
        "# line_up을 출력하여 정렬이 잘 되었나 확인해 봅시다!\n",
        "print(line_up)"
      ],
      "metadata": {
        "id": "mksYLPCLlDuV"
      },
      "execution_count": null,
      "outputs": []
    },
    {
      "cell_type": "markdown",
      "source": [
        "## 🎯 미션1 - 칙칙폭폭 기차놀이\n",
        "\n",
        "부산행 기차가 사람들을 태우고 출발하려 하고 있어요! 기차역에 설 때마다 승객들이 기차에 타거나 기차에서 내립니다. 리스트의 활용으로 차장님을 도와줍시다!\n",
        "\n",
        "\n",
        "이렇게 해봅시다!\n",
        "주석을 읽고 각 역에 정차할 때마다 주어지는 미션을 수행하는 코드를 그 아랫줄에 작성해 보세요.\n",
        "아래의 리스트의 활용 함수들을 적절히 사용해 보세요!\n",
        "\n",
        "```\n",
        "#정답\n",
        "# 기차에 3명의 승객이 타고 있어요\n",
        "train = ['성진', '찬경', '준영']\n",
        "\n",
        "# 서울역: 승객 '주아'를 맨 뒷칸에 태우세요\n",
        "train.append('주아')\n",
        "\n",
        "print('서울역 도착.  // ', train)\n",
        "# 대전역: 1등석 승객 '동빈'을 맨 앞에 태우세요\n",
        "train.insert(0, '동빈')\n",
        "\n",
        "print('대전역 도착. // ', train)\n",
        "# 동대구역: 승객 '성진'을 내려주세요\n",
        "train.remove('성진')\n",
        "\n",
        "print('동대구역 도착. // ', train)\n",
        "# 부산역: 마지막 역이니 사전순으로 정렬해 주세요\n",
        "train.sort()\n",
        "\n",
        "print('부산역 도착. // ', train)\n",
        "print('오늘도 빠르고 편안한 기차를 이용해 주셔서 감사합니다.')\n",
        "````"
      ],
      "metadata": {
        "id": "FvoL4_7kll88"
      }
    },
    {
      "cell_type": "code",
      "source": [
        "# 기차에 3명의 승객이 타고 있어요.\n",
        "train = ['성진', '찬경', '준영']\n",
        "\n",
        "# 서울역: 승객 '주아'를 맨 뒷칸에 태워 주세요.\n",
        "\n",
        "\n",
        "print('서울역 도착.  // ', train)\n",
        "# 대전역: 1등석 승객 '동빈'을 맨 앞에 태워 주세요.\n",
        "\n",
        "\n",
        "print('대전역 도착. // ', train)\n",
        "# 동대구역: 승객 '성진'을 내려 주세요.\n",
        "\n",
        "\n",
        "print('동대구역 도착. // ', train)\n",
        "# 부산역: 마지막 역이니 사전순으로 정렬해 주세요.\n",
        "\n",
        "\n",
        "print('부산역 도착. // ', train)\n",
        "print('오늘도 빠르고 편안한 기차를 이용해 주셔서 감사합니다.')\n"
      ],
      "metadata": {
        "id": "zwYK4zjfloov"
      },
      "execution_count": null,
      "outputs": []
    },
    {
      "cell_type": "code",
      "source": [],
      "metadata": {
        "id": "P1u-DweKlo1y"
      },
      "execution_count": null,
      "outputs": []
    }
  ]
}