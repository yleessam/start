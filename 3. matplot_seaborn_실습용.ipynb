{
 "cells": [
  {
   "cell_type": "code",
   "execution_count": null,
   "id": "b65ef03f-f659-4297-b3a7-493acd29e230",
   "metadata": {
    "tags": []
   },
   "outputs": [],
   "source": [
    "# 1. 선그래프\n",
    "%matplotlib inline\n",
    "import matplotlib.pyplot as plt\n"
   ]
  },
  {
   "cell_type": "code",
   "execution_count": null,
   "id": "abe56283-e1a0-4641-b333-8762b6895762",
   "metadata": {
    "tags": []
   },
   "outputs": [],
   "source": [
    "# 2-1. seaborn\n",
    "%matplotlib inline\n",
    "import matplotlib.pyplot as plt\n",
    "import seaborn as sns\n"
   ]
  },
  {
   "cell_type": "code",
   "execution_count": null,
   "id": "6553519f-f42e-4d2f-8469-badfb2090d26",
   "metadata": {
    "tags": []
   },
   "outputs": [],
   "source": [
    "# 2-2. seaborn\n",
    "%matplotlib inline\n",
    "import matplotlib.pyplot as plt\n",
    "import seaborn as sns\n"
   ]
  },
  {
   "cell_type": "code",
   "execution_count": null,
   "id": "6df0fbd0-f24d-46e6-95db-2b03db6fb868",
   "metadata": {
    "tags": []
   },
   "outputs": [],
   "source": [
    "# 2-3. seaborn\n",
    "%matplotlib inline\n",
    "import matplotlib.pyplot as plt\n",
    "import seaborn as sns\n"
   ]
  },
  {
   "cell_type": "code",
   "execution_count": null,
   "id": "f68243fd-51ed-4f55-a93b-9284fda22ea3",
   "metadata": {
    "tags": []
   },
   "outputs": [],
   "source": [
    "# 2-4. seaborn\n",
    "%matplotlib inline\n",
    "import matplotlib.pyplot as plt\n",
    "import seaborn as sns\n"
   ]
  },
  {
   "cell_type": "code",
   "execution_count": null,
   "id": "042cc3a6-b91f-4601-8f03-09e6ec993bc9",
   "metadata": {
    "tags": []
   },
   "outputs": [],
   "source": [
    "# 2-5. seaborn\n",
    "%matplotlib inline\n",
    "import matplotlib.pyplot as plt\n",
    "import seaborn as sns\n"
   ]
  },
  {
   "cell_type": "code",
   "execution_count": null,
   "id": "a37469d9-6d7b-48e8-be8b-7433f26e59bc",
   "metadata": {
    "tags": []
   },
   "outputs": [],
   "source": [
    "# 2-6. seaborn\n",
    "%matplotlib inline\n",
    "import matplotlib.pyplot as plt\n",
    "import seaborn as sns\n"
   ]
  },
  {
   "cell_type": "code",
   "execution_count": null,
   "id": "1ae284f0-88dd-4081-bed9-614042b0d846",
   "metadata": {
    "tags": []
   },
   "outputs": [],
   "source": [
    "# 3-1\n",
    "import pandas as pd\n"
   ]
  },
  {
   "cell_type": "code",
   "execution_count": null,
   "id": "20d63006-d041-40c0-982f-b56316bed3a7",
   "metadata": {
    "tags": []
   },
   "outputs": [],
   "source": [
    "# 3-2\n",
    "import pandas as pd\n",
    "import matplotlib.pyplot as plt\n",
    "import seaborn as sns\n",
    "sns.set(style='ticks', font=['Malgun Gothic'])\n",
    "\n"
   ]
  },
  {
   "cell_type": "code",
   "execution_count": null,
   "id": "e5877326-918a-4e49-800c-3d91fe396a4d",
   "metadata": {
    "tags": []
   },
   "outputs": [],
   "source": [
    "# 3-3\n",
    "import pandas as pd\n",
    "import matplotlib.pyplot as plt\n",
    "import seaborn as sns\n",
    "sns.set(style='ticks', font=['Malgun Gothic'])\n",
    "\n"
   ]
  },
  {
   "cell_type": "code",
   "execution_count": null,
   "id": "5079f654-2c66-4a6e-9c80-d8916b683bac",
   "metadata": {
    "tags": []
   },
   "outputs": [],
   "source": [
    "# 3-4\n",
    "%matplotlib inline\n",
    "import pandas as pd\n",
    "import matplotlib.pyplot as plt\n",
    "import seaborn as sns\n",
    "sns.set(style='ticks', font=['Malgun Gothic'])\n",
    "\n"
   ]
  },
  {
   "cell_type": "code",
   "execution_count": null,
   "id": "e9f85c6a-b637-4002-8c06-006431ac9f6a",
   "metadata": {
    "tags": []
   },
   "outputs": [],
   "source": [
    "# 3-5\n",
    "%matplotlib inline\n",
    "import pandas as pd\n",
    "import matplotlib.pyplot as plt\n",
    "import seaborn as sns\n",
    "sns.set(style='ticks', font=['Malgun Gothic'])\n"
   ]
  },
  {
   "cell_type": "code",
   "execution_count": null,
   "id": "9a4f7a04-90cb-4139-a4ab-a191aa64e7b3",
   "metadata": {
    "tags": []
   },
   "outputs": [],
   "source": [
    "# 3-6\n",
    "import pandas as pd\n"
   ]
  },
  {
   "cell_type": "code",
   "execution_count": null,
   "id": "4de2420b-31f0-4d5f-8e31-47c11f2b4cdc",
   "metadata": {
    "tags": []
   },
   "outputs": [],
   "source": [
    "# 3-7\n",
    "%matplotlib inline\n",
    "import pandas as pd\n",
    "import matplotlib.pyplot as plt\n",
    "import seaborn as sns\n",
    "sns.set(style='darkgrid', font=['Malgun Gothic'])\n",
    "\n"
   ]
  },
  {
   "cell_type": "code",
   "execution_count": null,
   "id": "d4826e3b-f727-4825-8bab-4ea6d368776a",
   "metadata": {
    "tags": []
   },
   "outputs": [],
   "source": [
    "# 3-8\n",
    "%matplotlib inline\n",
    "import pandas as pd\n",
    "import matplotlib.pyplot as plt\n",
    "import seaborn as sns\n",
    "sns.set(style='darkgrid', font=['Malgun Gothic'])\n",
    "\n"
   ]
  },
  {
   "cell_type": "code",
   "execution_count": null,
   "id": "b866c1dd-55e2-4f08-aa62-c6e31b25c2c3",
   "metadata": {
    "tags": []
   },
   "outputs": [],
   "source": [
    "# 2023년 1월 달러 환율\n",
    "import pandas as pd\n"
   ]
  },
  {
   "cell_type": "code",
   "execution_count": null,
   "id": "a480f8c4-9601-4f24-9bf2-00410e242356",
   "metadata": {
    "tags": []
   },
   "outputs": [],
   "source": [
    "# 2023년 1월 달러 환율\n",
    "%matplotlib inline\n",
    "import pandas as pd\n",
    "import matplotlib.pyplot as plt\n",
    "import seaborn as sns\n",
    "sns.set(style='darkgrid', font=['Malgun Gothic'])\n",
    "\n"
   ]
  },
  {
   "cell_type": "code",
   "execution_count": null,
   "id": "811df425-e256-4b54-b10d-deab506971e0",
   "metadata": {
    "tags": []
   },
   "outputs": [],
   "source": [
    "# 2023년 1월 달러 환율\n",
    "%matplotlib inline\n",
    "import pandas as pd\n",
    "import matplotlib.pyplot as plt\n",
    "import seaborn as sns\n",
    "sns.set(style='darkgrid', font=['Malgun Gothic'])\n",
    "\n",
    "er_df = pd.read_csv('exchange_rate_m1.csv', encoding='cp949')\n"
   ]
  },
  {
   "cell_type": "code",
   "execution_count": null,
   "id": "8365d4d4-00d0-488d-b2d7-52d07e098c78",
   "metadata": {
    "tags": []
   },
   "outputs": [],
   "source": [
    "# 원그래프-1\n",
    "import pandas as pd\n",
    "import numpy as np\n",
    "df = pd.read_csv('test_final.csv', encoding='cp949')\n"
   ]
  },
  {
   "cell_type": "code",
   "execution_count": null,
   "id": "924a16c0-0f36-429e-b63c-b3ca7a8dee04",
   "metadata": {
    "tags": []
   },
   "outputs": [],
   "source": [
    "# 원그래프-2\n",
    "%matplotlib inline\n",
    "import matplotlib.pyplot as plt\n",
    "import seaborn as sns\n",
    "sns.set(style='darkgrid', font=['Malgun Gothic'])\n",
    "\n"
   ]
  },
  {
   "cell_type": "code",
   "execution_count": null,
   "id": "2d02788f-06c0-4219-b0a6-29000c76c29b",
   "metadata": {},
   "outputs": [],
   "source": []
  }
 ],
 "metadata": {
  "kernelspec": {
   "display_name": "Python 3 (ipykernel)",
   "language": "python",
   "name": "python3"
  },
  "language_info": {
   "codemirror_mode": {
    "name": "ipython",
    "version": 3
   },
   "file_extension": ".py",
   "mimetype": "text/x-python",
   "name": "python",
   "nbconvert_exporter": "python",
   "pygments_lexer": "ipython3",
   "version": "3.11.4"
  }
 },
 "nbformat": 4,
 "nbformat_minor": 5
}
