{
  "nbformat": 4,
  "nbformat_minor": 0,
  "metadata": {
    "colab": {
      "provenance": [],
      "authorship_tag": "ABX9TyOmdH8widXnHmtLxXorCUn2",
      "include_colab_link": true
    },
    "kernelspec": {
      "name": "python3",
      "display_name": "Python 3"
    },
    "language_info": {
      "name": "python"
    }
  },
  "cells": [
    {
      "cell_type": "markdown",
      "metadata": {
        "id": "view-in-github",
        "colab_type": "text"
      },
      "source": [
        "<a href=\"https://colab.research.google.com/github/yleessam/start/blob/main/1_%ED%8C%8C%EC%9D%B4%EC%8D%AC%EC%8B%9C%EC%9E%91.ipynb\" target=\"_parent\"><img src=\"https://colab.research.google.com/assets/colab-badge.svg\" alt=\"Open In Colab\"/></a>"
      ]
    },
    {
      "cell_type": "code",
      "execution_count": null,
      "metadata": {
        "id": "O307J4oZkHbb"
      },
      "outputs": [],
      "source": [
        "print(\"바 : 바밤바는\")\n",
        "print(\"밤 : 밤이 들어간\")\n",
        "print(\"바 : 바이다.\")"
      ]
    },
    {
      "cell_type": "code",
      "source": [
        "# 아래 줄에 내 이름으로 삼행시를 지어 보세요.\n"
      ],
      "metadata": {
        "id": "1wu3TvfdkMB6"
      },
      "execution_count": null,
      "outputs": []
    },
    {
      "cell_type": "code",
      "source": [
        "# 괄호 안에 내 나이를 입력해 보세요.\n",
        "print(12)\n",
        "\n",
        "# 괄호 안에 내 이름을 입력해 보세요.\n",
        "print(\"Elice\")\n",
        "\n",
        "# 괄호 안에 내 나이와 내 이름이 담긴 리스트를 입력해 보세요.\n",
        "print([12, \"Elice\"])"
      ],
      "metadata": {
        "id": "Mrb5ixN9kPwS"
      },
      "execution_count": null,
      "outputs": []
    },
    {
      "cell_type": "code",
      "source": [
        "# 괄호 안에 내 나이를 입력해 보세요.\n",
        "print()\n",
        "\n",
        "# 괄호 안에 내 이름을 입력해 보세요.\n",
        "print()\n",
        "\n",
        "# 괄호 안에 내 나이와 내 이름이 담긴 리스트를 입력해 보세요.\n",
        "print()\n"
      ],
      "metadata": {
        "id": "yfj6alI9kRPq"
      },
      "execution_count": null,
      "outputs": []
    },
    {
      "cell_type": "code",
      "source": [
        "# 변수에는 정수, 실수 같은 숫자를 저장할 수 있어요.\n",
        "num1 = 1\n",
        "num2 = 2\n",
        "\n",
        "# 영어나 한글 같은 문자도 저장할 수 있어요.\n",
        "character = 'a'\n",
        "\n",
        "# 이런 문자들의 집합도 저장할 수 있고,\n",
        "string = 'Python'\n",
        "\n",
        "# 리스트 또한 저장할 수 있어요.\n",
        "my_list = [1, 'a', 'Python']\n",
        "\n",
        "# 나만의 변수를 만들어 봅시다.\n",
        "# my_var라는 이름의 변수를 만들고, 원하는 값을 넣어 보세요.\n",
        "\n",
        "\n",
        "# 만든 변수를 print()의 괄호 안에 넣을 수도 있어요.\n",
        "# my_var를 print()로 출력해서 값이 잘 들어갔는지 확인해 봅시다!\n"
      ],
      "metadata": {
        "id": "l8gYEFNlkRL-"
      },
      "execution_count": null,
      "outputs": []
    },
    {
      "cell_type": "code",
      "source": [
        "# 변수에는 정수, 실수같은 숫자를 저장할 수 있고,\n",
        "num1 = 1\n",
        "num2 = 2\n",
        "# 영어나 한글같은 문자도 저장할 수 있어요.\n",
        "character = 'a'\n",
        "\n",
        "# 이런 문자들의 집합도 저장할 수 있고,\n",
        "string = 'Python'\n",
        "\n",
        "# 자료들을 여러 개 담을 수 있는 리스트 또한 저장할 수 있어요.\n",
        "threeList = [1, 'a', 'Python']\n",
        "\n",
        "# 여러분의 변수를 만들어 봅시다. my_var라는 이름의 변수를 만들고, 원하는 값을 넣어보세요!\n",
        "my_var = 10\n",
        "\n",
        "# 변수는 print()에 넣을 수도 있어요! my_var를 print로 출력해서 값이 잘 들어갔는지 확인해봅시다!\n",
        "print(my_var)\n",
        "\n",
        "# 변수끼리는 연산 또한 가능합니다. 예를들어, 위에 있는 num1, num2을 더하면?!\n",
        "print(num1+num2)"
      ],
      "metadata": {
        "id": "pqJY8Sn4kRIQ"
      },
      "execution_count": null,
      "outputs": []
    },
    {
      "cell_type": "code",
      "source": [
        "# 험프티가 가지고 있는 보석 중에 특별히 빛나는 보석이 있어요!\n",
        "humpty = ['은', '은', '다이아몬드', '은', '은', '은', '은', '은']\n",
        "\n",
        "# 그 보석이 무엇인지 찾아 아래 변수에 넣어 보세요.\n",
        "jewel1 = None\n",
        "\n",
        "# 덤프티는 금빛 보석을 많이 가지고 있네요!\n",
        "dumpty = ['은', '은', '은', '은', '금', '금', '금', '은', '은', '은']\n",
        "\n",
        "# 금빛 보석만 찾아 아래 변수에 넣어 보세요.\n",
        "jewel2 = None\n",
        "\n",
        "# 가장 빛나는 보석을 잘 찾았는지 print()로 확인해 볼까요? 아래는 수정하지 않아도 돼요.\n",
        "print('humpty 가방 속 가장 빛나는 보석', jewel1)\n",
        "print('dumpty 가방 속 금빛 찬란한 보석', jewel2)\n"
      ],
      "metadata": {
        "id": "AAQZUCEfkREo"
      },
      "execution_count": null,
      "outputs": []
    },
    {
      "cell_type": "markdown",
      "source": [
        "[학습활동]\n",
        "\n",
        "인덱싱 활용 및 변수 대입\n",
        "humpty 리스트에서 “다이아몬드”의 자료 순서 확인하기\n",
        "인덱싱은 하나의 자료를 가져오는 방법이라는 사실 안내\n",
        "코드 작성하기 (humpty[2])\n",
        "슬라이싱 활용 및 변수 대입\n",
        "dumpty 리스트에서 “금”의 자료 순서 확인하기\n",
        "슬라이싱은 구간을 설정하여 구간 내 자료를 가져오는 방법이라는 사실 안내\n",
        "코드 작성하기 (dumpty[4:7])\n",
        "📌 Tips\n",
        "\n",
        "인덱스는 실제 위치보다 1 작다는 점, 슬라이싱의 마지막 인덱스는 가져오려는 위치보다 1 커야 한다는 점을 숙지할 수 있도록 잘 지도해주세요.\n",
        "5, 11번째 줄에 있는 None을 지운 후 코드를 작성해야 한다는 사실을 안내해주세요."
      ],
      "metadata": {
        "id": "kPy0V3R4kx6K"
      }
    },
    {
      "cell_type": "code",
      "source": [
        "# 험프티가 가지고 있는 보석 중에 특별히 빛나는 보석이 있어요!\n",
        "humpty = ['은', '은', '다이아몬드', '은', '은', '은', '은', '은']\n",
        "\n",
        "# 그 보석이 무엇인지 찾아 아래 변수에 넣어봅시다!\n",
        "jewel1 = humpty[2]\n",
        "\n",
        "# 덤프티는 금빛 보석을 많이 가지고 있네요!\n",
        "dumpty = ['은', '은', '은', '은', '금', '금', '금', '은', '은', '은']\n",
        "\n",
        "# 금빛 보석만 찾아 아래 변수에 넣어봅시다!\n",
        "jewel2 = dumpty[4:7]\n",
        "\n",
        "# 가장 빛나는 보석을 잘 찾았는지 print()로 확인해 볼까요? 아래는 수정하지 않아도 돼요.\n",
        "print('humpty 가방 속 가장 빛나는 보석', jewel1)\n",
        "print('dumpty 가방 속 금빛 찬란한 보석', jewel2)"
      ],
      "metadata": {
        "id": "xYL5Y5okkRA6"
      },
      "execution_count": null,
      "outputs": []
    },
    {
      "cell_type": "markdown",
      "source": [
        "선착순! 줄을~ 서시오\n",
        "하트 여왕의 경기에 참여하기 위해 코더랜드 동물들이 하나 둘 모이고 있습니다!\n",
        "\n",
        "원활한 경기 진행을 위해서 경기장에 모인 동물들을 도착한 순서대로 줄 세워볼까요? 빈 리스트 line_up을 만들고 동물들을 순서대로 추가해 주세요!\n",
        "\n",
        "순서\n",
        "\n",
        "도마뱀\n",
        "홍학\n",
        "토끼\n",
        "\n",
        "이렇게 해봅시다!\n",
        "빈 리스트 line_up을 선언해 보세요.\n",
        "append() 함수를 사용해 동물 친구들을 리스트에 순서대로 추가해 주세요.\n",
        "실행 버튼을 눌러 결과를 확인해 보세요.\n",
        "제출 버튼을 눌러 점수를 확인해 보세요.\n",
        "Tips\n",
        "append()를 사용하면 리스트에 원소를 1개 추가할 수 있어요!\n",
        "\n",
        "리스트에 원소 추가하기"
      ],
      "metadata": {
        "id": "sahrAokqk8BQ"
      }
    },
    {
      "cell_type": "code",
      "source": [
        "# 선착순으로 줄을 세우기 위해 빈 리스트 line_up을 만들어 보세요.\n",
        "line_up = None\n",
        "\n",
        "# append 함수를 이용하여 line_up에 동물 친구들을 도마뱀 - 홍학 - 토끼의 순서대로 추가해 보세요.\n",
        "\n",
        "\n",
        "\n",
        "# 제대로 줄을 세웠는지 line_up을 출력하여 확인해 봅시다.\n",
        "print(line_up)\n"
      ],
      "metadata": {
        "id": "VX-jFyfIkQ9L"
      },
      "execution_count": null,
      "outputs": []
    },
    {
      "cell_type": "code",
      "source": [
        "# 선착순으로 줄을 세우기 위해 빈 리스트 line_up을 만들어 보세요.\n",
        "line_up = []\n",
        "\n",
        "# append 함수를 이용하여 line_up에 동물 친구들을 도마뱀 - 홍학 - 토끼의 순서대로 추가해 보세요.\n",
        "line_up.append(\"도마뱀\")\n",
        "line_up.append(\"홍학\")\n",
        "line_up.append(\"토끼\")\n",
        "\n",
        "# 제대로 줄을 세웠는지 line_up을 출력하여 확인해 봅시다.\n",
        "print(line_up)"
      ],
      "metadata": {
        "id": "9YY9XW6Ck_th"
      },
      "execution_count": null,
      "outputs": []
    },
    {
      "cell_type": "markdown",
      "source": [
        "새치기의 달인\n",
        "경기장에 가장 늦게 도착한 도도새가 기회를 엿보더니 홍학 앞으로 새치기를 시도합니다! 홍학이 고개를 돌린 사이에 슬쩍 끼어 들어가 볼까요?\n",
        "\n",
        "\n",
        "이렇게 해봅시다!\n",
        "insert() 함수를 사용하기 위해서 홍학의 인덱스값을 알아야 해요! 홍학의 인덱스는 몇번인지 생각해 보세요.\n",
        "insert() 함수를 사용해 도도새를 홍학의 앞에 추가해 보세요.\n",
        "실행 버튼을 눌러 결과를 확인해 보세요.\n",
        "제출 버튼을 눌러 점수를 확인해 보세요.\n",
        "Tips\n",
        "insert()를 이용하면 리스트의 원하는 위치에 자료를 추가할 수 있어요.\n",
        "인덱스는 0부터 시작한다는 사실을 조심하세요!\n",
        "리스트에 원소 삽입하기"
      ],
      "metadata": {
        "id": "GdUcJAD3lICB"
      }
    },
    {
      "cell_type": "code",
      "source": [
        "line_up = [\"도마뱀\", \"홍학\", \"토끼\", \"고양이\"]\n",
        "\n",
        "# line_up의 \"도마뱀\"과 \"홍학\" 사이에 \"도도새\"를 넣어 보세요.\n",
        "\n",
        "\n",
        "# line_up을 출력하여 도도새가 새치기에 성공했는지 확인해 봅시다!\n",
        "print(line_up)\n"
      ],
      "metadata": {
        "id": "eIaMNDVLlD8V"
      },
      "execution_count": null,
      "outputs": []
    },
    {
      "cell_type": "code",
      "source": [
        "line_up = [\"도마뱀\", \"홍학\", \"토끼\", \"고양이\"]\n",
        "\n",
        "# line_up의  \"도마뱀\"과 \"홍학\" 사이에 \"도도새\"를 넣어봅시다.\n",
        "line_up.insert(1, \"도도새\")\n",
        "\n",
        "# line_up을 출력하여 도도새가 새치기에 성공했는지 알아봅시다.\n",
        "print(line_up)"
      ],
      "metadata": {
        "id": "OGuEnbHwlD47"
      },
      "execution_count": null,
      "outputs": []
    },
    {
      "cell_type": "markdown",
      "source": [
        "도도새 퇴치\n",
        "도도새의 새치기에 잔뜩 화가 난 홍학의 얼굴이 새빨개졌습니다. 하트 여왕이 심판을 내리는군요.\n",
        "\n",
        "반칙 금지! 도도새는 퇴장하라!\n",
        "\n",
        "하트 여왕의 명령에 따라 도도새를 퇴치해 보세요!\n",
        "\n",
        "\n",
        "이렇게 해봅시다!\n",
        "remove() 함수를 사용해 도도새를 제거하세요.\n",
        "도도새가 제거된 line_up 변수를 출력하세요.\n",
        "실행 버튼을 눌러 결과를 확인해 보세요.\n",
        "제출 버튼을 눌러 점수를 확인해 보세요.\n",
        "Tips\n",
        "remove()를 사용하면 리스트 안의 특정 원소를 제거할 수 있어요."
      ],
      "metadata": {
        "id": "KSIZqh6GlS-J"
      }
    },
    {
      "cell_type": "code",
      "source": [
        "line_up = [\"도마뱀\", \"도도새\", \"홍학\", \"토끼\"]\n",
        "\n",
        "# line_up에서 \"도도새\"를 없애 보세요.\n",
        "\n",
        "\n",
        "# line_up을 출력하여 도도새를 퇴치했는지 확인해 봅시다!\n",
        "print(line_up)\n"
      ],
      "metadata": {
        "id": "jjEtrwmwlD1h"
      },
      "execution_count": null,
      "outputs": []
    },
    {
      "cell_type": "code",
      "source": [
        "line_up = [\"도마뱀\", \"도도새\", \"홍학\", \"토끼\"]\n",
        "\n",
        "# line_up에서 \"도도새\"를 없애봅시다.\n",
        "line_up.remove(\"도도새\")\n",
        "\n",
        "# line_up을 출력하여 도도새를 퇴치했는지 확인해 보세요.\n",
        "print(line_up)"
      ],
      "metadata": {
        "id": "gVceJl_YlDx3"
      },
      "execution_count": null,
      "outputs": []
    },
    {
      "cell_type": "markdown",
      "source": [
        "사전순으로 줄 서기\n",
        "경기가 시작되기를 기다리고 있는데 변덕이 심한 하트여왕이 말합니다.\n",
        "\n",
        "사전순으로 줄을 서시오\n",
        "\n",
        "하트여왕의 명령에 따라 선착순으로 줄을 섰던 동물 친구들을 다시 정렬해 봅시다!\n",
        "\n",
        "\n",
        "이렇게 해봅시다!\n",
        "sort() 함수를 사용하면 리스트가 사전 순으로 정렬된답니다! sort()함수를 사용해 동물 친구들을 다시 줄 세워보세요.\n",
        "사전 순으로 정렬된 동물 친구들을 출력해 보세요.\n",
        "실행 버튼을 눌러 결과를 확인해 보세요.\n",
        "제출 버튼을 눌러 점수를 확인해 보세요.\n",
        "Tips\n",
        "sort()를 이용하면 리스트의 원소를 정렬할 수 있어요.\n",
        "\n",
        "숫자는 오름차순, 문자는 사전 순으로 정렬돼요!"
      ],
      "metadata": {
        "id": "a_p6s58wlc3C"
      }
    },
    {
      "cell_type": "code",
      "source": [
        "line_up = [\"도마뱀\", \"홍학\", \"토끼\"]\n",
        "\n",
        "# line_up을 사전순으로 정렬해 보세요.\n",
        "\n",
        "\n",
        "# line_up을 출력하여 정렬이 잘 되었나 확인해 봅시다!\n",
        "print(line_up)"
      ],
      "metadata": {
        "id": "mksYLPCLlDuV"
      },
      "execution_count": null,
      "outputs": []
    },
    {
      "cell_type": "code",
      "source": [
        "line_up = [\"도마뱀\", \"홍학\", \"토끼\"]\n",
        "\n",
        "# line_up을 사전순으로 정렬해 봅시다.\n",
        "line_up.sort()\n",
        "\n",
        "# line_up을 출력하여 정렬이 잘 되었나 확인해 보세요.\n",
        "print(line_up)"
      ],
      "metadata": {
        "id": "2kV5Fd3VlDqZ"
      },
      "execution_count": null,
      "outputs": []
    },
    {
      "cell_type": "markdown",
      "source": [
        "🎯 미션1 - 칙칙폭폭 기차놀이\n",
        "부산행 기차가 사람들을 태우고 출발하려 하고 있어요! 기차역에 설 때마다 승객들이 기차에 타거나 기차에서 내립니다. 리스트의 활용으로 차장님을 도와줍시다!\n",
        "\n",
        "\n",
        "이렇게 해봅시다!\n",
        "주석을 읽고 각 역에 정차할 때마다 주어지는 미션을 수행하는 코드를 그 아랫줄에 작성해 보세요.\n",
        "아래의 리스트의 활용 함수들을 적절히 사용해 보세요!\n",
        "리스트.remove()\n",
        "리스트.append()\n",
        "리스트.insert()\n",
        "리스트.sort()"
      ],
      "metadata": {
        "id": "FvoL4_7kll88"
      }
    },
    {
      "cell_type": "code",
      "source": [
        "# 기차에 3명의 승객이 타고 있어요.\n",
        "train = ['성진', '찬경', '준영']\n",
        "\n",
        "# 서울역: 승객 '주아'를 맨 뒷칸에 태워 주세요.\n",
        "\n",
        "\n",
        "print('서울역 도착.  // ', train)\n",
        "# 대전역: 1등석 승객 '동빈'을 맨 앞에 태워 주세요.\n",
        "\n",
        "\n",
        "print('대전역 도착. // ', train)\n",
        "# 동대구역: 승객 '성진'을 내려 주세요.\n",
        "\n",
        "\n",
        "print('동대구역 도착. // ', train)\n",
        "# 부산역: 마지막 역이니 사전순으로 정렬해 주세요.\n",
        "\n",
        "\n",
        "print('부산역 도착. // ', train)\n",
        "print('오늘도 빠르고 편안한 기차를 이용해 주셔서 감사합니다.')\n"
      ],
      "metadata": {
        "id": "zwYK4zjfloov"
      },
      "execution_count": null,
      "outputs": []
    },
    {
      "cell_type": "code",
      "source": [
        "# 기차에 3명의 승객이 타고 있어요\n",
        "train = ['성진', '찬경', '준영']\n",
        "\n",
        "# 서울역: 승객 '주아'를 맨 뒷칸에 태우세요\n",
        "train.append('주아')\n",
        "\n",
        "print('서울역 도착.  // ', train)\n",
        "# 대전역: 1등석 승객 '동빈'을 맨 앞에 태우세요\n",
        "train.insert(0, '동빈')\n",
        "\n",
        "print('대전역 도착. // ', train)\n",
        "# 동대구역: 승객 '성진'을 내려주세요\n",
        "train.remove('성진')\n",
        "\n",
        "print('동대구역 도착. // ', train)\n",
        "# 부산역: 마지막 역이니 사전순으로 정렬해 주세요\n",
        "train.sort()\n",
        "\n",
        "print('부산역 도착. // ', train)\n",
        "print('오늘도 빠르고 편안한 기차를 이용해 주셔서 감사합니다.')"
      ],
      "metadata": {
        "id": "P1u-DweKlo1y"
      },
      "execution_count": null,
      "outputs": []
    },
    {
      "cell_type": "markdown",
      "source": [
        "따라쟁이 앵무새\n",
        "입력은 컴퓨터에 정보를 전달해주는 것이에요. 우리가 입력을 통해서 컴퓨터에 ‘추가 정보’를 주면, 컴퓨터가 이를 가지고서 명령을 수행하게 됩니다.\n",
        "\n",
        "input과 print를 사용하여 입력받은 값을 그대로 출력하는 앵무새 프로그램을 만들어봅시다!\n",
        "\n",
        "\n",
        "이렇게 해봅시다!\n",
        "input() 함수를 사용해 입력한 값을 받아오는 코드를 작성합니다. 입력한 값은 변수 var에 저장해 주세요.\n",
        "실행 버튼을 누르세요.\n",
        "실행 결과창 아래의 터미널 입력값을 넣어주세요 부분에 자유롭게 하고 싶은 말을 자유롭게 적은 후 [Enter]를 누르세요.\n",
        "앵무새가 뭐라고 하나요?"
      ],
      "metadata": {
        "id": "GrjiGRPFlxt-"
      }
    },
    {
      "cell_type": "code",
      "source": [
        "# input()을 이용해서 사용자가 입력하는 값을 받아 이를 변수 var에 담아 보세요.\n",
        "var = None\n",
        "\n",
        "# 입력한 값이 잘 저장되었나 확인해 보세요. 아래 코드는 수정하지 않아도 돼요.\n",
        "print(\"앵무새 :\", var)\n",
        "\n",
        "# 입력한 값이 어떤 자료형인지 확인해 보세요. 아래 코드는 수정하지 않아도 돼요.\n",
        "print(type(var))\n"
      ],
      "metadata": {
        "id": "WpQXvqvtloxA"
      },
      "execution_count": null,
      "outputs": []
    },
    {
      "cell_type": "code",
      "source": [
        "# input()을 이용해서 입력을 넣고, 이를 변수 var에 담아봅시다.\n",
        "var=input()\n",
        "\n",
        "# 앵무새가 말을 따라합니다!\n",
        "print(\"앵무새 :\", var)\n",
        "\n",
        "# 입력한 값이 어떤 자료형인지 확인해봅시다.\n",
        "print(type(var))"
      ],
      "metadata": {
        "id": "axCc7tYPlosk"
      },
      "execution_count": null,
      "outputs": []
    },
    {
      "cell_type": "markdown",
      "source": [
        "두 배로 주는 홍학\n",
        "코더랜드 E은행의 은행원 홍학은 남들보다 두 배로 열심히 일합니다. 두 배로 열심히 일하는 홍학에게 돈을 맡기면 일 년 후에 정확히 두 배의 금액을 돌려준다고 합니다. 와우!\n",
        "\n",
        "홍학에게 맡길 금액을 입력했을 때 일 년 후 받을 수 있는 돈을 출력해주는 코드를 작성해봅시다.\n",
        "\n",
        "\n",
        "이렇게 해봅시다!\n",
        "변수 money를 선언한 후, 사용자 입력을 받도록 코드를 작성해 보세요.\n",
        "입력받은 값을 정수로 형변환해 주세요.\n",
        "금액이 2배가 되도록 계산식을 작성해 보세요.\n",
        "money를 출력해 보세요.\n",
        "실행 버튼을 눌러 결과를 확인해 보세요.\n",
        "제출 버튼을 눌러 점수를 확인해 보세요.\n",
        "Tips\n",
        "input()은 입력받은 값을 문자열로 인식하기 때문에 형변환을 해야 해요!"
      ],
      "metadata": {
        "id": "FC97cwS2l78E"
      }
    },
    {
      "cell_type": "code",
      "source": [
        "# 변수 money에 input을 이용해서 입력을 받아 보세요.\n",
        "\n",
        "\n",
        "# money를 int형으로 변환해서, 다시 money에 넣어 주세요.\n",
        "\n",
        "\n",
        "# money를 2배 불려서 print로 출력해 보세요.\n",
        "\n"
      ],
      "metadata": {
        "id": "mHOK_-LllDl5"
      },
      "execution_count": null,
      "outputs": []
    },
    {
      "cell_type": "code",
      "source": [
        "#변수 money에 input을 이용해서 입력을 받아봅시다.\n",
        "\n",
        "money=input()\n",
        "# money를 int형으로 변환해서, 다시 money에 넣어줍시다.\n",
        "money=int(money)\n",
        "\n",
        "# money를 2배 불려서 print로 출력해봅시다.\n",
        "money = money*2\n",
        "print(money)"
      ],
      "metadata": {
        "id": "uUdD_ffyl_Ca"
      },
      "execution_count": null,
      "outputs": []
    },
    {
      "cell_type": "markdown",
      "source": [
        "줄지 않는 쿠키\n",
        "엘리스 토끼가 쿠키 상자를 발견했어요. 5개를 집어 먹었는데, 이게 웬일일까요! 쿠키 5개가 그대로 남아 있군요!\n",
        "\n",
        "파이썬의 if문을 이용해서 먹은 쿠키의 개수만큼 다시 쿠키가 생기는 상자를 만들어 봐요.\n",
        "\n",
        "입력값으로 음수가 입력되면 양수로 바꿔서 출력해주는 코드를 만들어 주세요.\n",
        "\n",
        "\n",
        "이렇게 해봅시다!\n",
        "쿠키의 갯수를 입력받는 코드가 작성되어 있어요. 코드의 의미를 잘 살펴보세요.\n",
        "7번째 줄의 코드를 수정하여 조건을 추가해 주세요.\n",
        "실행 버튼을 눌러 터미널 입력 칸에 먹은 쿠키의 개수를 음수값으로 입력하고 [Enter]를 눌러 보세요. 5개 먹었다면 -5라고 입력하면 돼요.\n",
        "제출 버튼을 눌러 점수를 확인해 보세요.\n",
        "Tips\n",
        "새로 생긴 쿠키의 개수는 먹은 개수만큼 생겨야 해요!\n",
        "만약 -5를 입력한다면, 새로 생긴 쿠키의 개수는 5개가 되겠죠?"
      ],
      "metadata": {
        "id": "-aDI0gtsmHl2"
      }
    },
    {
      "cell_type": "code",
      "source": [
        "# input()으로 숫자를 입력받아 변수 cookie에 저장해요.\n",
        "cookie = int(input())\n",
        "\n",
        "new_cookie = cookie\n",
        "# 아래 ? 부분에 조건문을 작성하여 코드를 완성해 주세요.\n",
        "# 쿠키의 개수가 음수라면 양수로 바꿀 수 있도록 조건문을 수정해 주세요.\n",
        "if ? :\n",
        "    new_cookie = cookie * -1 # 음수를 양수로 바꿔요.\n",
        "\n",
        "# cookie의 개수가 몇 개인지 확인해 보세요.\n",
        "print('새로 생킨 쿠키의 개수 :', new_cookie)"
      ],
      "metadata": {
        "id": "-iSGx2LXl--y"
      },
      "execution_count": null,
      "outputs": []
    },
    {
      "cell_type": "code",
      "source": [
        "# 변수 cookie를 선언하고, input()을 이용해서 먹은 쿠키의 개수를 입력받습니다.\n",
        "cookie = int(input())\n",
        "\n",
        "# if문을 이용해서 cookie가 음수면 -1을 곱해 다시 cookie에 저장해 봅시다.\n",
        "new_cookie = 0\n",
        "if cookie < 0:\n",
        "    new_cookie = cookie*-1\n",
        "\n",
        "# cookie의 개수가 몇 개인지 출력합니다.\n",
        "print('새로 생킨 쿠키의 개수 :', new_cookie)"
      ],
      "metadata": {
        "id": "NQFTF3_hl-7g"
      },
      "execution_count": null,
      "outputs": []
    },
    {
      "cell_type": "markdown",
      "source": [
        "홀짝 판별기\n",
        "엘리스 토끼가 도도새와 함께 홀짝 게임을 하고 있어요!\n",
        "\n",
        "홀짝 게임은 주먹으로 동전을 집었을 때, 주먹에 있는 동전의 개수가 홀수인지, 짝수인지 맞히는 게임이에요.\n",
        "\n",
        "if-else문을 이용해서 어떤 수를 입력했을 때 이 수가 홀수인지 짝수인지 판별하는 프로그램을 만들어 봅시다.\n",
        "\n",
        "\n",
        "이렇게 해봅시다!\n",
        "홀수, 짝수를 판단하는 조건문은 작성되어 있어요. 오른쪽의 코드가 어떤 의미인지 선생님과 이야기해 보세요.\n",
        "\n",
        "짝수인 경우에는 “짝수입니다.”를 출력해요.\n",
        "짝수인 경우에 실행할 동작을 작성해 보세요.\n",
        "\n",
        "홀수인 경우에는 “홀수입니다.”를 출력해요.\n",
        "홀수인 경우에 실행할 동작을 작성해 보세요.\n",
        "\n"
      ],
      "metadata": {
        "id": "BCVMqswEmRVe"
      }
    },
    {
      "cell_type": "code",
      "source": [
        "# 변수 num에 사용자로부터 입력받은 수가 저장돼요.\n",
        "num = int(input())\n",
        "\n",
        "# 조건이 참인 경우(짝수), 거짓인 경우(홀수)에 따라 적절한 실행 동작을 작성해 주세요.\n",
        "if num % 2 == 0 : # 짝수인 경우\n",
        "\n",
        "else : # 홀수인 경우\n"
      ],
      "metadata": {
        "id": "HY3S9Ocil-4B"
      },
      "execution_count": null,
      "outputs": []
    },
    {
      "cell_type": "code",
      "source": [
        "# 변수 num에 사용자로부터 입력받은 수가 저장돼요.\n",
        "num = int(input())\n",
        "\n",
        "# 조건이 참인 경우(짝수), 거짓인 경우(홀수)에 따라 적절한 실행 동작을 작성해 주세요.\n",
        "if num % 2 == 0 : # 짝수인 경우\n",
        "    print(\"짝수입니다.\")\n",
        "else : # 홀수인 경우\n",
        "    print(\"홀수입니다.\")"
      ],
      "metadata": {
        "id": "VZnIJ5XOl-0M"
      },
      "execution_count": null,
      "outputs": []
    },
    {
      "cell_type": "markdown",
      "source": [
        "업-다운 게임\n",
        "토끼와 거북이가 업-다운 게임을 하고 있어요! 업다운 게임은 한 사람이 어떤 수를 생각하고, 다른 사람이 그 수를 알아맞히는 게임이에요. 알아맞히는 사람이 어떤 수를 말하면 숫자를 생각한 사람은 생각한 숫자보다 큰지 작은지 답변해야 해요.\n",
        "\n",
        "if-elif-else문을 이용해서 업-다운 게임을 만들어 봅시다.\n",
        "\n",
        "\n",
        "이렇게 해봅시다!\n",
        "if-elif-else 문을 이용해서 submit이 answer보다 큰 경우, 작은 경우, 같은 경우에 각각 주어진 메시지를 출력해 보세요.\n",
        "실행 버튼을 누른 후 임의의 수를 입력한 뒤 [Enter]를 눌러봅시다. 내가 짠 코드대로 출력 결과가 달라지는지 여러 번 실행해 보면서 확인해 보세요"
      ],
      "metadata": {
        "id": "WO8Uy1jHmW46"
      }
    },
    {
      "cell_type": "code",
      "source": [
        "from random import randint\n",
        "\n",
        "# 1~100 사이의 숫자가 랜덤으로 정답 숫자로 저장되요.\n",
        "answer = randint(1, 100)\n",
        "\n",
        "# input()으로 숫자를 입력 받아 변수 submit에 저장해 보세요.\n",
        "submit = int(input())\n",
        "\n",
        "# if-elif-else문으로 Up-Down Game을 구현해 보세요.\n",
        "# 만약 answer보다 submit이 더 크면 \"정답보다 큰 수를 입력했습니다.\"를,\n",
        "# answer보다 submit이 더 작으면 \"정답보다 작은 수를 입력했습니다.\"를,\n",
        "# answer와 submit이 같으면 \"정답!\"을 출력해 보세요.\n",
        "\n",
        "\n"
      ],
      "metadata": {
        "id": "Tupo2k8Vl-wu"
      },
      "execution_count": null,
      "outputs": []
    },
    {
      "cell_type": "markdown",
      "source": [
        "[학습활동]\n",
        "\n",
        "문제 조건을 확인한 후 조건문 작성하기\n",
        "\n",
        "조건1 : answer > submit\n",
        "조건2 : answer < submit\n",
        "조건3 : answer == submit\n",
        "각 조건문 별 기능 작성하기\n",
        "\n",
        "기능 작성 시, 콜론과 들여쓰기를 모두 잘 수행했는지 확인 필요\n",
        "이 실습은 2가지 방법으로 조건문을 구상할 수 있습니다.\n",
        "\n",
        "[방법1] if-elif-else 사용\n",
        "\n",
        "[방법2] if-elif-elif 사용\n",
        "📌 Tips\n",
        "\n",
        "게임의 난이도를 조절하기 위해서는 4번째 줄의 숫자를 적절히 조절해 보세요.\n",
        "1~10 사이 숫자 선택 : randint(1, 10)\n",
        "5~10 사이 숫자 선택 : randint(5, 10)\n",
        "answer값과 submit값을 출력하여 업다운 게임의 결과가 적절한지 확인해 보세요.\n",
        "print(\"answer :\", answer, \"  submit :\", submit)"
      ],
      "metadata": {
        "id": "HxJWnVdlmjjE"
      }
    },
    {
      "cell_type": "markdown",
      "source": [
        "열 마리 코끼리가 거미줄에 걸렸네\n",
        "코끼리들이 거미줄 그네를 타려고 줄을 서 있습니다!\n",
        "무거운 코끼리들 모두 일일이 그네 태우려면 너무 힘들겠군요.\n",
        "for문을 이용하여 빠르게 그네를 태워보세요.\n",
        "\n",
        "아래 주어진 for문을 따라서 써보면서 for문의 작동 원리를 익혀봅시다.\n",
        "\n",
        "nums = [1,2,3,4,5,6,7,8,9,10]\n",
        "for i in nums:\n",
        "    print(i,\"번째 코끼리가 거미줄에 걸렸네♪\")"
      ],
      "metadata": {
        "id": "7dod845PmpRq"
      }
    },
    {
      "cell_type": "code",
      "source": [
        "# 왼쪽에 주어진 for문의 예시를 그대로 따라 적어 보세요.\n",
        "# 예시를 적으며 질문에 답해 보세요!"
      ],
      "metadata": {
        "id": "UJsK93RUmieK"
      },
      "execution_count": null,
      "outputs": []
    },
    {
      "cell_type": "code",
      "source": [
        "nums = [1,2,3,4,5,6,7,8,9,10]\n",
        "for i in nums:\n",
        "    print(i,\"번째 코끼리가 거미줄에 걸렸네♪\")"
      ],
      "metadata": {
        "id": "t-kYhOjImtuM"
      },
      "execution_count": null,
      "outputs": []
    },
    {
      "cell_type": "markdown",
      "source": [
        "꼭꼭 숨어라\n",
        "코더랜드 동물 친구들이 숨바꼭질하고 있네요. 술래가 된 체셔가 외칩니다.\n",
        "\n",
        "100까지 센 다음 찾는다~!\n",
        "\n",
        "꾀쟁이 체셔는 반복문을 이용해서 100까지 한 번에 다 세 버린 다음 동물 친구들이 미처 숨기도 전에 찾으러 갈 속셈입니다.\n",
        "100까지 세는 반복문을 작성해 보세요.\n",
        "\n",
        "\n",
        "이렇게 해봅시다!\n",
        "for문을 사용하여 1부터 100까지 한 줄에 하나씩 출력해 보세요.\n",
        "range(a, b)에서 b에 들어갈 숫자에 유의하며 코딩해 봅시다."
      ],
      "metadata": {
        "id": "iUZa32uUm0hz"
      }
    },
    {
      "cell_type": "code",
      "source": [
        "# 반복문을 이용하여 1부터 100까지 한 줄에 하나씩 출력하는 코드를 작성해 보세요.\n",
        "\n"
      ],
      "metadata": {
        "id": "afEChcivmtq0"
      },
      "execution_count": null,
      "outputs": []
    },
    {
      "cell_type": "code",
      "source": [
        "for i in range(1, 101):\n",
        "    print(i)"
      ],
      "metadata": {
        "id": "qHaq-c_mmtna"
      },
      "execution_count": null,
      "outputs": []
    },
    {
      "cell_type": "markdown",
      "source": [
        "We Love Python\n",
        "range()를 이용해 아래와 같이 작성하면 “안녕!”을 5번 출력합니다.\n",
        "\n",
        "for i in range(5) :\n",
        "    print(\"안녕!\")\n",
        "Copy\n",
        "“We Love Python”을 한 줄에 하나씩 10번 출력하는 코드를 작성해 보세요.\n",
        "\n",
        "\n",
        "이렇게 해봅시다!\n",
        "range() 함수를 사용하여 문자열을 10번 반복해서 출력해 보세요."
      ],
      "metadata": {
        "id": "Sbzo2MuWm8Wf"
      }
    },
    {
      "cell_type": "code",
      "source": [
        "# 문자열 \"We Love Python\"을 한 줄에 하나씩 10번 출력하는 코드를 작성해 보세요.\n",
        "\n",
        "\n"
      ],
      "metadata": {
        "id": "-fKoAquEmtkC"
      },
      "execution_count": null,
      "outputs": []
    },
    {
      "cell_type": "code",
      "source": [
        "for i in range(1, 11) :\n",
        "    print(\"We Love Python\")"
      ],
      "metadata": {
        "id": "2zdI9Srdmtga"
      },
      "execution_count": null,
      "outputs": []
    },
    {
      "cell_type": "code",
      "source": [
        "for i in range(10) :\n",
        "    print(\"We Love Python\")"
      ],
      "metadata": {
        "id": "TKdDbqW4nBLr"
      },
      "execution_count": null,
      "outputs": []
    },
    {
      "cell_type": "markdown",
      "source": [
        "카운트 다운\n",
        "어느덧 12/31일이 끝나갑니다. 새해를 맞이하며 다 같이 카운트 다운을 해봐요!\n",
        "\n",
        "10, 9, 8, …, 1 연속된 숫자를 10부터 1까지 거꾸로 차례대로 출력하려면 어떻게 해야 할까요? while 문을 활용하여 코드를 작성해 보세요.\n",
        "\n",
        "\n",
        "이렇게 해봅시다!\n",
        "while 문을 사용해 숫자를 거꾸로 출력해봅시다. i의 값이 얼마가 되어야 반복을 멈출지 고민해 보세요.\n",
        "i에서 1씩 빼면서 조건이 거짓이 될때까지 반복하도록 변수를 수정하는 명령을 작성해 보세요. (i = i - 1)"
      ],
      "metadata": {
        "id": "atm4Q6wjnHBD"
      }
    },
    {
      "cell_type": "code",
      "source": [
        "i = 10\n",
        "\n",
        "# while문을 사용해 10부터 1까지의 연속된 숫자를 거꾸로 출력하는 코드를 작성해 보세요.\n"
      ],
      "metadata": {
        "id": "ApiditrWnBIB"
      },
      "execution_count": null,
      "outputs": []
    },
    {
      "cell_type": "code",
      "source": [
        "# 반복문에서는 특히나 반복 코드의 순서가 중요하다는 것을 설명해주세요.\n",
        "while i > 0:\n",
        "    print(i)\n",
        "    i = i - 1"
      ],
      "metadata": {
        "id": "QeUdgBm7nBEl"
      },
      "execution_count": null,
      "outputs": []
    },
    {
      "cell_type": "code",
      "source": [
        "i = 10\n",
        "\n",
        "# while문을 사용해 10부터 1까지의 연속된 숫자를 거꾸로 출력하는 코드를 작성합니다.\n",
        "while i > 0:\n",
        "    print(i)\n",
        "    i = i - 1"
      ],
      "metadata": {
        "id": "dA563cxinBBL"
      },
      "execution_count": null,
      "outputs": []
    },
    {
      "cell_type": "markdown",
      "source": [
        "10년 형에 처한다\n",
        "이곳은 코딩 법정. 당신의 죄목은 파이썬 태만죄. 다른 일을 핑계로 파이썬을 소홀히 한 죄입니다. 파이썬의 창시자 귀도 반 로섬 판사님께서 당신에게 판결을 내리는군요!\n",
        "\n",
        "익숙함에 속아 소중한 것을 잃어버리다니, 딱하다! 징역 10년 형에 처한다!\n",
        "\n",
        "while문을 이용해서 10년 형을 살고, 새사람이 되어 나와봅시다! 아래와 같은 출력 결과가 나오도록 while문을 작성해 보세요.\n",
        "\n",
        "\n",
        "이렇게 해봅시다!\n",
        "출력 결과에서 반복되는 부분을 확인하고, while 문을 사용해 명령을 작성하세요.\n",
        "조건이 변화하는 부분을 확인하고, 변수 i를 수정하는 명령을 작성해 보세요.\n",
        "반복문이 종료된 후, “감옥에서 석방되었습니다!”를 출력해 보세요."
      ],
      "metadata": {
        "id": "kF64O8HLnQ5T"
      }
    },
    {
      "cell_type": "code",
      "source": [
        "#while을 이용해서 \"i년째 수감 중입니다.\"를 출력해 보세요.\n",
        "#while문이 종료된 후에는, \"감옥에서 석방되었습니다!\"를 출력해 보세요.\n",
        "i = 1\n",
        "\n"
      ],
      "metadata": {
        "id": "wn3oUFe0nA9p"
      },
      "execution_count": null,
      "outputs": []
    },
    {
      "cell_type": "code",
      "source": [
        "i = 1\n",
        "\n",
        "# while문의 조건 설정을 헷갈려하는 학생들이 많습니다.\n",
        "# \"조건이 참일 때 반복한다.\"는 사실을 숙지할 수 있도록 잘 설명해주세요.\n",
        "while i > 10:\n",
        "    print(i, \"년째 수감 중입니다.\")\n",
        "    i += 1\n",
        "print(\"감옥에서 석방되었습니다!\")"
      ],
      "metadata": {
        "id": "IHfXuWJGnA59"
      },
      "execution_count": null,
      "outputs": []
    },
    {
      "cell_type": "code",
      "source": [
        "#while을 이용해서 \"i년째 수감 중입니다.\"를 출력해 봅시다.\n",
        "#while문이 종료된 후에는, \"감옥에서 석방되었습니다!\"를 출력해 봅시다.\n",
        "i = 1\n",
        "\n",
        "while i <= 10:\n",
        "    print(i, \"년째 수감 중입니다.\")\n",
        "    i += 1\n",
        "print(\"감옥에서 석방되었습니다!\")"
      ],
      "metadata": {
        "id": "bHJsuqlJnAvr"
      },
      "execution_count": null,
      "outputs": []
    },
    {
      "cell_type": "markdown",
      "source": [
        "도도새의 적금 타기\n",
        "도도새가 코더랜드 은행에 12개월 동안 매월 만 원씩 적금을 부었습니다. 코더랜드 은행에서 만든 적금 break 문을 따라서 써보면서 break 문의 작동 원리를 익혀 봅시다. 코드의 순서에 유의하며 따라서 써 보세요.\n",
        "\n",
        "i = 1\n",
        "while True :\n",
        "    print(i, \"월 만원을 입금했습니다.\")\n",
        "    if i == 12:\n",
        "        print(\"입금 완료! 12만원을 수령하세요!\")\n",
        "        break\n",
        "    i = i + 1\n",
        "Copy\n",
        "\n",
        "이렇게 해봅시다!\n",
        "아래 질문의 답을 생각하면서 코드를 따라 적고 실행해 보세요.\n",
        "\n",
        "작성한 코드는 어떤 작업을 하는 코드인가요?\n",
        "while 문의 조건에 True가 들어갔습니다. 이는 어떤 의미일까요?\n",
        "i = i + 1을 해준 이유는?\n",
        "print(i)와 if문(4~6번째 줄)의 위치를 바꾸면 어떻게 될까요? 바꿔보고 실행 결과가 어떻게 달라지는지 확인해 보세요.\n",
        "break는 실행되는 즉시 반복문을 탈출하기 때문에, 보통 조건문과 함께 사용됩니다.\n",
        "들여쓰기에 주의하세요! 들여쓰기를 어떻게 하느냐에 따라 실행 결과가 달라질 수 있어요."
      ],
      "metadata": {
        "id": "FDfdAAZlnba2"
      }
    },
    {
      "cell_type": "code",
      "source": [
        "# 왼쪽에 주어진 break문 코드의 예시를 그대로 따라 적어 보세요.\n",
        "# 코드를 적으며 질문에 답해 보세요.\n"
      ],
      "metadata": {
        "id": "UJJKIfE8nb3W"
      },
      "execution_count": null,
      "outputs": []
    },
    {
      "cell_type": "code",
      "source": [
        "i = 1\n",
        "while True :\n",
        "    print(i, \"월 만원을 입금했습니다.\")\n",
        "    if i == 12:\n",
        "        print(\"입금 완료! 12만원을 수령하세요!\")\n",
        "        break\n",
        "    i = i + 1"
      ],
      "metadata": {
        "id": "DxZvcxgcncYS"
      },
      "execution_count": null,
      "outputs": []
    },
    {
      "cell_type": "markdown",
      "source": [
        "위기탈출 넘버원\n",
        "도도새가 1부터 10까지 더하고 출력하는 코딩 실습을 하고 있습니다.\n",
        "\n",
        "앗! 그런데 큰일 났어요! [실행] 버튼을 누르는 순간 의도치 않게도 수없이 많은 코드가 멈추지 않고 계속 출력되고 있네요!\n",
        "\n",
        "하지만 괜찮아요. 우리의 소중한 코드를 무한루프로부터 지켜주는 break가 있으니까요!\n",
        "\n",
        "도도새가 쓴 코드를 보고 코드의 잘못된 부분을 찾아 고쳐 주세요!"
      ],
      "metadata": {
        "id": "pbbFf0DUnj2y"
      }
    },
    {
      "cell_type": "code",
      "source": [
        "# 다음은 while True:를 이용하여 도도새가 짠 코드입니다.\n",
        "i = 1\n",
        "ans = 0\n",
        "while True:\n",
        "    ans = ans + i\n",
        "\n",
        "\n",
        "print(ans)\n",
        "# 위 코드에서 잘못된 점을 찾아서 고쳐 주세요!\n",
        "# 단, while True: 부분은 수정하면 안됩니다."
      ],
      "metadata": {
        "id": "k2cTsYeMncU-"
      },
      "execution_count": null,
      "outputs": []
    },
    {
      "cell_type": "code",
      "source": [
        "# 다음은 while True:를 이용하여 도도새가 짠 코드입니다.\n",
        "i = 1\n",
        "ans = 0\n",
        "while True:\n",
        "    ans = ans + i\n",
        "    i+=1\n",
        "    if i>10:\n",
        "        break\n",
        "\n",
        "\n",
        "print(ans)\n",
        "# 위 코드에서 잘못된 점을 찾아서 고쳐줍시다!\n",
        "# 단, while True: 부분은 수정하면 안됩니다."
      ],
      "metadata": {
        "id": "XqXyeTPbncRa"
      },
      "execution_count": null,
      "outputs": []
    },
    {
      "cell_type": "code",
      "source": [],
      "metadata": {
        "id": "V0t9rDj3ncNi"
      },
      "execution_count": null,
      "outputs": []
    },
    {
      "cell_type": "code",
      "source": [],
      "metadata": {
        "id": "gHVHCi-DncI6"
      },
      "execution_count": null,
      "outputs": []
    }
  ]
}