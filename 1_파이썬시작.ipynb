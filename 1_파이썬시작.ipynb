{
  "nbformat": 4,
  "nbformat_minor": 0,
  "metadata": {
    "colab": {
      "provenance": [],
      "toc_visible": true,
      "authorship_tag": "ABX9TyMAAKMoaGZNZuXcx1e54kT/",
      "include_colab_link": true
    },
    "kernelspec": {
      "name": "python3",
      "display_name": "Python 3"
    },
    "language_info": {
      "name": "python"
    }
  },
  "cells": [
    {
      "cell_type": "markdown",
      "metadata": {
        "id": "view-in-github",
        "colab_type": "text"
      },
      "source": [
        "<a href=\"https://colab.research.google.com/github/yleessam/start/blob/main/1_%ED%8C%8C%EC%9D%B4%EC%8D%AC%EC%8B%9C%EC%9E%91.ipynb\" target=\"_parent\"><img src=\"https://colab.research.google.com/assets/colab-badge.svg\" alt=\"Open In Colab\"/></a>"
      ]
    },
    {
      "cell_type": "markdown",
      "source": [
        "# 표준출력\n",
        "\n",
        ">  print(‘출력할 문자열＇)\n",
        "\n",
        "* 입력한 메세지나 값을 출력함 - 문자, 숫자\n",
        "* 작은 따옴표(‘ ‘)안의 내용을 화면에 출력, 작은 따옴표(‘) 대신 큰 따옴표(“)를 사용해도 된다.  \n",
        "ex) print(“출력문자열”)\n",
        "\n",
        "* 큰 따옴표(“)와 작은 따옴표(‘)를 혼용 불가  ex) print(“출력문자열’)\n",
        "\n"
      ],
      "metadata": {
        "id": "2DLYNbSfnMt-"
      }
    },
    {
      "cell_type": "code",
      "execution_count": 1,
      "metadata": {
        "id": "O307J4oZkHbb",
        "colab": {
          "base_uri": "https://localhost:8080/"
        },
        "outputId": "79549297-e9dd-4e7f-d6d0-a2da4f039875"
      },
      "outputs": [
        {
          "output_type": "stream",
          "name": "stdout",
          "text": [
            "바 : 바밤바는\n",
            "밤 : 밤이 들어간\n",
            "바 : 바이다.\n"
          ]
        }
      ],
      "source": [
        "print(\"바 : 바밤바는\")\n",
        "print(\"밤 : 밤이 들어간\")\n",
        "print(\"바 : 바이다.\")"
      ]
    },
    {
      "cell_type": "code",
      "source": [
        "# 아래 줄에 내 이름으로 삼행시를 지어 보세요.\n"
      ],
      "metadata": {
        "id": "1wu3TvfdkMB6"
      },
      "execution_count": null,
      "outputs": []
    },
    {
      "cell_type": "code",
      "source": [
        "# 괄호 안에 내 나이를 입력해 보세요.\n",
        "print(12)\n",
        "\n",
        "# 괄호 안에 내 이름을 입력해 보세요.\n",
        "print(\"YLee\")\n",
        "\n",
        "# 괄호 안에 내 나이와 내 이름이 담긴 리스트를 입력해 보세요.\n",
        "print([12, \"Elice\"])"
      ],
      "metadata": {
        "id": "Mrb5ixN9kPwS",
        "colab": {
          "base_uri": "https://localhost:8080/"
        },
        "outputId": "34a94298-aeca-4937-ed53-76fb98139b77"
      },
      "execution_count": 2,
      "outputs": [
        {
          "output_type": "stream",
          "name": "stdout",
          "text": [
            "12\n",
            "YLee\n",
            "[12, 'Elice']\n"
          ]
        }
      ]
    },
    {
      "cell_type": "code",
      "source": [
        "# 괄호 안에 내 나이를 입력해 보세요.\n",
        "print()\n",
        "\n",
        "# 괄호 안에 내 이름을 입력해 보세요.\n",
        "print()\n",
        "\n",
        "# 괄호 안에 내 나이와 내 이름이 담긴 리스트를 입력해 보세요.\n",
        "print()\n"
      ],
      "metadata": {
        "id": "yfj6alI9kRPq"
      },
      "execution_count": null,
      "outputs": []
    },
    {
      "cell_type": "markdown",
      "source": [
        "# 변수\n",
        "\n",
        "* 프로그램을 실행하는데 필요한 정보를 저장하는 메모리 공간   \n",
        "* 숫자, 문자열 저장(문자열 지정 시에서는 따옴표(“or”)로 구분)   \n",
        "* 변수에 값을 대입할 때 변수가 선언되며 데이터 타입도 결정 됨   \n",
        "\n",
        "```\n",
        "# 코드로 형식 지정됨\n",
        "변수이름 = 값 ( 값을 변수에 할당합니다.)\n",
        "```\n",
        "\n"
      ],
      "metadata": {
        "id": "ffjr1RgTqiXe"
      }
    },
    {
      "cell_type": "markdown",
      "source": [
        "## 변수의 규칙\n",
        "\n",
        "1. 대·소문자를 구분한다\n",
        "* myVar와 MyVar는 다른 변수\n",
        "* 문자, 숫자, 언더바(_)를 포함할 수 있다. 하지만 숫자로 시작하면 안 된다\n",
        "> var2   \n",
        "> _var   \n",
        "> var_2   \n",
        "> 2Var   \n",
        "\n",
        "* 예약어는 변수명으로 사용불가\n",
        "* 한글 사용 가능\n",
        "\n",
        "\n"
      ],
      "metadata": {
        "id": "3vUOWVCQsb3D"
      }
    },
    {
      "cell_type": "code",
      "source": [
        "# 변수에는 정수, 실수 같은 숫자를 저장할 수 있어요.\n",
        "num1 = 1\n",
        "num2 = 2\n",
        "\n",
        "# 영어나 한글 같은 문자도 저장할 수 있어요.\n",
        "character = 'a'\n",
        "\n",
        "# 이런 문자들의 집합도 저장할 수 있고,\n",
        "string = 'Python'\n",
        "\n",
        "# 리스트 또한 저장할 수 있어요.\n",
        "my_list = [1, 'a', 'Python']"
      ],
      "metadata": {
        "id": "QOn64iTFqbNh"
      },
      "execution_count": 3,
      "outputs": []
    },
    {
      "cell_type": "code",
      "source": [
        "# 나만의 변수를 만들어 봅시다.\n",
        "# my_var라는 이름의 변수를 만들고, 원하는 값을 넣어 보세요.\n",
        "\n",
        "\n",
        "# 만든 변수를 print()의 괄호 안에 넣을 수도 있어요.\n",
        "# my_var를 print()로 출력해서 값이 잘 들어갔는지 확인해 봅시다!\n"
      ],
      "metadata": {
        "id": "l8gYEFNlkRL-"
      },
      "execution_count": null,
      "outputs": []
    },
    {
      "cell_type": "code",
      "source": [
        "# 변수끼리는 연산 또한 가능합니다. 예를들어, 위에 있는 num1, num2을 더하면?!\n",
        "print(num1+num2)"
      ],
      "metadata": {
        "id": "pqJY8Sn4kRIQ",
        "colab": {
          "base_uri": "https://localhost:8080/"
        },
        "outputId": "e52f6392-937c-4e6c-bc3e-0092253be86c"
      },
      "execution_count": 4,
      "outputs": [
        {
          "output_type": "stream",
          "name": "stdout",
          "text": [
            "3\n"
          ]
        }
      ]
    },
    {
      "cell_type": "markdown",
      "source": [
        "##  신기한 변수\n",
        "\n",
        "1. 한 번에 여러 변수를 선언할 수 있다."
      ],
      "metadata": {
        "id": "l5w8cx68-n_m"
      }
    },
    {
      "cell_type": "code",
      "source": [
        "x, y, z = \"Apple\", \"Banana\", \"Carrot\"\n",
        "x,y,z"
      ],
      "metadata": {
        "colab": {
          "base_uri": "https://localhost:8080/"
        },
        "id": "f-Axq02a-wna",
        "outputId": "9ae99331-fd07-453c-956f-020513e8b52b"
      },
      "execution_count": 27,
      "outputs": [
        {
          "output_type": "execute_result",
          "data": {
            "text/plain": [
              "('Apple', 'Banana', 'Carrot')"
            ]
          },
          "metadata": {},
          "execution_count": 27
        }
      ]
    },
    {
      "cell_type": "markdown",
      "source": [
        " 2. 하나의 값을 여러 변수에 담을 수 있다."
      ],
      "metadata": {
        "id": "v2At1NdD-z6w"
      }
    },
    {
      "cell_type": "code",
      "source": [
        "x = y = z = \"Dog\"\n",
        "x, y, z"
      ],
      "metadata": {
        "colab": {
          "base_uri": "https://localhost:8080/"
        },
        "id": "qwgPaYZU_H59",
        "outputId": "edb4335e-9ef9-47ec-9a07-3fb64cc028db"
      },
      "execution_count": 28,
      "outputs": [
        {
          "output_type": "execute_result",
          "data": {
            "text/plain": [
              "('Dog', 'Dog', 'Dog')"
            ]
          },
          "metadata": {},
          "execution_count": 28
        }
      ]
    },
    {
      "cell_type": "markdown",
      "source": [
        "# 기본 자료형\n",
        "프로그램에서 사용되는 값들의 형태를 “자료형(data type)”이라고 함\n",
        "\n",
        "```\n",
        "type( 데이터 ) # 데이터의 자료형 확인\n",
        "```"
      ],
      "metadata": {
        "id": "lBQRFCTlGpj0"
      }
    },
    {
      "cell_type": "code",
      "source": [
        "type(num1)"
      ],
      "metadata": {
        "colab": {
          "base_uri": "https://localhost:8080/"
        },
        "id": "-X9mv2Q0HcaZ",
        "outputId": "f8bebf86-7ef3-4154-9e6b-51755e6c248f"
      },
      "execution_count": 5,
      "outputs": [
        {
          "output_type": "execute_result",
          "data": {
            "text/plain": [
              "int"
            ]
          },
          "metadata": {},
          "execution_count": 5
        }
      ]
    },
    {
      "cell_type": "code",
      "source": [
        "#위에서 만든 변수들의 자료형을 type()으로 확인해 보세요\n",
        "\n"
      ],
      "metadata": {
        "id": "p2w2ygXiHkeF"
      },
      "execution_count": null,
      "outputs": []
    },
    {
      "cell_type": "markdown",
      "source": [
        "##1. 숫자형\n",
        "\n",
        "* 숫자 형태로 이루어진 자료형\n",
        "* 정수, 실수, 8진수 16진수\n",
        "\n"
      ],
      "metadata": {
        "id": "GDW8v8dYw0Wi"
      }
    },
    {
      "cell_type": "code",
      "source": [
        "num1 = 10\n",
        "num2 = 10.5\n",
        "\n",
        "num1+num2"
      ],
      "metadata": {
        "colab": {
          "base_uri": "https://localhost:8080/"
        },
        "id": "e-IgxY4ZJFSG",
        "outputId": "9af93794-0234-4767-9574-1e157ad79ddf"
      },
      "execution_count": 6,
      "outputs": [
        {
          "output_type": "execute_result",
          "data": {
            "text/plain": [
              "20.5"
            ]
          },
          "metadata": {},
          "execution_count": 6
        }
      ]
    },
    {
      "cell_type": "markdown",
      "source": [
        "\n",
        "##2. 문자형\n",
        "\n",
        "* 문자, 단어 등으로 구성된 문자들의 집합\n",
        "* 문자열은 큰 따옴표(“ “) 또는 작은 따옴표(‘ ‘)로 둘러싸여 표시함."
      ],
      "metadata": {
        "id": "ZJc9Rcq_w_zi"
      }
    },
    {
      "cell_type": "code",
      "source": [
        "# 따옴표로 감싼 문자, 'Hello'와 \"Hello\"는 동일\n",
        "a = 'Hello'\n",
        "type(a)"
      ],
      "metadata": {
        "colab": {
          "base_uri": "https://localhost:8080/"
        },
        "id": "VAnBZmM4_h3z",
        "outputId": "1654783f-3248-4e41-dfdc-c1fb75febe5a"
      },
      "execution_count": 30,
      "outputs": [
        {
          "output_type": "execute_result",
          "data": {
            "text/plain": [
              "str"
            ]
          },
          "metadata": {},
          "execution_count": 30
        }
      ]
    },
    {
      "cell_type": "code",
      "source": [
        "# 따옴표로 감싼 숫자는 문자\n",
        "b = '123'\n",
        "type(b)"
      ],
      "metadata": {
        "colab": {
          "base_uri": "https://localhost:8080/"
        },
        "id": "qfGNaWXS_mxE",
        "outputId": "4ac823e4-b143-487f-88ec-7d8b973528a7"
      },
      "execution_count": 31,
      "outputs": [
        {
          "output_type": "execute_result",
          "data": {
            "text/plain": [
              "str"
            ]
          },
          "metadata": {},
          "execution_count": 31
        }
      ]
    },
    {
      "cell_type": "code",
      "source": [
        "#띄어쓰기가 있어도 문자열\n",
        "say = \"\\\"Python is very easy.\\\" Ylee says.\"\n",
        "print(say)\n",
        "\n",
        "#여러줄 문자열\n",
        "info = '''안녕하세요.\n",
        "오늘 날씨는 아주 맑음입니다.\n",
        "날씨만큼 좋은 하루 되세요.'''\n",
        "print(info)"
      ],
      "metadata": {
        "colab": {
          "base_uri": "https://localhost:8080/"
        },
        "id": "ExPC5tbTu6Mr",
        "outputId": "090160c6-5df3-4c00-f670-d9d5d828cbf7"
      },
      "execution_count": 8,
      "outputs": [
        {
          "output_type": "stream",
          "name": "stdout",
          "text": [
            "\"Python is very easy.\" Ylee says.\n",
            "안녕하세요.\n",
            "오늘 날씨는 아주 맑음입니다.\n",
            "날씨만큼 좋은 하루 되세요.\n"
          ]
        }
      ]
    },
    {
      "cell_type": "code",
      "source": [
        "#문자열 안에 따옴표가 들어간다면? '와 \"를 번갈아서 사용해보세요.\n",
        "y = 'He said, \"I love you.\"'\n",
        "y"
      ],
      "metadata": {
        "colab": {
          "base_uri": "https://localhost:8080/",
          "height": 36
        },
        "id": "aiStFeFf_8sM",
        "outputId": "783fcfd7-3e18-497a-92f1-5443136b0302"
      },
      "execution_count": 32,
      "outputs": [
        {
          "output_type": "execute_result",
          "data": {
            "text/plain": [
              "'He said, \"I love you.\"'"
            ],
            "application/vnd.google.colaboratory.intrinsic+json": {
              "type": "string"
            }
          },
          "metadata": {},
          "execution_count": 32
        }
      ]
    },
    {
      "cell_type": "code",
      "source": [
        "#문자열 연산\n",
        "start = '파이썬'\n",
        "end = '시작하기'\n",
        "print(start+end)\n",
        "\n",
        "cnt=3\n",
        "\n",
        "print(start*cnt)"
      ],
      "metadata": {
        "colab": {
          "base_uri": "https://localhost:8080/"
        },
        "id": "RD5gSlt6vAUx",
        "outputId": "f86f2660-6c02-4902-eb49-03b40a7a18dd"
      },
      "execution_count": 9,
      "outputs": [
        {
          "output_type": "stream",
          "name": "stdout",
          "text": [
            "파이썬시작하기\n",
            "파이썬파이썬파이썬\n"
          ]
        }
      ]
    },
    {
      "cell_type": "code",
      "source": [
        "#다이아몬드 출력하기\n",
        "print(' '*2, '*')\n",
        "print(' ', '*'*3)\n",
        "print('*'*7)\n",
        "print(' ', '*'*3)\n",
        "print(' '*2, '*')\n"
      ],
      "metadata": {
        "colab": {
          "base_uri": "https://localhost:8080/"
        },
        "id": "S02U3761vGpw",
        "outputId": "0fbde6d3-88f2-41ac-d8fb-060cc62e8d8f"
      },
      "execution_count": 10,
      "outputs": [
        {
          "output_type": "stream",
          "name": "stdout",
          "text": [
            "   *\n",
            "  ***\n",
            "*******\n",
            "  ***\n",
            "   *\n"
          ]
        }
      ]
    },
    {
      "cell_type": "markdown",
      "source": [
        "##3. 자료형 바꾸기\n",
        "\n",
        "* 프로그램에서 특정 자료형을 다른 자료형으로 변환\n",
        "```\n",
        "int() : 문자열, 실수 등을 정수로 변환\n",
        "float() : 문자열, 정수 등을 실수로 변환\n",
        "repr(), str() : 다른 자료형들을 문자열로 변환\n",
        "```"
      ],
      "metadata": {
        "id": "GPIEgs_IH9XD"
      }
    },
    {
      "cell_type": "code",
      "source": [
        "\n",
        "int(11+2.3)"
      ],
      "metadata": {
        "id": "MVsqN5QtwzKN",
        "colab": {
          "base_uri": "https://localhost:8080/"
        },
        "outputId": "77a84668-ac51-4a79-d081-e9c8ea13506a"
      },
      "execution_count": 11,
      "outputs": [
        {
          "output_type": "execute_result",
          "data": {
            "text/plain": [
              "13"
            ]
          },
          "metadata": {},
          "execution_count": 11
        }
      ]
    },
    {
      "cell_type": "code",
      "source": [
        "\n",
        "float(12*4)"
      ],
      "metadata": {
        "id": "oT8V_3MtxNF6",
        "colab": {
          "base_uri": "https://localhost:8080/"
        },
        "outputId": "7d9f410e-7ee2-496c-9b60-04fb8d0a961d"
      },
      "execution_count": 12,
      "outputs": [
        {
          "output_type": "execute_result",
          "data": {
            "text/plain": [
              "48.0"
            ]
          },
          "metadata": {},
          "execution_count": 12
        }
      ]
    },
    {
      "cell_type": "code",
      "source": [
        "\n",
        "str(12.3+11)"
      ],
      "metadata": {
        "id": "0l5WG1Q3xOxC",
        "colab": {
          "base_uri": "https://localhost:8080/",
          "height": 36
        },
        "outputId": "6b32caea-95fe-4926-b205-7ffd4d62a9ca"
      },
      "execution_count": 13,
      "outputs": [
        {
          "output_type": "execute_result",
          "data": {
            "text/plain": [
              "'23.3'"
            ],
            "application/vnd.google.colaboratory.intrinsic+json": {
              "type": "string"
            }
          },
          "metadata": {},
          "execution_count": 13
        }
      ]
    },
    {
      "cell_type": "markdown",
      "source": [
        "## TypeError, ValueError\n",
        "- 서로 다른 자료를 연산하게 되면 **TypeError** 발생  \n",
        "- 자료형을 변환할 때 ‘변환할 수 없는 것’을 반환 하려고 할 때 **ValueError **"
      ],
      "metadata": {
        "id": "4Wy5sr_gIY9S"
      }
    },
    {
      "cell_type": "code",
      "source": [
        "num3 = '3 '\n",
        "\n",
        "num1+num3"
      ],
      "metadata": {
        "id": "nIqCkIwMJJ4P"
      },
      "execution_count": null,
      "outputs": []
    },
    {
      "cell_type": "code",
      "source": [
        "int('5h')"
      ],
      "metadata": {
        "id": "18ZZ4DqsJDBg"
      },
      "execution_count": null,
      "outputs": []
    },
    {
      "cell_type": "markdown",
      "source": [
        "## 4.  f스트링\n",
        "\n",
        "* 문자열이나 문장을 쉽게 포맷팅\n",
        "* 문장 사이에 변수 값을 넣어 출력, 입력, 문자열을 만들 때 사용\n",
        "\n",
        "```\n",
        "f\"  문자열 { 변수 } 문자열\"\n",
        "```"
      ],
      "metadata": {
        "id": "tfSPREP4ok4-"
      }
    },
    {
      "cell_type": "code",
      "source": [
        "#f스트링으로 표현해 보기"
      ],
      "metadata": {
        "id": "KqgVnIjfrK_x"
      },
      "execution_count": null,
      "outputs": []
    },
    {
      "cell_type": "code",
      "source": [
        "#다이아몬드 출력하기\n",
        "print(f\"{' '*3}*\")\n",
        "print(f\"  {'*'*3}\")\n",
        "print(f\" {'*'*5}\")\n",
        "print(f\"{'*'*7}\")\n",
        "print(f\" {'*'*5}\")\n",
        "print(f\"  {'*'*3}\")\n",
        "print(f\"{' '*3}*\")\n"
      ],
      "metadata": {
        "colab": {
          "base_uri": "https://localhost:8080/"
        },
        "id": "vCPl54zfHB_I",
        "outputId": "49994ed2-ba1b-4619-a03b-8c014b508690"
      },
      "execution_count": 49,
      "outputs": [
        {
          "output_type": "stream",
          "name": "stdout",
          "text": [
            "   *\n",
            "  ***\n",
            " *****\n",
            "*******\n",
            " *****\n",
            "  ***\n",
            "   *\n"
          ]
        }
      ]
    },
    {
      "cell_type": "markdown",
      "source": [
        "# 표준 입력\n",
        "\n",
        ">  input (프롬프트)\n",
        "\n",
        "* 프로그램에게 정보를 전달할 수 있음\n",
        "* 입력 값은 항상 **문자열**로 받아옴\n",
        "* 괄호()안에 문자열을 넣으면 프롬프트(메시지) 역할을 수행함\n",
        "* 입력 받은 값을 변수에 저장 가능\n",
        "\n"
      ],
      "metadata": {
        "id": "liHlvOY5oueb"
      }
    },
    {
      "cell_type": "markdown",
      "source": [
        "```\n",
        "#정답\n",
        "# input()을 이용해서 입력을 넣고, 이를 변수 var에 담아봅시다.\n",
        "var=input()\n",
        "\n",
        "# 앵무새가 말을 따라합니다!\n",
        "print(\"앵무새 :\", var)\n",
        "\n",
        "# 입력한 값이 어떤 자료형인지 확인해봅시다.\n",
        "print(type(var))\n",
        "```"
      ],
      "metadata": {
        "id": "q2L5oS8f0ifO"
      }
    },
    {
      "cell_type": "code",
      "source": [
        "# input()을 이용해서 사용자가 입력하는 값을 받아 이를 변수 var에 담아 보세요.\n",
        "var = None\n",
        "\n",
        "# 입력한 값이 잘 저장되었나 확인해 보세요. 아래 코드는 수정하지 않아도 돼요.\n",
        "print(\"앵무새 :\", var)\n",
        "\n",
        "# 입력한 값이 어떤 자료형인지 확인해 보세요. 아래 코드는 수정하지 않아도 돼요.\n",
        "print(type(var))\n"
      ],
      "metadata": {
        "id": "WpQXvqvtloxA",
        "colab": {
          "base_uri": "https://localhost:8080/"
        },
        "outputId": "fdcd0ce8-7606-4527-d2eb-1802f44e8977"
      },
      "execution_count": 16,
      "outputs": [
        {
          "output_type": "stream",
          "name": "stdout",
          "text": [
            "앵무새 : None\n",
            "<class 'NoneType'>\n"
          ]
        }
      ]
    },
    {
      "cell_type": "code",
      "source": [],
      "metadata": {
        "id": "axCc7tYPlosk"
      },
      "execution_count": null,
      "outputs": []
    },
    {
      "cell_type": "markdown",
      "source": [
        "# 연산 실습. 두 배로 주는 홍학   \n"
      ],
      "metadata": {
        "id": "F7rl8BVNpbly"
      }
    },
    {
      "cell_type": "markdown",
      "source": [
        "\n",
        "코더랜드 E은행의 은행원 홍학은 남들보다 두 배로 열심히 일합니다.    \n",
        "두 배로 열심히 일하는 홍학에게 돈을 맡기면 일 년 후에 정확히 두 배의 금액을 돌려준다고 합니다. 와우!   \n",
        "홍학에게 맡길 금액을 입력했을 때 일 년 후 받을 수 있는 돈을 출력해주는 코드를 작성해봅시다.\n",
        "\n",
        "Tips\n",
        "input()은 입력받은 값을 문자열로 인식하기 때문에 형변환을 해야 해요!\n"
      ],
      "metadata": {
        "id": "FC97cwS2l78E"
      }
    },
    {
      "cell_type": "markdown",
      "source": [
        " > 정답 (참고)\n",
        "\n",
        "```\n",
        "#변수 money에 input을 이용해서 입력을 받아봅시다.\n",
        "\n",
        "money=input()\n",
        "# money를 int형으로 변환해서, 다시 money에 넣어줍시다.\n",
        "money=int(money)\n",
        "\n",
        "# money를 2배 불려서 print로 출력해봅시다.\n",
        "money = money*2\n",
        "print(money)\n",
        "```"
      ],
      "metadata": {
        "id": "tpC3HkE6Km_U"
      }
    },
    {
      "cell_type": "code",
      "source": [
        "# 변수 money에 input을 이용해서 입력을 받아 보세요.\n",
        "\n",
        "\n",
        "# money를 int형으로 변환해서, 다시 money에 넣어 주세요.\n",
        "\n",
        "\n",
        "# money를 2배 불려서 print로 출력해 보세요.\n",
        "\n"
      ],
      "metadata": {
        "id": "mHOK_-LllDl5"
      },
      "execution_count": 17,
      "outputs": []
    },
    {
      "cell_type": "markdown",
      "source": [
        "# 연산자\n",
        "\n",
        "*\t사칙연산자  : +, -, *, /\n",
        "* 나눗셈 후 소수점 아랫자리를 버리는 연산자 : //\n",
        "* 나머지 연산자 : % (나누었을 때 남은 나머지)\n",
        "* 제곱연산자 : **\n",
        "* 대입연산자 : =\n"
      ],
      "metadata": {
        "id": "lUJNjTlhJvup"
      }
    },
    {
      "cell_type": "markdown",
      "source": [
        "##실습. 사칙연산 계산기"
      ],
      "metadata": {
        "id": "t0EdXzV4xv8R"
      }
    },
    {
      "cell_type": "code",
      "source": [
        "\n",
        "a = int(input(\"첫번째 수를 입력하세요\"))\n",
        "b = int(input(\"두번째 수를 입력하세요\"))\n",
        "\n",
        "print(\"a+b=\", a+b)\n",
        "print(\"a-b=\",a-b)\n",
        "print(\"a*b=\",a*b)\n",
        "print(\"a/b=\",a/b)\n"
      ],
      "metadata": {
        "colab": {
          "base_uri": "https://localhost:8080/"
        },
        "id": "YrP4UwQVuZV1",
        "outputId": "caf5efff-efa1-421e-a1b3-a36fd16eaa06"
      },
      "execution_count": 18,
      "outputs": [
        {
          "output_type": "stream",
          "name": "stdout",
          "text": [
            "첫번째 수를 입력하세요3\n",
            "두번째 수를 입력하세요5\n",
            "a+b= 8\n",
            "a-b= -2\n",
            "a*b= 15\n",
            "a/b= 0.6\n"
          ]
        }
      ]
    },
    {
      "cell_type": "markdown",
      "source": [
        "\n",
        "##실습. 별의별 계산기"
      ],
      "metadata": {
        "id": "tJdvxwefx0i5"
      }
    },
    {
      "cell_type": "code",
      "source": [
        "#사탕이 10개 있어요 3명이 나눌때 몇개씩 가질 수 있나요?\n",
        "#남는 사탕이 있으면 알려주세요\n",
        "\n",
        "a = int(input(\"전체 사탕은 몇개인가요? \"))\n",
        "b = int(input(\"사람 수를 입력하세요 \"))\n",
        "print(f'{a}을 {b}로 나누면....')\n",
        "#print('몫:', 11711//17)\n",
        "#print('나머지:', 11711%17)\n",
        "print('1인당 사탕 갯 :', a//b)\n",
        "print('남는 사탕 :', a%b)\n"
      ],
      "metadata": {
        "colab": {
          "base_uri": "https://localhost:8080/"
        },
        "id": "qULieTo8unaN",
        "outputId": "8c10463e-812b-44ea-d05d-59b5e0b120f0"
      },
      "execution_count": 21,
      "outputs": [
        {
          "output_type": "stream",
          "name": "stdout",
          "text": [
            "전체 사탕은 몇개인가요? 10\n",
            "사람 수를 입력하세요 3\n",
            "10을 3로 나누었을 때\n",
            "1인당 사탕의 수 : 3\n",
            "남는 사탕 : 1\n"
          ]
        }
      ]
    },
    {
      "cell_type": "code",
      "source": [
        "print('----------------------------')\n",
        "print('3의 7제곱은')\n",
        "print(3**7)\n"
      ],
      "metadata": {
        "colab": {
          "base_uri": "https://localhost:8080/"
        },
        "id": "Nq4QDf988meb",
        "outputId": "57e8f630-183b-4c0f-e6f3-7b55f3deec65"
      },
      "execution_count": 25,
      "outputs": [
        {
          "output_type": "stream",
          "name": "stdout",
          "text": [
            "----------------------------\n",
            "3의 7제곱은\n",
            "2187\n"
          ]
        }
      ]
    },
    {
      "cell_type": "code",
      "source": [
        "#토끼계산기를 만들어보세요\n",
        "#토끼가 10마리 있습니다.\n",
        "rabbit = 10\n",
        "year = 1\n",
        "#1년후 토끼는 딱 2배가 된다고 가정해 봅니다.\n",
        "su = rabbit*2**year\n",
        "print(f'{year}년후 토끼는 {su}마리입니다')\n",
        "#3년뒤 토끼는 몇마리일까요?\n",
        "su = rabbit*2**3\n",
        "su\n",
        "\n",
        "#100년후 토끼는 몇마리일까요?\n"
      ],
      "metadata": {
        "colab": {
          "base_uri": "https://localhost:8080/"
        },
        "id": "gqxafTjV6dUY",
        "outputId": "041ef0d4-d331-4839-a563-36844f9bb4a0"
      },
      "execution_count": 26,
      "outputs": [
        {
          "output_type": "stream",
          "name": "stdout",
          "text": [
            "1년후 토끼는 20마리입니다\n"
          ]
        },
        {
          "output_type": "execute_result",
          "data": {
            "text/plain": [
              "80"
            ]
          },
          "metadata": {},
          "execution_count": 26
        }
      ]
    },
    {
      "cell_type": "code",
      "source": [
        "#허리둘레 계산기\n",
        "size = int(input(\"당신의 허리 칫수를 인치로 넣어주세요(숫자만 입력) :  \"))\n",
        "print('----------------------------')\n",
        "print('선택한 사이즈는')\n",
        "print(round(size*2.54))"
      ],
      "metadata": {
        "id": "qSVVzbnz8HId"
      },
      "execution_count": null,
      "outputs": []
    },
    {
      "cell_type": "markdown",
      "source": [
        "## 거울아 거울아"
      ],
      "metadata": {
        "id": "aDixcHjIyBNW"
      }
    },
    {
      "cell_type": "code",
      "source": [
        "print('거울아 거울아')\n",
        "name = input('세상에서 누가 가장 예쁘니? ')\n",
        "\n",
        "print(f'세상에서 {name}님이 가장 예쁩니다!!')"
      ],
      "metadata": {
        "colab": {
          "base_uri": "https://localhost:8080/"
        },
        "id": "ABrh7tv7p_3B",
        "outputId": "36ddeb6c-ddbb-4799-fcbf-42220c1df285"
      },
      "execution_count": null,
      "outputs": [
        {
          "output_type": "stream",
          "name": "stdout",
          "text": [
            "거울아 거울아\n",
            "세상에서 누가 가장 예쁘니? 일리\n",
            "세상에서 일리님이 가장 예쁩니다!!\n"
          ]
        }
      ]
    },
    {
      "cell_type": "markdown",
      "source": [
        "## 생일 추출기"
      ],
      "metadata": {
        "id": "z7H6gRc-yGgM"
      }
    },
    {
      "cell_type": "code",
      "source": [
        "birth=input(\"생년월일을 입력하세요\")\n",
        "\n",
        "year = birth[0:4]\n",
        "month = birth[4:6]\n",
        "day = birth[6:]\n",
        "\n",
        "print(\"당신이 태어난 날은 \", year,\"년\",month,\"월\", day, \"일입니다\")"
      ],
      "metadata": {
        "id": "bYpxyM_VI0JA"
      },
      "execution_count": null,
      "outputs": []
    },
    {
      "cell_type": "markdown",
      "source": [
        "# 리스트와 문자열\n",
        "\n",
        "\n",
        "\n",
        "\n"
      ],
      "metadata": {
        "id": "C7hurjwlqSko"
      }
    },
    {
      "cell_type": "code",
      "source": [
        "#문자열 분할 1\n",
        "a = \"오늘 날씨가 좋아요\"\n",
        "a.split()"
      ],
      "metadata": {
        "colab": {
          "base_uri": "https://localhost:8080/"
        },
        "id": "uo3TS-PIvjiU",
        "outputId": "db01e9db-18ca-41b4-ad39-6dc9ea1717be"
      },
      "execution_count": 1,
      "outputs": [
        {
          "output_type": "execute_result",
          "data": {
            "text/plain": [
              "['오늘', '날씨가', '좋아요']"
            ]
          },
          "metadata": {},
          "execution_count": 1
        }
      ]
    },
    {
      "cell_type": "code",
      "source": [
        "#문자열 나누기와 합치기\n",
        "a = \"사과,배,바나나,딸기\"\n",
        "b = a.split(\",\")\n",
        "print(b)\n",
        "\"-\".join(b)"
      ],
      "metadata": {
        "id": "9e09H5fXwE9g"
      },
      "execution_count": null,
      "outputs": []
    },
    {
      "cell_type": "markdown",
      "source": [
        "## 실습 뚜루는 몇번 들어 있을까?\n"
      ],
      "metadata": {
        "id": "ebo2POkHyPvm"
      }
    },
    {
      "cell_type": "code",
      "source": [
        "#file = open(\"babyshark.txt\", \"r\", encoding='UTF8')\n",
        "txt = '''\n",
        "\n",
        "'''\n",
        "\n",
        "#txt = file.read()\n",
        "\n",
        "searchStr = \"뚜 루루\"\n",
        "\n",
        "print(txt.count(searchStr))\n",
        "#file.close()"
      ],
      "metadata": {
        "id": "26XF_mMowUup"
      },
      "execution_count": null,
      "outputs": []
    },
    {
      "cell_type": "markdown",
      "source": [
        "# 컨테이너 타입\n",
        "\n",
        "컨테이너 타입은 여러 개의 값을 다루는 자료형입니다. list, tuple, set, dictionary가 있습니다.\n",
        "\n",
        "1. 리스트(list) : 데이터를 연속적으로 관리, 값을 바꿀 수 있음, 예:['가', '나', '다', '라']\n",
        "\n",
        "2. 튜플(tuple) : 데이터를 연속적으로 관리, 값을 바꿀 수 없음, 예:('가', '나', '다', '라')\n",
        "\n",
        "3. 세트(set) : 집합과 같은 속성, 예:{'가', '나', '다', '라'}\n",
        "\n",
        "4. 딕셔너리(dictionary) : key-value 쌍, 예: {'가':123, '나':456, '다':789}"
      ],
      "metadata": {
        "id": "fwXUF2ixAzrZ"
      }
    },
    {
      "cell_type": "markdown",
      "source": [
        "# 리스트"
      ],
      "metadata": {
        "id": "XglWKtnMyVQa"
      }
    },
    {
      "cell_type": "code",
      "source": [
        "# 험프티가 가지고 있는 보석 중에 특별히 빛나는 보석이 있어요!\n",
        "humpty = ['은', '은', '다이아몬드', '은', '은', '은', '은', '은']\n",
        "\n",
        "# 그 보석이 무엇인지 찾아 아래 변수에 넣어 보세요.\n",
        "jewel1 = humpty[2]\n",
        "\n",
        "# 덤프티는 금빛 보석을 많이 가지고 있네요!\n",
        "dumpty = ['은', '은', '은', '은', '금', '금', '금', '은', '은', '은']\n",
        "\n",
        "# 금빛 보석만 찾아 아래 변수에 넣어 보세요.\n",
        "jewel2 = dumpty[4:7]\n",
        "\n",
        "# 가장 빛나는 보석을 잘 찾았는지 print()로 확인해 볼까요? 아래는 수정하지 않아도 돼요.\n",
        "print('humpty 가방 속 가장 빛나는 보석', jewel1)\n",
        "print('dumpty 가방 속 금빛 찬란한 보석', jewel2)\n"
      ],
      "metadata": {
        "id": "AAQZUCEfkREo",
        "colab": {
          "base_uri": "https://localhost:8080/"
        },
        "outputId": "be3ed87a-bb17-4141-aa76-0f4453fbdafe"
      },
      "execution_count": 2,
      "outputs": [
        {
          "output_type": "stream",
          "name": "stdout",
          "text": [
            "humpty 가방 속 가장 빛나는 보석 다이아몬드\n",
            "dumpty 가방 속 금빛 찬란한 보석 ['금', '금', '금']\n"
          ]
        }
      ]
    },
    {
      "cell_type": "markdown",
      "source": [
        "## 리스트의 인덱스\n",
        "\n",
        "* 인덱싱 활용 및 변수 대입   \n",
        "* humpty 리스트에서 “다이아몬드”의 자료 순서 확인하기   \n",
        "* 인덱싱은 하나의 자료를 가져오는 방법이라는 사실    \n",
        "\n",
        "> dumpty[1]\n",
        "\n",
        "* 슬라이싱은 구간을 설정하여 구간 내 자료를 가져오는 방법\n",
        "\n",
        "> dumpty[4:7]\n",
        "\n",
        "📌 Tips\n",
        "\n",
        "인덱스는 실제 위치보다 1 작다는 점, 슬라이싱의 마지막 인덱스는 가져오려는 위치보다 1 커야 해요"
      ],
      "metadata": {
        "id": "kPy0V3R4kx6K"
      }
    },
    {
      "cell_type": "code",
      "source": [
        "# 험프티가 가지고 있는 보석 중에 특별히 빛나는 보석이 있어요!\n",
        "humpty = ['은', '은', '다이아몬드', '은', '은', '은', '은', '은']\n",
        "\n",
        "# 그 보석이 무엇인지 찾아 아래 변수에 넣어봅시다!\n",
        "jewel1 = humpty[2]\n",
        "\n",
        "# 덤프티는 금빛 보석을 많이 가지고 있네요!\n",
        "dumpty = ['은', '은', '은', '은', '금', '금', '금', '은', '은', '은']\n",
        "\n",
        "# 금빛 보석만 찾아 아래 변수에 넣어봅시다!\n",
        "jewel2 = dumpty[4:7]\n",
        "\n",
        "# 가장 빛나는 보석을 잘 찾았는지 print()로 확인해 볼까요? 아래는 수정하지 않아도 돼요.\n",
        "print('humpty 가방 속 가장 빛나는 보석', jewel1)\n",
        "print('dumpty 가방 속 금빛 찬란한 보석', jewel2)"
      ],
      "metadata": {
        "id": "xYL5Y5okkRA6"
      },
      "execution_count": null,
      "outputs": []
    },
    {
      "cell_type": "markdown",
      "source": [
        "## 리스트에 추가하기\n",
        "\n",
        "* append()를 사용하면 리스트에 원소를 1개 추가할 수 있어요!\n"
      ],
      "metadata": {
        "id": "sahrAokqk8BQ"
      }
    },
    {
      "cell_type": "markdown",
      "source": [
        "## 실습 선착순! 줄을~ 서시오\n",
        "\n",
        "하트 여왕의 경기에 참여하기 위해 코더랜드 동물들이 하나 둘 모이고 있습니다!   \n",
        "\n",
        "원활한 경기 진행을 위해서 경기장에 모인 동물들을 도착한 순서대로 줄 세워볼까요? 빈 리스트 line_up을 만들고 동물들을 순서대로 추가해 주세요!\n",
        "\n",
        "* 순서\n",
        "\n",
        "1. 도마뱀\n",
        "2. 홍학\n",
        "3. 토끼\n",
        "\n"
      ],
      "metadata": {
        "id": "zb79YdZPsHSe"
      }
    },
    {
      "cell_type": "code",
      "source": [
        "# 선착순으로 줄을 세우기 위해 빈 리스트 line_up을 만들어 보세요.\n",
        "line_up = None\n",
        "\n",
        "# append 함수를 이용하여 line_up에 동물 친구들을 도마뱀 - 홍학 - 토끼의 순서대로 추가해 보세요.\n",
        "\n",
        "\n",
        "\n",
        "# 제대로 줄을 세웠는지 line_up을 출력하여 확인해 봅시다.\n",
        "print(line_up)\n"
      ],
      "metadata": {
        "id": "VX-jFyfIkQ9L"
      },
      "execution_count": null,
      "outputs": []
    },
    {
      "cell_type": "code",
      "source": [
        "# 선착순으로 줄을 세우기 위해 빈 리스트 line_up을 만들어 보세요.\n",
        "line_up = []\n",
        "\n",
        "# append 함수를 이용하여 line_up에 동물 친구들을 도마뱀 - 홍학 - 토끼의 순서대로 추가해 보세요.\n",
        "line_up.append(\"도마뱀\")\n",
        "line_up.append(\"홍학\")\n",
        "line_up.append(\"토끼\")\n",
        "\n",
        "# 제대로 줄을 세웠는지 line_up을 출력하여 확인해 봅시다.\n",
        "print(line_up)"
      ],
      "metadata": {
        "id": "9YY9XW6Ck_th"
      },
      "execution_count": null,
      "outputs": []
    },
    {
      "cell_type": "markdown",
      "source": [
        "## 리스트에 끼워 넣기\n",
        "\n",
        "insert() 를 이용하면 리스트에 원하는 위치로 들어갈 수 있어요"
      ],
      "metadata": {
        "id": "mTX2P-HkyoHz"
      }
    },
    {
      "cell_type": "markdown",
      "source": [
        "## 실습. 새치기의 달인\n",
        "\n",
        "경기장에 가장 늦게 도착한 도도새가 기회를 엿보더니 홍학 앞으로 새치기를 시도합니다! 홍학이 고개를 돌린 사이에 슬쩍 끼어 들어가 볼까요?\n",
        "\n",
        "Tips\n",
        "인덱스는 0부터 시작한다는 사실을 조심하세요!"
      ],
      "metadata": {
        "id": "GdUcJAD3lICB"
      }
    },
    {
      "cell_type": "markdown",
      "source": [
        "``` #정답\n",
        "#line_up = [\"도마뱀\", \"홍학\", \"토끼\", \"고양이\"]\n",
        "\n",
        "# line_up의  \"도마뱀\"과 \"홍학\" 사이에 \"도도새\"를 넣어봅시다.\n",
        "line_up.insert(1, \"도도새\")\n",
        "\n",
        "# line_up을 출력하여 도도새가 새치기에 성공했는지 알아봅시다.\n",
        "print(line_up)\n",
        "```"
      ],
      "metadata": {
        "id": "AVvuwwVUzQzk"
      }
    },
    {
      "cell_type": "code",
      "source": [
        "line_up = [\"도마뱀\", \"홍학\", \"토끼\", \"고양이\"]\n",
        "\n",
        "# line_up의 \"도마뱀\"과 \"홍학\" 사이에 \"도도새\"를 넣어 보세요.\n",
        "\n",
        "\n",
        "# line_up을 출력하여 도도새가 새치기에 성공했는지 확인해 봅시다!\n",
        "print(line_up)\n"
      ],
      "metadata": {
        "id": "eIaMNDVLlD8V"
      },
      "execution_count": null,
      "outputs": []
    },
    {
      "cell_type": "markdown",
      "source": [
        "## 리스트에서 삭제하기\n",
        "\n",
        "drop()을 이용하면, 리스트에서 빼버릴 수 있어요"
      ],
      "metadata": {
        "id": "FImtYb_zza7z"
      }
    },
    {
      "cell_type": "code",
      "source": [],
      "metadata": {
        "id": "OGuEnbHwlD47"
      },
      "execution_count": null,
      "outputs": []
    },
    {
      "cell_type": "markdown",
      "source": [
        "## 실습. 도도새 퇴치\n",
        "\n",
        "도도새의 새치기에 잔뜩 화가 난 홍학의 얼굴이 새빨개졌습니다.  하트 여왕이 심판을 내리는군요.  반칙 금지! 도도새는 퇴장하라!\n",
        "\n",
        "하트 여왕의 명령에 따라 도도새를 퇴치해 보세요!\n",
        "\n",
        "Tips\n",
        "remove()를 사용하면 리스트 안의 특정 원소를 제거할 수 있어요."
      ],
      "metadata": {
        "id": "KSIZqh6GlS-J"
      }
    },
    {
      "cell_type": "markdown",
      "source": [
        "``` #정답\n",
        "\n",
        "line_up = [\"도마뱀\", \"도도새\", \"홍학\", \"토끼\"]\n",
        "\n",
        "# line_up에서 \"도도새\"를 없애봅시다.\n",
        "line_up.remove(\"도도새\")\n",
        "\n",
        "# line_up을 출력하여 도도새를 퇴치했는지 확인해 보세요.\n",
        "print(line_up)\n",
        "\n",
        "```"
      ],
      "metadata": {
        "id": "IT9tWGTrzrIL"
      }
    },
    {
      "cell_type": "code",
      "source": [
        "line_up = [\"도마뱀\", \"도도새\", \"홍학\", \"토끼\"]\n",
        "\n",
        "# line_up에서 \"도도새\"를 없애 보세요.\n",
        "\n",
        "\n",
        "# line_up을 출력하여 도도새를 퇴치했는지 확인해 봅시다!\n",
        "print(line_up)\n"
      ],
      "metadata": {
        "id": "jjEtrwmwlD1h",
        "colab": {
          "base_uri": "https://localhost:8080/"
        },
        "outputId": "edece2d1-2d44-4365-85fe-cbe75aac0f48"
      },
      "execution_count": 7,
      "outputs": [
        {
          "output_type": "stream",
          "name": "stdout",
          "text": [
            "['도마뱀', '도도새', '홍학', '토끼']\n"
          ]
        }
      ]
    },
    {
      "cell_type": "code",
      "source": [
        "# 비와이, 제시 2개를 한 번에 추가하세요\n",
        "lile_up2 = line_up.copy()\n",
        "lile_up2.extend(['비와이','제시'])\n",
        "print(lile_up2)\n",
        "\n",
        "# 제거해주세요.\n",
        "lile_up2.pop(5)\n",
        "print(lile_up2)\n",
        "\n",
        "#리스트를 모두 제거하세요\n",
        "lile_up2.clear()\n",
        "print(lile_up2)"
      ],
      "metadata": {
        "id": "gVceJl_YlDx3",
        "colab": {
          "base_uri": "https://localhost:8080/"
        },
        "outputId": "d258e49d-b9c1-4d9a-d5fd-2d3faf627c86"
      },
      "execution_count": 8,
      "outputs": [
        {
          "output_type": "stream",
          "name": "stdout",
          "text": [
            "['도마뱀', '도도새', '홍학', '토끼', '비와이', '제시']\n",
            "['도마뱀', '도도새', '홍학', '토끼', '비와이']\n",
            "[]\n"
          ]
        }
      ]
    },
    {
      "cell_type": "markdown",
      "source": [
        "## 리스트 줄세우기\n",
        "sort()를 이용해서 사전 순서대로 정렬할 수 있어요.\n"
      ],
      "metadata": {
        "id": "P1T-X2uXzxMI"
      }
    },
    {
      "cell_type": "markdown",
      "source": [
        "## 실습. 순서는 정해져 있어!  다시 줄 서기   \n",
        "\n",
        "경기가 시작되기를 기다리고 있는데 변덕이 심한 하트여왕이 말합니다.\n",
        "사전순으로 줄을 서시오\n",
        "하트여왕의 명령에 따라 선착순으로 줄을 섰던 동물 친구들을 다시 정렬해 봅시다!\n",
        "\n",
        "Tips\n",
        "sort()를 이용하면 리스트의 원소를 정렬할 수 있어요.\n",
        "숫자는 오름차순, 문자는 사전 순으로 정렬돼요!"
      ],
      "metadata": {
        "id": "a_p6s58wlc3C"
      }
    },
    {
      "cell_type": "markdown",
      "source": [
        "```#정답\n",
        "line_up = [\"도마뱀\", \"홍학\", \"토끼\"]\n",
        "\n",
        "# line_up을 사전순으로 정렬해 봅시다.\n",
        "line_up.sort()\n",
        "\n",
        "# line_up을 출력하여 정렬이 잘 되었나 확인해 보세요.\n",
        "print(line_up)\n",
        "```"
      ],
      "metadata": {
        "id": "QWNltwEh0Hh2"
      }
    },
    {
      "cell_type": "code",
      "source": [
        "line_up = [\"도마뱀\", \"홍학\", \"토끼\"]\n",
        "\n",
        "# line_up을 사전순으로 정렬해 보세요.\n",
        "\n",
        "\n",
        "# line_up을 출력하여 정렬이 잘 되었나 확인해 봅시다!\n",
        "print(line_up)"
      ],
      "metadata": {
        "id": "mksYLPCLlDuV"
      },
      "execution_count": null,
      "outputs": []
    },
    {
      "cell_type": "code",
      "source": [],
      "metadata": {
        "id": "2kV5Fd3VlDqZ"
      },
      "execution_count": null,
      "outputs": []
    },
    {
      "cell_type": "markdown",
      "source": [
        "## 🎯 미션1 - 칙칙폭폭 기차놀이\n",
        "\n",
        "부산행 기차가 사람들을 태우고 출발하려 하고 있어요! 기차역에 설 때마다 승객들이 기차에 타거나 기차에서 내립니다. 리스트의 활용으로 차장님을 도와줍시다!\n",
        "\n",
        "\n",
        "이렇게 해봅시다!\n",
        "주석을 읽고 각 역에 정차할 때마다 주어지는 미션을 수행하는 코드를 그 아랫줄에 작성해 보세요.\n",
        "아래의 리스트의 활용 함수들을 적절히 사용해 보세요!\n",
        "\n",
        "```\n",
        "#정답\n",
        "# 기차에 3명의 승객이 타고 있어요\n",
        "train = ['성진', '찬경', '준영']\n",
        "\n",
        "# 서울역: 승객 '주아'를 맨 뒷칸에 태우세요\n",
        "train.append('주아')\n",
        "\n",
        "print('서울역 도착.  // ', train)\n",
        "# 대전역: 1등석 승객 '동빈'을 맨 앞에 태우세요\n",
        "train.insert(0, '동빈')\n",
        "\n",
        "print('대전역 도착. // ', train)\n",
        "# 동대구역: 승객 '성진'을 내려주세요\n",
        "train.remove('성진')\n",
        "\n",
        "print('동대구역 도착. // ', train)\n",
        "# 부산역: 마지막 역이니 사전순으로 정렬해 주세요\n",
        "train.sort()\n",
        "\n",
        "print('부산역 도착. // ', train)\n",
        "print('오늘도 빠르고 편안한 기차를 이용해 주셔서 감사합니다.')\n",
        "````"
      ],
      "metadata": {
        "id": "FvoL4_7kll88"
      }
    },
    {
      "cell_type": "code",
      "source": [
        "# 기차에 3명의 승객이 타고 있어요.\n",
        "train = ['성진', '찬경', '준영']\n",
        "\n",
        "# 서울역: 승객 '주아'를 맨 뒷칸에 태워 주세요.\n",
        "\n",
        "\n",
        "print('서울역 도착.  // ', train)\n",
        "# 대전역: 1등석 승객 '동빈'을 맨 앞에 태워 주세요.\n",
        "\n",
        "\n",
        "print('대전역 도착. // ', train)\n",
        "# 동대구역: 승객 '성진'을 내려 주세요.\n",
        "\n",
        "\n",
        "print('동대구역 도착. // ', train)\n",
        "# 부산역: 마지막 역이니 사전순으로 정렬해 주세요.\n",
        "\n",
        "\n",
        "print('부산역 도착. // ', train)\n",
        "print('오늘도 빠르고 편안한 기차를 이용해 주셔서 감사합니다.')\n"
      ],
      "metadata": {
        "id": "zwYK4zjfloov"
      },
      "execution_count": null,
      "outputs": []
    },
    {
      "cell_type": "code",
      "source": [],
      "metadata": {
        "id": "P1u-DweKlo1y"
      },
      "execution_count": null,
      "outputs": []
    },
    {
      "cell_type": "markdown",
      "source": [
        "# 조건문 if\n",
        "\n",
        "조건에 따라 다른 처리를 할 수 있어요"
      ],
      "metadata": {
        "id": "s_gHtDG_KyTg"
      }
    },
    {
      "cell_type": "markdown",
      "source": [
        "![image.png](data:image/png;base64,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)"
      ],
      "metadata": {
        "id": "vcmczDRnBeXV"
      }
    },
    {
      "cell_type": "markdown",
      "source": [
        "## 실습. 더울때 아아\n",
        "기온이 0ºC보다 높으면 ‘아이스 아메리카노’를 출력하는 프로그램을 만들어 보세요."
      ],
      "metadata": {
        "id": "jshn8eAoByNZ"
      }
    },
    {
      "cell_type": "code",
      "source": [
        "#온도\n",
        "today_temp = 30\n",
        "\n",
        "if today_temp > 0:\n",
        "    print(\"아이스 아메리카노\")"
      ],
      "metadata": {
        "id": "1zcyThmaBbTU"
      },
      "execution_count": null,
      "outputs": []
    },
    {
      "cell_type": "markdown",
      "source": [
        "## 미션. 쿠키상자"
      ],
      "metadata": {
        "id": "aWisjV0RB43v"
      }
    },
    {
      "cell_type": "markdown",
      "source": [
        "줄지 않는 쿠키   \n",
        "엘리스 토끼가 쿠키 상자를 발견했어요.       \n",
        "5개를 집어 먹었는데, 이게 웬일일까요! 쿠키 5개가 그대로 남아 있군요!   \n",
        "\n",
        "파이썬의 if문을 이용해서 먹은 쿠키의 개수만큼 다시 쿠키가 생기는 상자를 만들어 봐요.\n",
        "\n",
        "입력값으로 음수가 입력되면 양수로 바꿔서 출력해주는 코드를 만들어 주세요.\n",
        "\n",
        "Tips\n",
        "새로 생긴 쿠키의 개수는 먹은 개수만큼 생겨야 해요!\n",
        "만약 -5를 입력한다면, 새로 생긴 쿠키의 개수는 5개가 되겠죠?"
      ],
      "metadata": {
        "id": "-aDI0gtsmHl2"
      }
    },
    {
      "cell_type": "markdown",
      "source": [
        "> 정답 (예시)\n",
        "\n",
        "```\n",
        "# 변수 cookie를 선언하고, input()을 이용해서 먹은 쿠키의 개수를 입력받습니다.\n",
        "cookie = int(input())\n",
        "\n",
        "# if문을 이용해서 cookie가 음수면 -1을 곱해 다시 cookie에 저장해 봅시다.\n",
        "new_cookie = 0\n",
        "if cookie < 0:\n",
        "    new_cookie = cookie*-1\n",
        "\n",
        "# cookie의 개수가 몇 개인지 출력합니다.\n",
        "print('새로 생킨 쿠키의 개수 :', new_cookie)\n",
        "```"
      ],
      "metadata": {
        "id": "w62OyM6nLCRK"
      }
    },
    {
      "cell_type": "code",
      "source": [
        "#원래 쿠키\n",
        "cookie = 5\n",
        "# input()으로 숫자를 입력받아 변수 cookie에 저장해요.\n",
        "eat_cookie = int(input())\n",
        "\n",
        "new_cookie = cookie-eat_cookie\n",
        "# 아래 ? 부분에 조건문을 작성하여 코드를 완성해 주세요.\n",
        "# 쿠키의 개수가 음수라면 양수로 바꿀 수 있도록 조건문을 수정해 주세요.\n",
        "if new_cookie<0 :\n",
        "    new_cookie = new_cookie * -1 # 음수를 양수로 바꿔요.\n",
        "\n",
        "# cookie의 개수가 몇 개인지 확인해 보세요.\n",
        "print('새로 생킨 쿠키의 개수 :', new_cookie)"
      ],
      "metadata": {
        "id": "-iSGx2LXl--y",
        "colab": {
          "base_uri": "https://localhost:8080/"
        },
        "outputId": "0750fb53-0979-4e5d-ffd6-cad09b585497"
      },
      "execution_count": 35,
      "outputs": [
        {
          "output_type": "stream",
          "name": "stdout",
          "text": [
            "8\n",
            "새로 생킨 쿠키의 개수 : 3\n"
          ]
        }
      ]
    },
    {
      "cell_type": "markdown",
      "source": [
        "## 두번째 조건 else\n",
        "기온이 0ºC보다 높으면 ‘아이스 아메리카노’를 출력하고, 그렇지 않은 경우에는 ‘따뜻한 아메리카노’를 출력하는 프로그램을 만들어 보세요."
      ],
      "metadata": {
        "id": "DbbTbJlvEeTa"
      }
    },
    {
      "cell_type": "code",
      "source": [
        "today_temp = 30\n",
        "\n",
        "if today_temp > 0:\n",
        "    print(\"아이스 아메리카노\")\n",
        "else:\n",
        "    print(\"따뜻한 아메리카노\")"
      ],
      "metadata": {
        "id": "NQFTF3_hl-7g"
      },
      "execution_count": null,
      "outputs": []
    },
    {
      "cell_type": "markdown",
      "source": [
        "## 세번째 조건 elif\n"
      ],
      "metadata": {
        "id": "gMxTercXEtIZ"
      }
    },
    {
      "cell_type": "markdown",
      "source": [
        "기온이 0ºC보다 높으면 ‘아이스 아메리카노’, 기온이 0ºC이면 ‘미지근한 아메리카노’, 나머지 경우에는 ‘따뜻한 아메리카노’를 출력하는 프로그램을 만들어 보세요."
      ],
      "metadata": {
        "id": "HtjM3FoxE3U0"
      }
    },
    {
      "cell_type": "code",
      "source": [
        "today_temp = 30\n",
        "\n",
        "if today_temp > 0:\n",
        "    print(\"아이스 아메리카노\")\n",
        "elif today_temp == 0:\n",
        "    print(\"미지근한 아메리카노\")\n",
        "else:\n",
        "    print(\"따뜻한 아메리카노\")"
      ],
      "metadata": {
        "colab": {
          "base_uri": "https://localhost:8080/"
        },
        "id": "iRBvlyFfE2dP",
        "outputId": "954833a5-749f-4a17-c248-b2b29f9f2e37"
      },
      "execution_count": 37,
      "outputs": [
        {
          "output_type": "stream",
          "name": "stdout",
          "text": [
            "아이스 아메리카노\n"
          ]
        }
      ]
    },
    {
      "cell_type": "markdown",
      "source": [
        "## 이중 if\n",
        "\n",
        "조건이 2개면 if 도 2개 --> if 속에 if"
      ],
      "metadata": {
        "id": "YXTIs4oFFLuJ"
      }
    },
    {
      "cell_type": "markdown",
      "source": [
        "날씨가 맑은 날인 경우,\n",
        "\n",
        "> 기온이 0ºC보다 높으면 ‘아이스 아메리카노’,    \n",
        "> 기온이 0ºC이면 ‘미지근한 아메리카노’,    \n",
        "> 나머지 경우에는 ‘따뜻한 아메리카노’를 출력하고   \n",
        "\n",
        "날씨가 맑지 않은 경우,‘카푸치노’를 출력하는 프로그램을 만들어 보세요."
      ],
      "metadata": {
        "id": "IvyjA0xDFQpH"
      }
    },
    {
      "cell_type": "code",
      "source": [
        "weather = \"비\"\n",
        "today_temp = 30\n",
        "\n",
        "if weather == \"맑음\":\n",
        "    if 0 < today_temp:\n",
        "        print(\"아이스 아메리카노\")\n",
        "    elif 0 == today_temp:\n",
        "        print(\"미지근한 아메리카노\")\n",
        "    else:\n",
        "        print(\"따뜻한 아메리카노\")\n",
        "else:\n",
        "    print(\"카푸치노\")"
      ],
      "metadata": {
        "colab": {
          "base_uri": "https://localhost:8080/"
        },
        "id": "W56wOgsrFOH6",
        "outputId": "9c3d2493-5b15-445e-c75f-1f012fa6001a"
      },
      "execution_count": 38,
      "outputs": [
        {
          "output_type": "stream",
          "name": "stdout",
          "text": [
            "카푸치노\n"
          ]
        }
      ]
    },
    {
      "cell_type": "markdown",
      "source": [
        "## 미션. 홀짝 판별기\n",
        "엘리스 토끼가 도도새와 함께 홀짝 게임을 하고 있어요!   \n",
        "홀짝 게임은 주먹으로 동전을 집었을 때, 주먹에 있는 동전의 개수가 홀수인지, 짝수인지 맞히는 게임이에요.\n",
        "\n",
        "if-else문을 이용해서 어떤 수를 입력했을 때 이 수가 홀수인지 짝수인지 판별하는 프로그램을 만들어 봅시다.\n",
        "\n",
        "짝수인 경우에는 “짝수입니다.”를 출력해요.   \n",
        "홀수인 경우에는 “홀수입니다.”를 출력해요.\n",
        "\n"
      ],
      "metadata": {
        "id": "BCVMqswEmRVe"
      }
    },
    {
      "cell_type": "markdown",
      "source": [
        "```#정답 예시.\n",
        "# 변수 num에 사용자로부터 입력받은 수가 저장돼요.\n",
        "num = int(input())\n",
        "\n",
        "# 조건이 참인 경우(짝수), 거짓인 경우(홀수)에 따라 적절한 실행 동작을 작성해 주세요.\n",
        "if num % 2 == 0 : # 짝수인 경우\n",
        "    print(\"짝수입니다.\")\n",
        "else : # 홀수인 경우\n",
        "    print(\"홀수입니다.\")\n",
        "```"
      ],
      "metadata": {
        "id": "roNy-IxiDU_2"
      }
    },
    {
      "cell_type": "code",
      "source": [
        "# 변수 num에 사용자로부터 입력받은 수가 저장돼요.\n",
        "\n",
        "\n",
        "# 조건이 참인 경우(짝수), 거짓인 경우(홀수)에 따라 적절한 실행 동작을 작성해 주세요.\n",
        "if None : # 짝수인 경우\n",
        "  print('짝')\n",
        "else : # 홀수인 경우\n",
        "  print('홀')"
      ],
      "metadata": {
        "id": "HY3S9Ocil-4B",
        "colab": {
          "base_uri": "https://localhost:8080/"
        },
        "outputId": "c8989781-e4d6-40cb-9171-170d8ee09eec"
      },
      "execution_count": 36,
      "outputs": [
        {
          "output_type": "stream",
          "name": "stdout",
          "text": [
            "홀\n"
          ]
        }
      ]
    },
    {
      "cell_type": "code",
      "source": [],
      "metadata": {
        "id": "VZnIJ5XOl-0M"
      },
      "execution_count": null,
      "outputs": []
    },
    {
      "cell_type": "markdown",
      "source": [
        "## 실습. 업-다운 게임\n",
        "토끼와 거북이가 업-다운 게임을 하고 있어요!\n",
        "\n",
        "업다운 게임은 한 사람이 어떤 수를 생각하고, 다른 사람이 그 수를 알아맞히는 게임이에요. 알아맞히는 사람이 어떤 수를 말하면 숫자를 생각한 사람은 생각한 숫자보다 큰지 작은지 답변해야 해요.\n",
        "\n",
        "if-elif-else문을 이용해서 업-다운 게임을 만들어 봅시다.\n",
        "\n",
        "submit이 answer보다 큰 경우, 작은 경우, 같은 경우에 각각 주어진 메시지를 출력해 보세요."
      ],
      "metadata": {
        "id": "WO8Uy1jHmW46"
      }
    },
    {
      "cell_type": "code",
      "source": [
        "from random import randint\n",
        "\n",
        "# 1~100 사이의 숫자가 랜덤으로 정답 숫자로 저장되요.\n",
        "answer = randint(1, 100)\n",
        "\n",
        "# input()으로 숫자를 입력 받아 변수 submit에 저장해 보세요.\n",
        "submit = int(input())\n",
        "\n",
        "# if-elif-else문으로 Up-Down Game을 구현해 보세요.\n",
        "# 만약 answer보다 submit이 더 크면 \"정답보다 큰 수를 입력했습니다.\"를,\n",
        "# answer보다 submit이 더 작으면 \"정답보다 작은 수를 입력했습니다.\"를,\n",
        "# answer와 submit이 같으면 \"정답!\"을 출력해 보세요.\n",
        "\n",
        "\n"
      ],
      "metadata": {
        "id": "Tupo2k8Vl-wu"
      },
      "execution_count": null,
      "outputs": []
    },
    {
      "cell_type": "markdown",
      "source": [
        "[학습활동]\n",
        "\n",
        "문제 조건을 확인한 후 조건문 작성하기\n",
        "\n",
        "조건1 : answer > submit\n",
        "조건2 : answer < submit\n",
        "조건3 : answer == submit\n",
        "각 조건문 별 기능 작성하기\n",
        "\n",
        "기능 작성 시, 콜론과 들여쓰기를 모두 잘 수행했는지 확인 필요\n",
        "이 실습은 2가지 방법으로 조건문을 구상할 수 있습니다.\n",
        "\n",
        "[방법1] if-elif-else 사용\n",
        "\n",
        "[방법2] if-elif-elif 사용\n",
        "\n",
        "📌 Tips\n",
        "\n",
        "게임의 난이도를 조절하기 위해서는 4번째 줄의 숫자를 적절히 조절해 보세요.   \n",
        "\n",
        "1에서 10 사이 숫자 선택 : randint(1, 10)   \n",
        "5에서 10 사이 숫자 선택 : randint(5, 10)   \n",
        "answer값과 submit값을 출력하여 업다운 게임의 결과가 적절한지 확인해 보세요.   \n",
        "\n",
        "print(\"answer :\", answer, \"  submit :\", submit)"
      ],
      "metadata": {
        "id": "HxJWnVdlmjjE"
      }
    },
    {
      "cell_type": "markdown",
      "source": [],
      "metadata": {
        "id": "gAGTIeBt56ZT"
      }
    },
    {
      "cell_type": "markdown",
      "source": [
        "## 실습. 내 용돈의 운명은?"
      ],
      "metadata": {
        "id": "gmIPFt-XF_f_"
      }
    },
    {
      "cell_type": "markdown",
      "source": [
        "이번 기말고사 시험성적에 따라 용돈의 운명이 바뀝니다. 엄마가 제시한 조건은 다음과 같습니다.\n",
        "\n",
        "영어 90점 이상, 수학 90점 이상(두 조건 모두 만족) : 용돈 인상\n",
        "영어 80점 이하, 수학 80점 이하(두 조건 모두 만족) : 용돈 삭감\n",
        "기타 : 동결\n",
        "수학성적과 영어성적을 담는 변수를 만들고, 점수에 따라 용돈의 운명을 출력하는 프로그램을 만들어 보세요."
      ],
      "metadata": {
        "id": "VoV-aqmDF_GV"
      }
    },
    {
      "cell_type": "code",
      "source": [
        "# 영어 90점 이상, 수학 90점 이상: 용돈 인상\n",
        "# 영어 80점 이하, 수학 80점 이하: 용돈 삭감\n",
        "\n",
        "math_score = 80\n",
        "eng_score = 100\n",
        "\n",
        "if eng_score >= 90 and math_score >= 90:\n",
        "    print(\"YAY! 용돈 인상\")\n",
        "elif eng_score <= 80 and math_score <= 80:\n",
        "    print(\"용돈 삭감 ㅠㅠ\")\n",
        "else:\n",
        "    print(\"동결\")"
      ],
      "metadata": {
        "colab": {
          "base_uri": "https://localhost:8080/"
        },
        "id": "fPJD1gPTF9mf",
        "outputId": "3710bd5c-f16d-4aa0-81f0-75fa3b7fc7ad"
      },
      "execution_count": 39,
      "outputs": [
        {
          "output_type": "stream",
          "name": "stdout",
          "text": [
            "동결\n"
          ]
        }
      ]
    },
    {
      "cell_type": "markdown",
      "source": [
        "## 미션. 용돈 협상\n",
        "\n",
        "엄마가 제시한 조건은 달성하기 너무 힘들 것 같습니다. 아래와 같이 협상하려고 합니다.\n",
        "\n",
        "영어 90점 이상 또는 수학 90점 이상 : 용돈 인상\n",
        "영어 80점 이하 또는 수학 80점 이하 : 용돈 삭감\n",
        "기타 : 동결\n",
        "수학성적과 영어성적을 담는 변수를 만들고, 점수에 따라 용돈의 운명을 출력하는 프로그램을 만들어 보세요."
      ],
      "metadata": {
        "id": "HsbVAlzQGR_x"
      }
    },
    {
      "cell_type": "code",
      "source": [
        "# 영어 90점 이상 또는 수학 90점 이상: 용돈 인상\n",
        "# 영어 80점 이하 또는 수학 80점 이하: 용돈 삭감\n",
        "\n",
        "math_score = 80\n",
        "eng_score = 100\n",
        "\n",
        "if eng_score >= 90 or math_score >= 90:\n",
        "    print(\"YAY! 용돈 인상\")\n",
        "elif eng_score <= 80 or math_score <= 80:\n",
        "    print(\"용돈 삭감 ㅠㅠ\")\n",
        "else:\n",
        "    print(\"동결\")"
      ],
      "metadata": {
        "id": "oATu0LcGGYNS"
      },
      "execution_count": null,
      "outputs": []
    },
    {
      "cell_type": "code",
      "source": [
        "#나의 협상 결과를 코딩해 보세요\n",
        "\n"
      ],
      "metadata": {
        "id": "Yl0w5YS8GduA"
      },
      "execution_count": null,
      "outputs": []
    },
    {
      "cell_type": "markdown",
      "source": [
        "# 반복문\n",
        "1. 횟수로 반복하기 for\n",
        "\n",
        "2. 조건으로 반복하기 while"
      ],
      "metadata": {
        "id": "LFrS34hh4maf"
      }
    },
    {
      "cell_type": "markdown",
      "source": [
        "## 횟수로 반복하기 for\n",
        "반복이 시작되기 전에 반복할 횟수를 정한다.   \n",
        "정해진 횟수만큼만 반복한다.\n",
        "\n"
      ],
      "metadata": {
        "id": "mvegadXp4waF"
      }
    },
    {
      "cell_type": "markdown",
      "source": [
        "### 실습. 열 마리 코끼리가 거미줄에 걸렸네\n",
        "\n",
        "코끼리들이 거미줄 그네를 타려고 줄을 서 있습니다!\n",
        "무거운 코끼리들 모두 일일이 그네 태우려면 너무 힘들겠군요.   \n",
        "for문을 이용하여 빠르게 그네를 태워보세요.\n",
        "\n",
        "```\n",
        "#정답\n",
        "nums = [1,2,3,4,5,6,7,8,9,10]   \n",
        "for i in nums:\n",
        "    print(i,\"번째 코끼리가 거미줄에 걸렸네♪\")\n",
        "```"
      ],
      "metadata": {
        "id": "7dod845PmpRq"
      }
    },
    {
      "cell_type": "code",
      "source": [
        "nums = [1,2,3,4,5,6,7,8,9,10]\n",
        "for i in nums:\n",
        "    print(i,\"번째 코끼리가 거미줄에 걸렸네♪\")"
      ],
      "metadata": {
        "id": "t-kYhOjImtuM"
      },
      "execution_count": null,
      "outputs": []
    },
    {
      "cell_type": "markdown",
      "source": [
        "## 실습.  1문제 더\n",
        "1학년 2반 학생들의 시험 성적은 다음과 같습니다.\n",
        "\n",
        "[80, 90, 70, 65, 85, 95, 90, 80, 75, 80]\n",
        "\n",
        "시험 문제 중, 한 문제가 잘못 출제되어 모두 5점씩 추가 점수를 받도록 조치를 취했습니다.    \n",
        "변경 후 점수를 출력하세요."
      ],
      "metadata": {
        "id": "At5Tk6TzJJUb"
      }
    },
    {
      "cell_type": "markdown",
      "source": [
        "```#정답 예시\n",
        "\n",
        "scores = [80, 90, 70, 65, 85, 95, 90, 80, 75, 80]\n",
        "new_scores = []\n",
        "\n",
        "for s in scores:\n",
        "    new = s + 5\n",
        "    new_scores.append(new)\n",
        "\n",
        "print(new_scores)\n",
        "```"
      ],
      "metadata": {
        "id": "8fz1kL6aJUT1"
      }
    },
    {
      "cell_type": "code",
      "source": [
        "scores = [80, 90, 70, 65, 85, 95, 90, 80, 75, 80]\n",
        "new_scores = []\n",
        "\n",
        "# 모든 학생의 점수를 5점씩 늘려주세요\n",
        "\n",
        "print(new_scores)"
      ],
      "metadata": {
        "colab": {
          "base_uri": "https://localhost:8080/"
        },
        "id": "UQgaYKvgJMDv",
        "outputId": "25281603-18ac-485b-cb64-64b5c3449e5b"
      },
      "execution_count": 53,
      "outputs": [
        {
          "output_type": "stream",
          "name": "stdout",
          "text": [
            "[]\n"
          ]
        }
      ]
    },
    {
      "cell_type": "markdown",
      "source": [
        "## 리스트 컴프리헨션\n",
        "\n",
        "리스트 속에서 if문과 for문이 결합한다\n"
      ],
      "metadata": {
        "id": "3hcVjujKKB7w"
      }
    },
    {
      "cell_type": "markdown",
      "source": [
        "\n",
        "![image.png](data:image/png;base64,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)"
      ],
      "metadata": {
        "id": "FtBwvSTbJpYe"
      }
    },
    {
      "cell_type": "code",
      "source": [
        "new_score2 = [s + 5 if s < 100 else s for s in scores ]\n",
        "new_score2"
      ],
      "metadata": {
        "id": "OeUez_s8J3NK"
      },
      "execution_count": null,
      "outputs": []
    },
    {
      "cell_type": "markdown",
      "source": [
        "## range로 만들기\n",
        "일정한 범위의 정수들을 한번에 생성한다(규칙, 순서가 존재한다).\n",
        "\n",
        "> range([from_value,] end_value [,step])"
      ],
      "metadata": {
        "id": "nmZHjdI46jFs"
      }
    },
    {
      "cell_type": "code",
      "source": [
        "range(1,100)"
      ],
      "metadata": {
        "colab": {
          "base_uri": "https://localhost:8080/"
        },
        "id": "q3UofBr2Ivo0",
        "outputId": "e736fcad-6740-4abd-895a-a4fe0719cee7"
      },
      "execution_count": 50,
      "outputs": [
        {
          "output_type": "execute_result",
          "data": {
            "text/plain": [
              "range(1, 100)"
            ]
          },
          "metadata": {},
          "execution_count": 50
        }
      ]
    },
    {
      "cell_type": "code",
      "source": [
        "myran = range(1,100)\n",
        "list(myran)"
      ],
      "metadata": {
        "id": "kCRntHNsIzBr"
      },
      "execution_count": null,
      "outputs": []
    },
    {
      "cell_type": "code",
      "source": [
        "for i in range(10) :\n",
        "    print(\"We Love Python\")"
      ],
      "metadata": {
        "id": "TKdDbqW4nBLr"
      },
      "execution_count": null,
      "outputs": []
    },
    {
      "cell_type": "markdown",
      "source": [
        "###실습. 100을 세는 동안 꼭꼭 숨어라\n",
        "코더랜드 동물 친구들이 숨바꼭질하고 있네요. 술래가 된 체셔가 외칩니다.   \n",
        "100까지 센 다음 찾는다~!   \n",
        "꾀쟁이 체셔는 반복문을 이용해서 100까지 한 번에 다 세 버린 다음 동물 친구들이 미처 숨기도 전에 찾으러 갈 속셈입니다.\n",
        "100까지 세는 반복문을 작성해 보세요.\n"
      ],
      "metadata": {
        "id": "iUZa32uUm0hz"
      }
    },
    {
      "cell_type": "markdown",
      "source": [
        "```#정답\n",
        "for i in range(1, 101):\n",
        "    print(i)\n",
        "```"
      ],
      "metadata": {
        "id": "TnzjwZix7LUz"
      }
    },
    {
      "cell_type": "code",
      "source": [
        "# 반복문을 이용하여 1부터 100까지 한 줄에 하나씩 출력하는 코드를 작성해 보세요.\n",
        "\n"
      ],
      "metadata": {
        "id": "afEChcivmtq0"
      },
      "execution_count": null,
      "outputs": []
    },
    {
      "cell_type": "markdown",
      "source": [
        "## 조건으로 반복하기 while\n",
        "\n",
        "조건이 참인 동안에는 계속해서 반복한다.   \n",
        "반복되는 문장 안에서 반복문을 빠져나갈 수 있도록 조건을 변경할 수 있는 문장이 있어야 한다.\n",
        "\n",
        "> while 반복문 : True인 동안 반복한다. (False가 되면 반복에서 벗어남)"
      ],
      "metadata": {
        "id": "0sgHTW1I5ATH"
      }
    },
    {
      "cell_type": "code",
      "source": [
        "while i<101:\n",
        "  print(i)"
      ],
      "metadata": {
        "colab": {
          "base_uri": "https://localhost:8080/",
          "height": 204
        },
        "id": "uEU-K-n0LjBw",
        "outputId": "173ba5c3-edf0-463c-bf5b-9ce303d01af3"
      },
      "execution_count": 54,
      "outputs": [
        {
          "output_type": "error",
          "ename": "NameError",
          "evalue": "ignored",
          "traceback": [
            "\u001b[0;31m---------------------------------------------------------------------------\u001b[0m",
            "\u001b[0;31mNameError\u001b[0m                                 Traceback (most recent call last)",
            "\u001b[0;32m<ipython-input-54-c9e2ab926e08>\u001b[0m in \u001b[0;36m<cell line: 1>\u001b[0;34m()\u001b[0m\n\u001b[0;32m----> 1\u001b[0;31m \u001b[0;32mwhile\u001b[0m \u001b[0mi\u001b[0m\u001b[0;34m<\u001b[0m\u001b[0;36m101\u001b[0m\u001b[0;34m:\u001b[0m\u001b[0;34m\u001b[0m\u001b[0;34m\u001b[0m\u001b[0m\n\u001b[0m\u001b[1;32m      2\u001b[0m   \u001b[0mprint\u001b[0m\u001b[0;34m(\u001b[0m\u001b[0mi\u001b[0m\u001b[0;34m)\u001b[0m\u001b[0;34m\u001b[0m\u001b[0;34m\u001b[0m\u001b[0m\n",
            "\u001b[0;31mNameError\u001b[0m: name 'i' is not defined"
          ]
        }
      ]
    },
    {
      "cell_type": "code",
      "source": [
        "i = 0\n",
        "while i<101:\n",
        "  print(i)\n",
        "  i=i+1"
      ],
      "metadata": {
        "id": "ffzMUVN7L06W"
      },
      "execution_count": null,
      "outputs": []
    },
    {
      "cell_type": "markdown",
      "source": [
        "### 실습. 카운트 다운\n",
        "\n",
        "어느덧 12/31일이 끝나갑니다. 새해를 맞이하며 다 같이 카운트 다운을 해봐요!\n",
        "10, 9, 8, …, 1 연속된 숫자를 10부터 1까지 거꾸로 차례대로 출력하려면 어떻게 해야 할까요? while 문을 활용하여 코드를 작성해 보세요.\n",
        "\n",
        "Tips.\n",
        "i에서 1씩 빼면서 조건이 거짓이 될때까지 반복하도록 변수를 수정하는 명령을 작성해 보세요. (i = i - 1)"
      ],
      "metadata": {
        "id": "atm4Q6wjnHBD"
      }
    },
    {
      "cell_type": "markdown",
      "source": [
        "```\n",
        "#정답 예시\n",
        "i = 10\n",
        "\n",
        "# while문을 사용해 10부터 1까지의 연속된 숫자를 거꾸로 출력하는 코드를 작성해 보세요.\n",
        "while i > 0:\n",
        "    print(i)\n",
        "    i = i - 1\n",
        "```"
      ],
      "metadata": {
        "id": "i2oerzsXLQTE"
      }
    },
    {
      "cell_type": "code",
      "source": [
        "i = 10\n",
        "\n",
        "# while문을 사용해 10부터 1까지의 연속된 숫자를 거꾸로 출력하는 코드를 작성합니다.\n",
        "\n"
      ],
      "metadata": {
        "id": "dA563cxinBBL"
      },
      "execution_count": null,
      "outputs": []
    },
    {
      "cell_type": "markdown",
      "source": [
        "10년 형에 처한다\n",
        "이곳은 코딩 법정. 당신의 죄목은 파이썬 태만죄. 다른 일을 핑계로 파이썬을 소홀히 한 죄입니다. 파이썬의 창시자 귀도 반 로섬 판사님께서 당신에게 판결을 내리는군요!\n",
        "\n",
        "익숙함에 속아 소중한 것을 잃어버리다니, 딱하다! 징역 10년 형에 처한다!\n",
        "\n",
        "while문을 이용해서 10년 형을 살고, 새사람이 되어 나와봅시다! 아래와 같은 출력 결과가 나오도록 while문을 작성해 보세요.\n",
        "\n",
        "\n",
        "이렇게 해봅시다!\n",
        "출력 결과에서 반복되는 부분을 확인하고, while 문을 사용해 명령을 작성하세요.\n",
        "조건이 변화하는 부분을 확인하고, 변수 i를 수정하는 명령을 작성해 보세요.\n",
        "반복문이 종료된 후, “감옥에서 석방되었습니다!”를 출력해 보세요."
      ],
      "metadata": {
        "id": "kF64O8HLnQ5T"
      }
    },
    {
      "cell_type": "code",
      "source": [
        "#while을 이용해서 \"i년째 수감 중입니다.\"를 출력해 보세요.\n",
        "#while문이 종료된 후에는, \"감옥에서 석방되었습니다!\"를 출력해 보세요.\n",
        "i = 1\n",
        "\n",
        "while i > 10:\n",
        "    print(i, \"년째 수감 중입니다.\")\n",
        "    i += 1\n",
        "print(\"감옥에서 석방되었습니다!\")"
      ],
      "metadata": {
        "id": "wn3oUFe0nA9p"
      },
      "execution_count": null,
      "outputs": []
    },
    {
      "cell_type": "markdown",
      "source": [
        "## 반복문과 조건문"
      ],
      "metadata": {
        "id": "NNEPDhGA8cWp"
      }
    },
    {
      "cell_type": "markdown",
      "source": [
        "도도새의 적금 타기\n",
        "도도새가 코더랜드 은행에 12개월 동안 매월 만 원씩 적금을 부었습니다. 코더랜드 은행에서 만든 적금 break 문을 따라서 써보면서 break 문의 작동 원리를 익혀 봅시다. 코드의 순서에 유의하며 따라서 써 보세요.\n",
        "\n",
        "i = 1\n",
        "while True :\n",
        "    print(i, \"월 만원을 입금했습니다.\")\n",
        "    if i == 12:\n",
        "        print(\"입금 완료! 12만원을 수령하세요!\")\n",
        "        break\n",
        "    i = i + 1\n",
        "Copy\n",
        "\n",
        "이렇게 해봅시다!\n",
        "아래 질문의 답을 생각하면서 코드를 따라 적고 실행해 보세요.\n",
        "\n",
        "작성한 코드는 어떤 작업을 하는 코드인가요?\n",
        "while 문의 조건에 True가 들어갔습니다. 이는 어떤 의미일까요?\n",
        "i = i + 1을 해준 이유는?\n",
        "print(i)와 if문(4~6번째 줄)의 위치를 바꾸면 어떻게 될까요? 바꿔보고 실행 결과가 어떻게 달라지는지 확인해 보세요.\n",
        "break는 실행되는 즉시 반복문을 탈출하기 때문에, 보통 조건문과 함께 사용됩니다.\n",
        "들여쓰기에 주의하세요! 들여쓰기를 어떻게 하느냐에 따라 실행 결과가 달라질 수 있어요."
      ],
      "metadata": {
        "id": "FDfdAAZlnba2"
      }
    },
    {
      "cell_type": "code",
      "source": [
        "i = 1\n",
        "while True :\n",
        "    print(i, \"월 만원을 입금했습니다.\")\n",
        "    if i == 12:\n",
        "        print(\"입금 완료! 12만원을 수령하세요!\")\n",
        "        break\n",
        "    i = i + 1"
      ],
      "metadata": {
        "id": "DxZvcxgcncYS"
      },
      "execution_count": null,
      "outputs": []
    },
    {
      "cell_type": "markdown",
      "source": [
        "##실습. 위기탈출 넘버원 break\n",
        "도도새가 1부터 10까지 더하고 출력하는 코딩 실습을 하고 있습니다.\n",
        "\n",
        "앗! 그런데 큰일 났어요! [실행] 버튼을 누르는 순간 의도치 않게도 수없이 많은 코드가 멈추지 않고 계속 출력되고 있네요!\n",
        "\n",
        "하지만 괜찮아요. 우리의 소중한 코드를 무한루프로부터 지켜주는 break가 있으니까요!\n",
        "\n",
        "도도새가 쓴 코드를 보고 코드의 잘못된 부분을 찾아 고쳐 주세요!"
      ],
      "metadata": {
        "id": "pbbFf0DUnj2y"
      }
    },
    {
      "cell_type": "markdown",
      "source": [
        "```\n",
        "#정답  예시\n",
        "# 다음은 while True:를 이용하여 도도새가 짠 코드입니다.\n",
        "i = 1\n",
        "ans = 0\n",
        "while True:\n",
        "    ans = ans + i\n",
        "    i+=1\n",
        "    if i>10:\n",
        "        break\n",
        "\n",
        "\n",
        "print(ans)\n",
        "# 위 코드에서 잘못된 점을 찾아서 고쳐줍시다!\n",
        "# 단, while True: 부분은 수정하면 안됩니다.\n",
        "```"
      ],
      "metadata": {
        "id": "Zeu20kdfK3IC"
      }
    },
    {
      "cell_type": "code",
      "source": [
        "# 다음은 while True:를 이용하여 도도새가 짠 코드입니다.\n",
        "i = 1\n",
        "ans = 0\n",
        "while True:\n",
        "    ans = ans + i\n",
        "\n",
        "\n",
        "print(ans)\n",
        "# 위 코드에서 잘못된 점을 찾아서 고쳐 주세요!\n",
        "# 단, while True: 부분은 수정하면 안됩니다."
      ],
      "metadata": {
        "id": "k2cTsYeMncU-"
      },
      "execution_count": null,
      "outputs": []
    },
    {
      "cell_type": "code",
      "source": [],
      "metadata": {
        "id": "XqXyeTPbncRa"
      },
      "execution_count": null,
      "outputs": []
    },
    {
      "cell_type": "code",
      "source": [],
      "metadata": {
        "id": "V0t9rDj3ncNi"
      },
      "execution_count": null,
      "outputs": []
    },
    {
      "cell_type": "code",
      "source": [],
      "metadata": {
        "id": "gHVHCi-DncI6"
      },
      "execution_count": null,
      "outputs": []
    }
  ]
}