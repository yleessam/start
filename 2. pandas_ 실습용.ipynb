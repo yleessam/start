{
 "cells": [
  {
   "cell_type": "markdown",
   "id": "3f2c9351-74b0-4131-8eda-1f949cc15307",
   "metadata": {},
   "source": [
    "### 1) 데이터를 입력해서 데이터프레임 만들기"
   ]
  },
  {
   "cell_type": "code",
   "execution_count": null,
   "id": "6fd1d40d-e27a-47f9-a000-1bb6c39300a8",
   "metadata": {
    "tags": []
   },
   "outputs": [],
   "source": [
    "# 1) 데이터를 입력해서 데이터프레임 만들기\n",
    "\n",
    "\n",
    "\n",
    "\n"
   ]
  },
  {
   "cell_type": "markdown",
   "id": "1779daf3-6a91-41d8-a6dd-c6e657f30807",
   "metadata": {},
   "source": [
    "### 2) 데이터프레임에 열(컬럼) 이름과 인덱스 이름 설정"
   ]
  },
  {
   "cell_type": "code",
   "execution_count": null,
   "id": "88f2772c-70ef-4141-88ac-058f6b39a0b2",
   "metadata": {
    "tags": []
   },
   "outputs": [],
   "source": [
    "# 2)-1 데이터프레임에 열(컬럼) 이름과 인덱스 이름 설정\n",
    "\n",
    "\n"
   ]
  },
  {
   "cell_type": "code",
   "execution_count": null,
   "id": "41ae91b3-640a-490c-915e-80a8f5597138",
   "metadata": {
    "tags": []
   },
   "outputs": [],
   "source": [
    "# 2)-2 데이터프레임을 처음 만들 때 열 이름과 인덱스 이름 설정\n",
    "\n",
    "\n"
   ]
  },
  {
   "cell_type": "markdown",
   "id": "99a60c4c-0399-4d7d-938d-c1b805d92312",
   "metadata": {},
   "source": [
    "### 3) 열 데이터로 데이터프레임 만들기"
   ]
  },
  {
   "cell_type": "code",
   "execution_count": null,
   "id": "a7f82d8f-9e21-49d5-96cb-891cf8351934",
   "metadata": {
    "tags": []
   },
   "outputs": [],
   "source": [
    "# 3) 열 데이터로 데이터프레임 만들기\n",
    "\n",
    "\n",
    "\n"
   ]
  },
  {
   "cell_type": "markdown",
   "id": "bb4fd1bb-77e0-4304-b545-4eb03351ef09",
   "metadata": {},
   "source": [
    "### 4) 외부 데이터 이용해서 데이터프레임 만들기"
   ]
  },
  {
   "cell_type": "code",
   "execution_count": null,
   "id": "7f3f90d5-0faf-4c84-b8e3-e6d51fec2b43",
   "metadata": {
    "tags": []
   },
   "outputs": [],
   "source": [
    "# 4) 외부 데이터 이용해서 데이터프레임 만들기\n",
    "\n",
    "\n"
   ]
  },
  {
   "cell_type": "markdown",
   "id": "d3bf4168-1500-4827-b98a-04fd7be41459",
   "metadata": {},
   "source": [
    "### 데이터 분석 기초"
   ]
  },
  {
   "cell_type": "markdown",
   "id": "9ec5e4d7-108b-41b3-8f6d-c0b4f59a9eec",
   "metadata": {},
   "source": [
    "#### 가. 데이터 파악하기"
   ]
  },
  {
   "cell_type": "markdown",
   "id": "7efb610a-2f7b-4290-a830-f4618b179a30",
   "metadata": {},
   "source": [
    "##### 1) 데이터 앞부분 출력하기"
   ]
  },
  {
   "cell_type": "code",
   "execution_count": null,
   "id": "7413a82c-d5df-47b5-ae7b-4af89f5018bf",
   "metadata": {
    "tags": []
   },
   "outputs": [],
   "source": []
  },
  {
   "cell_type": "markdown",
   "id": "f75c0c23-b4ad-481c-a48a-b493628e24c8",
   "metadata": {},
   "source": [
    "##### 2) 데이터 뒷부분 출력하기"
   ]
  },
  {
   "cell_type": "code",
   "execution_count": null,
   "id": "a3ebda2e-9eae-44b9-a564-83656f21ce9a",
   "metadata": {
    "tags": []
   },
   "outputs": [],
   "source": []
  },
  {
   "cell_type": "markdown",
   "id": "0be87cf4-b0b5-420f-938e-417966965228",
   "metadata": {},
   "source": [
    "##### 3) 데이터프레임의 크기 알아보기"
   ]
  },
  {
   "cell_type": "code",
   "execution_count": null,
   "id": "e523d299-848c-4932-b2fb-fcfa9f83ac94",
   "metadata": {
    "tags": []
   },
   "outputs": [],
   "source": []
  },
  {
   "cell_type": "markdown",
   "id": "24d1f738-0712-4840-9e69-762fe927aa8f",
   "metadata": {},
   "source": [
    "##### 4) 컬럼(변수) 속성 파악하기"
   ]
  },
  {
   "cell_type": "code",
   "execution_count": null,
   "id": "93ab9998-2e22-4a43-bc06-b90d17858759",
   "metadata": {
    "tags": []
   },
   "outputs": [],
   "source": []
  },
  {
   "cell_type": "markdown",
   "id": "22161848-39db-46bb-8bd9-ff7fb87227db",
   "metadata": {},
   "source": [
    "##### 5) 요약 통계량 구하기"
   ]
  },
  {
   "cell_type": "code",
   "execution_count": null,
   "id": "82f2e12a-31da-4212-b791-757f2929fdc6",
   "metadata": {
    "tags": []
   },
   "outputs": [],
   "source": []
  },
  {
   "cell_type": "markdown",
   "id": "3f370925-8c27-4b84-8690-282b046ea39e",
   "metadata": {},
   "source": [
    "##### 6) 열 이름 확인하기"
   ]
  },
  {
   "cell_type": "code",
   "execution_count": null,
   "id": "80a8bf6f-96b4-473f-9400-1d157f43a03e",
   "metadata": {
    "tags": []
   },
   "outputs": [],
   "source": []
  },
  {
   "cell_type": "markdown",
   "id": "263195da-0608-4a24-b388-a4db530d4956",
   "metadata": {},
   "source": [
    "##### 7) 인덱스 이름 확인하기"
   ]
  },
  {
   "cell_type": "code",
   "execution_count": null,
   "id": "f2d75ebe-9d40-42de-b2b5-872e6dcd9284",
   "metadata": {
    "tags": []
   },
   "outputs": [],
   "source": []
  },
  {
   "cell_type": "markdown",
   "id": "926163f5-4e57-4a85-a3f4-85142d042f21",
   "metadata": {},
   "source": [
    "##### 8) 데이터 타입 알아보기"
   ]
  },
  {
   "cell_type": "code",
   "execution_count": null,
   "id": "77a02539-6526-4f6c-b915-62859caa7b63",
   "metadata": {
    "tags": []
   },
   "outputs": [],
   "source": []
  },
  {
   "cell_type": "markdown",
   "id": "3271278e-d3ab-4f6b-ae9f-f2727fd55a11",
   "metadata": {},
   "source": [
    "##### 9) 데이터 개수 알아보기"
   ]
  },
  {
   "cell_type": "code",
   "execution_count": null,
   "id": "b95e930b-e4fb-4b06-bade-d2e114d2bdf7",
   "metadata": {
    "tags": []
   },
   "outputs": [],
   "source": []
  },
  {
   "cell_type": "markdown",
   "id": "5f13618b-83a6-45cf-b971-9e18292cce3f",
   "metadata": {},
   "source": [
    "##### 10) 열 데이터 추출하기"
   ]
  },
  {
   "cell_type": "code",
   "execution_count": null,
   "id": "559b516d-dffa-4235-be41-3c379bcd0e51",
   "metadata": {
    "tags": []
   },
   "outputs": [],
   "source": []
  },
  {
   "cell_type": "code",
   "execution_count": null,
   "id": "94588f32-990a-42b4-956a-3501e39e77dd",
   "metadata": {
    "tags": []
   },
   "outputs": [],
   "source": [
    "# 열 데이터 여러 개 출력\n"
   ]
  },
  {
   "cell_type": "markdown",
   "id": "343782e4-55d6-4710-b510-4aaa1b942324",
   "metadata": {},
   "source": [
    "##### 11) 행 데이터 추출하기"
   ]
  },
  {
   "cell_type": "code",
   "execution_count": null,
   "id": "84c112e5-cfab-4e88-8a26-50bd3a2f14d3",
   "metadata": {
    "tags": []
   },
   "outputs": [],
   "source": []
  },
  {
   "cell_type": "code",
   "execution_count": null,
   "id": "268b42fd-c87b-4b5e-ac27-648054c3bf6a",
   "metadata": {
    "tags": []
   },
   "outputs": [],
   "source": []
  },
  {
   "cell_type": "markdown",
   "id": "9f5ffaf9-e9d1-430e-a341-65d85e6361a2",
   "metadata": {},
   "source": [
    "##### 12) 요소 데이터 추출하기"
   ]
  },
  {
   "cell_type": "code",
   "execution_count": null,
   "id": "8aaa3015-6b84-4b44-a43a-05c2951db579",
   "metadata": {
    "tags": []
   },
   "outputs": [],
   "source": []
  },
  {
   "cell_type": "markdown",
   "id": "980d1efc-9715-4f64-aa48-c3492dac5621",
   "metadata": {},
   "source": [
    "##### 13) 열 데이터와 행 데이터 추가"
   ]
  },
  {
   "cell_type": "code",
   "execution_count": null,
   "id": "9b0ade24-ced5-4798-85e2-28f2caa1c606",
   "metadata": {
    "tags": []
   },
   "outputs": [],
   "source": [
    "# 열 데이터 추가\n"
   ]
  },
  {
   "cell_type": "code",
   "execution_count": null,
   "id": "02eb4cc6-bfa4-4215-bbc3-3f8c68fb7252",
   "metadata": {
    "tags": []
   },
   "outputs": [],
   "source": [
    "# 행 데이터 추가, concat 이용하기\n"
   ]
  },
  {
   "cell_type": "markdown",
   "id": "dde6e617-a639-4c30-a2fb-12f02e2f5005",
   "metadata": {},
   "source": [
    "##### 14) 열 데이터와 행 데이터 삭제"
   ]
  },
  {
   "cell_type": "code",
   "execution_count": null,
   "id": "9fff9c99-b71f-4813-ace3-9ce6a200be74",
   "metadata": {
    "tags": []
   },
   "outputs": [],
   "source": [
    "# 열 데이터 삭제\n"
   ]
  },
  {
   "cell_type": "code",
   "execution_count": null,
   "id": "cb5456a9-12f1-4f09-90ac-e188b8c3ffbb",
   "metadata": {
    "tags": []
   },
   "outputs": [],
   "source": [
    "# 행 데이터 삭제\n"
   ]
  },
  {
   "cell_type": "markdown",
   "id": "a3009954-b74f-4785-b8de-f0145d0721fa",
   "metadata": {},
   "source": [
    "##### 15) 조건으로 데이터 추출"
   ]
  },
  {
   "cell_type": "code",
   "execution_count": null,
   "id": "e32f5c58-8e33-4d4c-860a-9d0de370c3e5",
   "metadata": {
    "tags": []
   },
   "outputs": [],
   "source": []
  },
  {
   "cell_type": "code",
   "execution_count": null,
   "id": "b0f85875-b964-45a1-a85c-33ffc55ce4b6",
   "metadata": {
    "tags": []
   },
   "outputs": [],
   "source": []
  },
  {
   "cell_type": "markdown",
   "id": "f17736a4-338f-41e7-b44c-d7cc19ae84a8",
   "metadata": {},
   "source": [
    "##### 16) 결측값의 처리"
   ]
  },
  {
   "cell_type": "code",
   "execution_count": null,
   "id": "00c8de94-85ec-4ec6-a1f8-b9a0c2445fcb",
   "metadata": {
    "tags": []
   },
   "outputs": [],
   "source": []
  },
  {
   "cell_type": "code",
   "execution_count": null,
   "id": "fcaf13e4-c600-41e4-b831-0ddcb7cd48e2",
   "metadata": {
    "tags": []
   },
   "outputs": [],
   "source": [
    "# ① 결측값 확인\n"
   ]
  },
  {
   "cell_type": "code",
   "execution_count": null,
   "id": "0fd99515-adad-4f2b-a6d1-55f76b38364b",
   "metadata": {
    "tags": []
   },
   "outputs": [],
   "source": [
    "# ② 결측값의 개수\n"
   ]
  },
  {
   "cell_type": "code",
   "execution_count": null,
   "id": "ce00fa8b-11d6-4267-80b0-70653482281e",
   "metadata": {
    "tags": []
   },
   "outputs": [],
   "source": [
    "# ③ 결측값이 있는 행 삭제\n"
   ]
  },
  {
   "cell_type": "code",
   "execution_count": null,
   "id": "20c2a83f-fe54-47b1-ad94-010bca90400c",
   "metadata": {
    "tags": []
   },
   "outputs": [],
   "source": [
    "# ④ 지정한 열에서 결측값이 있는 행을 삭제\n"
   ]
  },
  {
   "cell_type": "code",
   "execution_count": null,
   "id": "3126473c-e85c-45fe-ac42-5a78cb29372f",
   "metadata": {
    "tags": []
   },
   "outputs": [],
   "source": [
    "# ⑤ 결측값을 0으로 채우기\n"
   ]
  },
  {
   "cell_type": "markdown",
   "id": "f7347067-a4bc-4b04-b699-f2af752459df",
   "metadata": {},
   "source": [
    "##### 17) 문자열형 데이터를 수치로 변환하기"
   ]
  },
  {
   "cell_type": "code",
   "execution_count": null,
   "id": "1a4155fe-d040-4608-88bc-b5ea1b7701a0",
   "metadata": {
    "tags": []
   },
   "outputs": [],
   "source": []
  },
  {
   "cell_type": "code",
   "execution_count": null,
   "id": "39120bc5-a38d-428e-97cb-64e82512942d",
   "metadata": {
    "tags": []
   },
   "outputs": [],
   "source": [
    "# 열 데이터 타입\n"
   ]
  },
  {
   "cell_type": "code",
   "execution_count": null,
   "id": "b954eaef-601f-47e2-bf76-e9a5cef9d44d",
   "metadata": {
    "tags": []
   },
   "outputs": [],
   "source": [
    "# 문자열 데이터를 정수로 변환, 콤마 제거\n"
   ]
  },
  {
   "cell_type": "code",
   "execution_count": null,
   "id": "aec98f13-9259-4ec8-a3c8-00f47801a9fc",
   "metadata": {
    "tags": []
   },
   "outputs": [],
   "source": [
    "df"
   ]
  },
  {
   "cell_type": "code",
   "execution_count": null,
   "id": "cb8bd959-548d-4528-8858-937175eeb647",
   "metadata": {
    "tags": []
   },
   "outputs": [],
   "source": [
    "# 문자열 데이터를 정수로 변환\n"
   ]
  },
  {
   "cell_type": "code",
   "execution_count": null,
   "id": "c809d38a-0e55-459c-be68-693415975f5c",
   "metadata": {
    "tags": []
   },
   "outputs": [],
   "source": [
    "df"
   ]
  },
  {
   "cell_type": "code",
   "execution_count": null,
   "id": "4e8c3290-b288-4e8f-8880-a5d30cbf4e50",
   "metadata": {
    "tags": []
   },
   "outputs": [],
   "source": []
  },
  {
   "cell_type": "code",
   "execution_count": null,
   "id": "bb87b290-a9d0-4bbb-aa1c-b16515864d09",
   "metadata": {
    "tags": []
   },
   "outputs": [],
   "source": []
  },
  {
   "cell_type": "code",
   "execution_count": null,
   "id": "b3f65029-1477-4885-9d27-6ff1f3de0c23",
   "metadata": {
    "tags": []
   },
   "outputs": [],
   "source": [
    "# 국어, 수학, 영어 점수의 합계 구하기\n"
   ]
  },
  {
   "cell_type": "code",
   "execution_count": null,
   "id": "e1994a66-6443-4a17-af8d-98a1f398f4d5",
   "metadata": {
    "tags": []
   },
   "outputs": [],
   "source": [
    "# 평균이 70 이상이면 성취도가 A, 그렇지 않으면 B를 전달\n"
   ]
  },
  {
   "cell_type": "code",
   "execution_count": null,
   "id": "b920416f-0f12-49a6-a539-8830cc67aa34",
   "metadata": {
    "tags": []
   },
   "outputs": [],
   "source": [
    "# 성취도 열(변수) 데이터의 종류별 개수\n"
   ]
  },
  {
   "cell_type": "code",
   "execution_count": null,
   "id": "9530e1fe-fe85-4117-9ed0-7280f0647da9",
   "metadata": {
    "tags": []
   },
   "outputs": [],
   "source": [
    "# 성취도 열(변수) 데이터의 종류별 개수 정렬하기\n"
   ]
  },
  {
   "cell_type": "code",
   "execution_count": null,
   "id": "0a7f7c25-4684-40e5-a258-ef34c334e4e1",
   "metadata": {
    "tags": []
   },
   "outputs": [],
   "source": [
    "# 성취도 빈도 막대 그래프 그리기\n"
   ]
  },
  {
   "cell_type": "code",
   "execution_count": null,
   "id": "160f56e0-e858-49a6-a1af-baba250d3d40",
   "metadata": {
    "tags": []
   },
   "outputs": [],
   "source": [
    "# 평균이 80 이상이면 성취도가 A, 60이상이면 B, 그렇지 않으면 C를 전달\n"
   ]
  }
 ],
 "metadata": {
  "kernelspec": {
   "display_name": "Python 3 (ipykernel)",
   "language": "python",
   "name": "python3"
  },
  "language_info": {
   "codemirror_mode": {
    "name": "ipython",
    "version": 3
   },
   "file_extension": ".py",
   "mimetype": "text/x-python",
   "name": "python",
   "nbconvert_exporter": "python",
   "pygments_lexer": "ipython3",
   "version": "3.11.4"
  }
 },
 "nbformat": 4,
 "nbformat_minor": 5
}
