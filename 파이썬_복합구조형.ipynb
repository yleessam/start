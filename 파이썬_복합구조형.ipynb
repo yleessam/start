{
  "nbformat": 4,
  "nbformat_minor": 0,
  "metadata": {
    "colab": {
      "provenance": [],
      "authorship_tag": "ABX9TyPqcLlc7tNz8YhDZqTs2Xl+",
      "include_colab_link": true
    },
    "kernelspec": {
      "name": "python3",
      "display_name": "Python 3"
    },
    "language_info": {
      "name": "python"
    }
  },
  "cells": [
    {
      "cell_type": "markdown",
      "metadata": {
        "id": "view-in-github",
        "colab_type": "text"
      },
      "source": [
        "<a href=\"https://colab.research.google.com/github/yleessam/start/blob/main/%ED%8C%8C%EC%9D%B4%EC%8D%AC_%EB%B3%B5%ED%95%A9%EA%B5%AC%EC%A1%B0%ED%98%95.ipynb\" target=\"_parent\"><img src=\"https://colab.research.google.com/assets/colab-badge.svg\" alt=\"Open In Colab\"/></a>"
      ]
    },
    {
      "cell_type": "code",
      "source": [
        "# 1. 사용자로부터 입력받은 숫자를 차례대로 num1, num2, num3 변수에 저장합니다.\n",
        "num1= int(input())\n",
        "num2= int(input())\n",
        "num3= int(input())\n",
        "\n",
        "\n",
        "\n",
        "# 2. 가장 큰 수를 저장할 변수  result를 0으로 초기화 합니다.\n",
        "result = 0\n",
        "\n",
        "\n",
        "\n",
        "# 3.세 수를 비교하여 가장 큰 수를result에 저장합니다.\n",
        "if num1 > num2 :\n",
        "    if num1 > num3 :\n",
        "        result = num1\n",
        "    else :\n",
        "        result = num3\n",
        "else:\n",
        "    if num2 > num3 :\n",
        "        result = num2\n",
        "    else:\n",
        "        result = num3\n",
        "\n",
        "\n",
        "\n",
        "# 저장된 숫자가 출력됩니다.\n",
        "print(\"가장 큰 수 :\", result)"
      ],
      "metadata": {
        "id": "z0VFjSLS5gFk"
      },
      "execution_count": null,
      "outputs": []
    },
    {
      "cell_type": "code",
      "source": [
        "# 회원의 이름과 전화번호 목록입니다.\n",
        "member_info = {'엘리스':'010-1234-1234', '도도새':'010-3456-3456', '흰토끼':'010-5678-5678', '모자장수':'010-7890-7890'}\n",
        "\n",
        "name = input()\n",
        "\n",
        "# 1. in 을 사용하여 회원의 이름이 존재하는지를 True 혹은 False로 저장합니다.\n",
        "if_exist = name in member_info\n",
        "\n",
        "\n",
        "# 2. phone에는 if_exist가 True라면 전화번호를, 아니라면 None을 저장합니다.\n",
        "if if_exist == True:\n",
        "    phone = member_info[name]\n",
        "else:\n",
        "    phone = None\n",
        "\n",
        "print(phone)"
      ],
      "metadata": {
        "id": "bdBYOAP55jFb"
      },
      "execution_count": null,
      "outputs": []
    },
    {
      "cell_type": "code",
      "source": [
        "# 1. 문자열\"We Love Python\"을 한 줄에 하나씩 10번 출력합니다.\n",
        "num = 0\n",
        "\n",
        "while num<10:\n",
        "    print('We Love Python')\n",
        "    num+= 1"
      ],
      "metadata": {
        "id": "dk4BvfPh5E64"
      },
      "execution_count": null,
      "outputs": []
    },
    {
      "cell_type": "code",
      "source": [
        "# 1. 비밀번호를 입력받는 코드를 작성합니다.\n",
        "password = input()\n",
        "\n",
        "\n",
        "# 2. 비밀번호 \"secret\"이 올바르게 입력될 때까지 입력을 반복하는 코드를 완성합니다.\n",
        "# 3. 틀린 비밀번호를 입력했다면 \"잘못된 비밀번호입니다.\"를 출력한 후 비밀번호를 다시 입력받습니다.\n",
        "\n",
        "while True:\n",
        "    if password == 'secret' :\n",
        "        break\n",
        "    else :\n",
        "        print('잘못된 비밀번호입니다.')\n",
        "        password = input()\n",
        "\n",
        "# 4. 올바른 비밀번호를 입력했다면 \"비밀번호가 확인되었습니다.\"를 출력합니다.\n",
        "print('비밀번호가 확인되었습니다.')"
      ],
      "metadata": {
        "id": "XCHj131D5Fst"
      },
      "execution_count": null,
      "outputs": []
    },
    {
      "cell_type": "code",
      "source": [
        "# 1. 실행 버튼을 눌러 while문의 출력 결과를 확인합니다.\n",
        "\n",
        "i = 1\n",
        "\n",
        "while i < 11 :\n",
        "    print(str(i) + \" 꼬마 인디언\")\n",
        "    i += 1\n",
        "\n",
        "\n",
        "# 2. while 문과 동일한 작업을 하도록 for 문을 완성합니다.\n",
        "for i in range(10):\n",
        "    print(str(i+1) + \" 꼬마 인디언\")"
      ],
      "metadata": {
        "id": "rFB7THii5IIH"
      },
      "execution_count": null,
      "outputs": []
    },
    {
      "cell_type": "code",
      "source": [
        "# 1. for 문을 사용하여 1부터 100까지 한 줄에 하나씩 출력합니다.\n",
        "\n",
        "for i  in range(1,101):\n",
        "    print(i)"
      ],
      "metadata": {
        "id": "KHQ42r_X5NP7"
      },
      "execution_count": null,
      "outputs": []
    },
    {
      "cell_type": "code",
      "source": [
        "#1. 1부터 50까지 반복하는 반복문을 작성합니다.\n",
        "#2. 숫자가 3의 배수라면 \"짝!\"을, 그렇지 않다면 숫자를 출력하도록 조건문을 작성합니다.\n",
        "\n",
        "for i in range(1,51):\n",
        "    if i%3 == 0 :\n",
        "        print('짝!')\n",
        "    else:\n",
        "        print(i)"
      ],
      "metadata": {
        "id": "MrL9_3BC5PTt"
      },
      "execution_count": null,
      "outputs": []
    },
    {
      "cell_type": "code",
      "source": [
        "score_list = [99, 35, 25, 71, 83, 56, 100, 63, 91]\n",
        "\n",
        "# 1. 반복문으로 score_list의 점수를 가져와 점수에 대한 학점을 출력합니다.\n",
        "\n",
        "\n",
        "for i in score_list:\n",
        "    if i>90 :\n",
        "        print('A')\n",
        "    elif i>80 :\n",
        "        print('B')\n",
        "    elif i>70:\n",
        "        print('C')\n",
        "    else:\n",
        "        print('F')\n"
      ],
      "metadata": {
        "id": "sUUY4XVC5XED"
      },
      "execution_count": null,
      "outputs": []
    },
    {
      "cell_type": "markdown",
      "source": [
        "#딕셔너리 반장선거"
      ],
      "metadata": {
        "id": "AHYy7xMi3r5x"
      }
    },
    {
      "cell_type": "code",
      "execution_count": 1,
      "metadata": {
        "colab": {
          "base_uri": "https://localhost:8080/"
        },
        "id": "X1ahal4Q3rJW",
        "outputId": "9a18e070-077a-4f93-8e03-e9b2cd343ac4"
      },
      "outputs": [
        {
          "output_type": "stream",
          "name": "stdout",
          "text": [
            "반장은 재현\n"
          ]
        }
      ],
      "source": [
        "student_list = [\"철기\", \"재현\", \"태현\", \"창호\", \"재현\", \"철기\", \"재현\", \"재현\", \"태현\", \"창호\", \"철기\", \"재현\"]\n",
        "\n",
        "# 1. student_list에 저장되어 있는 학생이름과 표의 개수를 저장할 dic를 선언합니다\n",
        "dic = {}\n",
        "\n",
        "# 2. student_list를 반복문으로 순회합니다.\n",
        "# 해당 학생의 이름이 dic의 key로 존재하면 value에 1을 더하고, 없다면 value를 1로 정하여 요소를 추가합니다.\n",
        "for  stu in student_list:\n",
        "    if stu in dic:\n",
        "        dic[stu] += 1\n",
        "    else:\n",
        "        dic[stu] = 1\n",
        "\n",
        "\n",
        "#현재까지 가장 많은 표 수를 저장하기 위한 변수 num을 0으로 정의합니다.\n",
        "num = 0\n",
        "\n",
        "#가장 많은 표를 가진 학생을 저장하기 위한 변수 leader를 선언합니다.\n",
        "leader = 0\n",
        "\n",
        "\n",
        "# dic을 반복문으로 돌며 key, value를 가져옵니다.\n",
        "# 가장 많은 표를 가진 학생이 바뀌었다면 num과 leader를 업데이트합니다.\n",
        "for student, cnt in dic.items() :\n",
        "\tif num < cnt :\n",
        "\t\tleader, num = student, cnt\n",
        "\n",
        "\n",
        "\n",
        "#반복문이 끝나면 leader를 출력합니다.\n",
        "print(\"반장은\", leader)"
      ]
    },
    {
      "cell_type": "code",
      "source": [
        "# 1. 입력값이 0이면 \"0이 입력되었습니다.\"를 출력하고 반복문을 빠져나가는 while 문을 완성합니다.\n",
        "while True:\n",
        "    num = int(input())\n",
        "    if num == 0:\n",
        "        print('0이 입력되었습니다.')\n",
        "        break"
      ],
      "metadata": {
        "colab": {
          "base_uri": "https://localhost:8080/"
        },
        "id": "rmxM6zgy4B-M",
        "outputId": "86838fde-dea8-45bf-c92a-cfc81f9af5ea"
      },
      "execution_count": 2,
      "outputs": [
        {
          "output_type": "stream",
          "name": "stdout",
          "text": [
            "0\n",
            "0이 입력되었습니다.\n"
          ]
        }
      ]
    },
    {
      "cell_type": "code",
      "source": [
        "# 서울 쥐의 치즈 접시가 비어 있습니다.\n",
        "cheeze = []\n",
        "\n",
        "# 1. 치즈 접시에 문자열 '치즈'가 무한으로 추가되도록 while문으로 무한루프를 만듭니다.\n",
        "# 2. 서울쥐는 치즈만 먹습니다! 치즈가 추가될 때마다 리스트 `cheeze`에 문자열 '치즈'를 삽입합니다.\n",
        "# 3. 치즈가 추가될 때마다 '치즈 추가!'를 출력합니다.\n",
        "# 4. 치즈가 50개가 되면 무한루프를 벗어나 '아이~배불러!'를 출력합니다.\n",
        "\n",
        "while True:\n",
        "    cheeze.append('치즈')\n",
        "    print('치즈 추가!')\n",
        "    if len(cheeze)>49 :\n",
        "        print('아이~배불러!')\n",
        "        break\n",
        "\n",
        "\n",
        "\n",
        "# 서울 쥐가 먹은 치즈 개수를 출력해 볼까요? 아래는 수정하지 마세요.\n",
        "print('서울 쥐가 먹은 치즈의 개수', len(cheeze), '개!')"
      ],
      "metadata": {
        "colab": {
          "base_uri": "https://localhost:8080/"
        },
        "id": "ZASjhclA4ehV",
        "outputId": "f715c1ba-145a-4bc9-ee1f-2b9b68ea8a27"
      },
      "execution_count": 3,
      "outputs": [
        {
          "output_type": "stream",
          "name": "stdout",
          "text": [
            "치즈 추가!\n",
            "치즈 추가!\n",
            "치즈 추가!\n",
            "치즈 추가!\n",
            "치즈 추가!\n",
            "치즈 추가!\n",
            "치즈 추가!\n",
            "치즈 추가!\n",
            "치즈 추가!\n",
            "치즈 추가!\n",
            "치즈 추가!\n",
            "치즈 추가!\n",
            "치즈 추가!\n",
            "치즈 추가!\n",
            "치즈 추가!\n",
            "치즈 추가!\n",
            "치즈 추가!\n",
            "치즈 추가!\n",
            "치즈 추가!\n",
            "치즈 추가!\n",
            "치즈 추가!\n",
            "치즈 추가!\n",
            "치즈 추가!\n",
            "치즈 추가!\n",
            "치즈 추가!\n",
            "치즈 추가!\n",
            "치즈 추가!\n",
            "치즈 추가!\n",
            "치즈 추가!\n",
            "치즈 추가!\n",
            "치즈 추가!\n",
            "치즈 추가!\n",
            "치즈 추가!\n",
            "치즈 추가!\n",
            "치즈 추가!\n",
            "치즈 추가!\n",
            "치즈 추가!\n",
            "치즈 추가!\n",
            "치즈 추가!\n",
            "치즈 추가!\n",
            "치즈 추가!\n",
            "치즈 추가!\n",
            "치즈 추가!\n",
            "치즈 추가!\n",
            "치즈 추가!\n",
            "치즈 추가!\n",
            "치즈 추가!\n",
            "치즈 추가!\n",
            "치즈 추가!\n",
            "치즈 추가!\n",
            "아이~배불러!\n",
            "서울 쥐가 먹은 치즈의 개수 50 개!\n"
          ]
        }
      ]
    },
    {
      "cell_type": "code",
      "source": [
        "# 합계와 홀수의 개수를 세기 위해 변수 num, cnt를 0으로 정의합니다.\n",
        "num = cnt = 0\n",
        "\n",
        "\n",
        "\n",
        "# 1. 정수를 계속 입력 받습니다.\n",
        "# 2. 입력받은 정수가 0이면 멈춥니다.\n",
        "# 3. 입력받은 정수가 짝수이면 다음 반복문으로 넘깁니다.\n",
        "# 4. 입력받은 정수가 홀수라면 num에 입력받은 정수를 더하고, cnt는 1씩 늘려줍니다.\n",
        "while True:\n",
        "    num1 = int(input())\n",
        "    if num1==0 :\n",
        "        break\n",
        "    elif num1%2 == 0:\n",
        "        continue\n",
        "    else :\n",
        "        num += num1\n",
        "        cnt += 1\n",
        "\n",
        "\n",
        "\n",
        "# 반복문이 끝나고 합과 평균을 출력합니다.\n",
        "print(\"홀수의 합 :\", num)\n",
        "print(\"홀수의 평균 :\", num // cnt)"
      ],
      "metadata": {
        "id": "Z07X1er45AmL"
      },
      "execution_count": null,
      "outputs": []
    },
    {
      "cell_type": "code",
      "source": [
        "# 1. 원하는 크기의 호박 5개가 담긴 튜플 pumpkin을 정의합니다.\n",
        "# 호박의 크기는 숫자형으로 자유롭게 지정합니다.\n",
        "pumpkin = (4,3,2,6,5)\n",
        "\n",
        "\n",
        "# 2. max()로 가장 큰 호박을 골라서 변수 big에 저장합니다.\n",
        "big = max(pumpkin)\n",
        "\n",
        "\n",
        "# 3. min()으로 가장 작은 호박을 골라서 변수 small에 저장합니다.\n",
        "small = min(pumpkin)\n",
        "\n",
        "print(big, small)"
      ],
      "metadata": {
        "colab": {
          "base_uri": "https://localhost:8080/"
        },
        "id": "AENbW-Li5Bvj",
        "outputId": "48ebe9c4-b50f-4f73-aca2-a225eacd0fce"
      },
      "execution_count": 5,
      "outputs": [
        {
          "output_type": "stream",
          "name": "stdout",
          "text": [
            "6 2\n"
          ]
        }
      ]
    },
    {
      "cell_type": "code",
      "source": [
        "# 1. 변수 my_list에 좋아하는 숫자 5개를 저장합니다.\n",
        "my_list = [2,5,7,10,15]\n",
        "\n",
        "# 2. 함수를 사용해 숫자들의 합을 계산합니다.\n",
        "var1 = sum(my_list)\n",
        "\n",
        "# 3. 함수를 사용해 숫자의 개수를 구합니다.\n",
        "var2 = len(my_list)\n",
        "\n",
        "# 4. 숫자의 평균을 구합니다.\n",
        "var3 = var1/var2\n",
        "\n",
        "print(var3)"
      ],
      "metadata": {
        "colab": {
          "base_uri": "https://localhost:8080/"
        },
        "id": "AzYogeX-57rW",
        "outputId": "19350496-8411-42df-d420-1584c8f26746"
      },
      "execution_count": 6,
      "outputs": [
        {
          "output_type": "stream",
          "name": "stdout",
          "text": [
            "7.8\n"
          ]
        }
      ]
    },
    {
      "cell_type": "code",
      "source": [
        "# 동물들의 대회 성적이 제출 순으로 기록되는 리스트입니다.\n",
        "score = [55, 58, 60, 45, 100, 95, 70, 88]\n",
        "\n",
        "# 1. 리스트 맨 뒤에 자료를 추가하는 메소드 append()로 거북이의 점수 90점을 기록합니다.\n",
        "score.append(90)\n",
        "\n",
        "\n",
        "# 2. 6번째 두더지의 원소를 제거하는 메서드 pop()으로 두더지의 기록을 지웁니다.\n",
        "score.pop(5)\n",
        "\n",
        "\n",
        "# 3. 최댓값을 구하는 함수 max() 로 대상 수상자의 점수를 출력합니다.\n",
        "print('대상 수상자의 점수는', max(score), '점!')"
      ],
      "metadata": {
        "colab": {
          "base_uri": "https://localhost:8080/"
        },
        "id": "bPk6GtON6jOD",
        "outputId": "6531535f-bacb-41f3-e15a-a9dc90c14e88"
      },
      "execution_count": 7,
      "outputs": [
        {
          "output_type": "stream",
          "name": "stdout",
          "text": [
            "대상 수상자의 점수는 100 점!\n"
          ]
        }
      ]
    },
    {
      "cell_type": "code",
      "source": [
        "#안녕하세요/ 만나서 / 반가워요.\n",
        "#/\n",
        "\n",
        "# 1. 두 문자열을 입력 받아 변수 sentence, standard에 저장합니다.\n",
        "sentence = input()\n",
        "standard = input()\n",
        "\n",
        "\n",
        "# 2. sentence 문자열을 standard 문자열로 분리하여 리스트 words 에 저장합니다.\n",
        "words = sentence.split(standard)\n",
        "\n",
        "\n",
        "\n",
        "# 3. words에 있는 원소들을 공백을 다듬어서 출력합니다.\n",
        "for word in words:\n",
        "    print(word.strip())\n"
      ],
      "metadata": {
        "colab": {
          "base_uri": "https://localhost:8080/"
        },
        "id": "vTMwUpPd6y1R",
        "outputId": "7aa7ed18-d9d4-4d32-e1fd-d0e7e1d2d89b"
      },
      "execution_count": 8,
      "outputs": [
        {
          "output_type": "stream",
          "name": "stdout",
          "text": [
            "안녕하세요/ 만나서 / 반가워요. \n",
            "/\n",
            "안녕하세요\n",
            "만나서\n",
            "반가워요.\n"
          ]
        }
      ]
    },
    {
      "cell_type": "code",
      "source": [
        "# 1. random 모듈을 불러옵니다.\n",
        "import random\n",
        "\n",
        "rps_list = ['가위', '바위', '보']\n",
        "\n",
        "# 2. 가위, 바위, 보 중 하나를 입력받아 변수 my에 저장합니다.\n",
        "my = input()\n",
        "\n",
        "# 3. 변수 com에 rps_list의 요소 중 하나를 랜덤으로 저장합니다.\n",
        "com = random.choice(rps_list)\n",
        "\n",
        "\n",
        "# 4. my와 com의 값에 따라 누가 이겼는지 판단하고 출력합니다.\n",
        "# 비겼다면 \"비겼습니다.\"를, 내가 이겼다면 \"이겼습니다.\"를, 컴퓨터가 이겼다면 \"졌습니다.\"를 출력합니다.\n",
        "\n",
        "if my == '가위':\n",
        "    if com =='가위':\n",
        "        print('비겼습니다.')\n",
        "    elif com == '바위':\n",
        "        print('졌습니다.')\n",
        "    else :\n",
        "        print('이겼습니다.')\n",
        "elif my == '바위':\n",
        "    if com =='가위':\n",
        "        print('이겼습니다.')\n",
        "    elif com == '바위':\n",
        "        print('비겼습니다.')\n",
        "    else :\n",
        "        print('졌습니다.')\n",
        "elif my == '보':\n",
        "    if com =='가위':\n",
        "        print('졌습니다.')\n",
        "    elif com == '바위':\n",
        "        print('이겼습니다.')\n",
        "    else :\n",
        "        print('비겼습니다.')\n"
      ],
      "metadata": {
        "id": "WK-nJWaW8YoZ"
      },
      "execution_count": null,
      "outputs": []
    },
    {
      "cell_type": "code",
      "source": [
        "# 1. '뻐꾹~'을 출력하는 cuckoo() 함수를 정의합니다.\n",
        "def cuckoo():\n",
        "    print('뻐꾹~')\n",
        "\n",
        "\n",
        "# 2. cuckoo() 함수를 호출합니다.\n",
        "cuckoo()"
      ],
      "metadata": {
        "id": "9lH4kumH8t0_"
      },
      "execution_count": null,
      "outputs": []
    },
    {
      "cell_type": "code",
      "source": [
        "# 1. 입력값이 0 이상의 정수인지 판단하는 input_num() 함수를 정의합니다.\n",
        "def input_num():\n",
        "\t# - 함수 내에서 입력값을 받습니다.\n",
        "    num = input()\n",
        "\n",
        "\t# - 입력값이 0 이상의 정수라면 값을 반환합니다.\n",
        "    if num.isdigit() :\n",
        "        return num\n",
        "\n",
        "\t# - 입력값이 0 이상의 정수가 아니라면 `None`을 반환합니다.\n",
        "    else:\n",
        "        return None\n",
        "\n",
        "#  2. input_num() 함수의 반환 값을 num 변수에 저장합니다.\n",
        "num = input_num()\n",
        "print('입력된 값 :', num)"
      ],
      "metadata": {
        "colab": {
          "base_uri": "https://localhost:8080/"
        },
        "id": "eGt11BwK9YEZ",
        "outputId": "a62dfa16-8faa-4944-acde-b4db2dec2f5c"
      },
      "execution_count": 9,
      "outputs": [
        {
          "output_type": "stream",
          "name": "stdout",
          "text": [
            "dd\n",
            "입력된 값 : None\n"
          ]
        }
      ]
    },
    {
      "cell_type": "code",
      "source": [
        "# 1. input_num() 함수를 정의합니다.\n",
        "def input_num():\n",
        "\n",
        "    while True:\n",
        "        # - 함수 내에서 입력값을 받습니다.\n",
        "        num = input()\n",
        "\n",
        "        # - 입력값이 0 이상 정수라면 \"입력된 값 : O\"라고 출력한 후 함수를 종료합니다.\n",
        "        if num.isdigit():\n",
        "            print('입력된 값 :',num)\n",
        "            return\n",
        "\n",
        "        # - 입력값이 0 이상 정수가 아니라면 \"자연수를 입력해 주세요.\"를 출력한 후, 재입력 받습니다.\n",
        "        else:\n",
        "            print('자연수를 입력해 주세요.')\n",
        "\n",
        "\n",
        "\n",
        "# 2. 정의한 input_num() 함수를 호출합니다.\n",
        "input_num()"
      ],
      "metadata": {
        "id": "l1byO34i9bBt"
      },
      "execution_count": null,
      "outputs": []
    },
    {
      "cell_type": "code",
      "source": [
        "\n",
        "\n",
        "# 1. num을 매개변수로 받는 add() 함수를 정의합니다.\n",
        "    # - 자릿수의 합을 계산하여 반환합니다\n",
        "def add(num):\n",
        "    calc = 0\n",
        "\n",
        "    for i  in str(num):\n",
        "        #print(i)\n",
        "        calc += int(i)\n",
        "\n",
        "    return calc\n",
        "\n",
        "\n",
        "\n",
        "# 2. 정의한 add() 함수를 호출한 후, 결괏값을 출력합니다.\n",
        "\n",
        "num = input()\n",
        "print(add(num))"
      ],
      "metadata": {
        "id": "55e3hmmZ_AC7"
      },
      "execution_count": null,
      "outputs": []
    },
    {
      "cell_type": "code",
      "source": [
        "import random\n",
        "\n",
        "# 1. 메뉴를 원하는대로 수정해 보세요.\n",
        "rice = [\"참치김밥\", \"오므라이스\", \"제육덮밥\", \"설렁탕\", \"된장찌개\", \"모둠초밥\"]\n",
        "bread = [\"치즈버거\", \"햄치즈 샌드위치\", \"고르곤졸라 머쉬룸 파니니\", \"마르게리따 피자\"]\n",
        "etc = [\"쌀국수\", \"떡볶이\", \"훠궈\", \"파스타\", \"마라샹궈\", \"딤섬\"]\n",
        "\n",
        "# 2. 밥과 관련된 메뉴를 추천하는 함수를 정의합니다.\n",
        "def menu_rice():\n",
        "\n",
        "    return random.choice(rice)\n",
        "\n",
        "# 3. 빵과 관련된 메뉴를 추천하는 함수를 정의합니다.\n",
        "def menu_bread() :\n",
        "\n",
        "    return random.choice(bread)\n",
        "\n",
        "# 4. 기타 메뉴를 추천하는 함수를 정의합니다.\n",
        "def menu_etc() :\n",
        "\n",
        "    return random.choice(etc)\n",
        "\n",
        "\n",
        "# 5. 사용자의 카테고리 선택에 따라 메뉴를 추천합니다.\n",
        "sel = input()\n",
        "\n",
        "if sel == '밥':\n",
        "    print(menu_rice())\n",
        "elif sel == '빵':\n",
        "    print(menu_bread())\n",
        "else:\n",
        "    print(menu_etc())"
      ],
      "metadata": {
        "id": "Z7FkfO4q_tBP"
      },
      "execution_count": null,
      "outputs": []
    },
    {
      "cell_type": "code",
      "source": [
        "import random\n",
        "\n",
        "# 로또의 당첨 번호가 저장될 리스트를 선언합니다.\n",
        "winner = []\n",
        "\n",
        "\n",
        "# 1. 반복문을 통해 6개의 1~45 사이의 당첨 번호를 랜덤으로 뽑아 저장합니다.\n",
        "# 이때 중복되지 않도록 해야 합니다.\n",
        "while len(winner)<6:\n",
        "    num = random.randint(1,45)\n",
        "    if num not in winner:\n",
        "        winner.append(num)\n",
        "\n",
        "\n",
        "# 사용자의 번호가 저장될 리스트를 선언합니다.\n",
        "user = []\n",
        "\n",
        "# 2.사용자로부터 1~45 사이의 수를 6번 입력받아 새로운 리스트에 저장합니다.\n",
        "# 만약 1~45 사이의 수가 아니거나 중복된 수라면 다시 입력받도록 합니다.\n",
        "while len(user)<6:\n",
        "    num = int(input('1~45사이의 번호를 입력하세요.'))\n",
        "    if num < 1 or num>45:\n",
        "        print('1부터 45 사이의 숫자를 입력하세요.')\n",
        "    elif num in user:\n",
        "        print('중복된 번호입니다.  다른 번호를 입력하세요.')\n",
        "    else:\n",
        "        user.append(num)\n",
        "\n",
        "# 3. 두 개의 번호를 모두 정렬합니다,\n",
        "winner.sort()\n",
        "user.sort()\n",
        "\n",
        "\n",
        "\n",
        "# 당첨 번호와 사용자의 번호를 출력합니다.\n",
        "print(winner)\n",
        "print(user)\n",
        "\n",
        "\n",
        "# 4. 랜덤으로 뽑은 번호와 입력받은 번호 사이에 일치한 번호의 개수를 출력합니다.\n",
        "matching_cnt = set(winner) & set(user)\n",
        "print('일치한 번호 갯수 :', len(matching_cnt))"
      ],
      "metadata": {
        "id": "tYJOyxZgA3Xf"
      },
      "execution_count": null,
      "outputs": []
    },
    {
      "cell_type": "code",
      "source": [
        "def find_largest_animal(animals):\n",
        "    largest = \"\"\n",
        "\n",
        "    for animal in animals:\n",
        "        if len(animal) > len(largest):\n",
        "            largest = animal\n",
        "\n",
        "    return largest\n",
        "\n",
        "# 사용자로부터 동물 수를 입력받습니다.\n",
        "num_animals = int(input(\"몇 마리의 동물을 가지고 있나요? \"))\n",
        "animals_list = []\n",
        "\n",
        "# 동물들의 크기를 입력받아 리스트에 저장합니다.\n",
        "for i in range(num_animals):\n",
        "    animal = input(f\"{i+1}번 동물의 이름을 입력하세요: \")\n",
        "    animals_list.append(animal)\n",
        "\n",
        "# 가장 크기가 큰 동물을 찾습니다.\n",
        "largest_animal = find_largest_animal(animals_list)\n",
        "\n",
        "# 가장 크기가 큰 동물을 출력합니다.\n",
        "print(f\"가장 크기가 큰 동물은 {largest_animal}입니다!\")\n"
      ],
      "metadata": {
        "colab": {
          "base_uri": "https://localhost:8080/"
        },
        "id": "YV5FvVVKBaTT",
        "outputId": "1c3162e7-29ed-4801-b4f2-70cc0d1dea65"
      },
      "execution_count": 13,
      "outputs": [
        {
          "output_type": "stream",
          "name": "stdout",
          "text": [
            "몇 마리의 동물을 가지고 있나요? 3\n",
            "1번 동물의 이름을 입력하세요: 쥐\n",
            "2번 동물의 이름을 입력하세요: monkey\n",
            "3번 동물의 이름을 입력하세요: 호랑이12\n",
            "가장 크기가 큰 동물은 monkey입니다!\n"
          ]
        }
      ]
    },
    {
      "cell_type": "code",
      "source": [
        "\"\"\"\n",
        "\n",
        "프로젝트명 : 가장 큰 동물을 찾아라\n",
        "\n",
        "제작자 : yleessam\n",
        "\n",
        "\"\"\"\n",
        "\n",
        "# 아래에 코드를 작성해주세요:)\n",
        "# 코드에 대한 설명을 주석으로 남겨주셔도 좋습니다.\n",
        "# 반드시 기한 내에 제출 버튼을 눌러, 제출을 완료해주세요.\n",
        "\n",
        "def find_largest_animal(animals):\n",
        "    largest = \"\"\n",
        "\n",
        "    for animal in animals:\n",
        "        if len(animal) > len(largest):\n",
        "            largest = animal\n",
        "\n",
        "    return largest\n",
        "\n",
        "# 사용자로부터 동물 수를 입력받습니다.\n",
        "num_animals = int(input(\"몇 마리의 동물을 가지고 있나요? \"))\n",
        "animals_list = []\n",
        "\n",
        "# 동물들의 크기를 입력받아 리스트에 저장합니다.\n",
        "for i in range(num_animals):\n",
        "    animal = input(f\"{i+1}번 동물의 이름을 입력하세요: \")\n",
        "    animals_list.append(animal)\n",
        "\n",
        "# 가장 키가 큰(이름의 길이 기준) 동물을 찾습니다.\n",
        "largest_animal = find_largest_animal(animals_list)\n",
        "\n",
        "# 가장 크기가 큰 동물을 출력합니다.\n",
        "print(f\"가장 크기가 큰 동물은 {largest_animal}입니다!\")\n"
      ],
      "metadata": {
        "colab": {
          "base_uri": "https://localhost:8080/"
        },
        "id": "eY6pnQ_-B1CN",
        "outputId": "9ef4e261-c3de-44f4-b1b5-df7fb7ae5cdd"
      },
      "execution_count": 14,
      "outputs": [
        {
          "output_type": "stream",
          "name": "stdout",
          "text": [
            "몇 마리의 동물을 가지고 있나요? 3\n",
            "1번 동물의 이름을 입력하세요: ㅗ호\n",
            "2번 동물의 이름을 입력하세요: 나앙\n",
            "3번 동물의 이름을 입력하세요: 아아앙\n",
            "가장 크기가 큰 동물은 아아앙입니다!\n"
          ]
        }
      ]
    }
  ]
}