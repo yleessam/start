{
  "nbformat": 4,
  "nbformat_minor": 0,
  "metadata": {
    "colab": {
      "provenance": [],
      "toc_visible": true,
      "collapsed_sections": [
        "OPEi9NGCNMy5"
      ],
      "authorship_tag": "ABX9TyPyRyB61IKfNz3KNWrlPEqC",
      "include_colab_link": true
    },
    "kernelspec": {
      "name": "python3",
      "display_name": "Python 3"
    },
    "language_info": {
      "name": "python"
    },
    "vp": {
      "vp_note_display": false,
      "vp_note_width": 0,
      "vp_position": {
        "width": 546
      },
      "vp_menu_width": 541
    }
  },
  "cells": [
    {
      "cell_type": "markdown",
      "metadata": {
        "id": "view-in-github",
        "colab_type": "text"
      },
      "source": [
        "<a href=\"https://colab.research.google.com/github/yleessam/start/blob/main/2%EC%B0%A8%EC%8B%9C_%ED%8C%8C%EC%9D%B4%EC%8D%AC%EA%B8%B0%EC%B4%88_240425_me.ipynb\" target=\"_parent\"><img src=\"https://colab.research.google.com/assets/colab-badge.svg\" alt=\"Open In Colab\"/></a>"
      ]
    },
    {
      "cell_type": "markdown",
      "source": [
        "# 0. 파이썬 소개\n",
        "\n"
      ],
      "metadata": {
        "id": "sDezecIxPfOv"
      }
    },
    {
      "cell_type": "markdown",
      "source": [
        "### 0.1 파이썬 언어 소개 및 역사\n",
        "- 파이썬은 널리 쓰이는 범용, 고급 언어이다. 파이썬의 설계 철학은 코드 가독성에 중점을 두고 있으며 파이썬의 문법은 프로그래머가(C와 같은 언어에서 표현 가능한 것보다도) 더 적은 코드로도 자신의 생각을 표현하도록 한다. 파이썬은 프로그램의 크기에 상관없이 명확하게 프로그램 할 수 있는 구성 요소들을 제공한다. - 위키피디아\n",
        "- 1991년 네덜랜드 국립 연구소의 Guido Van Rossum에 의해 발표 (현 2018년, 27년의 역사)\n",
        "- “Python“이라는 이름은 코메디 프로그램 “Monty Python’s Flying Circus”에서 유래\n",
        "- Python의 원래 의미는 그리스 신화에 나오는 거대한 뱀\n",
        "- 2000년 Python 2 발표\n",
        "- 2008년 Python 3 발표\n",
        "    - Python 2의 경우 2020년까지만 Maintenance가 이루어질 예정"
      ],
      "metadata": {
        "id": "wNYkJrAVPkj3"
      }
    },
    {
      "cell_type": "markdown",
      "source": [
        "### 0.2 파이썬은 각 분야에서 활용\n",
        "- 스크립트, 시스템프로그램, 네트위크 프로그램, 웹, 데이터분석, 머신러닝 등\n",
        "- 처음부터 다 만들기보다는 패키지를 이용(단 학습필요)"
      ],
      "metadata": {
        "id": "ywgGB0ILPm1r"
      }
    },
    {
      "cell_type": "markdown",
      "source": [
        "### 0.3 데이터분석에서 쓰는 파이썬\n",
        "- 전통적인 의미의 프로그램은 아님\n",
        "- 프로그램의 일부만 이용\n",
        "- 에러처리, 로그 등이 없어도 관계없음\n",
        "- 직접 눈으로 보면서 확인, 인터렉티브 쉘"
      ],
      "metadata": {
        "id": "pfunkymOPxKu"
      }
    },
    {
      "cell_type": "markdown",
      "source": [
        "### 0.4 코딩규약\n",
        "- 주석\n",
        "- 들여쓰기\n",
        "- 상수명, 변수명, 함수명, 클래스명"
      ],
      "metadata": {
        "id": "YDNYNyTJP98u"
      }
    },
    {
      "cell_type": "code",
      "source": [
        "print('hello')"
      ],
      "metadata": {
        "id": "3ApwcHEgPw0V",
        "colab": {
          "base_uri": "https://localhost:8080/"
        },
        "outputId": "fa537f73-8438-413f-a88f-a2f523e45976"
      },
      "execution_count": null,
      "outputs": [
        {
          "output_type": "stream",
          "name": "stdout",
          "text": [
            "hello\n"
          ]
        }
      ]
    },
    {
      "cell_type": "code",
      "source": [
        "def f_a() :\n",
        "return'haha'  #들여쓰기 해서 실행하기"
      ],
      "metadata": {
        "colab": {
          "base_uri": "https://localhost:8080/",
          "height": 110
        },
        "id": "DjcoRd6mSlzi",
        "outputId": "f19b816a-24b3-4095-ca6d-bc05a4d023cc"
      },
      "execution_count": null,
      "outputs": [
        {
          "output_type": "error",
          "ename": "IndentationError",
          "evalue": "expected an indented block after function definition on line 1 (<ipython-input-6-2aa6c6a85487>, line 2)",
          "traceback": [
            "\u001b[0;36m  File \u001b[0;32m\"<ipython-input-6-2aa6c6a85487>\"\u001b[0;36m, line \u001b[0;32m2\u001b[0m\n\u001b[0;31m    return'haha'\u001b[0m\n\u001b[0m    ^\u001b[0m\n\u001b[0;31mIndentationError\u001b[0m\u001b[0;31m:\u001b[0m expected an indented block after function definition on line 1\n"
          ]
        }
      ]
    },
    {
      "cell_type": "code",
      "source": [
        "a = 'haha'\n",
        "1a='hoho'  #a1로 테스트하기\n",
        "print(a, 1a)"
      ],
      "metadata": {
        "colab": {
          "base_uri": "https://localhost:8080/",
          "height": 110
        },
        "id": "6vfO3IhYSO71",
        "outputId": "e82b3458-7d7f-4d65-f3c5-d863eb64b61f"
      },
      "execution_count": null,
      "outputs": [
        {
          "output_type": "error",
          "ename": "SyntaxError",
          "evalue": "invalid decimal literal (<ipython-input-7-f9bf00c81618>, line 2)",
          "traceback": [
            "\u001b[0;36m  File \u001b[0;32m\"<ipython-input-7-f9bf00c81618>\"\u001b[0;36m, line \u001b[0;32m2\u001b[0m\n\u001b[0;31m    1a='hoho'\u001b[0m\n\u001b[0m    ^\u001b[0m\n\u001b[0;31mSyntaxError\u001b[0m\u001b[0;31m:\u001b[0m invalid decimal literal\n"
          ]
        }
      ]
    },
    {
      "cell_type": "code",
      "source": [],
      "metadata": {
        "id": "KY_wpf41SRUM"
      },
      "execution_count": null,
      "outputs": []
    },
    {
      "cell_type": "markdown",
      "source": [
        "# 1. 파이썬 데이터 타입 및 변수"
      ],
      "metadata": {
        "id": "OPEi9NGCNMy5"
      }
    },
    {
      "cell_type": "markdown",
      "source": [
        "### 1.1 변수 및 대입\n",
        "- variable\n",
        "- structure\n",
        "- class"
      ],
      "metadata": {
        "id": "x9qADVfaNQ5Y"
      }
    },
    {
      "cell_type": "markdown",
      "source": [
        "### 1.2 데이터 타입 종류"
      ],
      "metadata": {
        "id": "KVl9O-N3NStK"
      }
    },
    {
      "cell_type": "markdown",
      "source": [
        "<center>타 입|<center>설 명|<center>예\n",
        ":---|:---|:---\n",
        "int|정수형 데이터|100\n",
        "float|소숫점을 포함한 실수|10.25\n",
        "bool|참/거짓|True\n",
        "str|문자열|'LG Electronics'\n",
        "list|리스트, 순서가 있는 배열, 수정/추가/삭제가 가능한 자료 구조|[1, 2, 3, 'a', 'b']\n",
        "tuple|튜플, 순서가 있는 배열, 수정/추가/삭제가 불가능한 자료 구조|(1, 2, 3, 'a', 'b')\n",
        "dict|사전, {key: value}로 구성되어있는 자료 구조|{'Math': 99, 'English': 88, 'Korean': 78}\n",
        "set|집합, {key}로 구성되어있는 자료 구조|{'a', 'b', 'c'}\n",
        "\n",
        "<참고> None Type"
      ],
      "metadata": {
        "id": "7acwraXkNXNr"
      }
    },
    {
      "cell_type": "markdown",
      "source": [
        "### 1.2.1 데이터 타입 특성"
      ],
      "metadata": {
        "id": "lGEq4gcbNWK2"
      }
    },
    {
      "cell_type": "markdown",
      "source": [
        "- **수정 불가능한 데이터 타입**\n",
        " - 정수, 실수, 불린, 문자열, 튜플  \n",
        " <br>\n",
        "- **수정 가능한 데이터 타입**\n",
        " - 리스트, 사전형, 집합  \n",
        " <br>\n",
        "- **메모리 복사 or View**"
      ],
      "metadata": {
        "id": "mMnyivKyNXKK"
      }
    },
    {
      "cell_type": "markdown",
      "source": [
        "### 1.3 정수(int) 타입"
      ],
      "metadata": {
        "id": "rhR4WOsyNXGp"
      }
    },
    {
      "cell_type": "markdown",
      "source": [
        "- 10진수\n",
        "- 2진수\n",
        "- 8진수\n",
        "- 16진수"
      ],
      "metadata": {
        "id": "LAE2fIFqNXDB"
      }
    },
    {
      "cell_type": "code",
      "source": [
        "# 10진수\n",
        "a = 365\n",
        "\n",
        "# 2진수\n",
        "b = 0b101101101\n",
        "\n",
        "# 8진수\n",
        "c = 0o555\n",
        "\n",
        "# 16진수\n",
        "d = 0x16d\n",
        "\n",
        "a,b,c,d"
      ],
      "metadata": {
        "id": "Agg5Od4rN2Xh",
        "colab": {
          "base_uri": "https://localhost:8080/"
        },
        "outputId": "209f1c34-9072-48dc-b14b-1eed86c594f4"
      },
      "execution_count": null,
      "outputs": [
        {
          "output_type": "execute_result",
          "data": {
            "text/plain": [
              "(365, 365, 365, 365)"
            ]
          },
          "metadata": {},
          "execution_count": 10
        }
      ]
    },
    {
      "cell_type": "markdown",
      "source": [
        "### 1.4 실수(float) 타입"
      ],
      "metadata": {
        "id": "LUW9mzDjOCTW"
      }
    },
    {
      "cell_type": "code",
      "source": [
        "fa = 3.14\n",
        "fb = 3.1415e2\n",
        "\n",
        "fa,fb"
      ],
      "metadata": {
        "colab": {
          "base_uri": "https://localhost:8080/"
        },
        "id": "dxpOoKDPTLGd",
        "outputId": "b23a46a1-501c-4bfe-9566-375d8e382154"
      },
      "execution_count": null,
      "outputs": [
        {
          "output_type": "execute_result",
          "data": {
            "text/plain": [
              "(3.14, 314.15)"
            ]
          },
          "metadata": {},
          "execution_count": 11
        }
      ]
    },
    {
      "cell_type": "markdown",
      "source": [
        "### 1.5 불린(boolean) 타입"
      ],
      "metadata": {
        "id": "AE-bFNXqOCP8"
      }
    },
    {
      "cell_type": "code",
      "source": [
        "ba=True\n",
        "bb=False\n",
        "ba and bb"
      ],
      "metadata": {
        "colab": {
          "base_uri": "https://localhost:8080/"
        },
        "id": "lE31a7K9TXs9",
        "outputId": "d32d9726-0362-449e-a7c8-ab19ea6d2c4f"
      },
      "execution_count": null,
      "outputs": [
        {
          "output_type": "execute_result",
          "data": {
            "text/plain": [
              "False"
            ]
          },
          "metadata": {},
          "execution_count": 12
        }
      ]
    },
    {
      "cell_type": "markdown",
      "source": [
        "### 1.6 문자열(str) 타입"
      ],
      "metadata": {
        "id": "Zc3kxx__NW_C"
      }
    },
    {
      "cell_type": "markdown",
      "source": [
        "* 자주 사용하는 문자열 메소드\n",
        "\n",
        "<center>메소드|<center>설 명\n",
        ":---|:---\n",
        "문자열.startswith(prefix)|문자열이 prefix로 시작하는지 검사하여 True/False 반환\n",
        "문자열.endswith(suffix)|문자열이 suffix로 끝나는지 검사하여 True/False 반환\n",
        "문자열.format(value)|문자열의 특정 값을 value로 치환한다.\n",
        "문자열.replace(old, new)|s에 있는 old를 new로 바꾼다.\n",
        "문자열.split(sep)|sep를 구분자로 하여 문자열을 분할한다.\n",
        "문자열.strip(chars)|앞이나 뒤에 나오는 공백이나 chars로 지정된 문자들을 제거한다."
      ],
      "metadata": {
        "id": "zJI-Y9EKOCmc"
      }
    },
    {
      "cell_type": "code",
      "source": [
        "sa = 'say hello'\n",
        "sb = 'another way'\n",
        "\n",
        "sd = '''\n",
        "This is a longer string that\n",
        "spans multiple lines\n",
        "'''\n",
        "\n",
        "sd"
      ],
      "metadata": {
        "colab": {
          "base_uri": "https://localhost:8080/",
          "height": 35
        },
        "id": "bZJ84X_1TcWu",
        "outputId": "69a4a46f-008d-4e30-ae3b-f330b270aba1"
      },
      "execution_count": null,
      "outputs": [
        {
          "output_type": "execute_result",
          "data": {
            "text/plain": [
              "'\\nThis is a longer string that\\nspans multiple lines\\n'"
            ],
            "application/vnd.google.colaboratory.intrinsic+json": {
              "type": "string"
            }
          },
          "metadata": {},
          "execution_count": 13
        }
      ]
    },
    {
      "cell_type": "code",
      "source": [
        "print(sd)"
      ],
      "metadata": {
        "colab": {
          "base_uri": "https://localhost:8080/"
        },
        "id": "Fv3l_NqcTyi8",
        "outputId": "477e2bba-279b-4c9a-be4d-14f1a51ff81a"
      },
      "execution_count": null,
      "outputs": [
        {
          "output_type": "stream",
          "name": "stdout",
          "text": [
            "\n",
            "This is a longer string that\n",
            "spans multiple lines\n",
            "\n"
          ]
        }
      ]
    },
    {
      "cell_type": "code",
      "source": [
        "sd.count('\\n')"
      ],
      "metadata": {
        "colab": {
          "base_uri": "https://localhost:8080/"
        },
        "id": "syn-uKE6T2R4",
        "outputId": "c6cb9033-1d86-4169-e38f-9decb6efcc94"
      },
      "execution_count": null,
      "outputs": [
        {
          "output_type": "execute_result",
          "data": {
            "text/plain": [
              "3"
            ]
          },
          "metadata": {},
          "execution_count": 17
        }
      ]
    },
    {
      "cell_type": "code",
      "source": [
        "sd[6:8]"
      ],
      "metadata": {
        "colab": {
          "base_uri": "https://localhost:8080/",
          "height": 35
        },
        "id": "wW0pgQp3T9Gy",
        "outputId": "85515a2d-e21c-4b35-9899-598a39aa097c"
      },
      "execution_count": null,
      "outputs": [
        {
          "output_type": "execute_result",
          "data": {
            "text/plain": [
              "'is'"
            ],
            "application/vnd.google.colaboratory.intrinsic+json": {
              "type": "string"
            }
          },
          "metadata": {},
          "execution_count": 21
        }
      ]
    },
    {
      "cell_type": "code",
      "source": [
        "sd.replace('string', 'longer string')\n",
        "print(sd)"
      ],
      "metadata": {
        "colab": {
          "base_uri": "https://localhost:8080/"
        },
        "id": "EuduKnnVUHYO",
        "outputId": "0e87315e-61bf-413a-fa0d-2a6c56223bd8"
      },
      "execution_count": null,
      "outputs": [
        {
          "output_type": "stream",
          "name": "stdout",
          "text": [
            "\n",
            "This is a longer string that\n",
            "spans multiple lines\n",
            "\n"
          ]
        }
      ]
    },
    {
      "cell_type": "markdown",
      "source": [
        "### 1.7 리스트(list) 타입"
      ],
      "metadata": {
        "id": "h2ZbjGxGOCjD"
      }
    },
    {
      "cell_type": "code",
      "source": [
        "slist = sd.split()\n",
        "slist"
      ],
      "metadata": {
        "colab": {
          "base_uri": "https://localhost:8080/"
        },
        "id": "xxlvR2_aUUgw",
        "outputId": "f0ce9275-47b8-462f-e3fc-aef9525564d7"
      },
      "execution_count": null,
      "outputs": [
        {
          "output_type": "execute_result",
          "data": {
            "text/plain": [
              "['This', 'is', 'a', 'longer', 'string', 'that', 'spans', 'multiple', 'lines']"
            ]
          },
          "metadata": {},
          "execution_count": 24
        }
      ]
    },
    {
      "cell_type": "markdown",
      "source": [
        "### 1.12 타입 변환"
      ],
      "metadata": {
        "id": "9KB9sDW_OCfa"
      }
    },
    {
      "cell_type": "code",
      "source": [
        "# type 변경\n",
        "a = 5.6\n",
        "s = str(a)\n",
        "print(s)"
      ],
      "metadata": {
        "colab": {
          "base_uri": "https://localhost:8080/"
        },
        "id": "ROQtONkBUflG",
        "outputId": "91e055d0-3f45-4a49-b2ab-e87a8307868c"
      },
      "execution_count": null,
      "outputs": [
        {
          "output_type": "stream",
          "name": "stdout",
          "text": [
            "5.6\n"
          ]
        }
      ]
    },
    {
      "cell_type": "code",
      "source": [
        "st = '20번째 생일 '\n",
        "num = st[0:2]\n",
        "num1 = int(num)\n",
        "print(num1)\n",
        "num"
      ],
      "metadata": {
        "colab": {
          "base_uri": "https://localhost:8080/",
          "height": 54
        },
        "id": "zwI9NCo-UhlL",
        "outputId": "90bcea9c-e0a7-4144-8e73-7055ac24574a"
      },
      "execution_count": null,
      "outputs": [
        {
          "output_type": "stream",
          "name": "stdout",
          "text": [
            "20\n"
          ]
        },
        {
          "output_type": "execute_result",
          "data": {
            "text/plain": [
              "'20'"
            ],
            "application/vnd.google.colaboratory.intrinsic+json": {
              "type": "string"
            }
          },
          "metadata": {},
          "execution_count": 29
        }
      ]
    },
    {
      "cell_type": "markdown",
      "source": [
        "### 1.13 변수 할당"
      ],
      "metadata": {
        "id": "LSQAzMsSOCb5"
      }
    },
    {
      "cell_type": "code",
      "source": [],
      "metadata": {
        "id": "cTUnFKEdVQFO"
      },
      "execution_count": null,
      "outputs": []
    },
    {
      "cell_type": "markdown",
      "source": [
        "# 2. 연산자"
      ],
      "metadata": {
        "id": "4NObA2_hOrgX"
      }
    },
    {
      "cell_type": "code",
      "source": [
        "2+3\n"
      ],
      "metadata": {
        "id": "Dtk0YsH5O4Px",
        "colab": {
          "base_uri": "https://localhost:8080/"
        },
        "outputId": "9d93a252-52fd-4c71-c2b0-9bbbdc4c1d8a"
      },
      "execution_count": null,
      "outputs": [
        {
          "output_type": "execute_result",
          "data": {
            "text/plain": [
              "5"
            ]
          },
          "metadata": {},
          "execution_count": 30
        }
      ]
    },
    {
      "cell_type": "code",
      "source": [
        "5/2"
      ],
      "metadata": {
        "id": "UqHkgm13O3-b",
        "colab": {
          "base_uri": "https://localhost:8080/"
        },
        "outputId": "0155195d-c69b-4f06-8d7d-2fcc2e88d136"
      },
      "execution_count": null,
      "outputs": [
        {
          "output_type": "execute_result",
          "data": {
            "text/plain": [
              "2.5"
            ]
          },
          "metadata": {},
          "execution_count": 31
        }
      ]
    },
    {
      "cell_type": "code",
      "source": [
        "5//2"
      ],
      "metadata": {
        "colab": {
          "base_uri": "https://localhost:8080/"
        },
        "id": "KLC1pgr4VqGv",
        "outputId": "22730a76-5a25-445a-8bbd-c260f4691503"
      },
      "execution_count": null,
      "outputs": [
        {
          "output_type": "execute_result",
          "data": {
            "text/plain": [
              "2"
            ]
          },
          "metadata": {},
          "execution_count": 32
        }
      ]
    },
    {
      "cell_type": "code",
      "source": [
        "5%2"
      ],
      "metadata": {
        "colab": {
          "base_uri": "https://localhost:8080/"
        },
        "id": "3L-JeQlkVsCs",
        "outputId": "58603dbe-4b48-4772-bc3a-588916b29451"
      },
      "execution_count": null,
      "outputs": [
        {
          "output_type": "execute_result",
          "data": {
            "text/plain": [
              "1"
            ]
          },
          "metadata": {},
          "execution_count": 33
        }
      ]
    },
    {
      "cell_type": "code",
      "source": [
        "5**2"
      ],
      "metadata": {
        "colab": {
          "base_uri": "https://localhost:8080/"
        },
        "id": "gEMOh8oeVr-2",
        "outputId": "153fb194-7aed-413f-b922-487359822bc2"
      },
      "execution_count": null,
      "outputs": [
        {
          "output_type": "execute_result",
          "data": {
            "text/plain": [
              "25"
            ]
          },
          "metadata": {},
          "execution_count": 34
        }
      ]
    },
    {
      "cell_type": "code",
      "source": [
        "#연산자 우선순위\n",
        "1 + 2 * 3 / 4"
      ],
      "metadata": {
        "colab": {
          "base_uri": "https://localhost:8080/"
        },
        "id": "uibE7XlTVr7j",
        "outputId": "fb3fa426-db2a-4681-af7a-86b983e41ccc"
      },
      "execution_count": null,
      "outputs": [
        {
          "output_type": "execute_result",
          "data": {
            "text/plain": [
              "2.5"
            ]
          },
          "metadata": {},
          "execution_count": 35
        }
      ]
    },
    {
      "cell_type": "code",
      "source": [],
      "metadata": {
        "id": "pWJwK6SzVr4R"
      },
      "execution_count": null,
      "outputs": []
    },
    {
      "cell_type": "code",
      "source": [],
      "metadata": {
        "id": "ZG2-fzWjVru5"
      },
      "execution_count": null,
      "outputs": []
    },
    {
      "cell_type": "markdown",
      "source": [
        "# 3. 흐름 제어"
      ],
      "metadata": {
        "id": "J3bM3xSsOrdN"
      }
    },
    {
      "cell_type": "markdown",
      "source": [
        "### 2.1 흐름과 흐름 제어\n"
      ],
      "metadata": {
        "id": "gw0MUUo5OrZs"
      }
    },
    {
      "cell_type": "code",
      "source": [
        "print('Hello World')\n",
        "print(1 + 2)\n",
        "print('안녕하세요 파이썬')\n",
        "print('순서대로 실행 입니다')"
      ],
      "metadata": {
        "colab": {
          "base_uri": "https://localhost:8080/"
        },
        "id": "HstjrnjIWIzS",
        "outputId": "55ec1e9f-1ed8-4d2f-f1ab-6847e131b17c"
      },
      "execution_count": null,
      "outputs": [
        {
          "output_type": "stream",
          "name": "stdout",
          "text": [
            "Hello World\n",
            "3\n",
            "안녕하세요 파이썬\n",
            "순서대로 실행 입니다\n"
          ]
        }
      ]
    },
    {
      "cell_type": "markdown",
      "source": [
        "### 2.2 선택 흐름과 if 문"
      ],
      "metadata": {
        "id": "R3hrlg9sOrV8"
      }
    },
    {
      "cell_type": "code",
      "source": [
        "grade = float(input('총 평점을 입력해 주세요: '))\n",
        "\n",
        "if grade >= 4.3:\n",
        "    print('당신은 장학금 수여 대상자 입니다.')\n",
        "    print('축하합니다.')\n",
        "\n",
        "print('공부 열심히 하세요.')"
      ],
      "metadata": {
        "colab": {
          "base_uri": "https://localhost:8080/"
        },
        "id": "7PCXlrgLWOdT",
        "outputId": "959c994d-1099-4a69-bfd8-c7b676c5587b"
      },
      "execution_count": null,
      "outputs": [
        {
          "output_type": "stream",
          "name": "stdout",
          "text": [
            "총 평점을 입력해 주세요: 4.3\n",
            "당신은 장학금 수여 대상자 입니다.\n",
            "축하합니다.\n",
            "공부 열심히 하세요.\n"
          ]
        }
      ]
    },
    {
      "cell_type": "code",
      "source": [
        "grade = float(input('총 평점을 입력해 주세요: '))\n",
        "\n",
        "if grade >= 4.3:\n",
        "    print('당신은 장학금 수여 대상자 입니다.')\n",
        "    print('축하합니다.')\n",
        "\n",
        "else:\n",
        "  print('공부 열심히 하세요.')"
      ],
      "metadata": {
        "colab": {
          "base_uri": "https://localhost:8080/"
        },
        "id": "_CmzFac9WUfU",
        "outputId": "806f11a8-fb14-427c-d67a-1ccf5fbf6dd2"
      },
      "execution_count": null,
      "outputs": [
        {
          "output_type": "stream",
          "name": "stdout",
          "text": [
            "총 평점을 입력해 주세요: 4.3\n",
            "당신은 장학금 수여 대상자 입니다.\n",
            "축하합니다.\n"
          ]
        }
      ]
    },
    {
      "cell_type": "markdown",
      "source": [
        "### 2.3 반복 흐름과  for, while 문"
      ],
      "metadata": {
        "id": "0HCb_ZAYOrSb"
      }
    },
    {
      "cell_type": "code",
      "source": [
        "for i in range(10):\n",
        "  print(i)"
      ],
      "metadata": {
        "colab": {
          "base_uri": "https://localhost:8080/"
        },
        "id": "rwCPYGoaWj1Q",
        "outputId": "e74ba80c-7b91-4fdf-88ef-1e04868c5234"
      },
      "execution_count": null,
      "outputs": [
        {
          "output_type": "stream",
          "name": "stdout",
          "text": [
            "0\n",
            "1\n",
            "2\n",
            "3\n",
            "4\n",
            "5\n",
            "6\n",
            "7\n",
            "8\n",
            "9\n"
          ]
        }
      ]
    },
    {
      "cell_type": "code",
      "source": [
        "cnt=0\n",
        "while cnt < 10:\n",
        "  print(cnt)\n",
        "  cnt +=1"
      ],
      "metadata": {
        "colab": {
          "base_uri": "https://localhost:8080/"
        },
        "id": "U-1iV3rlWqtb",
        "outputId": "19f72848-dc0c-49cd-966b-58a9a92224fc"
      },
      "execution_count": null,
      "outputs": [
        {
          "output_type": "stream",
          "name": "stdout",
          "text": [
            "0\n",
            "1\n",
            "2\n",
            "3\n",
            "4\n",
            "5\n",
            "6\n",
            "7\n",
            "8\n",
            "9\n"
          ]
        }
      ]
    },
    {
      "cell_type": "markdown",
      "source": [
        "### 2.4 break 문과 continue 문"
      ],
      "metadata": {
        "id": "qSk8GSVwOrOy"
      }
    },
    {
      "cell_type": "code",
      "source": [
        "cnt=0\n",
        "while True:\n",
        "  print(cnt)\n",
        "  cnt += 1\n",
        "  if cnt>=10 :\n",
        "    break"
      ],
      "metadata": {
        "colab": {
          "base_uri": "https://localhost:8080/"
        },
        "id": "6K90tesFW6xi",
        "outputId": "5052a869-dc9b-4121-9de5-3d44f7cbdd50"
      },
      "execution_count": null,
      "outputs": [
        {
          "output_type": "stream",
          "name": "stdout",
          "text": [
            "0\n",
            "1\n",
            "2\n",
            "3\n",
            "4\n",
            "5\n",
            "6\n",
            "7\n",
            "8\n",
            "9\n"
          ]
        }
      ]
    },
    {
      "cell_type": "markdown",
      "source": [
        "### 2.7 예제: 요일 구하기"
      ],
      "metadata": {
        "id": "erKlZYQEOrLR"
      }
    },
    {
      "cell_type": "markdown",
      "source": [
        "1. 서기 1년 1월 1일은 월요일이다.  \n",
        "<br>\n",
        "1. 윤년을 구하는 공식은 다음과 같다.\n",
        "  - 4로 나누어지는 해는 윤년이다.\n",
        "  - 100으로 나누어지는 해는 윤년이 아니다.\n",
        "  - 400으로 나누어지는 해는 윤년이다."
      ],
      "metadata": {
        "id": "qoh7lfqtOrHw"
      }
    },
    {
      "cell_type": "code",
      "source": [
        "# prompt: 1. 서기 1년 1월 1일은 월요일이다.\n",
        "# <br>\n",
        "# 1. 윤년을 구하는 공식은 다음과 같다.\n",
        "#   - 4로 나누어지는 해는 윤년이다.  > 2024는 윤년\n",
        "#   - 100으로 나누어지는 해는 윤년이 아니다.\n",
        "#   - 400으로 나누어지는 해는 윤년이다.\n",
        "\n",
        "year = int(input('연도를 입력해 주세요: '))\n",
        "is_leap = (year % 4 == 0 and year % 100 != 0) or year % 400 == 0\n",
        "if is_leap:\n",
        "    print('{}년은 윤년입니다.'.format(year))\n",
        "else:\n",
        "    print('{}년은 윤년이 아닙니다.'.format(year))\n"
      ],
      "metadata": {
        "colab": {
          "base_uri": "https://localhost:8080/"
        },
        "id": "IVfMzImdXXx8",
        "outputId": "f9c70950-512a-4536-f936-b36bbcf81c90"
      },
      "execution_count": null,
      "outputs": [
        {
          "output_type": "stream",
          "name": "stdout",
          "text": [
            "연도를 입력해 주세요: 2023\n",
            "2023년은 윤년이 아닙니다.\n"
          ]
        }
      ]
    },
    {
      "cell_type": "markdown",
      "source": [],
      "metadata": {
        "id": "z5bv2X0mNWh1"
      }
    }
  ]
}