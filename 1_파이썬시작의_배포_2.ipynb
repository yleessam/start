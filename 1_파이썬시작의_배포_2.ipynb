{
  "nbformat": 4,
  "nbformat_minor": 0,
  "metadata": {
    "colab": {
      "provenance": [],
      "toc_visible": true,
      "authorship_tag": "ABX9TyMNQPWiCzPGkFgGeEJ2OW7G",
      "include_colab_link": true
    },
    "kernelspec": {
      "name": "python3",
      "display_name": "Python 3"
    },
    "language_info": {
      "name": "python"
    }
  },
  "cells": [
    {
      "cell_type": "markdown",
      "metadata": {
        "id": "view-in-github",
        "colab_type": "text"
      },
      "source": [
        "<a href=\"https://colab.research.google.com/github/yleessam/start/blob/main/1_%ED%8C%8C%EC%9D%B4%EC%8D%AC%EC%8B%9C%EC%9E%91%EC%9D%98_%EB%B0%B0%ED%8F%AC_2.ipynb\" target=\"_parent\"><img src=\"https://colab.research.google.com/assets/colab-badge.svg\" alt=\"Open In Colab\"/></a>"
      ]
    },
    {
      "cell_type": "markdown",
      "source": [
        "# 조건문 if\n",
        "\n",
        "조건에 따라 다른 처리를 할 수 있어요"
      ],
      "metadata": {
        "id": "s_gHtDG_KyTg"
      }
    },
    {
      "cell_type": "markdown",
      "source": [
        "![image.png](data:image/png;base64,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)"
      ],
      "metadata": {
        "id": "vcmczDRnBeXV"
      }
    },
    {
      "cell_type": "markdown",
      "source": [
        "## 실습. 더울때 아아\n",
        "기온이 0ºC보다 높으면 ‘아이스 아메리카노’를 출력하는 프로그램을 만들어 보세요."
      ],
      "metadata": {
        "id": "jshn8eAoByNZ"
      }
    },
    {
      "cell_type": "code",
      "source": [
        "#온도\n",
        "today_temp = 30\n",
        "\n",
        "if today_temp > 0:\n",
        "    print(\"아이스 아메리카노\")"
      ],
      "metadata": {
        "id": "1zcyThmaBbTU"
      },
      "execution_count": null,
      "outputs": []
    },
    {
      "cell_type": "markdown",
      "source": [
        "## 미션. 쿠키상자"
      ],
      "metadata": {
        "id": "aWisjV0RB43v"
      }
    },
    {
      "cell_type": "markdown",
      "source": [
        "줄지 않는 쿠키   \n",
        "엘리스 토끼가 쿠키 상자를 발견했어요.       \n",
        "5개를 집어 먹었는데, 이게 웬일일까요! 쿠키 5개가 그대로 남아 있군요!   \n",
        "\n",
        "파이썬의 if문을 이용해서 먹은 쿠키의 개수만큼 다시 쿠키가 생기는 상자를 만들어 봐요.\n",
        "\n",
        "입력값으로 음수가 입력되면 양수로 바꿔서 출력해주는 코드를 만들어 주세요.\n",
        "\n",
        "Tips\n",
        "새로 생긴 쿠키의 개수는 먹은 개수만큼 생겨야 해요!\n",
        "만약 -5를 입력한다면, 새로 생긴 쿠키의 개수는 5개가 되겠죠?"
      ],
      "metadata": {
        "id": "-aDI0gtsmHl2"
      }
    },
    {
      "cell_type": "markdown",
      "source": [
        "> 정답 (예시)\n",
        "\n",
        "```\n",
        "# 변수 cookie를 선언하고, input()을 이용해서 먹은 쿠키의 개수를 입력받습니다.\n",
        "cookie = int(input())\n",
        "\n",
        "# if문을 이용해서 cookie가 음수면 -1을 곱해 다시 cookie에 저장해 봅시다.\n",
        "new_cookie = 0\n",
        "if cookie < 0:\n",
        "    new_cookie = cookie*-1\n",
        "\n",
        "# cookie의 개수가 몇 개인지 출력합니다.\n",
        "print('새로 생킨 쿠키의 개수 :', new_cookie)\n",
        "```"
      ],
      "metadata": {
        "id": "w62OyM6nLCRK"
      }
    },
    {
      "cell_type": "code",
      "source": [
        "#원래 쿠키\n",
        "cookie = 5\n",
        "# input()으로 숫자를 입력받아 변수 cookie에 저장해요.\n",
        "eat_cookie = int(input())\n",
        "\n",
        "new_cookie = cookie-eat_cookie\n",
        "# 아래 ? 부분에 조건문을 작성하여 코드를 완성해 주세요.\n",
        "# 쿠키의 개수가 음수라면 양수로 바꿀 수 있도록 조건문을 수정해 주세요.\n",
        "if new_cookie<0 :\n",
        "    new_cookie = new_cookie * -1 # 음수를 양수로 바꿔요.\n",
        "\n",
        "# cookie의 개수가 몇 개인지 확인해 보세요.\n",
        "print('새로 생킨 쿠키의 개수 :', new_cookie)"
      ],
      "metadata": {
        "id": "-iSGx2LXl--y",
        "colab": {
          "base_uri": "https://localhost:8080/"
        },
        "outputId": "0750fb53-0979-4e5d-ffd6-cad09b585497"
      },
      "execution_count": null,
      "outputs": [
        {
          "output_type": "stream",
          "name": "stdout",
          "text": [
            "8\n",
            "새로 생킨 쿠키의 개수 : 3\n"
          ]
        }
      ]
    },
    {
      "cell_type": "markdown",
      "source": [
        "## 두번째 조건 else\n",
        "기온이 0ºC보다 높으면 ‘아이스 아메리카노’를 출력하고, 그렇지 않은 경우에는 ‘따뜻한 아메리카노’를 출력하는 프로그램을 만들어 보세요."
      ],
      "metadata": {
        "id": "DbbTbJlvEeTa"
      }
    },
    {
      "cell_type": "code",
      "source": [
        "today_temp = 30\n",
        "\n",
        "if today_temp > 0:\n",
        "    print(\"아이스 아메리카노\")\n",
        "else:\n",
        "    print(\"따뜻한 아메리카노\")"
      ],
      "metadata": {
        "id": "NQFTF3_hl-7g"
      },
      "execution_count": null,
      "outputs": []
    },
    {
      "cell_type": "markdown",
      "source": [
        "## 세번째 조건 elif\n"
      ],
      "metadata": {
        "id": "gMxTercXEtIZ"
      }
    },
    {
      "cell_type": "markdown",
      "source": [
        "기온이 0ºC보다 높으면 ‘아이스 아메리카노’, 기온이 0ºC이면 ‘미지근한 아메리카노’, 나머지 경우에는 ‘따뜻한 아메리카노’를 출력하는 프로그램을 만들어 보세요."
      ],
      "metadata": {
        "id": "HtjM3FoxE3U0"
      }
    },
    {
      "cell_type": "code",
      "source": [
        "today_temp = 30\n",
        "\n",
        "if today_temp > 0:\n",
        "    print(\"아이스 아메리카노\")\n",
        "elif today_temp == 0:\n",
        "    print(\"미지근한 아메리카노\")\n",
        "else:\n",
        "    print(\"따뜻한 아메리카노\")"
      ],
      "metadata": {
        "colab": {
          "base_uri": "https://localhost:8080/"
        },
        "id": "iRBvlyFfE2dP",
        "outputId": "954833a5-749f-4a17-c248-b2b29f9f2e37"
      },
      "execution_count": null,
      "outputs": [
        {
          "output_type": "stream",
          "name": "stdout",
          "text": [
            "아이스 아메리카노\n"
          ]
        }
      ]
    },
    {
      "cell_type": "markdown",
      "source": [
        "## 이중 if\n",
        "\n",
        "조건이 2개면 if 도 2개 --> if 속에 if"
      ],
      "metadata": {
        "id": "YXTIs4oFFLuJ"
      }
    },
    {
      "cell_type": "markdown",
      "source": [
        "날씨가 맑은 날인 경우,\n",
        "\n",
        "> 기온이 0ºC보다 높으면 ‘아이스 아메리카노’,    \n",
        "> 기온이 0ºC이면 ‘미지근한 아메리카노’,    \n",
        "> 나머지 경우에는 ‘따뜻한 아메리카노’를 출력하고   \n",
        "\n",
        "날씨가 맑지 않은 경우,‘카푸치노’를 출력하는 프로그램을 만들어 보세요."
      ],
      "metadata": {
        "id": "IvyjA0xDFQpH"
      }
    },
    {
      "cell_type": "code",
      "source": [
        "weather = \"비\"\n",
        "today_temp = 30\n",
        "\n",
        "if weather == \"맑음\":\n",
        "    if 0 < today_temp:\n",
        "        print(\"아이스 아메리카노\")\n",
        "    elif 0 == today_temp:\n",
        "        print(\"미지근한 아메리카노\")\n",
        "    else:\n",
        "        print(\"따뜻한 아메리카노\")\n",
        "else:\n",
        "    print(\"카푸치노\")"
      ],
      "metadata": {
        "colab": {
          "base_uri": "https://localhost:8080/"
        },
        "id": "W56wOgsrFOH6",
        "outputId": "9c3d2493-5b15-445e-c75f-1f012fa6001a"
      },
      "execution_count": null,
      "outputs": [
        {
          "output_type": "stream",
          "name": "stdout",
          "text": [
            "카푸치노\n"
          ]
        }
      ]
    },
    {
      "cell_type": "markdown",
      "source": [
        "## 미션. 홀짝 판별기\n",
        "엘리스 토끼가 도도새와 함께 홀짝 게임을 하고 있어요!   \n",
        "홀짝 게임은 주먹으로 동전을 집었을 때, 주먹에 있는 동전의 개수가 홀수인지, 짝수인지 맞히는 게임이에요.\n",
        "\n",
        "if-else문을 이용해서 어떤 수를 입력했을 때 이 수가 홀수인지 짝수인지 판별하는 프로그램을 만들어 봅시다.\n",
        "\n",
        "짝수인 경우에는 “짝수입니다.”를 출력해요.   \n",
        "홀수인 경우에는 “홀수입니다.”를 출력해요.\n",
        "\n"
      ],
      "metadata": {
        "id": "BCVMqswEmRVe"
      }
    },
    {
      "cell_type": "markdown",
      "source": [
        "```#정답 예시.\n",
        "# 변수 num에 사용자로부터 입력받은 수가 저장돼요.\n",
        "num = int(input())\n",
        "\n",
        "# 조건이 참인 경우(짝수), 거짓인 경우(홀수)에 따라 적절한 실행 동작을 작성해 주세요.\n",
        "if num % 2 == 0 : # 짝수인 경우\n",
        "    print(\"짝수입니다.\")\n",
        "else : # 홀수인 경우\n",
        "    print(\"홀수입니다.\")\n",
        "```"
      ],
      "metadata": {
        "id": "roNy-IxiDU_2"
      }
    },
    {
      "cell_type": "code",
      "source": [
        "# 변수 num에 사용자로부터 입력받은 수가 저장돼요.\n",
        "\n",
        "\n",
        "# 조건이 참인 경우(짝수), 거짓인 경우(홀수)에 따라 적절한 실행 동작을 작성해 주세요.\n",
        "if None : # 짝수인 경우\n",
        "  print('짝')\n",
        "else : # 홀수인 경우\n",
        "  print('홀')"
      ],
      "metadata": {
        "id": "HY3S9Ocil-4B",
        "colab": {
          "base_uri": "https://localhost:8080/"
        },
        "outputId": "c8989781-e4d6-40cb-9171-170d8ee09eec"
      },
      "execution_count": null,
      "outputs": [
        {
          "output_type": "stream",
          "name": "stdout",
          "text": [
            "홀\n"
          ]
        }
      ]
    },
    {
      "cell_type": "code",
      "source": [],
      "metadata": {
        "id": "VZnIJ5XOl-0M"
      },
      "execution_count": null,
      "outputs": []
    },
    {
      "cell_type": "markdown",
      "source": [
        "## 실습. 업-다운 게임\n",
        "토끼와 거북이가 업-다운 게임을 하고 있어요!\n",
        "\n",
        "업다운 게임은 한 사람이 어떤 수를 생각하고, 다른 사람이 그 수를 알아맞히는 게임이에요. 알아맞히는 사람이 어떤 수를 말하면 숫자를 생각한 사람은 생각한 숫자보다 큰지 작은지 답변해야 해요.\n",
        "\n",
        "if-elif-else문을 이용해서 업-다운 게임을 만들어 봅시다.\n",
        "\n",
        "submit이 answer보다 큰 경우, 작은 경우, 같은 경우에 각각 주어진 메시지를 출력해 보세요."
      ],
      "metadata": {
        "id": "WO8Uy1jHmW46"
      }
    },
    {
      "cell_type": "code",
      "source": [
        "from random import randint\n",
        "\n",
        "# 1~100 사이의 숫자가 랜덤으로 정답 숫자로 저장되요.\n",
        "answer = randint(1, 100)\n",
        "\n",
        "# input()으로 숫자를 입력 받아 변수 submit에 저장해 보세요.\n",
        "submit = int(input())\n",
        "\n",
        "# if-elif-else문으로 Up-Down Game을 구현해 보세요.\n",
        "# 만약 answer보다 submit이 더 크면 \"정답보다 큰 수를 입력했습니다.\"를,\n",
        "# answer보다 submit이 더 작으면 \"정답보다 작은 수를 입력했습니다.\"를,\n",
        "# answer와 submit이 같으면 \"정답!\"을 출력해 보세요.\n",
        "\n",
        "\n"
      ],
      "metadata": {
        "id": "Tupo2k8Vl-wu"
      },
      "execution_count": null,
      "outputs": []
    },
    {
      "cell_type": "markdown",
      "source": [
        "[학습활동]\n",
        "\n",
        "문제 조건을 확인한 후 조건문 작성하기\n",
        "\n",
        "조건1 : answer > submit\n",
        "조건2 : answer < submit\n",
        "조건3 : answer == submit\n",
        "각 조건문 별 기능 작성하기\n",
        "\n",
        "기능 작성 시, 콜론과 들여쓰기를 모두 잘 수행했는지 확인 필요\n",
        "이 실습은 2가지 방법으로 조건문을 구상할 수 있습니다.\n",
        "\n",
        "[방법1] if-elif-else 사용\n",
        "\n",
        "[방법2] if-elif-elif 사용\n",
        "\n",
        "📌 Tips\n",
        "\n",
        "게임의 난이도를 조절하기 위해서는 4번째 줄의 숫자를 적절히 조절해 보세요.   \n",
        "\n",
        "1에서 10 사이 숫자 선택 : randint(1, 10)   \n",
        "5에서 10 사이 숫자 선택 : randint(5, 10)   \n",
        "answer값과 submit값을 출력하여 업다운 게임의 결과가 적절한지 확인해 보세요.   \n",
        "\n",
        "print(\"answer :\", answer, \"  submit :\", submit)"
      ],
      "metadata": {
        "id": "HxJWnVdlmjjE"
      }
    },
    {
      "cell_type": "markdown",
      "source": [],
      "metadata": {
        "id": "gAGTIeBt56ZT"
      }
    },
    {
      "cell_type": "markdown",
      "source": [
        "## 실습. 내 용돈의 운명은?"
      ],
      "metadata": {
        "id": "gmIPFt-XF_f_"
      }
    },
    {
      "cell_type": "markdown",
      "source": [
        "이번 기말고사 시험성적에 따라 용돈의 운명이 바뀝니다. 엄마가 제시한 조건은 다음과 같습니다.\n",
        "\n",
        "영어 90점 이상, 수학 90점 이상(두 조건 모두 만족) : 용돈 인상\n",
        "영어 80점 이하, 수학 80점 이하(두 조건 모두 만족) : 용돈 삭감\n",
        "기타 : 동결\n",
        "수학성적과 영어성적을 담는 변수를 만들고, 점수에 따라 용돈의 운명을 출력하는 프로그램을 만들어 보세요."
      ],
      "metadata": {
        "id": "VoV-aqmDF_GV"
      }
    },
    {
      "cell_type": "code",
      "source": [
        "# 영어 90점 이상, 수학 90점 이상: 용돈 인상\n",
        "# 영어 80점 이하, 수학 80점 이하: 용돈 삭감\n",
        "\n",
        "math_score = 80\n",
        "eng_score = 100\n",
        "\n",
        "if eng_score >= 90 and math_score >= 90:\n",
        "    print(\"YAY! 용돈 인상\")\n",
        "elif eng_score <= 80 and math_score <= 80:\n",
        "    print(\"용돈 삭감 ㅠㅠ\")\n",
        "else:\n",
        "    print(\"동결\")"
      ],
      "metadata": {
        "colab": {
          "base_uri": "https://localhost:8080/"
        },
        "id": "fPJD1gPTF9mf",
        "outputId": "3710bd5c-f16d-4aa0-81f0-75fa3b7fc7ad"
      },
      "execution_count": null,
      "outputs": [
        {
          "output_type": "stream",
          "name": "stdout",
          "text": [
            "동결\n"
          ]
        }
      ]
    },
    {
      "cell_type": "markdown",
      "source": [
        "## 미션. 용돈 협상\n",
        "\n",
        "엄마가 제시한 조건은 달성하기 너무 힘들 것 같습니다. 아래와 같이 협상하려고 합니다.\n",
        "\n",
        "영어 90점 이상 또는 수학 90점 이상 : 용돈 인상\n",
        "영어 80점 이하 또는 수학 80점 이하 : 용돈 삭감\n",
        "기타 : 동결\n",
        "수학성적과 영어성적을 담는 변수를 만들고, 점수에 따라 용돈의 운명을 출력하는 프로그램을 만들어 보세요."
      ],
      "metadata": {
        "id": "HsbVAlzQGR_x"
      }
    },
    {
      "cell_type": "code",
      "source": [
        "# 영어 90점 이상 또는 수학 90점 이상: 용돈 인상\n",
        "# 영어 80점 이하 또는 수학 80점 이하: 용돈 삭감\n",
        "\n",
        "math_score = 80\n",
        "eng_score = 100\n",
        "\n",
        "if eng_score >= 90 or math_score >= 90:\n",
        "    print(\"YAY! 용돈 인상\")\n",
        "elif eng_score <= 80 or math_score <= 80:\n",
        "    print(\"용돈 삭감 ㅠㅠ\")\n",
        "else:\n",
        "    print(\"동결\")"
      ],
      "metadata": {
        "id": "oATu0LcGGYNS"
      },
      "execution_count": null,
      "outputs": []
    },
    {
      "cell_type": "code",
      "source": [
        "#나의 협상 결과를 코딩해 보세요\n",
        "\n"
      ],
      "metadata": {
        "id": "Yl0w5YS8GduA"
      },
      "execution_count": null,
      "outputs": []
    },
    {
      "cell_type": "markdown",
      "source": [
        "# 반복문\n",
        "1. 횟수로 반복하기 for\n",
        "\n",
        "2. 조건으로 반복하기 while"
      ],
      "metadata": {
        "id": "LFrS34hh4maf"
      }
    },
    {
      "cell_type": "markdown",
      "source": [
        "## 횟수로 반복하기 for\n",
        "반복이 시작되기 전에 반복할 횟수를 정한다.   \n",
        "정해진 횟수만큼만 반복한다.\n",
        "\n"
      ],
      "metadata": {
        "id": "mvegadXp4waF"
      }
    },
    {
      "cell_type": "markdown",
      "source": [
        "## 실습. 열 마리 코끼리가 거미줄에 걸렸네\n",
        "\n",
        "코끼리들이 거미줄 그네를 타려고 줄을 서 있습니다!\n",
        "무거운 코끼리들 모두 일일이 그네 태우려면 너무 힘들겠군요.   \n",
        "for문을 이용하여 빠르게 그네를 태워보세요.\n",
        "\n",
        "```\n",
        "#정답\n",
        "nums = [1,2,3,4,5,6,7,8,9,10]   \n",
        "for i in nums:\n",
        "    print(i,\"번째 코끼리가 거미줄에 걸렸네♪\")\n",
        "```"
      ],
      "metadata": {
        "id": "7dod845PmpRq"
      }
    },
    {
      "cell_type": "code",
      "source": [
        "nums = [1,2,3,4,5,6,7,8,9,10]\n",
        "for i in nums:\n",
        "    print(i,\"번째 코끼리가 거미줄에 걸렸네♪\")"
      ],
      "metadata": {
        "id": "t-kYhOjImtuM"
      },
      "execution_count": null,
      "outputs": []
    },
    {
      "cell_type": "markdown",
      "source": [
        "## 실습.  1문제 더\n",
        "1학년 2반 학생들의 시험 성적은 다음과 같습니다.\n",
        "\n",
        "[80, 90, 70, 65, 85, 95, 90, 80, 75, 80]\n",
        "\n",
        "시험 문제 중, 한 문제가 잘못 출제되어 모두 5점씩 추가 점수를 받도록 조치를 취했습니다.    \n",
        "변경 후 점수를 출력하세요."
      ],
      "metadata": {
        "id": "At5Tk6TzJJUb"
      }
    },
    {
      "cell_type": "markdown",
      "source": [
        "```#정답 예시\n",
        "\n",
        "scores = [80, 90, 70, 65, 85, 95, 90, 80, 75, 80]\n",
        "new_scores = []\n",
        "\n",
        "for s in scores:\n",
        "    new = s + 5\n",
        "    new_scores.append(new)\n",
        "\n",
        "print(new_scores)\n",
        "```"
      ],
      "metadata": {
        "id": "8fz1kL6aJUT1"
      }
    },
    {
      "cell_type": "code",
      "source": [
        "scores = [80, 90, 70, 65, 85, 95, 90, 80, 75, 80]\n",
        "new_scores = []\n",
        "\n",
        "# 모든 학생의 점수를 5점씩 늘려주세요\n",
        "\n",
        "print(new_scores)"
      ],
      "metadata": {
        "colab": {
          "base_uri": "https://localhost:8080/"
        },
        "id": "UQgaYKvgJMDv",
        "outputId": "25281603-18ac-485b-cb64-64b5c3449e5b"
      },
      "execution_count": null,
      "outputs": [
        {
          "output_type": "stream",
          "name": "stdout",
          "text": [
            "[]\n"
          ]
        }
      ]
    },
    {
      "cell_type": "markdown",
      "source": [
        "## 리스트 컴프리헨션\n",
        "\n",
        "리스트 속에서 if문과 for문이 결합한다\n"
      ],
      "metadata": {
        "id": "3hcVjujKKB7w"
      }
    },
    {
      "cell_type": "markdown",
      "source": [
        "\n",
        "![image.png](data:image/png;base64,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)"
      ],
      "metadata": {
        "id": "FtBwvSTbJpYe"
      }
    },
    {
      "cell_type": "code",
      "source": [
        "new_score2 = [s + 5 if s < 100 else s for s in scores ]\n",
        "new_score2"
      ],
      "metadata": {
        "id": "OeUez_s8J3NK"
      },
      "execution_count": null,
      "outputs": []
    },
    {
      "cell_type": "markdown",
      "source": [
        "## range로 만들기\n",
        "일정한 범위의 정수들을 한번에 생성한다(규칙, 순서가 존재한다).\n",
        "\n",
        "> range([from_value,] end_value [,step])"
      ],
      "metadata": {
        "id": "nmZHjdI46jFs"
      }
    },
    {
      "cell_type": "code",
      "source": [
        "range(1,100)"
      ],
      "metadata": {
        "colab": {
          "base_uri": "https://localhost:8080/"
        },
        "id": "q3UofBr2Ivo0",
        "outputId": "e736fcad-6740-4abd-895a-a4fe0719cee7"
      },
      "execution_count": null,
      "outputs": [
        {
          "output_type": "execute_result",
          "data": {
            "text/plain": [
              "range(1, 100)"
            ]
          },
          "metadata": {},
          "execution_count": 50
        }
      ]
    },
    {
      "cell_type": "code",
      "source": [
        "myran = range(1,100)\n",
        "list(myran)"
      ],
      "metadata": {
        "id": "kCRntHNsIzBr"
      },
      "execution_count": null,
      "outputs": []
    },
    {
      "cell_type": "code",
      "source": [
        "for i in range(10) :\n",
        "    print(\"We Love Python\")"
      ],
      "metadata": {
        "id": "TKdDbqW4nBLr"
      },
      "execution_count": null,
      "outputs": []
    },
    {
      "cell_type": "markdown",
      "source": [
        "##실습. 100을 세는 동안 꼭꼭 숨어라\n",
        "코더랜드 동물 친구들이 숨바꼭질하고 있네요. 술래가 된 체셔가 외칩니다.   \n",
        "100까지 센 다음 찾는다~!   \n",
        "꾀쟁이 체셔는 반복문을 이용해서 100까지 한 번에 다 세 버린 다음 동물 친구들이 미처 숨기도 전에 찾으러 갈 속셈입니다.\n",
        "100까지 세는 반복문을 작성해 보세요.\n"
      ],
      "metadata": {
        "id": "iUZa32uUm0hz"
      }
    },
    {
      "cell_type": "markdown",
      "source": [
        "```#정답\n",
        "for i in range(1, 101):\n",
        "    print(i)\n",
        "```"
      ],
      "metadata": {
        "id": "TnzjwZix7LUz"
      }
    },
    {
      "cell_type": "code",
      "source": [
        "# 반복문을 이용하여 1부터 100까지 한 줄에 하나씩 출력하는 코드를 작성해 보세요.\n",
        "\n"
      ],
      "metadata": {
        "id": "afEChcivmtq0"
      },
      "execution_count": null,
      "outputs": []
    },
    {
      "cell_type": "markdown",
      "source": [
        "## 조건으로 반복하기 while\n",
        "\n",
        "조건이 참인 동안에는 계속해서 반복한다.   \n",
        "반복되는 문장 안에서 반복문을 빠져나갈 수 있도록 조건을 변경할 수 있는 문장이 있어야 한다.\n",
        "\n",
        "> while 반복문 : True인 동안 반복한다. (False가 되면 반복에서 벗어남)"
      ],
      "metadata": {
        "id": "0sgHTW1I5ATH"
      }
    },
    {
      "cell_type": "code",
      "source": [
        "while i<101:\n",
        "  print(i)"
      ],
      "metadata": {
        "colab": {
          "base_uri": "https://localhost:8080/",
          "height": 204
        },
        "id": "uEU-K-n0LjBw",
        "outputId": "173ba5c3-edf0-463c-bf5b-9ce303d01af3"
      },
      "execution_count": null,
      "outputs": [
        {
          "output_type": "error",
          "ename": "NameError",
          "evalue": "ignored",
          "traceback": [
            "\u001b[0;31m---------------------------------------------------------------------------\u001b[0m",
            "\u001b[0;31mNameError\u001b[0m                                 Traceback (most recent call last)",
            "\u001b[0;32m<ipython-input-54-c9e2ab926e08>\u001b[0m in \u001b[0;36m<cell line: 1>\u001b[0;34m()\u001b[0m\n\u001b[0;32m----> 1\u001b[0;31m \u001b[0;32mwhile\u001b[0m \u001b[0mi\u001b[0m\u001b[0;34m<\u001b[0m\u001b[0;36m101\u001b[0m\u001b[0;34m:\u001b[0m\u001b[0;34m\u001b[0m\u001b[0;34m\u001b[0m\u001b[0m\n\u001b[0m\u001b[1;32m      2\u001b[0m   \u001b[0mprint\u001b[0m\u001b[0;34m(\u001b[0m\u001b[0mi\u001b[0m\u001b[0;34m)\u001b[0m\u001b[0;34m\u001b[0m\u001b[0;34m\u001b[0m\u001b[0m\n",
            "\u001b[0;31mNameError\u001b[0m: name 'i' is not defined"
          ]
        }
      ]
    },
    {
      "cell_type": "code",
      "source": [
        "i = 0\n",
        "while i<101:\n",
        "  print(i)\n",
        "  i=i+1"
      ],
      "metadata": {
        "id": "ffzMUVN7L06W"
      },
      "execution_count": null,
      "outputs": []
    },
    {
      "cell_type": "markdown",
      "source": [
        "## 실습. 카운트 다운\n",
        "\n",
        "어느덧 12/31일이 끝나갑니다. 새해를 맞이하며 다 같이 카운트 다운을 해봐요!\n",
        "10, 9, 8, …, 1 연속된 숫자를 10부터 1까지 거꾸로 차례대로 출력하려면 어떻게 해야 할까요? while 문을 활용하여 코드를 작성해 보세요.\n",
        "\n",
        "Tips.\n",
        "i에서 1씩 빼면서 조건이 거짓이 될때까지 반복하도록 변수를 수정하는 명령을 작성해 보세요. (i = i - 1)"
      ],
      "metadata": {
        "id": "atm4Q6wjnHBD"
      }
    },
    {
      "cell_type": "markdown",
      "source": [
        "```\n",
        "#정답 예시\n",
        "i = 10\n",
        "\n",
        "# while문을 사용해 10부터 1까지의 연속된 숫자를 거꾸로 출력하는 코드를 작성해 보세요.\n",
        "while i > 0:\n",
        "    print(i)\n",
        "    i = i - 1\n",
        "```"
      ],
      "metadata": {
        "id": "i2oerzsXLQTE"
      }
    },
    {
      "cell_type": "code",
      "source": [
        "i = 10\n",
        "\n",
        "# while문을 사용해 10부터 1까지의 연속된 숫자를 거꾸로 출력하는 코드를 작성합니다.\n",
        "\n"
      ],
      "metadata": {
        "id": "dA563cxinBBL"
      },
      "execution_count": null,
      "outputs": []
    },
    {
      "cell_type": "markdown",
      "source": [
        "##실습, 10년 형에 처한다\n",
        "이곳은 코딩 법정. 당신의 죄목은 파이썬 태만죄.   \n",
        "다른 일을 핑계로 파이썬을 소홀히 한 죄입니다.    \n",
        "파이썬의 창시자 귀도 반 로섬 판사님께서 당신에게 판결을 내리는군요!\n",
        "\n",
        "익숙함에 속아 소중한 것을 잃어버리다니, 딱하다! 징역 10년 형에 처한다!\n",
        "\n",
        "while문을 이용해서 10년 형을 살고, 새사람이 되어 나와봅시다!    \n",
        "아래와 같은 출력 결과가 나오도록 while문을 작성해 보세요.\n",
        "\n",
        "반복문이 종료된 후, “감옥에서 석방되었습니다!”를 출력해 보세요."
      ],
      "metadata": {
        "id": "kF64O8HLnQ5T"
      }
    },
    {
      "cell_type": "code",
      "source": [
        "import time\n",
        "\n",
        "#while을 이용해서 \"i년째 수감 중입니다.\"를 출력해 보세요.\n",
        "#while문이 종료된 후에는, \"감옥에서 석방되었습니다!\"를 출력해 보세요.\n",
        "i = 1\n",
        "\n",
        "#잘못된 부분을 고치세요\n",
        "while i > 10:\n",
        "    print(i, \"년째 수감 중입니다.\")\n",
        "    time.sleep(1)\n",
        "    i += 1\n",
        "\n",
        "print(\"감옥에서 석방되었습니다!\")"
      ],
      "metadata": {
        "id": "wn3oUFe0nA9p",
        "colab": {
          "base_uri": "https://localhost:8080/"
        },
        "outputId": "506389f7-2fd5-4aeb-abb6-8257612c6678"
      },
      "execution_count": null,
      "outputs": [
        {
          "output_type": "stream",
          "name": "stdout",
          "text": [
            "감옥에서 석방되었습니다!\n"
          ]
        }
      ]
    },
    {
      "cell_type": "markdown",
      "source": [
        "## 반복문과 조건문"
      ],
      "metadata": {
        "id": "NNEPDhGA8cWp"
      }
    },
    {
      "cell_type": "markdown",
      "source": [
        "##실습. 적금 타기\n",
        "나는 코더랜드 은행에 12개월 동안 매월 만 원씩 적금을 부었습니다.   \n",
        "코더랜드 은행에서 만든 적금 break 문을 따라서 써보면서 break 문의 작동 원리를 익혀 봅시다. 코드의 순서에 유의하며 따라서 써 보세요.\n",
        "```\n",
        "i = 1\n",
        "while True :\n",
        "    print(i, \"월 만원을 입금했습니다.\")\n",
        "    if i == 12:\n",
        "        print(\"입금 완료! 12만원을 수령하세요!\")\n",
        "        break\n",
        "    i = i + 1\n",
        "```\n",
        "\n",
        "\n",
        "1. 작성한 코드는 어떤 작업을 하는 코드인가요?\n",
        "2. while 문의 조건에 True가 들어갔습니다. 이는 어떤 의미일까요?\n",
        "3. i = i + 1을 해준 이유는?\n",
        "4. print(i)와 if문(4~6번째 줄)의 위치를 바꾸면 어떻게 될까요? 바꿔보고 실행 결과가 어떻게 달라지는지 확인해 보세요.\n",
        "5. break는 실행되는 즉시 반복문을 탈출하기 때문에, 보통 조건문과 함께 사용됩니다.\n",
        "6. 들여쓰기에 주의하세요! 들여쓰기를 어떻게 하느냐에 따라 실행 결과가 달라질 수 있어요."
      ],
      "metadata": {
        "id": "FDfdAAZlnba2"
      }
    },
    {
      "cell_type": "code",
      "source": [
        "#직접 작성하고 실행해 보세요\n",
        "\n",
        "i = 1\n",
        "\n"
      ],
      "metadata": {
        "id": "DxZvcxgcncYS"
      },
      "execution_count": null,
      "outputs": []
    },
    {
      "cell_type": "markdown",
      "source": [
        "##실습. 위기탈출 넘버원 break\n",
        "1부터 10까지 더하고 출력하는 코딩 실습을 하고 있습니다.\n",
        "\n",
        "앗! 그런데 큰일 났어요! [실행] 버튼을 누르는 순간 의도치 않게도 수없이 많은 코드가 멈추지 않고 계속 출력되고 있네요!\n",
        "\n",
        "하지만 괜찮아요. 우리의 소중한 코드를 무한루프로부터 지켜주는 break가 있으니까요!\n",
        "\n",
        "코드를 보고 코드의 잘못된 부분을 찾아 고쳐 주세요!"
      ],
      "metadata": {
        "id": "pbbFf0DUnj2y"
      }
    },
    {
      "cell_type": "markdown",
      "source": [
        "```\n",
        "#정답  예시\n",
        "# 다음은 while True:를 이용하여  짠 코드입니다.\n",
        "i = 1\n",
        "ans = 0\n",
        "while True:\n",
        "    ans = ans + i\n",
        "    i+=1\n",
        "    if i>10:\n",
        "        break\n",
        "\n",
        "\n",
        "print(ans)\n",
        "# 위 코드에서 잘못된 점을 찾아서 고쳐줍시다!\n",
        "# 단, while True: 부분은 수정하면 안됩니다.\n",
        "```"
      ],
      "metadata": {
        "id": "Zeu20kdfK3IC"
      }
    },
    {
      "cell_type": "code",
      "source": [
        "# 다음은 while True:를 이용하여 짠 코드입니다.\n",
        "i = 1\n",
        "ans = 0\n",
        "while True:\n",
        "    ans = ans + i\n",
        "\n",
        "\n",
        "print(ans)\n",
        "# 위 코드에서 잘못된 점을 찾아서 고쳐 주세요!\n",
        "# 단, while True: 부분은 수정하면 안됩니다."
      ],
      "metadata": {
        "id": "k2cTsYeMncU-"
      },
      "execution_count": null,
      "outputs": []
    },
    {
      "cell_type": "code",
      "source": [],
      "metadata": {
        "id": "XqXyeTPbncRa"
      },
      "execution_count": null,
      "outputs": []
    },
    {
      "cell_type": "code",
      "source": [],
      "metadata": {
        "id": "V0t9rDj3ncNi"
      },
      "execution_count": null,
      "outputs": []
    },
    {
      "cell_type": "code",
      "source": [],
      "metadata": {
        "id": "gHVHCi-DncI6"
      },
      "execution_count": null,
      "outputs": []
    }
  ]
}